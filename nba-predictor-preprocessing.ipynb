{
 "cells": [
  {
   "cell_type": "markdown",
   "metadata": {
    "pycharm": {
     "name": "#%% md\n"
    }
   },
   "source": [
    "# Data Preprocessing"
   ]
  },
  {
   "cell_type": "markdown",
   "metadata": {
    "pycharm": {
     "name": "#%% md\n"
    }
   },
   "source": [
    "## Importing the libraries"
   ]
  },
  {
   "cell_type": "code",
   "execution_count": 24,
   "metadata": {},
   "outputs": [],
   "source": [
    "import numpy as np\n",
    "import matplotlib.pyplot as plt\n",
    "import pandas as pd\n",
    "import model.preprocess_games as ppg\n",
    "#pd.options.display.max_columns = None\n",
    "#pd.set_option(\"display.max_colwidth\", -1)\n",
    "#from IPython.core.interactiveshell import InteractiveShell\n",
    "#InteractiveShell.ast_node_interactivity = \"all\"\n",
    "#pd.set_option(\"display.max_rows\", 101)\n"
   ]
  },
  {
   "cell_type": "markdown",
   "metadata": {},
   "source": [
    "## Importing the dataset"
   ]
  },
  {
   "cell_type": "code",
   "execution_count": 25,
   "metadata": {
    "pycharm": {
     "name": "#%%\n"
    }
   },
   "outputs": [],
   "source": [
    "DATA_PATH = 'data'\n",
    "\n",
    "SEASONS_PROCESSED_DS = f\"{DATA_PATH}/seasons.processed.feather\"\n",
    "\n",
    "TEAMS_DS = f\"{DATA_PATH}/teams.processed.feather\"\n",
    "TEAMS_PROCESSED_DS = f\"{DATA_PATH}/teams.processed.feather\"\n",
    "\n",
    "GAMES_DS = f\"{DATA_PATH}/games.csv\"\n",
    "GAMES_PROCESSED_DS = f\"{DATA_PATH}/games.processed.feather\""
   ]
  },
  {
   "cell_type": "code",
   "execution_count": 26,
   "metadata": {},
   "outputs": [
    {
     "name": "stdout",
     "output_type": "stream",
     "text": [
      "<class 'pandas.core.frame.DataFrame'>\n",
      "RangeIndex: 3689 entries, 0 to 3688\n",
      "Data columns (total 71 columns):\n",
      " #   Column                 Non-Null Count  Dtype         \n",
      "---  ------                 --------------  -----         \n",
      " 0   GAME_ID                3689 non-null   int64         \n",
      " 1   GAME_DATE_EST          3689 non-null   datetime64[ns]\n",
      " 2   GAME_STATUS_TEXT       3689 non-null   object        \n",
      " 3   HOME_TEAM_ID           3689 non-null   int64         \n",
      " 4   VISITOR_TEAM_ID        3689 non-null   int64         \n",
      " 5   SEASON                 3689 non-null   int64         \n",
      " 6   PTS_home               3689 non-null   float64       \n",
      " 7   FG_PCT_home            3689 non-null   float64       \n",
      " 8   FT_PCT_home            3689 non-null   float64       \n",
      " 9   FG3_PCT_home           3689 non-null   float64       \n",
      " 10  AST_home               3689 non-null   float64       \n",
      " 11  REB_home               3689 non-null   float64       \n",
      " 12  PTS_away               3689 non-null   float64       \n",
      " 13  FG_PCT_away            3689 non-null   float64       \n",
      " 14  FT_PCT_away            3689 non-null   float64       \n",
      " 15  FG3_PCT_away           3689 non-null   float64       \n",
      " 16  AST_away               3689 non-null   float64       \n",
      " 17  REB_away               3689 non-null   float64       \n",
      " 18  HOME_TEAM_WINS         3689 non-null   int64         \n",
      " 19  HT                     3689 non-null   int64         \n",
      " 20  HT_RANK                0 non-null      object        \n",
      " 21  HT_CLASS               0 non-null      object        \n",
      " 22  HT_HW                  3689 non-null   int64         \n",
      " 23  HT_HL                  3689 non-null   int64         \n",
      " 24  HT_VW                  3689 non-null   int64         \n",
      " 25  HT_VL                  3689 non-null   int64         \n",
      " 26  HT_LAST10_W            3689 non-null   int64         \n",
      " 27  HT_LAST10_L            3689 non-null   int64         \n",
      " 28  HT_LAST10_MATCHUP_W    3689 non-null   int64         \n",
      " 29  HT_LAST10_MATCHUP_L    3689 non-null   int64         \n",
      " 30  HT_OVERALL_OFF_POINTS  3689 non-null   float64       \n",
      " 31  HT_OVERALL_DEF_POINTS  3689 non-null   float64       \n",
      " 32  HT_OVERALL_OFF_FG      3689 non-null   float64       \n",
      " 33  HT_OVERALL_DEF_FG      3689 non-null   float64       \n",
      " 34  HT_OVERALL_OFF_3P      3689 non-null   float64       \n",
      " 35  HT_OVERALL_DEF_3P      3689 non-null   float64       \n",
      " 36  HT_OVERALL_OFF_FT      3689 non-null   float64       \n",
      " 37  HT_OVERALL_DEF_FT      3689 non-null   float64       \n",
      " 38  HT_OVERALL_OFF_REB     3689 non-null   float64       \n",
      " 39  HT_OVERALL_DEF_REB     3689 non-null   float64       \n",
      " 40  HT_AWAY_POINTS         3689 non-null   float64       \n",
      " 41  HT_AWAY_FG             3689 non-null   float64       \n",
      " 42  HT_AWAY_3P             3689 non-null   float64       \n",
      " 43  HT_AWAY_FT             3689 non-null   float64       \n",
      " 44  HT_AWAY_REB            3689 non-null   float64       \n",
      " 45  VT                     3689 non-null   int64         \n",
      " 46  VT_RANK                0 non-null      object        \n",
      " 47  VT_CLASS               0 non-null      object        \n",
      " 48  VT_HW                  3689 non-null   int64         \n",
      " 49  VT_HL                  3689 non-null   int64         \n",
      " 50  VT_VW                  3689 non-null   int64         \n",
      " 51  VT_VL                  3689 non-null   int64         \n",
      " 52  VT_LAST10_W            3689 non-null   int64         \n",
      " 53  VT_LAST10_L            3689 non-null   int64         \n",
      " 54  VT_LAST10_MATCHUP_W    3689 non-null   int64         \n",
      " 55  VT_LAST10_MATCHUP_L    3689 non-null   int64         \n",
      " 56  VT_OVERALL_OFF_POINTS  3689 non-null   float64       \n",
      " 57  VT_OVERALL_DEF_POINTS  3689 non-null   float64       \n",
      " 58  VT_OVERALL_OFF_FG      3689 non-null   float64       \n",
      " 59  VT_OVERALL_DEF_FG      3689 non-null   float64       \n",
      " 60  VT_OVERALL_OFF_3P      3689 non-null   float64       \n",
      " 61  VT_OVERALL_DEF_3P      3689 non-null   float64       \n",
      " 62  VT_OVERALL_OFF_FT      3689 non-null   float64       \n",
      " 63  VT_OVERALL_DEF_FT      3689 non-null   float64       \n",
      " 64  VT_OVERALL_OFF_REB     3689 non-null   float64       \n",
      " 65  VT_OVERALL_DEF_REB     3689 non-null   float64       \n",
      " 66  VT_AWAY_POINTS         3689 non-null   float64       \n",
      " 67  VT_AWAY_FG             3689 non-null   float64       \n",
      " 68  VT_AWAY_3P             3689 non-null   float64       \n",
      " 69  VT_AWAY_FT             3689 non-null   float64       \n",
      " 70  VT_AWAY_REB            3689 non-null   float64       \n",
      "dtypes: datetime64[ns](1), float64(42), int64(23), object(5)\n",
      "memory usage: 2.0+ MB\n"
     ]
    }
   ],
   "source": [
    "games = pd.read_csv(GAMES_DS, parse_dates=[\"GAME_DATE_EST\"], usecols=[\"GAME_ID\",'GAME_DATE_EST', 'GAME_STATUS_TEXT', 'HOME_TEAM_ID', 'VISITOR_TEAM_ID',\n",
    "       'SEASON', 'PTS_home', 'FG_PCT_home', 'FT_PCT_home',\n",
    "       'FG3_PCT_home', 'AST_home', 'REB_home', 'PTS_away',\n",
    "       'FG_PCT_away', 'FT_PCT_away', 'FG3_PCT_away', 'AST_away', 'REB_away',\n",
    "       'HOME_TEAM_WINS']\n",
    "                    , infer_datetime_format=True, index_col=\"GAME_ID\")\n",
    "games = games.sort_values(by=['GAME_DATE_EST', 'GAME_ID'])\n",
    "teams = pd.read_feather(TEAMS_PROCESSED_DS)\n",
    "seasons = pd.read_feather(SEASONS_PROCESSED_DS)\n",
    "games_matchup = pd.read_feather(GAMES_PROCESSED_DS)\n",
    "games_matchup.set_index([\"GAME_ID\"])\n",
    "games_matchup.info()"
   ]
  },
  {
   "cell_type": "code",
   "execution_count": 27,
   "metadata": {},
   "outputs": [],
   "source": [
    "x_columns = [\n",
    "\"HOME_TEAM_ID\",\n",
    "\"VISITOR_TEAM_ID\",\n",
    "\"SEASON\",\n",
    "\"HT_HW\",\n",
    "\"HT_HL\",\n",
    "\"HT_VW\",\n",
    "\"HT_VL\",\n",
    "\"HT_LAST10_W\",\n",
    "\"HT_LAST10_L\",\n",
    "\"HT_LAST10_MATCHUP_W\",\n",
    "\"HT_LAST10_MATCHUP_L\",\n",
    "\"HT_OVERALL_OFF_POINTS\",\n",
    "\"HT_OVERALL_DEF_POINTS\",\n",
    "\"HT_OVERALL_OFF_FG\",\n",
    "\"HT_OVERALL_DEF_FG\",\n",
    "\"HT_OVERALL_OFF_3P\",\n",
    "\"HT_OVERALL_DEF_3P\",\n",
    "\"HT_OVERALL_OFF_FT\",\n",
    "\"HT_OVERALL_DEF_FT\",\n",
    "\"HT_OVERALL_OFF_REB\",\n",
    "\"HT_OVERALL_DEF_REB\",\n",
    "\"HT_AWAY_POINTS\",\n",
    "\"HT_AWAY_FG\",\n",
    "\"HT_AWAY_3P\",\n",
    "\"HT_AWAY_FT\",\n",
    "\"HT_AWAY_REB\",\n",
    "\"VT_HW\",\n",
    "\"VT_HL\",\n",
    "\"VT_VW\",\n",
    "\"VT_VL\",\n",
    "\"VT_LAST10_W\",\n",
    "\"VT_LAST10_L\",\n",
    "\"VT_LAST10_MATCHUP_W\",\n",
    "\"VT_LAST10_MATCHUP_L\",\n",
    "\"VT_OVERALL_OFF_POINTS\",\n",
    "\"VT_OVERALL_DEF_POINTS\",\n",
    "\"VT_OVERALL_OFF_FG\",\n",
    "\"VT_OVERALL_DEF_FG\",\n",
    "\"VT_OVERALL_OFF_3P\",\n",
    "\"VT_OVERALL_DEF_3P\",\n",
    "\"VT_OVERALL_OFF_FT\",\n",
    "\"VT_OVERALL_DEF_FT\",\n",
    "\"VT_OVERALL_OFF_REB\",\n",
    "\"VT_OVERALL_DEF_REB\",\n",
    "\"VT_AWAY_POINTS\",\n",
    "\"VT_AWAY_FG\",\n",
    "\"VT_AWAY_3P\",\n",
    "\"VT_AWAY_FT\",\n",
    "\"VT_AWAY_REB\"\n",
    "]"
   ]
  },
  {
   "cell_type": "code",
   "execution_count": 28,
   "metadata": {},
   "outputs": [
    {
     "data": {
      "text/plain": [
       "array([[1.61061275e+09, 1.61061276e+09, 2.01800000e+03, ...,\n",
       "        3.46000000e-01, 7.52000000e-01, 4.21970000e+01],\n",
       "       [1.61061274e+09, 1.61061275e+09, 2.01800000e+03, ...,\n",
       "        3.37000000e-01, 7.85000000e-01, 4.23970000e+01],\n",
       "       [1.61061276e+09, 1.61061274e+09, 2.01800000e+03, ...,\n",
       "        3.56000000e-01, 7.72000000e-01, 4.10530000e+01],\n",
       "       ...,\n",
       "       [1.61061274e+09, 1.61061276e+09, 2.01600000e+03, ...,\n",
       "        3.65000000e-01, 7.79000000e-01, 4.22560000e+01],\n",
       "       [1.61061276e+09, 1.61061276e+09, 2.01600000e+03, ...,\n",
       "        3.39000000e-01, 7.49000000e-01, 4.15500000e+01],\n",
       "       [1.61061274e+09, 1.61061275e+09, 2.01600000e+03, ...,\n",
       "        3.61000000e-01, 7.71000000e-01, 4.09920000e+01]])"
      ]
     },
     "execution_count": 28,
     "metadata": {},
     "output_type": "execute_result"
    }
   ],
   "source": [
    "x = games_matchup.loc[:, x_columns].values\n",
    "x"
   ]
  },
  {
   "cell_type": "code",
   "execution_count": 29,
   "metadata": {},
   "outputs": [],
   "source": [
    "y_columns = [\n",
    "\"PTS_home\",\n",
    "\"FG_PCT_home\",\n",
    "\"FT_PCT_home\",\n",
    "\"FG3_PCT_home\",\n",
    "\"AST_home\",\n",
    "\"REB_home\",\n",
    "\"PTS_away\",\n",
    "\"FG_PCT_away\",\n",
    "\"FT_PCT_away\",\n",
    "\"FG3_PCT_away\",\n",
    "\"AST_away\",\n",
    "\"REB_away\",\n",
    "\"HOME_TEAM_WINS\"\n",
    "]"
   ]
  },
  {
   "cell_type": "code",
   "execution_count": 32,
   "metadata": {},
   "outputs": [
    {
     "data": {
      "text/plain": [
       "array([[1],\n",
       "       [1],\n",
       "       [1],\n",
       "       ...,\n",
       "       [0],\n",
       "       [1],\n",
       "       [1]])"
      ]
     },
     "execution_count": 32,
     "metadata": {},
     "output_type": "execute_result"
    }
   ],
   "source": [
    "y = games_matchup.loc[:, [\"HOME_TEAM_WINS\"]].values\n",
    "y"
   ]
  },
  {
   "cell_type": "markdown",
   "metadata": {},
   "source": [
    "## Splitting the dataset into the Training set and Test set"
   ]
  },
  {
   "cell_type": "code",
   "execution_count": null,
   "metadata": {},
   "outputs": [],
   "source": []
  },
  {
   "cell_type": "code",
   "execution_count": null,
   "metadata": {},
   "outputs": [],
   "source": []
  }
 ],
 "metadata": {
  "kernelspec": {
   "display_name": "Python 3",
   "language": "python",
   "name": "python3"
  },
  "language_info": {
   "codemirror_mode": {
    "name": "ipython",
    "version": 3
   },
   "file_extension": ".py",
   "mimetype": "text/x-python",
   "name": "python",
   "nbconvert_exporter": "python",
   "pygments_lexer": "ipython3",
   "version": "3.7.7"
  },
  "toc": {
   "base_numbering": 1,
   "nav_menu": {},
   "number_sections": true,
   "sideBar": true,
   "skip_h1_title": false,
   "title_cell": "Table of Contents",
   "title_sidebar": "Contents",
   "toc_cell": false,
   "toc_position": {},
   "toc_section_display": true,
   "toc_window_display": false
  }
 },
 "nbformat": 4,
 "nbformat_minor": 1
}