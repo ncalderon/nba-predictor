{
 "cells": [
  {
   "cell_type": "markdown",
   "metadata": {
    "pycharm": {
     "name": "#%% md\n"
    }
   },
   "source": [
    "# Data Preprocessing"
   ]
  },
  {
   "cell_type": "markdown",
   "metadata": {
    "pycharm": {
     "name": "#%% md\n"
    }
   },
   "source": [
    "## Importing the libraries"
   ]
  },
  {
   "cell_type": "code",
   "execution_count": 13,
   "metadata": {},
   "outputs": [],
   "source": [
    "import numpy as np\n",
    "import matplotlib.pyplot as plt\n",
    "import pandas as pd\n",
    "import model.preprocess_games as ppg\n",
    "#pd.options.display.max_columns = None\n",
    "#pd.set_option(\"display.max_colwidth\", -1)\n",
    "#from IPython.core.interactiveshell import InteractiveShell\n",
    "#InteractiveShell.ast_node_interactivity = \"all\"\n",
    "#pd.set_option(\"display.max_rows\", 101)\n"
   ]
  },
  {
   "cell_type": "markdown",
   "metadata": {},
   "source": [
    "## Importing the dataset"
   ]
  },
  {
   "cell_type": "code",
   "execution_count": 14,
   "metadata": {
    "pycharm": {
     "name": "#%%\n"
    }
   },
   "outputs": [],
   "source": [
    "DATA_PATH = 'data'\n",
    "\n",
    "SEASONS_PROCESSED_DS = f\"{DATA_PATH}/seasons.processed.feather\"\n",
    "\n",
    "TEAMS_DS = f\"{DATA_PATH}/teams.processed.feather\"\n",
    "TEAMS_PROCESSED_DS = f\"{DATA_PATH}/teams.processed.feather\"\n",
    "\n",
    "GAMES_DS = f\"{DATA_PATH}/games.csv\"\n",
    "GAMES_PROCESSED_DS = f\"{DATA_PATH}/games.processed.feather\""
   ]
  },
  {
   "cell_type": "code",
   "execution_count": 22,
   "metadata": {},
   "outputs": [
    {
     "name": "stdout",
     "output_type": "stream",
     "text": [
      "<class 'pandas.core.frame.DataFrame'>\n",
      "Int64Index: 3689 entries, 21600001 to 21801229\n",
      "Data columns (total 72 columns):\n",
      " #   Column                 Non-Null Count  Dtype         \n",
      "---  ------                 --------------  -----         \n",
      " 0   HT                     3689 non-null   int64         \n",
      " 1   HT_RANK                0 non-null      object        \n",
      " 2   HT_CLASS               0 non-null      object        \n",
      " 3   HT_HW                  3689 non-null   int64         \n",
      " 4   HT_HL                  3689 non-null   int64         \n",
      " 5   HT_VW                  3689 non-null   int64         \n",
      " 6   HT_VL                  3689 non-null   int64         \n",
      " 7   HT_LAST10_W            3689 non-null   int64         \n",
      " 8   HT_LAST10_L            3689 non-null   int64         \n",
      " 9   HT_LAST10_MATCHUP_W    3689 non-null   int64         \n",
      " 10  HT_LAST10_MATCHUP_L    3689 non-null   int64         \n",
      " 11  HT_OVERALL_OFF_POINTS  3689 non-null   float64       \n",
      " 12  HT_OVERALL_DEF_POINTS  3689 non-null   float64       \n",
      " 13  HT_OVERALL_OFF_FG      3689 non-null   float64       \n",
      " 14  HT_OVERALL_DEF_FG      3689 non-null   float64       \n",
      " 15  HT_OVERALL_OFF_3P      3689 non-null   float64       \n",
      " 16  HT_OVERALL_DEF_3P      3689 non-null   float64       \n",
      " 17  HT_OVERALL_OFF_FT      3689 non-null   float64       \n",
      " 18  HT_OVERALL_DEF_FT      3689 non-null   float64       \n",
      " 19  HT_OVERALL_OFF_REB     3689 non-null   float64       \n",
      " 20  HT_OVERALL_DEF_REB     3689 non-null   float64       \n",
      " 21  HT_AWAY_POINTS         3689 non-null   float64       \n",
      " 22  HT_AWAY_FG             3689 non-null   float64       \n",
      " 23  HT_AWAY_3P             3689 non-null   float64       \n",
      " 24  HT_AWAY_FT             3689 non-null   float64       \n",
      " 25  HT_AWAY_REB            3689 non-null   float64       \n",
      " 26  VT                     3689 non-null   int64         \n",
      " 27  VT_RANK                0 non-null      object        \n",
      " 28  VT_CLASS               0 non-null      object        \n",
      " 29  VT_HW                  3689 non-null   int64         \n",
      " 30  VT_HL                  3689 non-null   int64         \n",
      " 31  VT_VW                  3689 non-null   int64         \n",
      " 32  VT_VL                  3689 non-null   int64         \n",
      " 33  VT_LAST10_W            3689 non-null   int64         \n",
      " 34  VT_LAST10_L            3689 non-null   int64         \n",
      " 35  VT_LAST10_MATCHUP_W    3689 non-null   int64         \n",
      " 36  VT_LAST10_MATCHUP_L    3689 non-null   int64         \n",
      " 37  VT_OVERALL_OFF_POINTS  3689 non-null   float64       \n",
      " 38  VT_OVERALL_DEF_POINTS  3689 non-null   float64       \n",
      " 39  VT_OVERALL_OFF_FG      3689 non-null   float64       \n",
      " 40  VT_OVERALL_DEF_FG      3689 non-null   float64       \n",
      " 41  VT_OVERALL_OFF_3P      3689 non-null   float64       \n",
      " 42  VT_OVERALL_DEF_3P      3689 non-null   float64       \n",
      " 43  VT_OVERALL_OFF_FT      3689 non-null   float64       \n",
      " 44  VT_OVERALL_DEF_FT      3689 non-null   float64       \n",
      " 45  VT_OVERALL_OFF_REB     3689 non-null   float64       \n",
      " 46  VT_OVERALL_DEF_REB     3689 non-null   float64       \n",
      " 47  VT_AWAY_POINTS         3689 non-null   float64       \n",
      " 48  VT_AWAY_FG             3689 non-null   float64       \n",
      " 49  VT_AWAY_3P             3689 non-null   float64       \n",
      " 50  VT_AWAY_FT             3689 non-null   float64       \n",
      " 51  VT_AWAY_REB            3689 non-null   float64       \n",
      " 52  GAME_DATE_EST          3689 non-null   datetime64[ns]\n",
      " 53  GAME_STATUS_TEXT       3689 non-null   object        \n",
      " 54  HOME_TEAM_ID           3689 non-null   int64         \n",
      " 55  VISITOR_TEAM_ID        3689 non-null   int64         \n",
      " 56  SEASON                 3689 non-null   int64         \n",
      " 57  PTS_home               3689 non-null   float64       \n",
      " 58  FG_PCT_home            3689 non-null   float64       \n",
      " 59  FT_PCT_home            3689 non-null   float64       \n",
      " 60  FG3_PCT_home           3689 non-null   float64       \n",
      " 61  AST_home               3689 non-null   float64       \n",
      " 62  REB_home               3689 non-null   float64       \n",
      " 63  PTS_away               3689 non-null   float64       \n",
      " 64  FG_PCT_away            3689 non-null   float64       \n",
      " 65  FT_PCT_away            3689 non-null   float64       \n",
      " 66  FG3_PCT_away           3689 non-null   float64       \n",
      " 67  AST_away               3689 non-null   float64       \n",
      " 68  REB_away               3689 non-null   float64       \n",
      " 69  HOME_TEAM_WINS         3689 non-null   int64         \n",
      " 70  HOME_TEAM_NAME         3689 non-null   object        \n",
      " 71  VISITOR_TEAM_NAME      3689 non-null   object        \n",
      "dtypes: datetime64[ns](1), float64(42), int64(22), object(7)\n",
      "memory usage: 2.1+ MB\n"
     ]
    }
   ],
   "source": [
    "games = pd.read_csv(GAMES_DS, parse_dates=[\"GAME_DATE_EST\"], usecols=[\"GAME_ID\",'GAME_DATE_EST', 'GAME_STATUS_TEXT', 'HOME_TEAM_ID', 'VISITOR_TEAM_ID',\n",
    "       'SEASON', 'PTS_home', 'FG_PCT_home', 'FT_PCT_home',\n",
    "       'FG3_PCT_home', 'AST_home', 'REB_home', 'PTS_away',\n",
    "       'FG_PCT_away', 'FT_PCT_away', 'FG3_PCT_away', 'AST_away', 'REB_away',\n",
    "       'HOME_TEAM_WINS']\n",
    "                    , infer_datetime_format=True, index_col=\"GAME_ID\")\n",
    "games = games.sort_values(by=['GAME_DATE_EST', 'GAME_ID'])\n",
    "teams = pd.read_feather(TEAMS_PROCESSED_DS)\n",
    "seasons = pd.read_feather(SEASONS_PROCESSED_DS)\n",
    "games_matchup = pd.read_feather(GAMES_PROCESSED_DS)\n",
    "games_matchup = games_matchup.set_index([\"GAME_ID\"])\n",
    "games_matchup = games_matchup.sort_values(by=['GAME_DATE_EST', 'GAME_ID'])\n",
    "games_matchup.info()"
   ]
  },
  {
   "cell_type": "code",
   "execution_count": 26,
   "metadata": {},
   "outputs": [
    {
     "data": {
      "text/html": [
       "<div>\n",
       "<style scoped>\n",
       "    .dataframe tbody tr th:only-of-type {\n",
       "        vertical-align: middle;\n",
       "    }\n",
       "\n",
       "    .dataframe tbody tr th {\n",
       "        vertical-align: top;\n",
       "    }\n",
       "\n",
       "    .dataframe thead th {\n",
       "        text-align: right;\n",
       "    }\n",
       "</style>\n",
       "<table border=\"1\" class=\"dataframe\">\n",
       "  <thead>\n",
       "    <tr style=\"text-align: right;\">\n",
       "      <th></th>\n",
       "      <th>GAME_DATE_EST</th>\n",
       "      <th>HOME_TEAM_NAME</th>\n",
       "      <th>VISITOR_TEAM_NAME</th>\n",
       "      <th>HOME_TEAM_WINS</th>\n",
       "    </tr>\n",
       "    <tr>\n",
       "      <th>GAME_ID</th>\n",
       "      <th></th>\n",
       "      <th></th>\n",
       "      <th></th>\n",
       "      <th></th>\n",
       "    </tr>\n",
       "  </thead>\n",
       "  <tbody>\n",
       "    <tr>\n",
       "      <th>21600001</th>\n",
       "      <td>2016-10-25</td>\n",
       "      <td>CLE</td>\n",
       "      <td>NYK</td>\n",
       "      <td>1</td>\n",
       "    </tr>\n",
       "    <tr>\n",
       "      <th>21600002</th>\n",
       "      <td>2016-10-25</td>\n",
       "      <td>POR</td>\n",
       "      <td>UTA</td>\n",
       "      <td>1</td>\n",
       "    </tr>\n",
       "    <tr>\n",
       "      <th>21600003</th>\n",
       "      <td>2016-10-25</td>\n",
       "      <td>GSW</td>\n",
       "      <td>SAS</td>\n",
       "      <td>0</td>\n",
       "    </tr>\n",
       "    <tr>\n",
       "      <th>21600004</th>\n",
       "      <td>2016-10-26</td>\n",
       "      <td>ORL</td>\n",
       "      <td>MIA</td>\n",
       "      <td>0</td>\n",
       "    </tr>\n",
       "    <tr>\n",
       "      <th>21600005</th>\n",
       "      <td>2016-10-26</td>\n",
       "      <td>IND</td>\n",
       "      <td>DAL</td>\n",
       "      <td>1</td>\n",
       "    </tr>\n",
       "    <tr>\n",
       "      <th>...</th>\n",
       "      <td>...</td>\n",
       "      <td>...</td>\n",
       "      <td>...</td>\n",
       "      <td>...</td>\n",
       "    </tr>\n",
       "    <tr>\n",
       "      <th>21801225</th>\n",
       "      <td>2019-04-10</td>\n",
       "      <td>MEM</td>\n",
       "      <td>GSW</td>\n",
       "      <td>1</td>\n",
       "    </tr>\n",
       "    <tr>\n",
       "      <th>21801226</th>\n",
       "      <td>2019-04-10</td>\n",
       "      <td>MIL</td>\n",
       "      <td>OKC</td>\n",
       "      <td>0</td>\n",
       "    </tr>\n",
       "    <tr>\n",
       "      <th>21801227</th>\n",
       "      <td>2019-04-10</td>\n",
       "      <td>SAS</td>\n",
       "      <td>DAL</td>\n",
       "      <td>1</td>\n",
       "    </tr>\n",
       "    <tr>\n",
       "      <th>21801228</th>\n",
       "      <td>2019-04-10</td>\n",
       "      <td>DEN</td>\n",
       "      <td>MIN</td>\n",
       "      <td>1</td>\n",
       "    </tr>\n",
       "    <tr>\n",
       "      <th>21801229</th>\n",
       "      <td>2019-04-10</td>\n",
       "      <td>LAC</td>\n",
       "      <td>UTA</td>\n",
       "      <td>1</td>\n",
       "    </tr>\n",
       "  </tbody>\n",
       "</table>\n",
       "<p>3689 rows × 4 columns</p>\n",
       "</div>"
      ],
      "text/plain": [
       "         GAME_DATE_EST HOME_TEAM_NAME VISITOR_TEAM_NAME  HOME_TEAM_WINS\n",
       "GAME_ID                                                                \n",
       "21600001    2016-10-25            CLE               NYK               1\n",
       "21600002    2016-10-25            POR               UTA               1\n",
       "21600003    2016-10-25            GSW               SAS               0\n",
       "21600004    2016-10-26            ORL               MIA               0\n",
       "21600005    2016-10-26            IND               DAL               1\n",
       "...                ...            ...               ...             ...\n",
       "21801225    2019-04-10            MEM               GSW               1\n",
       "21801226    2019-04-10            MIL               OKC               0\n",
       "21801227    2019-04-10            SAS               DAL               1\n",
       "21801228    2019-04-10            DEN               MIN               1\n",
       "21801229    2019-04-10            LAC               UTA               1\n",
       "\n",
       "[3689 rows x 4 columns]"
      ]
     },
     "execution_count": 26,
     "metadata": {},
     "output_type": "execute_result"
    }
   ],
   "source": [
    "games_matchup[[\"GAME_DATE_EST\", \"HOME_TEAM_NAME\", \"VISITOR_TEAM_NAME\", \"HOME_TEAM_WINS\"]]"
   ]
  },
  {
   "cell_type": "code",
   "execution_count": 27,
   "metadata": {},
   "outputs": [],
   "source": [
    "x_columns = [\n",
    "\"HOME_TEAM_NAME\",\n",
    "\"VISITOR_TEAM_NAME\",\n",
    "\"SEASON\",\n",
    "\"HT_HW\",\n",
    "\"HT_HL\",\n",
    "\"HT_VW\",\n",
    "\"HT_VL\",\n",
    "\"HT_LAST10_W\",\n",
    "\"HT_LAST10_L\",\n",
    "\"HT_LAST10_MATCHUP_W\",\n",
    "\"HT_LAST10_MATCHUP_L\",\n",
    "\"HT_OVERALL_OFF_POINTS\",\n",
    "\"HT_OVERALL_DEF_POINTS\",\n",
    "\"HT_OVERALL_OFF_FG\",\n",
    "\"HT_OVERALL_DEF_FG\",\n",
    "\"HT_OVERALL_OFF_3P\",\n",
    "\"HT_OVERALL_DEF_3P\",\n",
    "\"HT_OVERALL_OFF_FT\",\n",
    "\"HT_OVERALL_DEF_FT\",\n",
    "\"HT_OVERALL_OFF_REB\",\n",
    "\"HT_OVERALL_DEF_REB\",\n",
    "\"HT_AWAY_POINTS\",\n",
    "\"HT_AWAY_FG\",\n",
    "\"HT_AWAY_3P\",\n",
    "\"HT_AWAY_FT\",\n",
    "\"HT_AWAY_REB\",\n",
    "\"VT_HW\",\n",
    "\"VT_HL\",\n",
    "\"VT_VW\",\n",
    "\"VT_VL\",\n",
    "\"VT_LAST10_W\",\n",
    "\"VT_LAST10_L\",\n",
    "\"VT_LAST10_MATCHUP_W\",\n",
    "\"VT_LAST10_MATCHUP_L\",\n",
    "\"VT_OVERALL_OFF_POINTS\",\n",
    "\"VT_OVERALL_DEF_POINTS\",\n",
    "\"VT_OVERALL_OFF_FG\",\n",
    "\"VT_OVERALL_DEF_FG\",\n",
    "\"VT_OVERALL_OFF_3P\",\n",
    "\"VT_OVERALL_DEF_3P\",\n",
    "\"VT_OVERALL_OFF_FT\",\n",
    "\"VT_OVERALL_DEF_FT\",\n",
    "\"VT_OVERALL_OFF_REB\",\n",
    "\"VT_OVERALL_DEF_REB\",\n",
    "\"VT_AWAY_POINTS\",\n",
    "\"VT_AWAY_FG\",\n",
    "\"VT_AWAY_3P\",\n",
    "\"VT_AWAY_FT\",\n",
    "\"VT_AWAY_REB\"\n",
    "]"
   ]
  },
  {
   "cell_type": "code",
   "execution_count": 28,
   "metadata": {},
   "outputs": [
    {
     "data": {
      "text/plain": [
       "array([['CLE', 'NYK', 2016, ..., 0.361, 0.771, 40.992],\n",
       "       ['POR', 'UTA', 2016, ..., 0.339, 0.749, 41.55],\n",
       "       ['GSW', 'SAS', 2016, ..., 0.365, 0.779, 42.256],\n",
       "       ...,\n",
       "       ['SAS', 'DAL', 2018, ..., 0.356, 0.772, 41.053],\n",
       "       ['DEN', 'MIN', 2018, ..., 0.337, 0.785, 42.397],\n",
       "       ['LAC', 'UTA', 2018, ..., 0.346, 0.752, 42.197]], dtype=object)"
      ]
     },
     "execution_count": 28,
     "metadata": {},
     "output_type": "execute_result"
    }
   ],
   "source": [
    "x = games_matchup.loc[:, x_columns].values\n",
    "x"
   ]
  },
  {
   "cell_type": "code",
   "execution_count": 6,
   "metadata": {},
   "outputs": [],
   "source": [
    "y_columns = [\n",
    "\"PTS_home\",\n",
    "\"FG_PCT_home\",\n",
    "\"FT_PCT_home\",\n",
    "\"FG3_PCT_home\",\n",
    "\"AST_home\",\n",
    "\"REB_home\",\n",
    "\"PTS_away\",\n",
    "\"FG_PCT_away\",\n",
    "\"FT_PCT_away\",\n",
    "\"FG3_PCT_away\",\n",
    "\"AST_away\",\n",
    "\"REB_away\",\n",
    "\"HOME_TEAM_WINS\"\n",
    "]"
   ]
  },
  {
   "cell_type": "code",
   "execution_count": 7,
   "metadata": {},
   "outputs": [
    {
     "data": {
      "text/plain": [
       "array([[1],\n",
       "       [1],\n",
       "       [1],\n",
       "       ...,\n",
       "       [0],\n",
       "       [1],\n",
       "       [1]])"
      ]
     },
     "execution_count": 7,
     "metadata": {},
     "output_type": "execute_result"
    }
   ],
   "source": [
    "y = games_matchup.loc[:, [\"HOME_TEAM_WINS\"]].values\n",
    "y"
   ]
  },
  {
   "cell_type": "markdown",
   "metadata": {},
   "source": [
    "## Taking care of missing data"
   ]
  },
  {
   "cell_type": "code",
   "execution_count": 8,
   "metadata": {},
   "outputs": [],
   "source": [
    "from sklearn.impute import SimpleImputer\n",
    "imputer = SimpleImputer(missing_values=np.nan, strategy='mean')"
   ]
  },
  {
   "cell_type": "markdown",
   "metadata": {},
   "source": [
    "## Encoding categorical data"
   ]
  },
  {
   "cell_type": "code",
   "execution_count": null,
   "metadata": {},
   "outputs": [],
   "source": [
    "from sklearn.compose import ColumnTransformer\n",
    "from sklearn.preprocessing import OneHotEncoder\n",
    "ct = ColumnTransformer(transformers=[('encoder', OneHotEncoder(), [0])], remainder='passthrough')"
   ]
  },
  {
   "cell_type": "markdown",
   "metadata": {},
   "source": [
    "## Splitting the dataset into the Training set and Test set"
   ]
  },
  {
   "cell_type": "code",
   "execution_count": null,
   "metadata": {},
   "outputs": [],
   "source": []
  },
  {
   "cell_type": "code",
   "execution_count": null,
   "metadata": {},
   "outputs": [],
   "source": []
  }
 ],
 "metadata": {
  "kernelspec": {
   "display_name": "nba-predictor",
   "language": "python",
   "name": "nba-predictor"
  },
  "language_info": {
   "codemirror_mode": {
    "name": "ipython",
    "version": 3
   },
   "file_extension": ".py",
   "mimetype": "text/x-python",
   "name": "python",
   "nbconvert_exporter": "python",
   "pygments_lexer": "ipython3",
   "version": "3.7.7"
  },
  "toc": {
   "base_numbering": 1,
   "nav_menu": {},
   "number_sections": true,
   "sideBar": true,
   "skip_h1_title": false,
   "title_cell": "Table of Contents",
   "title_sidebar": "Contents",
   "toc_cell": false,
   "toc_position": {},
   "toc_section_display": true,
   "toc_window_display": false
  }
 },
 "nbformat": 4,
 "nbformat_minor": 1
}