{
 "cells": [
  {
   "cell_type": "markdown",
   "metadata": {
    "pycharm": {
     "name": "#%% md\n"
    }
   },
   "source": [
    "# Data Preprocessing"
   ]
  },
  {
   "cell_type": "markdown",
   "metadata": {
    "pycharm": {
     "name": "#%% md\n"
    }
   },
   "source": [
    "## Importing the libraries"
   ]
  },
  {
   "cell_type": "code",
   "execution_count": 29,
   "metadata": {},
   "outputs": [
    {
     "name": "stderr",
     "output_type": "stream",
     "text": [
      "/home/nathaniel/anaconda3/envs/nba-predictor/lib/python3.7/site-packages/ipykernel_launcher.py:6: FutureWarning: Passing a negative integer is deprecated in version 1.0 and will not be supported in future version. Instead, use None to not limit the column width.\n",
      "  \n"
     ]
    }
   ],
   "source": [
    "import numpy as np\n",
    "import matplotlib.pyplot as plt\n",
    "import pandas as pd\n",
    "import model.preprocess_games as ppg\n",
    "pd.options.display.max_columns = None\n",
    "pd.set_option(\"display.max_colwidth\", -1)\n",
    "#from IPython.core.interactiveshell import InteractiveShell\n",
    "#InteractiveShell.ast_node_interactivity = \"all\"\n",
    "pd.set_option(\"display.max_rows\", 101)\n"
   ]
  },
  {
   "cell_type": "markdown",
   "metadata": {},
   "source": [
    "## Importing the dataset"
   ]
  },
  {
   "cell_type": "code",
   "execution_count": 30,
   "metadata": {
    "pycharm": {
     "name": "#%%\n"
    }
   },
   "outputs": [],
   "source": [
    "DATA_PATH = 'data'\n",
    "\n",
    "SEASONS_PROCESSED_DS = f\"{DATA_PATH}/seasons.processed.feather\"\n",
    "\n",
    "TEAMS_DS = f\"{DATA_PATH}/teams.processed.feather\"\n",
    "TEAMS_PROCESSED_DS = f\"{DATA_PATH}/teams.processed.feather\"\n",
    "\n",
    "GAMES_DS = f\"{DATA_PATH}/games.csv\"\n",
    "GAMES_PROCESSED_DS = f\"{DATA_PATH}/games.processed.feather\""
   ]
  },
  {
   "cell_type": "code",
   "execution_count": 31,
   "metadata": {},
   "outputs": [
    {
     "name": "stdout",
     "output_type": "stream",
     "text": [
      "<class 'pandas.core.frame.DataFrame'>\n",
      "Int64Index: 3689 entries, 21600001 to 21801229\n",
      "Data columns (total 70 columns):\n",
      " #   Column                 Non-Null Count  Dtype         \n",
      "---  ------                 --------------  -----         \n",
      " 0   GAME_DATE_EST          3689 non-null   datetime64[ns]\n",
      " 1   HOME_TEAM_NAME         3689 non-null   object        \n",
      " 2   HOME_TEAM_ID           3689 non-null   int64         \n",
      " 3   VISITOR_TEAM_NAME      3689 non-null   object        \n",
      " 4   VISITOR_TEAM_ID        3689 non-null   int64         \n",
      " 5   GAME_STATUS_TEXT       3689 non-null   object        \n",
      " 6   SEASON                 3689 non-null   int64         \n",
      " 7   HT_RANK                0 non-null      object        \n",
      " 8   HT_CLASS               0 non-null      object        \n",
      " 9   HT_HW                  3689 non-null   int64         \n",
      " 10  HT_HL                  3689 non-null   int64         \n",
      " 11  HT_VW                  3689 non-null   int64         \n",
      " 12  HT_VL                  3689 non-null   int64         \n",
      " 13  HT_LAST10_W            3689 non-null   int64         \n",
      " 14  HT_LAST10_L            3689 non-null   int64         \n",
      " 15  HT_LAST10_MATCHUP_W    3689 non-null   int64         \n",
      " 16  HT_LAST10_MATCHUP_L    3689 non-null   int64         \n",
      " 17  HT_OVERALL_OFF_POINTS  3689 non-null   float64       \n",
      " 18  HT_OVERALL_DEF_POINTS  3689 non-null   float64       \n",
      " 19  HT_OVERALL_OFF_FG      3689 non-null   float64       \n",
      " 20  HT_OVERALL_DEF_FG      3689 non-null   float64       \n",
      " 21  HT_OVERALL_OFF_3P      3689 non-null   float64       \n",
      " 22  HT_OVERALL_DEF_3P      3689 non-null   float64       \n",
      " 23  HT_OVERALL_OFF_FT      3689 non-null   float64       \n",
      " 24  HT_OVERALL_DEF_FT      3689 non-null   float64       \n",
      " 25  HT_OVERALL_OFF_REB     3689 non-null   float64       \n",
      " 26  HT_OVERALL_DEF_REB     3689 non-null   float64       \n",
      " 27  HT_AWAY_POINTS         3689 non-null   float64       \n",
      " 28  HT_AWAY_FG             3689 non-null   float64       \n",
      " 29  HT_AWAY_3P             3689 non-null   float64       \n",
      " 30  HT_AWAY_FT             3689 non-null   float64       \n",
      " 31  HT_AWAY_REB            3689 non-null   float64       \n",
      " 32  VT_RANK                0 non-null      object        \n",
      " 33  VT_CLASS               0 non-null      object        \n",
      " 34  VT_HW                  3689 non-null   int64         \n",
      " 35  VT_HL                  3689 non-null   int64         \n",
      " 36  VT_VW                  3689 non-null   int64         \n",
      " 37  VT_VL                  3689 non-null   int64         \n",
      " 38  VT_LAST10_W            3689 non-null   int64         \n",
      " 39  VT_LAST10_L            3689 non-null   int64         \n",
      " 40  VT_LAST10_MATCHUP_W    3689 non-null   int64         \n",
      " 41  VT_LAST10_MATCHUP_L    3689 non-null   int64         \n",
      " 42  VT_OVERALL_OFF_POINTS  3689 non-null   float64       \n",
      " 43  VT_OVERALL_DEF_POINTS  3689 non-null   float64       \n",
      " 44  VT_OVERALL_OFF_FG      3689 non-null   float64       \n",
      " 45  VT_OVERALL_DEF_FG      3689 non-null   float64       \n",
      " 46  VT_OVERALL_OFF_3P      3689 non-null   float64       \n",
      " 47  VT_OVERALL_DEF_3P      3689 non-null   float64       \n",
      " 48  VT_OVERALL_OFF_FT      3689 non-null   float64       \n",
      " 49  VT_OVERALL_DEF_FT      3689 non-null   float64       \n",
      " 50  VT_OVERALL_OFF_REB     3689 non-null   float64       \n",
      " 51  VT_OVERALL_DEF_REB     3689 non-null   float64       \n",
      " 52  VT_AWAY_POINTS         3689 non-null   float64       \n",
      " 53  VT_AWAY_FG             3689 non-null   float64       \n",
      " 54  VT_AWAY_3P             3689 non-null   float64       \n",
      " 55  VT_AWAY_FT             3689 non-null   float64       \n",
      " 56  VT_AWAY_REB            3689 non-null   float64       \n",
      " 57  PTS_home               3689 non-null   float64       \n",
      " 58  FG_PCT_home            3689 non-null   float64       \n",
      " 59  FT_PCT_home            3689 non-null   float64       \n",
      " 60  FG3_PCT_home           3689 non-null   float64       \n",
      " 61  AST_home               3689 non-null   float64       \n",
      " 62  REB_home               3689 non-null   float64       \n",
      " 63  PTS_away               3689 non-null   float64       \n",
      " 64  FG_PCT_away            3689 non-null   float64       \n",
      " 65  FT_PCT_away            3689 non-null   float64       \n",
      " 66  FG3_PCT_away           3689 non-null   float64       \n",
      " 67  AST_away               3689 non-null   float64       \n",
      " 68  REB_away               3689 non-null   float64       \n",
      " 69  HOME_TEAM_WINS         3689 non-null   int64         \n",
      "dtypes: datetime64[ns](1), float64(42), int64(20), object(7)\n",
      "memory usage: 2.0+ MB\n"
     ]
    }
   ],
   "source": [
    "games = pd.read_csv(GAMES_DS, parse_dates=[\"GAME_DATE_EST\"], usecols=[\"GAME_ID\",'GAME_DATE_EST', 'GAME_STATUS_TEXT', 'HOME_TEAM_ID', 'VISITOR_TEAM_ID',\n",
    "       'SEASON', 'PTS_home', 'FG_PCT_home', 'FT_PCT_home',\n",
    "       'FG3_PCT_home', 'AST_home', 'REB_home', 'PTS_away',\n",
    "       'FG_PCT_away', 'FT_PCT_away', 'FG3_PCT_away', 'AST_away', 'REB_away',\n",
    "       'HOME_TEAM_WINS']\n",
    "                    , infer_datetime_format=True, index_col=\"GAME_ID\")\n",
    "games = games.sort_values(by=['GAME_DATE_EST', 'GAME_ID'])\n",
    "teams = pd.read_feather(TEAMS_PROCESSED_DS)\n",
    "seasons = pd.read_feather(SEASONS_PROCESSED_DS)\n",
    "games_matchup = pd.read_feather(GAMES_PROCESSED_DS)\n",
    "games_matchup = games_matchup.set_index([\"GAME_ID\"])\n",
    "games_matchup = games_matchup.sort_values(by=['GAME_DATE_EST', 'GAME_ID'])\n",
    "games_matchup.info()"
   ]
  },
  {
   "cell_type": "code",
   "execution_count": 32,
   "metadata": {},
   "outputs": [
    {
     "name": "stdout",
     "output_type": "stream",
     "text": [
      "30\n",
      "30\n"
     ]
    }
   ],
   "source": [
    "games_matchup[[\"GAME_DATE_EST\", \"HOME_TEAM_NAME\", \"VISITOR_TEAM_NAME\", \"HOME_TEAM_WINS\"]]\n",
    "print(len(games_matchup[\"HOME_TEAM_NAME\"].unique()))\n",
    "print(len(games_matchup[\"VISITOR_TEAM_NAME\"].unique()))"
   ]
  },
  {
   "cell_type": "code",
   "execution_count": 33,
   "metadata": {},
   "outputs": [],
   "source": [
    "x_columns = [\n",
    "\"HOME_TEAM_NAME\",\n",
    "\"VISITOR_TEAM_NAME\",\n",
    "\"SEASON\",\n",
    "\"HT_HW\",\n",
    "\"HT_HL\",\n",
    "\"HT_VW\",\n",
    "\"HT_VL\",\n",
    "\"HT_LAST10_W\",\n",
    "\"HT_LAST10_L\",\n",
    "\"HT_LAST10_MATCHUP_W\",\n",
    "\"HT_LAST10_MATCHUP_L\",\n",
    "\"HT_OVERALL_OFF_POINTS\",\n",
    "\"HT_OVERALL_DEF_POINTS\",\n",
    "\"HT_OVERALL_OFF_FG\",\n",
    "\"HT_OVERALL_DEF_FG\",\n",
    "\"HT_OVERALL_OFF_3P\",\n",
    "\"HT_OVERALL_DEF_3P\",\n",
    "\"HT_OVERALL_OFF_FT\",\n",
    "\"HT_OVERALL_DEF_FT\",\n",
    "\"HT_OVERALL_OFF_REB\",\n",
    "\"HT_OVERALL_DEF_REB\",\n",
    "\"HT_AWAY_POINTS\",\n",
    "\"HT_AWAY_FG\",\n",
    "\"HT_AWAY_3P\",\n",
    "\"HT_AWAY_FT\",\n",
    "\"HT_AWAY_REB\",\n",
    "\"VT_HW\",\n",
    "\"VT_HL\",\n",
    "\"VT_VW\",\n",
    "\"VT_VL\",\n",
    "\"VT_LAST10_W\",\n",
    "\"VT_LAST10_L\",\n",
    "\"VT_LAST10_MATCHUP_W\",\n",
    "\"VT_LAST10_MATCHUP_L\",\n",
    "\"VT_OVERALL_OFF_POINTS\",\n",
    "\"VT_OVERALL_DEF_POINTS\",\n",
    "\"VT_OVERALL_OFF_FG\",\n",
    "\"VT_OVERALL_DEF_FG\",\n",
    "\"VT_OVERALL_OFF_3P\",\n",
    "\"VT_OVERALL_DEF_3P\",\n",
    "\"VT_OVERALL_OFF_FT\",\n",
    "\"VT_OVERALL_DEF_FT\",\n",
    "\"VT_OVERALL_OFF_REB\",\n",
    "\"VT_OVERALL_DEF_REB\",\n",
    "\"VT_AWAY_POINTS\",\n",
    "\"VT_AWAY_FG\",\n",
    "\"VT_AWAY_3P\",\n",
    "\"VT_AWAY_FT\",\n",
    "\"VT_AWAY_REB\"\n",
    "]"
   ]
  },
  {
   "cell_type": "code",
   "execution_count": 50,
   "metadata": {},
   "outputs": [
    {
     "data": {
      "text/plain": [
       "3689"
      ]
     },
     "execution_count": 50,
     "metadata": {},
     "output_type": "execute_result"
    }
   ],
   "source": [
    "gm_df = games_matchup.loc[:, x_columns]\n",
    "gm_df = pd.get_dummies(gm_df, dtype=float)\n",
    "X = gm_df.values\n",
    "len(X)\n",
    "#X"
   ]
  },
  {
   "cell_type": "code",
   "execution_count": 35,
   "metadata": {},
   "outputs": [],
   "source": [
    "y_columns = [\n",
    "\"PTS_home\",\n",
    "\"FG_PCT_home\",\n",
    "\"FT_PCT_home\",\n",
    "\"FG3_PCT_home\",\n",
    "\"AST_home\",\n",
    "\"REB_home\",\n",
    "\"PTS_away\",\n",
    "\"FG_PCT_away\",\n",
    "\"FT_PCT_away\",\n",
    "\"FG3_PCT_away\",\n",
    "\"AST_away\",\n",
    "\"REB_away\",\n",
    "\"HOME_TEAM_WINS\"\n",
    "]"
   ]
  },
  {
   "cell_type": "code",
   "execution_count": 49,
   "metadata": {},
   "outputs": [
    {
     "data": {
      "text/plain": [
       "3689"
      ]
     },
     "execution_count": 49,
     "metadata": {},
     "output_type": "execute_result"
    }
   ],
   "source": [
    "y = games_matchup.loc[:, [\"HOME_TEAM_WINS\"]].values\n",
    "len(y)"
   ]
  },
  {
   "cell_type": "markdown",
   "metadata": {},
   "source": [
    "## Taking care of missing data"
   ]
  },
  {
   "cell_type": "code",
   "execution_count": 37,
   "metadata": {},
   "outputs": [],
   "source": [
    "from sklearn.impute import SimpleImputer\n",
    "imputer = SimpleImputer(missing_values=np.nan, strategy='mean')"
   ]
  },
  {
   "cell_type": "code",
   "execution_count": 38,
   "metadata": {},
   "outputs": [
    {
     "data": {
      "text/plain": [
       "GAME_DATE_EST            0   \n",
       "HOME_TEAM_NAME           0   \n",
       "HOME_TEAM_ID             0   \n",
       "VISITOR_TEAM_NAME        0   \n",
       "VISITOR_TEAM_ID          0   \n",
       "GAME_STATUS_TEXT         0   \n",
       "SEASON                   0   \n",
       "HT_RANK                  3689\n",
       "HT_CLASS                 3689\n",
       "HT_HW                    0   \n",
       "HT_HL                    0   \n",
       "HT_VW                    0   \n",
       "HT_VL                    0   \n",
       "HT_LAST10_W              0   \n",
       "HT_LAST10_L              0   \n",
       "HT_LAST10_MATCHUP_W      0   \n",
       "HT_LAST10_MATCHUP_L      0   \n",
       "HT_OVERALL_OFF_POINTS    0   \n",
       "HT_OVERALL_DEF_POINTS    0   \n",
       "HT_OVERALL_OFF_FG        0   \n",
       "HT_OVERALL_DEF_FG        0   \n",
       "HT_OVERALL_OFF_3P        0   \n",
       "HT_OVERALL_DEF_3P        0   \n",
       "HT_OVERALL_OFF_FT        0   \n",
       "HT_OVERALL_DEF_FT        0   \n",
       "HT_OVERALL_OFF_REB       0   \n",
       "HT_OVERALL_DEF_REB       0   \n",
       "HT_AWAY_POINTS           0   \n",
       "HT_AWAY_FG               0   \n",
       "HT_AWAY_3P               0   \n",
       "HT_AWAY_FT               0   \n",
       "HT_AWAY_REB              0   \n",
       "VT_RANK                  3689\n",
       "VT_CLASS                 3689\n",
       "VT_HW                    0   \n",
       "VT_HL                    0   \n",
       "VT_VW                    0   \n",
       "VT_VL                    0   \n",
       "VT_LAST10_W              0   \n",
       "VT_LAST10_L              0   \n",
       "VT_LAST10_MATCHUP_W      0   \n",
       "VT_LAST10_MATCHUP_L      0   \n",
       "VT_OVERALL_OFF_POINTS    0   \n",
       "VT_OVERALL_DEF_POINTS    0   \n",
       "VT_OVERALL_OFF_FG        0   \n",
       "VT_OVERALL_DEF_FG        0   \n",
       "VT_OVERALL_OFF_3P        0   \n",
       "VT_OVERALL_DEF_3P        0   \n",
       "VT_OVERALL_OFF_FT        0   \n",
       "VT_OVERALL_DEF_FT        0   \n",
       "VT_OVERALL_OFF_REB       0   \n",
       "VT_OVERALL_DEF_REB       0   \n",
       "VT_AWAY_POINTS           0   \n",
       "VT_AWAY_FG               0   \n",
       "VT_AWAY_3P               0   \n",
       "VT_AWAY_FT               0   \n",
       "VT_AWAY_REB              0   \n",
       "PTS_home                 0   \n",
       "FG_PCT_home              0   \n",
       "FT_PCT_home              0   \n",
       "FG3_PCT_home             0   \n",
       "AST_home                 0   \n",
       "REB_home                 0   \n",
       "PTS_away                 0   \n",
       "FG_PCT_away              0   \n",
       "FT_PCT_away              0   \n",
       "FG3_PCT_away             0   \n",
       "AST_away                 0   \n",
       "REB_away                 0   \n",
       "HOME_TEAM_WINS           0   \n",
       "dtype: int64"
      ]
     },
     "execution_count": 38,
     "metadata": {},
     "output_type": "execute_result"
    }
   ],
   "source": [
    "games_matchup.isna().sum()"
   ]
  },
  {
   "cell_type": "code",
   "execution_count": 39,
   "metadata": {},
   "outputs": [],
   "source": [
    "games_matchup = games_matchup.drop(columns=[\"HT_RANK\", \"HT_CLASS\", \"VT_RANK\", \"VT_CLASS\"])\n"
   ]
  },
  {
   "cell_type": "code",
   "execution_count": 40,
   "metadata": {},
   "outputs": [
    {
     "name": "stdout",
     "output_type": "stream",
     "text": [
      "<class 'pandas.core.frame.DataFrame'>\n",
      "Int64Index: 3689 entries, 21600001 to 21801229\n",
      "Data columns (total 66 columns):\n",
      " #   Column                 Non-Null Count  Dtype         \n",
      "---  ------                 --------------  -----         \n",
      " 0   GAME_DATE_EST          3689 non-null   datetime64[ns]\n",
      " 1   HOME_TEAM_NAME         3689 non-null   object        \n",
      " 2   HOME_TEAM_ID           3689 non-null   int64         \n",
      " 3   VISITOR_TEAM_NAME      3689 non-null   object        \n",
      " 4   VISITOR_TEAM_ID        3689 non-null   int64         \n",
      " 5   GAME_STATUS_TEXT       3689 non-null   object        \n",
      " 6   SEASON                 3689 non-null   int64         \n",
      " 7   HT_HW                  3689 non-null   int64         \n",
      " 8   HT_HL                  3689 non-null   int64         \n",
      " 9   HT_VW                  3689 non-null   int64         \n",
      " 10  HT_VL                  3689 non-null   int64         \n",
      " 11  HT_LAST10_W            3689 non-null   int64         \n",
      " 12  HT_LAST10_L            3689 non-null   int64         \n",
      " 13  HT_LAST10_MATCHUP_W    3689 non-null   int64         \n",
      " 14  HT_LAST10_MATCHUP_L    3689 non-null   int64         \n",
      " 15  HT_OVERALL_OFF_POINTS  3689 non-null   float64       \n",
      " 16  HT_OVERALL_DEF_POINTS  3689 non-null   float64       \n",
      " 17  HT_OVERALL_OFF_FG      3689 non-null   float64       \n",
      " 18  HT_OVERALL_DEF_FG      3689 non-null   float64       \n",
      " 19  HT_OVERALL_OFF_3P      3689 non-null   float64       \n",
      " 20  HT_OVERALL_DEF_3P      3689 non-null   float64       \n",
      " 21  HT_OVERALL_OFF_FT      3689 non-null   float64       \n",
      " 22  HT_OVERALL_DEF_FT      3689 non-null   float64       \n",
      " 23  HT_OVERALL_OFF_REB     3689 non-null   float64       \n",
      " 24  HT_OVERALL_DEF_REB     3689 non-null   float64       \n",
      " 25  HT_AWAY_POINTS         3689 non-null   float64       \n",
      " 26  HT_AWAY_FG             3689 non-null   float64       \n",
      " 27  HT_AWAY_3P             3689 non-null   float64       \n",
      " 28  HT_AWAY_FT             3689 non-null   float64       \n",
      " 29  HT_AWAY_REB            3689 non-null   float64       \n",
      " 30  VT_HW                  3689 non-null   int64         \n",
      " 31  VT_HL                  3689 non-null   int64         \n",
      " 32  VT_VW                  3689 non-null   int64         \n",
      " 33  VT_VL                  3689 non-null   int64         \n",
      " 34  VT_LAST10_W            3689 non-null   int64         \n",
      " 35  VT_LAST10_L            3689 non-null   int64         \n",
      " 36  VT_LAST10_MATCHUP_W    3689 non-null   int64         \n",
      " 37  VT_LAST10_MATCHUP_L    3689 non-null   int64         \n",
      " 38  VT_OVERALL_OFF_POINTS  3689 non-null   float64       \n",
      " 39  VT_OVERALL_DEF_POINTS  3689 non-null   float64       \n",
      " 40  VT_OVERALL_OFF_FG      3689 non-null   float64       \n",
      " 41  VT_OVERALL_DEF_FG      3689 non-null   float64       \n",
      " 42  VT_OVERALL_OFF_3P      3689 non-null   float64       \n",
      " 43  VT_OVERALL_DEF_3P      3689 non-null   float64       \n",
      " 44  VT_OVERALL_OFF_FT      3689 non-null   float64       \n",
      " 45  VT_OVERALL_DEF_FT      3689 non-null   float64       \n",
      " 46  VT_OVERALL_OFF_REB     3689 non-null   float64       \n",
      " 47  VT_OVERALL_DEF_REB     3689 non-null   float64       \n",
      " 48  VT_AWAY_POINTS         3689 non-null   float64       \n",
      " 49  VT_AWAY_FG             3689 non-null   float64       \n",
      " 50  VT_AWAY_3P             3689 non-null   float64       \n",
      " 51  VT_AWAY_FT             3689 non-null   float64       \n",
      " 52  VT_AWAY_REB            3689 non-null   float64       \n",
      " 53  PTS_home               3689 non-null   float64       \n",
      " 54  FG_PCT_home            3689 non-null   float64       \n",
      " 55  FT_PCT_home            3689 non-null   float64       \n",
      " 56  FG3_PCT_home           3689 non-null   float64       \n",
      " 57  AST_home               3689 non-null   float64       \n",
      " 58  REB_home               3689 non-null   float64       \n",
      " 59  PTS_away               3689 non-null   float64       \n",
      " 60  FG_PCT_away            3689 non-null   float64       \n",
      " 61  FT_PCT_away            3689 non-null   float64       \n",
      " 62  FG3_PCT_away           3689 non-null   float64       \n",
      " 63  AST_away               3689 non-null   float64       \n",
      " 64  REB_away               3689 non-null   float64       \n",
      " 65  HOME_TEAM_WINS         3689 non-null   int64         \n",
      "dtypes: datetime64[ns](1), float64(42), int64(20), object(3)\n",
      "memory usage: 1.9+ MB\n"
     ]
    }
   ],
   "source": [
    "games_matchup.info()"
   ]
  },
  {
   "cell_type": "markdown",
   "metadata": {},
   "source": [
    "## Encoding categorical data"
   ]
  },
  {
   "cell_type": "code",
   "execution_count": 41,
   "metadata": {},
   "outputs": [
    {
     "data": {
      "text/plain": [
       "107"
      ]
     },
     "execution_count": 41,
     "metadata": {},
     "output_type": "execute_result"
    }
   ],
   "source": [
    "np.size(X,1)"
   ]
  },
  {
   "cell_type": "code",
   "execution_count": 42,
   "metadata": {},
   "outputs": [],
   "source": [
    "#from sklearn.compose import ColumnTransformer\n",
    "#from sklearn.preprocessing import OneHotEncoder\n",
    "#ct = ColumnTransformer(transformers=[('encoder', OneHotEncoder(), [0,1])], remainder='passthrough')\n",
    "#X = np.array(ct.fit_transform(X))"
   ]
  },
  {
   "cell_type": "code",
   "execution_count": 43,
   "metadata": {},
   "outputs": [
    {
     "data": {
      "text/plain": [
       "107"
      ]
     },
     "execution_count": 43,
     "metadata": {},
     "output_type": "execute_result"
    }
   ],
   "source": [
    "np.size(X,1)"
   ]
  },
  {
   "cell_type": "markdown",
   "metadata": {},
   "source": [
    "## Splitting the dataset into the Training set and Test set"
   ]
  },
  {
   "cell_type": "code",
   "execution_count": 44,
   "metadata": {},
   "outputs": [],
   "source": [
    "from sklearn.model_selection import train_test_split\n",
    "X_train, X_test, y_train, y_test = train_test_split(X, y, test_size=0.2, random_state = 1)"
   ]
  },
  {
   "cell_type": "markdown",
   "metadata": {
    "pycharm": {
     "name": "#%% md\n"
    }
   },
   "source": [
    "## Model"
   ]
  },
  {
   "cell_type": "code",
   "execution_count": null,
   "outputs": [],
   "source": [
    "from sklearn.linear_model import LogisticRegression\n",
    "from sklearn.model_selection import cross_val_score\n",
    "\n",
    "log_clf = LogisticRegression(solver=\"lbfgs\" ,random_state=42)\n",
    "score = cross_val_score(log_clf, X=X_train, y=y_train, cv=3, verbose=3)\n",
    "score.mean()"
   ],
   "metadata": {
    "collapsed": false,
    "pycharm": {
     "name": "#%%\n"
    }
   }
  },
  {
   "cell_type": "code",
   "execution_count": null,
   "outputs": [],
   "source": [
    "from sklearn.metrics import precision_score, recall_score\n",
    "\n",
    "log_clf = LogisticRegression(solver=\"lbfgs\", random_state=42)\n",
    "log_clf.fit(X_train, y_train)\n",
    "\n",
    "y_pred = log_clf.predict(X_test)\n",
    "\n",
    "print(\"Precision: {:.2f}%\".format(100 * precision_score(y_test, y_pred)))\n",
    "print(\"Recall: {:.2f}%\".format(100 * recall_score(y_test, y_pred)))"
   ],
   "metadata": {
    "collapsed": false,
    "pycharm": {
     "name": "#%%\n"
    }
   }
  },
  {
   "cell_type": "code",
   "execution_count": 51,
   "metadata": {},
   "outputs": [
    {
     "name": "stdout",
     "output_type": "stream",
     "text": [
      "[CV]  ................................................................\n",
      "[CV] .................................... , score=0.658, total=   0.1s\n",
      "[CV]  ................................................................\n",
      "[CV] .................................... , score=0.651, total=   0.0s\n",
      "[CV]  ................................................................\n",
      "[CV] .................................... , score=0.606, total=   0.0s\n"
     ]
    },
    {
     "name": "stderr",
     "output_type": "stream",
     "text": [
      "[Parallel(n_jobs=1)]: Using backend SequentialBackend with 1 concurrent workers.\n",
      "/home/nathaniel/anaconda3/envs/nba-predictor/lib/python3.7/site-packages/sklearn/utils/validation.py:73: DataConversionWarning: A column-vector y was passed when a 1d array was expected. Please change the shape of y to (n_samples, ), for example using ravel().\n",
      "  return f(**kwargs)\n",
      "/home/nathaniel/anaconda3/envs/nba-predictor/lib/python3.7/site-packages/sklearn/linear_model/_logistic.py:764: ConvergenceWarning: lbfgs failed to converge (status=1):\n",
      "STOP: TOTAL NO. of ITERATIONS REACHED LIMIT.\n",
      "\n",
      "Increase the number of iterations (max_iter) or scale the data as shown in:\n",
      "    https://scikit-learn.org/stable/modules/preprocessing.html\n",
      "Please also refer to the documentation for alternative solver options:\n",
      "    https://scikit-learn.org/stable/modules/linear_model.html#logistic-regression\n",
      "  extra_warning_msg=_LOGISTIC_SOLVER_CONVERGENCE_MSG)\n",
      "[Parallel(n_jobs=1)]: Done   1 out of   1 | elapsed:    0.1s remaining:    0.0s\n",
      "/home/nathaniel/anaconda3/envs/nba-predictor/lib/python3.7/site-packages/sklearn/utils/validation.py:73: DataConversionWarning: A column-vector y was passed when a 1d array was expected. Please change the shape of y to (n_samples, ), for example using ravel().\n",
      "  return f(**kwargs)\n",
      "/home/nathaniel/anaconda3/envs/nba-predictor/lib/python3.7/site-packages/sklearn/linear_model/_logistic.py:764: ConvergenceWarning: lbfgs failed to converge (status=1):\n",
      "STOP: TOTAL NO. of ITERATIONS REACHED LIMIT.\n",
      "\n",
      "Increase the number of iterations (max_iter) or scale the data as shown in:\n",
      "    https://scikit-learn.org/stable/modules/preprocessing.html\n",
      "Please also refer to the documentation for alternative solver options:\n",
      "    https://scikit-learn.org/stable/modules/linear_model.html#logistic-regression\n",
      "  extra_warning_msg=_LOGISTIC_SOLVER_CONVERGENCE_MSG)\n",
      "[Parallel(n_jobs=1)]: Done   2 out of   2 | elapsed:    0.1s remaining:    0.0s\n",
      "/home/nathaniel/anaconda3/envs/nba-predictor/lib/python3.7/site-packages/sklearn/utils/validation.py:73: DataConversionWarning: A column-vector y was passed when a 1d array was expected. Please change the shape of y to (n_samples, ), for example using ravel().\n",
      "  return f(**kwargs)\n",
      "/home/nathaniel/anaconda3/envs/nba-predictor/lib/python3.7/site-packages/sklearn/linear_model/_logistic.py:764: ConvergenceWarning: lbfgs failed to converge (status=1):\n",
      "STOP: TOTAL NO. of ITERATIONS REACHED LIMIT.\n",
      "\n",
      "Increase the number of iterations (max_iter) or scale the data as shown in:\n",
      "    https://scikit-learn.org/stable/modules/preprocessing.html\n",
      "Please also refer to the documentation for alternative solver options:\n",
      "    https://scikit-learn.org/stable/modules/linear_model.html#logistic-regression\n",
      "  extra_warning_msg=_LOGISTIC_SOLVER_CONVERGENCE_MSG)\n",
      "[Parallel(n_jobs=1)]: Done   3 out of   3 | elapsed:    0.2s finished\n"
     ]
    },
    {
     "data": {
      "text/plain": [
       "0.6384167707394266"
      ]
     },
     "execution_count": 51,
     "metadata": {},
     "output_type": "execute_result"
    }
   ],
   "source": [
    "from sklearn.metrics import precision_score, recall_score\n",
    "\n",
    "log_clf = LogisticRegression(solver=\"lbfgs\", random_state=42)\n",
    "log_clf.fit(X_train, y_train)\n",
    "\n",
    "y_pred = log_clf.predict(X_test)\n",
    "\n",
    "print(\"Precision: {:.2f}%\".format(100 * precision_score(y_test, y_pred)))\n",
    "print(\"Recall: {:.2f}%\".format(100 * recall_score(y_test, y_pred)))"
   ]
  },
  {
   "cell_type": "code",
   "execution_count": 57,
   "metadata": {},
   "outputs": [
    {
     "name": "stdout",
     "output_type": "stream",
     "text": [
      "Precision: 67.24%\n",
      "Recall: 79.86%\n"
     ]
    },
    {
     "name": "stderr",
     "output_type": "stream",
     "text": [
      "/home/nathaniel/anaconda3/envs/nba-predictor/lib/python3.7/site-packages/sklearn/utils/validation.py:73: DataConversionWarning: A column-vector y was passed when a 1d array was expected. Please change the shape of y to (n_samples, ), for example using ravel().\n",
      "  return f(**kwargs)\n",
      "/home/nathaniel/anaconda3/envs/nba-predictor/lib/python3.7/site-packages/sklearn/linear_model/_logistic.py:764: ConvergenceWarning: lbfgs failed to converge (status=1):\n",
      "STOP: TOTAL NO. of ITERATIONS REACHED LIMIT.\n",
      "\n",
      "Increase the number of iterations (max_iter) or scale the data as shown in:\n",
      "    https://scikit-learn.org/stable/modules/preprocessing.html\n",
      "Please also refer to the documentation for alternative solver options:\n",
      "    https://scikit-learn.org/stable/modules/linear_model.html#logistic-regression\n",
      "  extra_warning_msg=_LOGISTIC_SOLVER_CONVERGENCE_MSG)\n"
     ]
    }
   ],
   "source": [
    "from sklearn.metrics import precision_score, recall_score\n",
    "\n",
    "log_clf = LogisticRegression(solver=\"lbfgs\", random_state=42)\n",
    "log_clf.fit(X_train, y_train)\n",
    "\n",
    "y_pred = log_clf.predict(X_test)\n",
    "\n",
    "print(\"Precision: {:.2f}%\".format(100 * precision_score(y_test, y_pred)))\n",
    "print(\"Recall: {:.2f}%\".format(100 * recall_score(y_test, y_pred)))"
   ]
  }
 ],
 "metadata": {
  "kernelspec": {
   "display_name": "nba-predictor",
   "language": "python",
   "name": "nba-predictor"
  },
  "language_info": {
   "codemirror_mode": {
    "name": "ipython",
    "version": 3
   },
   "file_extension": ".py",
   "mimetype": "text/x-python",
   "name": "python",
   "nbconvert_exporter": "python",
   "pygments_lexer": "ipython3",
   "version": "3.7.7"
  },
  "toc": {
   "base_numbering": 1,
   "nav_menu": {},
   "number_sections": true,
   "sideBar": true,
   "skip_h1_title": false,
   "title_cell": "Table of Contents",
   "title_sidebar": "Contents",
   "toc_cell": false,
   "toc_position": {},
   "toc_section_display": true,
   "toc_window_display": false
  }
 },
 "nbformat": 4,
 "nbformat_minor": 1
}