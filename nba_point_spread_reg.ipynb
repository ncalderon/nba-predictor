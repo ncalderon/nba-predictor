{
 "cells": [
  {
   "cell_type": "markdown",
   "metadata": {},
   "source": [
    "# NBA Point Spread Regressor Experiments"
   ]
  },
  {
   "cell_type": "markdown",
   "metadata": {},
   "source": [
    "## Imports"
   ]
  },
  {
   "cell_type": "code",
   "execution_count": 16,
   "metadata": {
    "ExecuteTime": {
     "end_time": "2020-11-14T01:58:16.827368Z",
     "start_time": "2020-11-14T01:58:16.794815Z"
    },
    "init_cell": true,
    "pycharm": {
     "name": "#%%\n"
    }
   },
   "outputs": [],
   "source": [
    "import numpy as np\n",
    "import matplotlib.pyplot as plt\n",
    "import pandas as pd\n",
    "import seaborn as sns\n",
    "#pd.options.display.max_columns = None\n",
    "#pd.set_option(\"display.max_colwidth\", None)\n",
    "from IPython.core.interactiveshell import InteractiveShell\n",
    "InteractiveShell.ast_node_interactivity = \"all\"\n",
    "#pd.set_option(\"display.max_rows\", None)\n",
    "import model.train as train\n",
    "import model.config as model_config\n",
    "import utils\n",
    "import model.dataset.season_game as sg\n",
    "import utils_nba_point_spead_reg as utils_exp\n",
    "import qgrid\n",
    "from yellowbrick import classifier, features\n",
    "from pandas_profiling import ProfileReport\n",
    "\n",
    "from sklearn.pipeline import Pipeline\n",
    "from sklearn.preprocessing import StandardScaler, MinMaxScaler\n",
    "from sklearn.compose import ColumnTransformer\n",
    "from boruta import BorutaPy"
   ]
  },
  {
   "cell_type": "markdown",
   "metadata": {},
   "source": [
    "## Setup"
   ]
  },
  {
   "cell_type": "code",
   "execution_count": 17,
   "metadata": {
    "ExecuteTime": {
     "end_time": "2020-11-14T01:58:16.868111Z",
     "start_time": "2020-11-14T01:58:16.835300Z"
    },
    "init_cell": true,
    "pycharm": {
     "name": "#%%\n"
    }
   },
   "outputs": [
    {
     "name": "stdout",
     "output_type": "stream",
     "text": [
      "The autoreload extension is already loaded. To reload it, use:\n",
      "  %reload_ext autoreload\n"
     ]
    },
    {
     "data": {
      "application/javascript": [
       "IPython.notebook.set_autosave_interval(60000)"
      ]
     },
     "metadata": {},
     "output_type": "display_data"
    },
    {
     "name": "stdout",
     "output_type": "stream",
     "text": [
      "Autosaving every 60 seconds\n"
     ]
    }
   ],
   "source": [
    "%load_ext autoreload\n",
    "%autoreload 2\n",
    "%matplotlib inline\n",
    "%autosave 60\n",
    "\n",
    "sns.set(style=\"whitegrid\")"
   ]
  },
  {
   "cell_type": "markdown",
   "metadata": {},
   "source": [
    "### Utils functions"
   ]
  },
  {
   "cell_type": "code",
   "execution_count": 18,
   "metadata": {
    "ExecuteTime": {
     "end_time": "2020-11-14T01:58:16.892310Z",
     "start_time": "2020-11-14T01:58:16.869782Z"
    },
    "init_cell": true
   },
   "outputs": [],
   "source": [
    "def filter_from(items, cond):\n",
    "    return list(filter(cond, items)) "
   ]
  },
  {
   "cell_type": "code",
   "execution_count": 19,
   "metadata": {
    "ExecuteTime": {
     "end_time": "2020-11-14T01:58:16.919382Z",
     "start_time": "2020-11-14T01:58:16.893975Z"
    },
    "init_cell": true
   },
   "outputs": [],
   "source": [
    "def del_result_by(exp_name):\n",
    "    global results_total\n",
    "    results_total = filter_from(results_total, lambda i: i[0] != exp_name)\n",
    "    utils_exp.exp_results = filter_from(utils_exp.exp_results, lambda i: i['exp_name'] != exp_name)"
   ]
  },
  {
   "cell_type": "code",
   "execution_count": 20,
   "metadata": {
    "ExecuteTime": {
     "end_time": "2020-11-14T01:58:16.946406Z",
     "start_time": "2020-11-14T01:58:16.921490Z"
    },
    "init_cell": true
   },
   "outputs": [],
   "source": [
    "def get_result_by(exp_name):\n",
    "    global results_total\n",
    "    return next((x for x in results_total if x[0] == exp_name), None)"
   ]
  },
  {
   "cell_type": "code",
   "execution_count": 19,
   "metadata": {
    "ExecuteTime": {
     "end_time": "2020-11-10T02:27:44.225057Z",
     "start_time": "2020-11-10T02:27:44.199330Z"
    }
   },
   "outputs": [],
   "source": [
    "#del_result_by('reg_1_season')\n",
    "#utils_exp.exp_results\n",
    "#utils.deserialize_object(f'result_totals', [])"
   ]
  },
  {
   "cell_type": "code",
   "execution_count": 21,
   "metadata": {
    "ExecuteTime": {
     "end_time": "2020-11-14T01:58:16.972198Z",
     "start_time": "2020-11-14T01:58:16.948315Z"
    },
    "init_cell": true
   },
   "outputs": [],
   "source": [
    "def del_exp_result(exp_name):\n",
    "    for idx, res in enumerate(list(utils_exp.exp_results)):\n",
    "        if res['exp_name'] == exp_name:\n",
    "            del utils_exp.exp_results[idx]"
   ]
  },
  {
   "cell_type": "code",
   "execution_count": 22,
   "metadata": {
    "ExecuteTime": {
     "end_time": "2020-11-14T01:58:16.997869Z",
     "start_time": "2020-11-14T01:58:16.973763Z"
    },
    "init_cell": true,
    "pycharm": {
     "name": "#%%\n"
    }
   },
   "outputs": [],
   "source": [
    "def show_qgrid(df_):\n",
    "    qgrid_widget = qgrid.show_grid(df_, show_toolbar=True , grid_options={'forceFitColumns': False, 'defaultColumnWidth': 200})\n",
    "    qgrid_widget"
   ]
  },
  {
   "cell_type": "code",
   "execution_count": 23,
   "metadata": {
    "ExecuteTime": {
     "end_time": "2020-11-14T01:58:17.022558Z",
     "start_time": "2020-11-14T01:58:17.000763Z"
    },
    "init_cell": true,
    "pycharm": {
     "name": "#%%\n"
    }
   },
   "outputs": [],
   "source": [
    "def plot_results(experiment_name, results, figsize=(10,6)):\n",
    "    plt.figure(figsize=figsize)\n",
    "    results_df = utils.map_results_to_df(results)\n",
    "    #     a = sns.pointplot(data=results_df,\n",
    "    #               kind=\"point\", x=\"season_test\", y=\"rmse\", hue=\"model\"\n",
    "    #               )\n",
    "    a = sns.lineplot(\n",
    "        data=results_df,\n",
    "        x=\"season_test\", y=\"mae\", hue=\"model\", style=\"model\",\n",
    "        markers=True, dashes=False\n",
    "    )\n",
    "    a.set_title(\n",
    "        f\"{experiment_name}-mae\")\n",
    "    a.legend(bbox_to_anchor=(1.05, 1), loc=2, borderaxespad=0.)"
   ]
  },
  {
   "cell_type": "code",
   "execution_count": 24,
   "metadata": {
    "ExecuteTime": {
     "end_time": "2020-11-14T01:58:17.049821Z",
     "start_time": "2020-11-14T01:58:17.025842Z"
    },
    "init_cell": true,
    "pycharm": {
     "name": "#%%\n"
    }
   },
   "outputs": [],
   "source": [
    "def get_results_df():\n",
    "    return pd.DataFrame(utils_exp.exp_results)"
   ]
  },
  {
   "cell_type": "code",
   "execution_count": 25,
   "metadata": {
    "ExecuteTime": {
     "end_time": "2020-11-14T01:58:17.088594Z",
     "start_time": "2020-11-14T01:58:17.051182Z"
    },
    "init_cell": true,
    "pycharm": {
     "name": "#%%\n"
    }
   },
   "outputs": [],
   "source": [
    "reg_metrics = ['mae', 'mse', 'rmse']\n",
    "\n",
    "def print_prettier_exp_results(exp_name, metric='mae', filter_val=None):\n",
    "    second_metric = 'rmse' if metric == 'mae' else 'mae'\n",
    "    ba_df = get_results_df()[['exp_name', 'model',\n",
    "       f'{metric}_mean', f'{metric}_std', f'{second_metric}_mean', f'{second_metric}_std']]\n",
    "    cond = ba_df.exp_name == exp_name\n",
    "    if filter_val is not None:\n",
    "        cond = (ba_df.exp_name == exp_name) & (ba_df.model == filter_val)\n",
    "    return ba_df[cond].sort_values(by=[f\"{metric}_mean\"], ascending=True)"
   ]
  },
  {
   "cell_type": "markdown",
   "metadata": {},
   "source": [
    "## Load Dataset"
   ]
  },
  {
   "cell_type": "code",
   "execution_count": 26,
   "metadata": {
    "ExecuteTime": {
     "end_time": "2020-11-14T01:58:17.200909Z",
     "start_time": "2020-11-14T01:58:17.090085Z"
    },
    "init_cell": true,
    "pycharm": {
     "name": "#%%\n"
    }
   },
   "outputs": [],
   "source": [
    "season_games = sg.load_season_games_dataset()"
   ]
  },
  {
   "cell_type": "markdown",
   "metadata": {},
   "source": [
    "## Dataset\n"
   ]
  },
  {
   "cell_type": "code",
   "execution_count": 26,
   "metadata": {
    "ExecuteTime": {
     "end_time": "2020-11-10T02:27:50.369355Z",
     "start_time": "2020-11-10T02:27:50.284528Z"
    },
    "pycharm": {
     "name": "#%%\n"
    }
   },
   "outputs": [
    {
     "data": {
      "text/plain": [
       "SEASON\n",
       "2002    1189\n",
       "2003    1189\n",
       "2004    1230\n",
       "2005    1230\n",
       "2006    1230\n",
       "2007    1230\n",
       "2008    1230\n",
       "2009    1230\n",
       "2010    1230\n",
       "2011     990\n",
       "2012    1229\n",
       "2013    1230\n",
       "2014    1230\n",
       "2015    1230\n",
       "2016    1230\n",
       "2017    1230\n",
       "2018    1230\n",
       "2019    1059\n",
       "Name: GAME_DATE_EST, dtype: int64"
      ]
     },
     "execution_count": 26,
     "metadata": {},
     "output_type": "execute_result"
    }
   ],
   "source": [
    "season_games.groupby(by=\"SEASON\").count()[\"GAME_DATE_EST\"]"
   ]
  },
  {
   "cell_type": "markdown",
   "metadata": {},
   "source": [
    "Podemos observar que no todas las temporadas tiene la misma cantidad de partidos. Esto es debido a la siguientes razones:\n",
    "\n",
    "- 2011: Los jugadores hicieron una huelga debido a no estar de acuerdo con los salarios de los mismos y el limite salarial de las franquicias.\n",
    "- 2012: Un partido entre el equipo de Boston e Indiana fue suspedindo el cual despues no fue reprogramado, y al final de la temporada se decidio ya no reprogramarlo debido a que la clasificacion a playoff ya estaba decidida y no afectaba el resultado.\n",
    "\n",
    "Por tanto se seleccionaran solo las temporadas a partir del 2013(inclusive)."
   ]
  },
  {
   "cell_type": "code",
   "execution_count": 27,
   "metadata": {
    "ExecuteTime": {
     "end_time": "2020-11-14T01:58:17.241494Z",
     "start_time": "2020-11-14T01:58:17.202878Z"
    },
    "init_cell": true,
    "pycharm": {
     "name": "#%%\n"
    }
   },
   "outputs": [],
   "source": [
    "df = season_games[(season_games.SEASON >= 2010) & (season_games.SEASON <= 2017)]\n",
    "seasons_size = len(df.SEASON.unique())\n",
    "seasons = list(df.SEASON.unique())"
   ]
  },
  {
   "cell_type": "code",
   "execution_count": 28,
   "metadata": {
    "ExecuteTime": {
     "end_time": "2020-11-14T01:58:17.306107Z",
     "start_time": "2020-11-14T01:58:17.243006Z"
    },
    "init_cell": true
   },
   "outputs": [
    {
     "name": "stdout",
     "output_type": "stream",
     "text": [
      "(9599, 261)\n",
      "0\n",
      "(9461, 261)\n"
     ]
    }
   ],
   "source": [
    "print(df.shape)\n",
    "df = df.dropna()\n",
    "print(df.isnull().sum().sum())\n",
    "print(df.shape)"
   ]
  },
  {
   "cell_type": "markdown",
   "metadata": {},
   "source": [
    "## Experiments"
   ]
  },
  {
   "cell_type": "markdown",
   "metadata": {},
   "source": [
    "### Setup"
   ]
  },
  {
   "cell_type": "code",
   "execution_count": 29,
   "metadata": {
    "ExecuteTime": {
     "end_time": "2020-11-14T01:58:17.350646Z",
     "start_time": "2020-11-14T01:58:17.307917Z"
    },
    "init_cell": true,
    "pycharm": {
     "name": "#%%\n"
    }
   },
   "outputs": [],
   "source": [
    "exp_prefix = \"reg_\"\n",
    "## exp_group_name = \"reg_experiments\"\n",
    "exp_group_name = \"reg_experiments_boruta\"\n",
    "results_total = utils.deserialize_object(f'result_totals_{exp_group_name}', [])\n",
    "utils_exp.exp_results = []\n",
    "TARGET = \"HOME_POINT_SPREAD\"\n",
    "exp_X_columns = model_config.X_REG_COLS_BEST_BORUTA\n",
    "exp_y_columns = model_config.Y_REG_COL\n",
    "\n",
    "models = utils_exp.get_reg_models()\n",
    "\n",
    "sscv = utils.SeasonSeriesSplit(df)\n",
    "df_sscv = sscv.get_df()\n",
    "X = df_sscv[exp_X_columns]\n",
    "y = df_sscv[TARGET]"
   ]
  },
  {
   "cell_type": "markdown",
   "metadata": {},
   "source": [
    "### Feature selection"
   ]
  },
  {
   "cell_type": "code",
   "execution_count": 124,
   "metadata": {
    "ExecuteTime": {
     "end_time": "2020-11-10T06:21:28.413517Z",
     "start_time": "2020-11-10T06:21:28.380672Z"
    },
    "pycharm": {
     "name": "#%%\n"
    }
   },
   "outputs": [],
   "source": [
    "def dict_to_list(d):\n",
    "    dictlist = []\n",
    "    for key, value in d.items():\n",
    "        temp = [key,value]\n",
    "        dictlist.append(temp)\n",
    "    return pd.DataFrame(data=dictlist)"
   ]
  },
  {
   "cell_type": "code",
   "execution_count": 125,
   "metadata": {
    "ExecuteTime": {
     "end_time": "2020-11-10T06:31:11.178818Z",
     "start_time": "2020-11-10T06:21:28.601347Z"
    },
    "pycharm": {
     "name": "#%%\n"
    }
   },
   "outputs": [
    {
     "data": {
      "text/plain": [
       "BorutaPy(estimator=RandomForestRegressor(max_depth=20, n_estimators=200,\n",
       "                                         n_jobs=-1,\n",
       "                                         random_state=RandomState(MT19937) at 0x7F6EC9A83C00),\n",
       "         n_estimators=200, random_state=RandomState(MT19937) at 0x7F6EC9A83C00)"
      ]
     },
     "execution_count": 125,
     "metadata": {},
     "output_type": "execute_result"
    },
    {
     "data": {
      "text/plain": [
       "BorutaPy(estimator=RandomForestRegressor(max_depth=20, n_estimators=200,\n",
       "                                         n_jobs=-1,\n",
       "                                         random_state=RandomState(MT19937) at 0x7F6EC9A83C00),\n",
       "         n_estimators=200, random_state=RandomState(MT19937) at 0x7F6EC9A83C00)"
      ]
     },
     "execution_count": 125,
     "metadata": {},
     "output_type": "execute_result"
    },
    {
     "data": {
      "text/plain": [
       "BorutaPy(estimator=RandomForestRegressor(max_depth=20, n_estimators=200,\n",
       "                                         n_jobs=-1,\n",
       "                                         random_state=RandomState(MT19937) at 0x7F6EC9A83C00),\n",
       "         n_estimators=200, random_state=RandomState(MT19937) at 0x7F6EC9A83C00)"
      ]
     },
     "execution_count": 125,
     "metadata": {},
     "output_type": "execute_result"
    },
    {
     "data": {
      "text/plain": [
       "BorutaPy(estimator=RandomForestRegressor(max_depth=20, n_estimators=200,\n",
       "                                         n_jobs=-1,\n",
       "                                         random_state=RandomState(MT19937) at 0x7F6EC9A83C00),\n",
       "         n_estimators=200, random_state=RandomState(MT19937) at 0x7F6EC9A83C00)"
      ]
     },
     "execution_count": 125,
     "metadata": {},
     "output_type": "execute_result"
    },
    {
     "data": {
      "text/plain": [
       "BorutaPy(estimator=RandomForestRegressor(max_depth=20, n_estimators=200,\n",
       "                                         n_jobs=-1,\n",
       "                                         random_state=RandomState(MT19937) at 0x7F6EC9A83C00),\n",
       "         n_estimators=200, random_state=RandomState(MT19937) at 0x7F6EC9A83C00)"
      ]
     },
     "execution_count": 125,
     "metadata": {},
     "output_type": "execute_result"
    },
    {
     "data": {
      "text/plain": [
       "BorutaPy(estimator=RandomForestRegressor(max_depth=20, n_estimators=200,\n",
       "                                         n_jobs=-1,\n",
       "                                         random_state=RandomState(MT19937) at 0x7F6EC9A83C00),\n",
       "         n_estimators=200, random_state=RandomState(MT19937) at 0x7F6EC9A83C00)"
      ]
     },
     "execution_count": 125,
     "metadata": {},
     "output_type": "execute_result"
    },
    {
     "data": {
      "text/plain": [
       "BorutaPy(estimator=RandomForestRegressor(max_depth=20, n_estimators=200,\n",
       "                                         n_jobs=-1,\n",
       "                                         random_state=RandomState(MT19937) at 0x7F6EC9A83C00),\n",
       "         n_estimators=200, random_state=RandomState(MT19937) at 0x7F6EC9A83C00)"
      ]
     },
     "execution_count": 125,
     "metadata": {},
     "output_type": "execute_result"
    }
   ],
   "source": [
    "# instantiate random forest\n",
    "from collections import defaultdict\n",
    "\n",
    "## RandomForest\n",
    "model = models[4][1]\n",
    "\n",
    "folds, train_seasons, test_seasons = sscv.split(train_size=1, test_size=1)\n",
    "folds_selected_features = defaultdict(int)\n",
    "boruta_selector = BorutaPy(model, n_estimators = 200, random_state = 0)\n",
    "list_selected_features = []\n",
    "for train_idx, test_idx in folds[:]:\n",
    "    X_train, X_test = X.loc[train_idx], X.loc[test_idx]\n",
    "    y_train, y_test = y.loc[train_idx], y.loc[test_idx]\n",
    "    y_true = y_test\n",
    "    # fit boruta\n",
    "    boruta_selector.fit(np.array(X_train), np.array(y_train))\n",
    "    boruta_ranking = boruta_selector.ranking_\n",
    "    selected_features = np.array(exp_X_columns)[boruta_ranking <= 2]\n",
    "    list_selected_features.append(selected_features)\n",
    "    for f in selected_features:\n",
    "        folds_selected_features[f]+=1\n",
    "#dict_to_list(folds_selected_features)\n",
    "# # store results\n",
    "# boruta_ranking = boruta_selector.ranking_\n",
    "# selected_features = np.array(feature_names)[boruta_ranking <= 2]"
   ]
  },
  {
   "cell_type": "code",
   "execution_count": 126,
   "metadata": {
    "ExecuteTime": {
     "end_time": "2020-11-10T06:31:11.451502Z",
     "start_time": "2020-11-10T06:31:11.427788Z"
    },
    "pycharm": {
     "name": "#%%\n"
    }
   },
   "outputs": [],
   "source": [
    "f_df = dict_to_list(folds_selected_features)"
   ]
  },
  {
   "cell_type": "code",
   "execution_count": 141,
   "metadata": {
    "ExecuteTime": {
     "end_time": "2020-11-10T07:00:51.586997Z",
     "start_time": "2020-11-10T07:00:51.548469Z"
    },
    "pycharm": {
     "name": "#%%\n"
    }
   },
   "outputs": [
    {
     "data": {
      "text/html": [
       "<div>\n",
       "<style scoped>\n",
       "    .dataframe tbody tr th:only-of-type {\n",
       "        vertical-align: middle;\n",
       "    }\n",
       "\n",
       "    .dataframe tbody tr th {\n",
       "        vertical-align: top;\n",
       "    }\n",
       "\n",
       "    .dataframe thead th {\n",
       "        text-align: right;\n",
       "    }\n",
       "</style>\n",
       "<table border=\"1\" class=\"dataframe\">\n",
       "  <thead>\n",
       "    <tr style=\"text-align: right;\">\n",
       "      <th></th>\n",
       "      <th>0</th>\n",
       "      <th>1</th>\n",
       "    </tr>\n",
       "  </thead>\n",
       "  <tbody>\n",
       "    <tr>\n",
       "      <th>4</th>\n",
       "      <td>HOME_PLUS_MINUS_MEAN</td>\n",
       "      <td>7</td>\n",
       "    </tr>\n",
       "    <tr>\n",
       "      <th>3</th>\n",
       "      <td>HOME_PLUS_MINUS_L10</td>\n",
       "      <td>7</td>\n",
       "    </tr>\n",
       "    <tr>\n",
       "      <th>2</th>\n",
       "      <td>HOME_FT_PCT</td>\n",
       "      <td>7</td>\n",
       "    </tr>\n",
       "    <tr>\n",
       "      <th>1</th>\n",
       "      <td>HOME_FG3_PCT</td>\n",
       "      <td>7</td>\n",
       "    </tr>\n",
       "    <tr>\n",
       "      <th>7</th>\n",
       "      <td>PLUS_MINUS_MEAN_HOME</td>\n",
       "      <td>3</td>\n",
       "    </tr>\n",
       "    <tr>\n",
       "      <th>15</th>\n",
       "      <td>HOME_PLUS_MINUS_ML10</td>\n",
       "      <td>3</td>\n",
       "    </tr>\n",
       "    <tr>\n",
       "      <th>11</th>\n",
       "      <td>W_L_CUM_HOME</td>\n",
       "      <td>2</td>\n",
       "    </tr>\n",
       "    <tr>\n",
       "      <th>17</th>\n",
       "      <td>PTS_ML10_HOME</td>\n",
       "      <td>2</td>\n",
       "    </tr>\n",
       "    <tr>\n",
       "      <th>8</th>\n",
       "      <td>PTS_MEAN_HOME</td>\n",
       "      <td>2</td>\n",
       "    </tr>\n",
       "    <tr>\n",
       "      <th>6</th>\n",
       "      <td>HOME_FG_PCT_MEAN</td>\n",
       "      <td>2</td>\n",
       "    </tr>\n",
       "    <tr>\n",
       "      <th>10</th>\n",
       "      <td>STL_MEAN_HOME</td>\n",
       "      <td>1</td>\n",
       "    </tr>\n",
       "    <tr>\n",
       "      <th>9</th>\n",
       "      <td>STL_MEAN_AWAY</td>\n",
       "      <td>1</td>\n",
       "    </tr>\n",
       "    <tr>\n",
       "      <th>20</th>\n",
       "      <td>STL_L10_HOME</td>\n",
       "      <td>1</td>\n",
       "    </tr>\n",
       "    <tr>\n",
       "      <th>5</th>\n",
       "      <td>PF_ML10_AWAY</td>\n",
       "      <td>1</td>\n",
       "    </tr>\n",
       "    <tr>\n",
       "      <th>14</th>\n",
       "      <td>HOME_PF_ML10</td>\n",
       "      <td>1</td>\n",
       "    </tr>\n",
       "    <tr>\n",
       "      <th>13</th>\n",
       "      <td>FT_PCT_ML10_HOME</td>\n",
       "      <td>1</td>\n",
       "    </tr>\n",
       "    <tr>\n",
       "      <th>0</th>\n",
       "      <td>FT_PCT_L10_AWAY</td>\n",
       "      <td>1</td>\n",
       "    </tr>\n",
       "    <tr>\n",
       "      <th>21</th>\n",
       "      <td>FG_PCT_ML10_HOME</td>\n",
       "      <td>1</td>\n",
       "    </tr>\n",
       "    <tr>\n",
       "      <th>12</th>\n",
       "      <td>FG_PCT_MEAN_HOME</td>\n",
       "      <td>1</td>\n",
       "    </tr>\n",
       "    <tr>\n",
       "      <th>16</th>\n",
       "      <td>BLK_MEAN_HOME</td>\n",
       "      <td>1</td>\n",
       "    </tr>\n",
       "    <tr>\n",
       "      <th>19</th>\n",
       "      <td>BLK_MEAN_AWAY</td>\n",
       "      <td>1</td>\n",
       "    </tr>\n",
       "    <tr>\n",
       "      <th>18</th>\n",
       "      <td>BLK_L10_AWAY</td>\n",
       "      <td>1</td>\n",
       "    </tr>\n",
       "  </tbody>\n",
       "</table>\n",
       "</div>"
      ],
      "text/plain": [
       "                       0  1\n",
       "4   HOME_PLUS_MINUS_MEAN  7\n",
       "3    HOME_PLUS_MINUS_L10  7\n",
       "2            HOME_FT_PCT  7\n",
       "1           HOME_FG3_PCT  7\n",
       "7   PLUS_MINUS_MEAN_HOME  3\n",
       "15  HOME_PLUS_MINUS_ML10  3\n",
       "11          W_L_CUM_HOME  2\n",
       "17         PTS_ML10_HOME  2\n",
       "8          PTS_MEAN_HOME  2\n",
       "6       HOME_FG_PCT_MEAN  2\n",
       "10         STL_MEAN_HOME  1\n",
       "9          STL_MEAN_AWAY  1\n",
       "20          STL_L10_HOME  1\n",
       "5           PF_ML10_AWAY  1\n",
       "14          HOME_PF_ML10  1\n",
       "13      FT_PCT_ML10_HOME  1\n",
       "0        FT_PCT_L10_AWAY  1\n",
       "21      FG_PCT_ML10_HOME  1\n",
       "12      FG_PCT_MEAN_HOME  1\n",
       "16         BLK_MEAN_HOME  1\n",
       "19         BLK_MEAN_AWAY  1\n",
       "18          BLK_L10_AWAY  1"
      ]
     },
     "execution_count": 141,
     "metadata": {},
     "output_type": "execute_result"
    },
    {
     "data": {
      "text/plain": [
       "['BLK_L10_AWAY',\n",
       " 'BLK_MEAN_AWAY',\n",
       " 'BLK_MEAN_HOME',\n",
       " 'FG_PCT_MEAN_HOME',\n",
       " 'FG_PCT_ML10_HOME',\n",
       " 'FT_PCT_L10_AWAY',\n",
       " 'FT_PCT_ML10_HOME',\n",
       " 'HOME_FG3_PCT',\n",
       " 'HOME_FG_PCT_MEAN',\n",
       " 'HOME_FT_PCT',\n",
       " 'HOME_PF_ML10',\n",
       " 'HOME_PLUS_MINUS_L10',\n",
       " 'HOME_PLUS_MINUS_MEAN',\n",
       " 'HOME_PLUS_MINUS_ML10',\n",
       " 'PF_ML10_AWAY',\n",
       " 'PLUS_MINUS_MEAN_HOME',\n",
       " 'PTS_MEAN_HOME',\n",
       " 'PTS_ML10_HOME',\n",
       " 'STL_L10_HOME',\n",
       " 'STL_MEAN_AWAY',\n",
       " 'STL_MEAN_HOME',\n",
       " 'W_L_CUM_HOME']"
      ]
     },
     "execution_count": 141,
     "metadata": {},
     "output_type": "execute_result"
    },
    {
     "data": {
      "text/plain": [
       "['FT_PCT_L10_AWAY',\n",
       " 'HOME_FG3_PCT',\n",
       " 'HOME_FT_PCT',\n",
       " 'HOME_PLUS_MINUS_L10',\n",
       " 'HOME_PLUS_MINUS_MEAN',\n",
       " 'PF_ML10_AWAY',\n",
       " 'HOME_FG_PCT_MEAN',\n",
       " 'PLUS_MINUS_MEAN_HOME',\n",
       " 'PTS_MEAN_HOME',\n",
       " 'STL_MEAN_AWAY',\n",
       " 'STL_MEAN_HOME',\n",
       " 'W_L_CUM_HOME',\n",
       " 'FG_PCT_MEAN_HOME',\n",
       " 'FT_PCT_ML10_HOME',\n",
       " 'HOME_PF_ML10',\n",
       " 'HOME_PLUS_MINUS_ML10',\n",
       " 'BLK_MEAN_HOME',\n",
       " 'PTS_ML10_HOME',\n",
       " 'BLK_L10_AWAY',\n",
       " 'BLK_MEAN_AWAY',\n",
       " 'STL_L10_HOME',\n",
       " 'FG_PCT_ML10_HOME']"
      ]
     },
     "execution_count": 141,
     "metadata": {},
     "output_type": "execute_result"
    }
   ],
   "source": [
    "f_df.sort_values(by=[1, 0], ascending=False)\n",
    "#f_df[f_df[1] > 2]\n",
    "final_selected_features = list(f_df[0].unique())\n",
    "sorted(final_selected_features)\n",
    "final_selected_features"
   ]
  },
  {
   "cell_type": "code",
   "execution_count": 130,
   "metadata": {
    "ExecuteTime": {
     "end_time": "2020-11-10T06:31:12.152204Z",
     "start_time": "2020-11-10T06:31:12.126843Z"
    },
    "pycharm": {
     "name": "#%%\n"
    }
   },
   "outputs": [
    {
     "data": {
      "text/html": [
       "<div>\n",
       "<style scoped>\n",
       "    .dataframe tbody tr th:only-of-type {\n",
       "        vertical-align: middle;\n",
       "    }\n",
       "\n",
       "    .dataframe tbody tr th {\n",
       "        vertical-align: top;\n",
       "    }\n",
       "\n",
       "    .dataframe thead th {\n",
       "        text-align: right;\n",
       "    }\n",
       "</style>\n",
       "<table border=\"1\" class=\"dataframe\">\n",
       "  <thead>\n",
       "    <tr style=\"text-align: right;\">\n",
       "      <th></th>\n",
       "      <th>0</th>\n",
       "      <th>1</th>\n",
       "    </tr>\n",
       "  </thead>\n",
       "  <tbody>\n",
       "    <tr>\n",
       "      <th>4</th>\n",
       "      <td>HOME_PLUS_MINUS_MEAN</td>\n",
       "      <td>7</td>\n",
       "    </tr>\n",
       "    <tr>\n",
       "      <th>3</th>\n",
       "      <td>HOME_PLUS_MINUS_L10</td>\n",
       "      <td>7</td>\n",
       "    </tr>\n",
       "    <tr>\n",
       "      <th>2</th>\n",
       "      <td>HOME_FT_PCT</td>\n",
       "      <td>7</td>\n",
       "    </tr>\n",
       "    <tr>\n",
       "      <th>1</th>\n",
       "      <td>HOME_FG3_PCT</td>\n",
       "      <td>7</td>\n",
       "    </tr>\n",
       "    <tr>\n",
       "      <th>7</th>\n",
       "      <td>PLUS_MINUS_MEAN_HOME</td>\n",
       "      <td>3</td>\n",
       "    </tr>\n",
       "    <tr>\n",
       "      <th>15</th>\n",
       "      <td>HOME_PLUS_MINUS_ML10</td>\n",
       "      <td>3</td>\n",
       "    </tr>\n",
       "    <tr>\n",
       "      <th>11</th>\n",
       "      <td>W_L_CUM_HOME</td>\n",
       "      <td>2</td>\n",
       "    </tr>\n",
       "    <tr>\n",
       "      <th>17</th>\n",
       "      <td>PTS_ML10_HOME</td>\n",
       "      <td>2</td>\n",
       "    </tr>\n",
       "    <tr>\n",
       "      <th>8</th>\n",
       "      <td>PTS_MEAN_HOME</td>\n",
       "      <td>2</td>\n",
       "    </tr>\n",
       "    <tr>\n",
       "      <th>6</th>\n",
       "      <td>HOME_FG_PCT_MEAN</td>\n",
       "      <td>2</td>\n",
       "    </tr>\n",
       "    <tr>\n",
       "      <th>10</th>\n",
       "      <td>STL_MEAN_HOME</td>\n",
       "      <td>1</td>\n",
       "    </tr>\n",
       "    <tr>\n",
       "      <th>9</th>\n",
       "      <td>STL_MEAN_AWAY</td>\n",
       "      <td>1</td>\n",
       "    </tr>\n",
       "    <tr>\n",
       "      <th>20</th>\n",
       "      <td>STL_L10_HOME</td>\n",
       "      <td>1</td>\n",
       "    </tr>\n",
       "    <tr>\n",
       "      <th>5</th>\n",
       "      <td>PF_ML10_AWAY</td>\n",
       "      <td>1</td>\n",
       "    </tr>\n",
       "    <tr>\n",
       "      <th>14</th>\n",
       "      <td>HOME_PF_ML10</td>\n",
       "      <td>1</td>\n",
       "    </tr>\n",
       "    <tr>\n",
       "      <th>13</th>\n",
       "      <td>FT_PCT_ML10_HOME</td>\n",
       "      <td>1</td>\n",
       "    </tr>\n",
       "    <tr>\n",
       "      <th>0</th>\n",
       "      <td>FT_PCT_L10_AWAY</td>\n",
       "      <td>1</td>\n",
       "    </tr>\n",
       "    <tr>\n",
       "      <th>21</th>\n",
       "      <td>FG_PCT_ML10_HOME</td>\n",
       "      <td>1</td>\n",
       "    </tr>\n",
       "    <tr>\n",
       "      <th>12</th>\n",
       "      <td>FG_PCT_MEAN_HOME</td>\n",
       "      <td>1</td>\n",
       "    </tr>\n",
       "    <tr>\n",
       "      <th>16</th>\n",
       "      <td>BLK_MEAN_HOME</td>\n",
       "      <td>1</td>\n",
       "    </tr>\n",
       "    <tr>\n",
       "      <th>19</th>\n",
       "      <td>BLK_MEAN_AWAY</td>\n",
       "      <td>1</td>\n",
       "    </tr>\n",
       "    <tr>\n",
       "      <th>18</th>\n",
       "      <td>BLK_L10_AWAY</td>\n",
       "      <td>1</td>\n",
       "    </tr>\n",
       "  </tbody>\n",
       "</table>\n",
       "</div>"
      ],
      "text/plain": [
       "                       0  1\n",
       "4   HOME_PLUS_MINUS_MEAN  7\n",
       "3    HOME_PLUS_MINUS_L10  7\n",
       "2            HOME_FT_PCT  7\n",
       "1           HOME_FG3_PCT  7\n",
       "7   PLUS_MINUS_MEAN_HOME  3\n",
       "15  HOME_PLUS_MINUS_ML10  3\n",
       "11          W_L_CUM_HOME  2\n",
       "17         PTS_ML10_HOME  2\n",
       "8          PTS_MEAN_HOME  2\n",
       "6       HOME_FG_PCT_MEAN  2\n",
       "10         STL_MEAN_HOME  1\n",
       "9          STL_MEAN_AWAY  1\n",
       "20          STL_L10_HOME  1\n",
       "5           PF_ML10_AWAY  1\n",
       "14          HOME_PF_ML10  1\n",
       "13      FT_PCT_ML10_HOME  1\n",
       "0        FT_PCT_L10_AWAY  1\n",
       "21      FG_PCT_ML10_HOME  1\n",
       "12      FG_PCT_MEAN_HOME  1\n",
       "16         BLK_MEAN_HOME  1\n",
       "19         BLK_MEAN_AWAY  1\n",
       "18          BLK_L10_AWAY  1"
      ]
     },
     "execution_count": 130,
     "metadata": {},
     "output_type": "execute_result"
    }
   ],
   "source": [
    "f_df.sort_values(by=[1, 0], ascending=False)\n",
    "#best_boruta = list_selected_features[3]\n",
    "#sorted(best_boruta)\n",
    "#best_boruta"
   ]
  },
  {
   "cell_type": "markdown",
   "metadata": {},
   "source": [
    "#### Test best features"
   ]
  },
  {
   "cell_type": "code",
   "execution_count": 132,
   "metadata": {
    "ExecuteTime": {
     "end_time": "2020-11-10T06:43:20.015766Z",
     "start_time": "2020-11-10T06:42:54.100939Z"
    },
    "pycharm": {
     "name": "#%%\n"
    }
   },
   "outputs": [
    {
     "name": "stdout",
     "output_type": "stream",
     "text": [
      "Running experiment reg_2_seasons_boruta\n",
      "Done\n"
     ]
    },
    {
     "ename": "KeyError",
     "evalue": "\"['precision_std', 'precision_mean'] not in index\"",
     "output_type": "error",
     "traceback": [
      "\u001b[0;31m---------------------------------------------------------------------------\u001b[0m",
      "\u001b[0;31mKeyError\u001b[0m                                  Traceback (most recent call last)",
      "\u001b[0;32m<ipython-input-132-a155dcb851c2>\u001b[0m in \u001b[0;36m<module>\u001b[0;34m\u001b[0m\n\u001b[1;32m     12\u001b[0m \u001b[0mresults_total\u001b[0m\u001b[0;34m.\u001b[0m\u001b[0mappend\u001b[0m\u001b[0;34m(\u001b[0m\u001b[0;34m(\u001b[0m\u001b[0mexperiment_name\u001b[0m\u001b[0;34m,\u001b[0m \u001b[0mresults\u001b[0m\u001b[0;34m)\u001b[0m\u001b[0;34m)\u001b[0m\u001b[0;34m\u001b[0m\u001b[0;34m\u001b[0m\u001b[0m\n\u001b[1;32m     13\u001b[0m \u001b[0;34m\u001b[0m\u001b[0m\n\u001b[0;32m---> 14\u001b[0;31m \u001b[0mprint_prettier_exp_results\u001b[0m\u001b[0;34m(\u001b[0m\u001b[0mexperiment_name\u001b[0m\u001b[0;34m,\u001b[0m \u001b[0mmetric\u001b[0m\u001b[0;34m=\u001b[0m\u001b[0;34m'precision'\u001b[0m\u001b[0;34m)\u001b[0m\u001b[0;34m\u001b[0m\u001b[0;34m\u001b[0m\u001b[0m\n\u001b[0m",
      "\u001b[0;32m<ipython-input-87-07d6aa2c0dd9>\u001b[0m in \u001b[0;36mprint_prettier_exp_results\u001b[0;34m(exp_name, metric)\u001b[0m\n\u001b[1;32m      3\u001b[0m \u001b[0;32mdef\u001b[0m \u001b[0mprint_prettier_exp_results\u001b[0m\u001b[0;34m(\u001b[0m\u001b[0mexp_name\u001b[0m\u001b[0;34m,\u001b[0m \u001b[0mmetric\u001b[0m\u001b[0;34m=\u001b[0m\u001b[0;34m'rmse'\u001b[0m\u001b[0;34m)\u001b[0m\u001b[0;34m:\u001b[0m\u001b[0;34m\u001b[0m\u001b[0;34m\u001b[0m\u001b[0m\n\u001b[1;32m      4\u001b[0m     ba_df = get_results_df()[['exp_name', 'model',\n\u001b[0;32m----> 5\u001b[0;31m        f'{metric}_mean', f'{metric}_std']]\n\u001b[0m\u001b[1;32m      6\u001b[0m     \u001b[0;32mreturn\u001b[0m \u001b[0mba_df\u001b[0m\u001b[0;34m[\u001b[0m\u001b[0mba_df\u001b[0m\u001b[0;34m.\u001b[0m\u001b[0mexp_name\u001b[0m \u001b[0;34m==\u001b[0m \u001b[0mexp_name\u001b[0m\u001b[0;34m]\u001b[0m\u001b[0;34m.\u001b[0m\u001b[0msort_values\u001b[0m\u001b[0;34m(\u001b[0m\u001b[0mby\u001b[0m\u001b[0;34m=\u001b[0m\u001b[0;34m[\u001b[0m\u001b[0;34mf\"{metric}_mean\"\u001b[0m\u001b[0;34m]\u001b[0m\u001b[0;34m,\u001b[0m \u001b[0mascending\u001b[0m\u001b[0;34m=\u001b[0m\u001b[0;32mTrue\u001b[0m\u001b[0;34m)\u001b[0m\u001b[0;34m\u001b[0m\u001b[0;34m\u001b[0m\u001b[0m\n",
      "\u001b[0;32m~/anaconda3/envs/nba-predictor/lib/python3.7/site-packages/pandas/core/frame.py\u001b[0m in \u001b[0;36m__getitem__\u001b[0;34m(self, key)\u001b[0m\n\u001b[1;32m   2906\u001b[0m             \u001b[0;32mif\u001b[0m \u001b[0mis_iterator\u001b[0m\u001b[0;34m(\u001b[0m\u001b[0mkey\u001b[0m\u001b[0;34m)\u001b[0m\u001b[0;34m:\u001b[0m\u001b[0;34m\u001b[0m\u001b[0;34m\u001b[0m\u001b[0m\n\u001b[1;32m   2907\u001b[0m                 \u001b[0mkey\u001b[0m \u001b[0;34m=\u001b[0m \u001b[0mlist\u001b[0m\u001b[0;34m(\u001b[0m\u001b[0mkey\u001b[0m\u001b[0;34m)\u001b[0m\u001b[0;34m\u001b[0m\u001b[0;34m\u001b[0m\u001b[0m\n\u001b[0;32m-> 2908\u001b[0;31m             \u001b[0mindexer\u001b[0m \u001b[0;34m=\u001b[0m \u001b[0mself\u001b[0m\u001b[0;34m.\u001b[0m\u001b[0mloc\u001b[0m\u001b[0;34m.\u001b[0m\u001b[0m_get_listlike_indexer\u001b[0m\u001b[0;34m(\u001b[0m\u001b[0mkey\u001b[0m\u001b[0;34m,\u001b[0m \u001b[0maxis\u001b[0m\u001b[0;34m=\u001b[0m\u001b[0;36m1\u001b[0m\u001b[0;34m,\u001b[0m \u001b[0mraise_missing\u001b[0m\u001b[0;34m=\u001b[0m\u001b[0;32mTrue\u001b[0m\u001b[0;34m)\u001b[0m\u001b[0;34m[\u001b[0m\u001b[0;36m1\u001b[0m\u001b[0;34m]\u001b[0m\u001b[0;34m\u001b[0m\u001b[0;34m\u001b[0m\u001b[0m\n\u001b[0m\u001b[1;32m   2909\u001b[0m \u001b[0;34m\u001b[0m\u001b[0m\n\u001b[1;32m   2910\u001b[0m         \u001b[0;31m# take() does not accept boolean indexers\u001b[0m\u001b[0;34m\u001b[0m\u001b[0;34m\u001b[0m\u001b[0;34m\u001b[0m\u001b[0m\n",
      "\u001b[0;32m~/anaconda3/envs/nba-predictor/lib/python3.7/site-packages/pandas/core/indexing.py\u001b[0m in \u001b[0;36m_get_listlike_indexer\u001b[0;34m(self, key, axis, raise_missing)\u001b[0m\n\u001b[1;32m   1252\u001b[0m             \u001b[0mkeyarr\u001b[0m\u001b[0;34m,\u001b[0m \u001b[0mindexer\u001b[0m\u001b[0;34m,\u001b[0m \u001b[0mnew_indexer\u001b[0m \u001b[0;34m=\u001b[0m \u001b[0max\u001b[0m\u001b[0;34m.\u001b[0m\u001b[0m_reindex_non_unique\u001b[0m\u001b[0;34m(\u001b[0m\u001b[0mkeyarr\u001b[0m\u001b[0;34m)\u001b[0m\u001b[0;34m\u001b[0m\u001b[0;34m\u001b[0m\u001b[0m\n\u001b[1;32m   1253\u001b[0m \u001b[0;34m\u001b[0m\u001b[0m\n\u001b[0;32m-> 1254\u001b[0;31m         \u001b[0mself\u001b[0m\u001b[0;34m.\u001b[0m\u001b[0m_validate_read_indexer\u001b[0m\u001b[0;34m(\u001b[0m\u001b[0mkeyarr\u001b[0m\u001b[0;34m,\u001b[0m \u001b[0mindexer\u001b[0m\u001b[0;34m,\u001b[0m \u001b[0maxis\u001b[0m\u001b[0;34m,\u001b[0m \u001b[0mraise_missing\u001b[0m\u001b[0;34m=\u001b[0m\u001b[0mraise_missing\u001b[0m\u001b[0;34m)\u001b[0m\u001b[0;34m\u001b[0m\u001b[0;34m\u001b[0m\u001b[0m\n\u001b[0m\u001b[1;32m   1255\u001b[0m         \u001b[0;32mreturn\u001b[0m \u001b[0mkeyarr\u001b[0m\u001b[0;34m,\u001b[0m \u001b[0mindexer\u001b[0m\u001b[0;34m\u001b[0m\u001b[0;34m\u001b[0m\u001b[0m\n\u001b[1;32m   1256\u001b[0m \u001b[0;34m\u001b[0m\u001b[0m\n",
      "\u001b[0;32m~/anaconda3/envs/nba-predictor/lib/python3.7/site-packages/pandas/core/indexing.py\u001b[0m in \u001b[0;36m_validate_read_indexer\u001b[0;34m(self, key, indexer, axis, raise_missing)\u001b[0m\n\u001b[1;32m   1302\u001b[0m             \u001b[0;32mif\u001b[0m \u001b[0mraise_missing\u001b[0m\u001b[0;34m:\u001b[0m\u001b[0;34m\u001b[0m\u001b[0;34m\u001b[0m\u001b[0m\n\u001b[1;32m   1303\u001b[0m                 \u001b[0mnot_found\u001b[0m \u001b[0;34m=\u001b[0m \u001b[0mlist\u001b[0m\u001b[0;34m(\u001b[0m\u001b[0mset\u001b[0m\u001b[0;34m(\u001b[0m\u001b[0mkey\u001b[0m\u001b[0;34m)\u001b[0m \u001b[0;34m-\u001b[0m \u001b[0mset\u001b[0m\u001b[0;34m(\u001b[0m\u001b[0max\u001b[0m\u001b[0;34m)\u001b[0m\u001b[0;34m)\u001b[0m\u001b[0;34m\u001b[0m\u001b[0;34m\u001b[0m\u001b[0m\n\u001b[0;32m-> 1304\u001b[0;31m                 \u001b[0;32mraise\u001b[0m \u001b[0mKeyError\u001b[0m\u001b[0;34m(\u001b[0m\u001b[0;34mf\"{not_found} not in index\"\u001b[0m\u001b[0;34m)\u001b[0m\u001b[0;34m\u001b[0m\u001b[0;34m\u001b[0m\u001b[0m\n\u001b[0m\u001b[1;32m   1305\u001b[0m \u001b[0;34m\u001b[0m\u001b[0m\n\u001b[1;32m   1306\u001b[0m             \u001b[0;31m# we skip the warning on Categorical\u001b[0m\u001b[0;34m\u001b[0m\u001b[0;34m\u001b[0m\u001b[0;34m\u001b[0m\u001b[0m\n",
      "\u001b[0;31mKeyError\u001b[0m: \"['precision_std', 'precision_mean'] not in index\""
     ]
    }
   ],
   "source": [
    "#[x for x in exp_X_columns if x not in final_selected_features]\n",
    "X_boruta = df_sscv[final_selected_features]\n",
    "y_boruta = df_sscv[TARGET]\n",
    "\n",
    "experiment_name = f\"{exp_prefix}2_seasons_boruta\"\n",
    "del_result_by(experiment_name)\n",
    "folds, train_seasons, test_seasons = sscv.split(train_size=2, test_size=1)\n",
    "\n",
    "\n",
    "params = (experiment_name, models, folds, train_seasons, test_seasons, X_boruta, y_boruta)\n",
    "names, results = utils_exp.run_experiment(*params)\n",
    "results_total.append((experiment_name, results))\n",
    "\n",
    "print_prettier_exp_results(experiment_name, metric='mae')"
   ]
  },
  {
   "cell_type": "code",
   "execution_count": 133,
   "metadata": {
    "ExecuteTime": {
     "end_time": "2020-11-10T06:53:29.817158Z",
     "start_time": "2020-11-10T06:53:29.461843Z"
    },
    "pycharm": {
     "name": "#%%\n"
    }
   },
   "outputs": [
    {
     "data": {
      "image/png": "[encoded data removed]",
      "text/plain": [
       "<Figure size 576x576 with 1 Axes>"
      ]
     },
     "metadata": {},
     "output_type": "display_data"
    }
   ],
   "source": [
    "#### Visualize experiments results\n",
    "name, res = get_result_by(experiment_name)\n",
    "plot_results(name, res, figsize=(8,8))"
   ]
  },
  {
   "cell_type": "markdown",
   "metadata": {},
   "source": [
    "#### Test specific best feature set"
   ]
  },
  {
   "cell_type": "code",
   "execution_count": 134,
   "metadata": {
    "ExecuteTime": {
     "end_time": "2020-11-10T06:55:19.955991Z",
     "start_time": "2020-11-10T06:53:38.008623Z"
    },
    "pycharm": {
     "name": "#%%\n"
    }
   },
   "outputs": [
    {
     "name": "stdout",
     "output_type": "stream",
     "text": [
      "Running experiment reg_2_seasons_boruta_specific_0\n",
      "Done\n",
      "Running experiment reg_2_seasons_boruta_specific_1\n",
      "Done\n",
      "Running experiment reg_2_seasons_boruta_specific_2\n",
      "Done\n",
      "Running experiment reg_2_seasons_boruta_specific_3\n",
      "Done\n",
      "Running experiment reg_2_seasons_boruta_specific_4\n",
      "Done\n",
      "Running experiment reg_2_seasons_boruta_specific_5\n",
      "Done\n",
      "Running experiment reg_2_seasons_boruta_specific_6\n",
      "Done\n"
     ]
    }
   ],
   "source": [
    "for idx, features in enumerate(list_selected_features):\n",
    "    X_boruta = df_sscv[features]\n",
    "    y_boruta = df_sscv[TARGET]\n",
    "\n",
    "    experiment_name = f\"{exp_prefix}2_seasons_boruta_specific_{idx}\"\n",
    "    del_result_by(experiment_name)\n",
    "    folds, train_seasons, test_seasons = sscv.split(train_size=2, test_size=1)\n",
    "\n",
    "    params = (experiment_name, models, folds, train_seasons, test_seasons, X_boruta, y_boruta)\n",
    "    names, results = utils_exp.run_experiment(*params)\n",
    "    results_total.append((experiment_name, results))\n",
    "    #print_prettier_exp_results(experiment_name, metric='mae')"
   ]
  },
  {
   "cell_type": "markdown",
   "metadata": {},
   "source": [
    "#### Test custom best feature set"
   ]
  },
  {
   "cell_type": "code",
   "execution_count": null,
   "metadata": {
    "pycharm": {
     "name": "#%%\n"
    }
   },
   "outputs": [],
   "source": [
    "X_COLS_BEST_BORUTA = ['FG_PCT_MEAN_AWAY',\n",
    "                      'FG_PCT_MEAN_HOME',\n",
    "                      'FT_PCT_ML10_AWAY',\n",
    "                      'HOME_FG3_PCT',\n",
    "                      'HOME_FG_PCT_L10',\n",
    "                      'HOME_FG_PCT_MEAN',\n",
    "                      'HOME_FT_PCT',\n",
    "                      'HOME_FT_PCT_ML10',\n",
    "                      'HOME_PLUS_MINUS_L10',\n",
    "                      'HOME_PLUS_MINUS_MEAN',\n",
    "                      'HOME_PLUS_MINUS_ML10',\n",
    "                      'PLUS_MINUS_L10_AWAY',\n",
    "                      'PLUS_MINUS_L10_HOME',\n",
    "                      'PLUS_MINUS_MEAN_AWAY',\n",
    "                      'PLUS_MINUS_MEAN_HOME',\n",
    "                      'W_L_CUM_AWAY',\n",
    "                      'W_L_CUM_HOME']\n",
    "X_boruta = df_sscv[X_COLS_BEST_BORUTA]\n",
    "y_boruta = df_sscv[TARGET]\n",
    "\n",
    "experiment_name = f\"{exp_prefix}2_seasons_boruta_custom\"\n",
    "del_result_by(experiment_name)\n",
    "folds, train_seasons, test_seasons = sscv.split(train_size=2, test_size=1)\n",
    "\n",
    "params = (experiment_name, models, folds, train_seasons, test_seasons, X_boruta, y_boruta)\n",
    "names, results = utils_exp.run_experiment(*params)\n",
    "results_total.append((experiment_name, results))\n",
    "print_prettier_exp_results(experiment_name, metric='mae')"
   ]
  },
  {
   "cell_type": "markdown",
   "metadata": {},
   "source": [
    "### Experiment using 1 season"
   ]
  },
  {
   "cell_type": "code",
   "execution_count": null,
   "metadata": {
    "ExecuteTime": {
     "end_time": "2020-11-13T03:53:57.940728Z",
     "start_time": "2020-11-13T03:53:41.074Z"
    }
   },
   "outputs": [],
   "source": [
    "experiment_name = f\"{exp_prefix}1_season\""
   ]
  },
  {
   "cell_type": "code",
   "execution_count": null,
   "metadata": {
    "ExecuteTime": {
     "end_time": "2020-11-13T03:53:57.943708Z",
     "start_time": "2020-11-13T03:53:41.675Z"
    },
    "pycharm": {
     "name": "#%%\n"
    }
   },
   "outputs": [],
   "source": [
    "del_result_by(experiment_name)\n",
    "\n",
    "folds, train_seasons, test_seasons = sscv.split(train_size=1, test_size=1)\n",
    "params = (experiment_name, models, folds, train_seasons, test_seasons, X, y)\n",
    "names, results = utils_exp.run_experiment(*params)\n",
    "results_total.append((experiment_name, results))\n",
    "\n",
    "print_prettier_exp_results(experiment_name)"
   ]
  },
  {
   "cell_type": "code",
   "execution_count": null,
   "metadata": {
    "ExecuteTime": {
     "end_time": "2020-11-13T03:53:57.947051Z",
     "start_time": "2020-11-13T03:53:43.642Z"
    },
    "pycharm": {
     "name": "#%%\n"
    }
   },
   "outputs": [],
   "source": [
    "#### Visualize experiments results\n",
    "name, res = get_result_by(experiment_name)\n",
    "plot_results(name, res, figsize=(8,4))"
   ]
  },
  {
   "cell_type": "markdown",
   "metadata": {},
   "source": [
    "### Experiment using StandardScaler"
   ]
  },
  {
   "cell_type": "code",
   "execution_count": 124,
   "metadata": {
    "ExecuteTime": {
     "end_time": "2020-11-11T02:20:00.624344Z",
     "start_time": "2020-11-11T02:20:00.603470Z"
    },
    "pycharm": {
     "name": "#%%\n"
    }
   },
   "outputs": [],
   "source": [
    "experiment_name = f\"{exp_prefix}scaled_data\""
   ]
  },
  {
   "cell_type": "code",
   "execution_count": 125,
   "metadata": {
    "ExecuteTime": {
     "end_time": "2020-11-11T02:20:12.705120Z",
     "start_time": "2020-11-11T02:20:00.834341Z"
    },
    "pycharm": {
     "name": "#%%\n"
    }
   },
   "outputs": [
    {
     "name": "stdout",
     "output_type": "stream",
     "text": [
      "Running experiment reg_scaled_data\n",
      "Done\n"
     ]
    },
    {
     "data": {
      "text/html": [
       "<div>\n",
       "<style scoped>\n",
       "    .dataframe tbody tr th:only-of-type {\n",
       "        vertical-align: middle;\n",
       "    }\n",
       "\n",
       "    .dataframe tbody tr th {\n",
       "        vertical-align: top;\n",
       "    }\n",
       "\n",
       "    .dataframe thead th {\n",
       "        text-align: right;\n",
       "    }\n",
       "</style>\n",
       "<table border=\"1\" class=\"dataframe\">\n",
       "  <thead>\n",
       "    <tr style=\"text-align: right;\">\n",
       "      <th></th>\n",
       "      <th>exp_name</th>\n",
       "      <th>model</th>\n",
       "      <th>mae_mean</th>\n",
       "      <th>mae_std</th>\n",
       "      <th>rmse_mean</th>\n",
       "      <th>rmse_std</th>\n",
       "    </tr>\n",
       "  </thead>\n",
       "  <tbody>\n",
       "    <tr>\n",
       "      <th>6</th>\n",
       "      <td>reg_scaled_data</td>\n",
       "      <td>LR</td>\n",
       "      <td>8.256028</td>\n",
       "      <td>0.126807</td>\n",
       "      <td>10.494496</td>\n",
       "      <td>0.178897</td>\n",
       "    </tr>\n",
       "    <tr>\n",
       "      <th>8</th>\n",
       "      <td>reg_scaled_data</td>\n",
       "      <td>SVM</td>\n",
       "      <td>8.316999</td>\n",
       "      <td>0.138790</td>\n",
       "      <td>10.590436</td>\n",
       "      <td>0.184907</td>\n",
       "    </tr>\n",
       "    <tr>\n",
       "      <th>9</th>\n",
       "      <td>reg_scaled_data</td>\n",
       "      <td>RF</td>\n",
       "      <td>8.452850</td>\n",
       "      <td>0.143343</td>\n",
       "      <td>10.738799</td>\n",
       "      <td>0.162476</td>\n",
       "    </tr>\n",
       "    <tr>\n",
       "      <th>10</th>\n",
       "      <td>reg_scaled_data</td>\n",
       "      <td>LGB</td>\n",
       "      <td>8.783973</td>\n",
       "      <td>0.122858</td>\n",
       "      <td>11.162443</td>\n",
       "      <td>0.134885</td>\n",
       "    </tr>\n",
       "    <tr>\n",
       "      <th>7</th>\n",
       "      <td>reg_scaled_data</td>\n",
       "      <td>KNN</td>\n",
       "      <td>9.045967</td>\n",
       "      <td>0.190884</td>\n",
       "      <td>11.482338</td>\n",
       "      <td>0.250083</td>\n",
       "    </tr>\n",
       "    <tr>\n",
       "      <th>11</th>\n",
       "      <td>reg_scaled_data</td>\n",
       "      <td>XGB</td>\n",
       "      <td>9.451952</td>\n",
       "      <td>0.192207</td>\n",
       "      <td>11.951730</td>\n",
       "      <td>0.267917</td>\n",
       "    </tr>\n",
       "  </tbody>\n",
       "</table>\n",
       "</div>"
      ],
      "text/plain": [
       "           exp_name model  mae_mean   mae_std  rmse_mean  rmse_std\n",
       "6   reg_scaled_data    LR  8.256028  0.126807  10.494496  0.178897\n",
       "8   reg_scaled_data   SVM  8.316999  0.138790  10.590436  0.184907\n",
       "9   reg_scaled_data    RF  8.452850  0.143343  10.738799  0.162476\n",
       "10  reg_scaled_data   LGB  8.783973  0.122858  11.162443  0.134885\n",
       "7   reg_scaled_data   KNN  9.045967  0.190884  11.482338  0.250083\n",
       "11  reg_scaled_data   XGB  9.451952  0.192207  11.951730  0.267917"
      ]
     },
     "execution_count": 125,
     "metadata": {},
     "output_type": "execute_result"
    }
   ],
   "source": [
    "del_result_by(experiment_name)\n",
    "\n",
    "num_pipeline = Pipeline([\n",
    "    ('std_scaler', StandardScaler())\n",
    "])\n",
    "preprocessor = ColumnTransformer([\n",
    "        ('numerical', num_pipeline, exp_X_columns)\n",
    "    ], remainder='passthrough')\n",
    "#transformed_data = preprocessor.fit_transform(df)\n",
    "\n",
    "folds, train_seasons, test_seasons = sscv.split(train_size=1, test_size=1)\n",
    "params = (experiment_name, models, folds, train_seasons, test_seasons, X, y, preprocessor, StandardScaler())\n",
    "names, results = utils_exp.run_experiment(*params)\n",
    "results_total.append((experiment_name, results))\n",
    "\n",
    "print_prettier_exp_results(experiment_name)\n",
    "\n",
    "# exp_name\tmodel\tmae_mean\tmae_std\trmse_mean\trmse_std\n",
    "# 0\treg_minmax_data\tLR\t8.256028\t0.126807\t10.494496\t0.178897\n",
    "# 2\treg_minmax_data\tSVM\t8.273328\t0.109421\t10.514554\t0.151329\n",
    "# 3\treg_minmax_data\tRF\t8.452063\t0.144799\t10.738656\t0.162281\n",
    "# 4\treg_minmax_data\tLGB\t8.860012\t0.148982\t11.244225\t0.165593\n",
    "# 1\treg_minmax_data\tKNN\t8.969296\t0.192312\t11.378677\t0.215382\n",
    "# 5\treg_minmax_data\tXGB\t9.451267\t0.156464\t11.935575\t0.267995"
   ]
  },
  {
   "cell_type": "code",
   "execution_count": 126,
   "metadata": {
    "ExecuteTime": {
     "end_time": "2020-11-11T02:20:13.304004Z",
     "start_time": "2020-11-11T02:20:12.981303Z"
    },
    "pycharm": {
     "name": "#%%\n"
    }
   },
   "outputs": [
    {
     "data": {
      "image/png": "[encoded data removed]",
      "text/plain": [
       "<Figure size 576x288 with 1 Axes>"
      ]
     },
     "metadata": {},
     "output_type": "display_data"
    }
   ],
   "source": [
    "#### Visualize experiments results\n",
    "name, res = get_result_by(experiment_name)\n",
    "plot_results(name, res, figsize=(8,4))"
   ]
  },
  {
   "cell_type": "markdown",
   "metadata": {},
   "source": [
    "### Experiment using MinMaxScaler"
   ]
  },
  {
   "cell_type": "code",
   "execution_count": 31,
   "metadata": {
    "ExecuteTime": {
     "end_time": "2020-11-14T11:56:40.163852Z",
     "start_time": "2020-11-14T11:56:40.111062Z"
    },
    "pycharm": {
     "name": "#%%\n"
    }
   },
   "outputs": [
    {
     "name": "stderr",
     "output_type": "stream",
     "text": [
      "[autoreload of hpsklearn.components failed: Traceback (most recent call last):\n",
      "  File \"/home/nathaniel/anaconda3/envs/nba-predictor/lib/python3.7/site-packages/IPython/extensions/autoreload.py\", line 245, in check\n",
      "    superreload(m, reload, self.old_objects)\n",
      "  File \"/home/nathaniel/anaconda3/envs/nba-predictor/lib/python3.7/site-packages/IPython/extensions/autoreload.py\", line 394, in superreload\n",
      "    module = reload(module)\n",
      "  File \"/home/nathaniel/anaconda3/envs/nba-predictor/lib/python3.7/imp.py\", line 314, in reload\n",
      "    return importlib.reload(module)\n",
      "  File \"/home/nathaniel/anaconda3/envs/nba-predictor/lib/python3.7/importlib/__init__.py\", line 169, in reload\n",
      "    _bootstrap._exec(spec, module)\n",
      "  File \"<frozen importlib._bootstrap>\", line 630, in _exec\n",
      "  File \"<frozen importlib._bootstrap_external>\", line 728, in exec_module\n",
      "  File \"<frozen importlib._bootstrap>\", line 219, in _call_with_frames_removed\n",
      "  File \"/home/nathaniel/dev/studies/MULCIA/TFM/dependecies/hyperopt-sklearn/hpsklearn/components.py\", line 32, in <module>\n",
      "    @scope.define\n",
      "  File \"/home/nathaniel/anaconda3/envs/nba-predictor/lib/python3.7/site-packages/hyperopt/pyll/base.py\", line 134, in define\n",
      "    raise ValueError(\"Cannot override existing symbol\", name)\n",
      "ValueError: ('Cannot override existing symbol', 'sklearn_SVC')\n",
      "]\n"
     ]
    }
   ],
   "source": [
    "experiment_name = f\"{exp_prefix}minmax_data\""
   ]
  },
  {
   "cell_type": "code",
   "execution_count": 32,
   "metadata": {
    "ExecuteTime": {
     "end_time": "2020-11-14T11:56:50.303378Z",
     "start_time": "2020-11-14T11:56:40.507123Z"
    },
    "pycharm": {
     "name": "#%%\n"
    }
   },
   "outputs": [
    {
     "name": "stdout",
     "output_type": "stream",
     "text": [
      "Running experiment reg_minmax_data\n",
      "Done\n"
     ]
    },
    {
     "data": {
      "text/html": [
       "<div>\n",
       "<style scoped>\n",
       "    .dataframe tbody tr th:only-of-type {\n",
       "        vertical-align: middle;\n",
       "    }\n",
       "\n",
       "    .dataframe tbody tr th {\n",
       "        vertical-align: top;\n",
       "    }\n",
       "\n",
       "    .dataframe thead th {\n",
       "        text-align: right;\n",
       "    }\n",
       "</style>\n",
       "<table border=\"1\" class=\"dataframe\">\n",
       "  <thead>\n",
       "    <tr style=\"text-align: right;\">\n",
       "      <th></th>\n",
       "      <th>exp_name</th>\n",
       "      <th>model</th>\n",
       "      <th>mae_mean</th>\n",
       "      <th>mae_std</th>\n",
       "      <th>rmse_mean</th>\n",
       "      <th>rmse_std</th>\n",
       "    </tr>\n",
       "  </thead>\n",
       "  <tbody>\n",
       "    <tr>\n",
       "      <th>0</th>\n",
       "      <td>reg_minmax_data</td>\n",
       "      <td>LR</td>\n",
       "      <td>8.256028</td>\n",
       "      <td>0.126807</td>\n",
       "      <td>10.494496</td>\n",
       "      <td>0.178897</td>\n",
       "    </tr>\n",
       "    <tr>\n",
       "      <th>2</th>\n",
       "      <td>reg_minmax_data</td>\n",
       "      <td>SVM</td>\n",
       "      <td>8.273328</td>\n",
       "      <td>0.109421</td>\n",
       "      <td>10.514554</td>\n",
       "      <td>0.151329</td>\n",
       "    </tr>\n",
       "    <tr>\n",
       "      <th>3</th>\n",
       "      <td>reg_minmax_data</td>\n",
       "      <td>RF</td>\n",
       "      <td>8.452063</td>\n",
       "      <td>0.144799</td>\n",
       "      <td>10.738656</td>\n",
       "      <td>0.162281</td>\n",
       "    </tr>\n",
       "    <tr>\n",
       "      <th>4</th>\n",
       "      <td>reg_minmax_data</td>\n",
       "      <td>LGB</td>\n",
       "      <td>8.860012</td>\n",
       "      <td>0.148982</td>\n",
       "      <td>11.244225</td>\n",
       "      <td>0.165593</td>\n",
       "    </tr>\n",
       "    <tr>\n",
       "      <th>1</th>\n",
       "      <td>reg_minmax_data</td>\n",
       "      <td>KNN</td>\n",
       "      <td>8.969296</td>\n",
       "      <td>0.192312</td>\n",
       "      <td>11.378677</td>\n",
       "      <td>0.215382</td>\n",
       "    </tr>\n",
       "    <tr>\n",
       "      <th>5</th>\n",
       "      <td>reg_minmax_data</td>\n",
       "      <td>XGB</td>\n",
       "      <td>9.451267</td>\n",
       "      <td>0.156464</td>\n",
       "      <td>11.935575</td>\n",
       "      <td>0.267995</td>\n",
       "    </tr>\n",
       "  </tbody>\n",
       "</table>\n",
       "</div>"
      ],
      "text/plain": [
       "          exp_name model  mae_mean   mae_std  rmse_mean  rmse_std\n",
       "0  reg_minmax_data    LR  8.256028  0.126807  10.494496  0.178897\n",
       "2  reg_minmax_data   SVM  8.273328  0.109421  10.514554  0.151329\n",
       "3  reg_minmax_data    RF  8.452063  0.144799  10.738656  0.162281\n",
       "4  reg_minmax_data   LGB  8.860012  0.148982  11.244225  0.165593\n",
       "1  reg_minmax_data   KNN  8.969296  0.192312  11.378677  0.215382\n",
       "5  reg_minmax_data   XGB  9.451267  0.156464  11.935575  0.267995"
      ]
     },
     "execution_count": 32,
     "metadata": {},
     "output_type": "execute_result"
    }
   ],
   "source": [
    "del_result_by(experiment_name)\n",
    "\n",
    "num_pipeline = Pipeline([\n",
    "    ('minmax_scaler', MinMaxScaler())\n",
    "])\n",
    "preprocessor = ColumnTransformer([\n",
    "        ('numerical', num_pipeline, exp_X_columns)\n",
    "    ], remainder='passthrough')\n",
    "#transformed_data = preprocessor.fit_transform(df)\n",
    "\n",
    "folds, train_seasons, test_seasons = sscv.split(train_size=1, test_size=1)\n",
    "params = (experiment_name, models, folds, train_seasons, test_seasons, X, y, preprocessor, MinMaxScaler())\n",
    "names, results = utils_exp.run_experiment(*params)\n",
    "results_total.append((experiment_name, results))\n",
    "\n",
    "print_prettier_exp_results(experiment_name)"
   ]
  },
  {
   "cell_type": "code",
   "execution_count": null,
   "metadata": {
    "ExecuteTime": {
     "end_time": "2020-11-11T02:20:13.859307Z",
     "start_time": "2020-11-11T02:19:53.601Z"
    },
    "pycharm": {
     "name": "#%%\n"
    }
   },
   "outputs": [],
   "source": [
    "#### Visualize experiments results\n",
    "name, res = get_result_by(experiment_name)\n",
    "plot_results(name, res, figsize=(8,4))"
   ]
  },
  {
   "cell_type": "markdown",
   "metadata": {},
   "source": [
    "### Experiment: train: 2s; test: 1s"
   ]
  },
  {
   "cell_type": "code",
   "execution_count": 38,
   "metadata": {
    "ExecuteTime": {
     "end_time": "2020-11-13T03:56:47.627810Z",
     "start_time": "2020-11-13T03:56:47.607692Z"
    },
    "pycharm": {
     "name": "#%%\n"
    }
   },
   "outputs": [],
   "source": [
    "experiment_name = f\"{exp_prefix}2_seasons\""
   ]
  },
  {
   "cell_type": "code",
   "execution_count": 39,
   "metadata": {
    "ExecuteTime": {
     "end_time": "2020-11-13T03:57:20.440462Z",
     "start_time": "2020-11-13T03:56:48.345313Z"
    },
    "pycharm": {
     "name": "#%%\n"
    }
   },
   "outputs": [
    {
     "name": "stdout",
     "output_type": "stream",
     "text": [
      "Running experiment reg_2_seasons\n",
      "Done\n"
     ]
    },
    {
     "data": {
      "text/html": [
       "<div>\n",
       "<style scoped>\n",
       "    .dataframe tbody tr th:only-of-type {\n",
       "        vertical-align: middle;\n",
       "    }\n",
       "\n",
       "    .dataframe tbody tr th {\n",
       "        vertical-align: top;\n",
       "    }\n",
       "\n",
       "    .dataframe thead th {\n",
       "        text-align: right;\n",
       "    }\n",
       "</style>\n",
       "<table border=\"1\" class=\"dataframe\">\n",
       "  <thead>\n",
       "    <tr style=\"text-align: right;\">\n",
       "      <th></th>\n",
       "      <th>exp_name</th>\n",
       "      <th>model</th>\n",
       "      <th>mae_mean</th>\n",
       "      <th>mae_std</th>\n",
       "      <th>rmse_mean</th>\n",
       "      <th>rmse_std</th>\n",
       "    </tr>\n",
       "  </thead>\n",
       "  <tbody>\n",
       "    <tr>\n",
       "      <th>0</th>\n",
       "      <td>reg_2_seasons</td>\n",
       "      <td>LR</td>\n",
       "      <td>8.192009</td>\n",
       "      <td>0.136491</td>\n",
       "      <td>10.392967</td>\n",
       "      <td>0.148882</td>\n",
       "    </tr>\n",
       "    <tr>\n",
       "      <th>2</th>\n",
       "      <td>reg_2_seasons</td>\n",
       "      <td>SVM</td>\n",
       "      <td>8.313091</td>\n",
       "      <td>0.182380</td>\n",
       "      <td>10.599064</td>\n",
       "      <td>0.196440</td>\n",
       "    </tr>\n",
       "    <tr>\n",
       "      <th>3</th>\n",
       "      <td>reg_2_seasons</td>\n",
       "      <td>RF</td>\n",
       "      <td>8.345848</td>\n",
       "      <td>0.111711</td>\n",
       "      <td>10.585308</td>\n",
       "      <td>0.150436</td>\n",
       "    </tr>\n",
       "    <tr>\n",
       "      <th>4</th>\n",
       "      <td>reg_2_seasons</td>\n",
       "      <td>LGB</td>\n",
       "      <td>8.702064</td>\n",
       "      <td>0.201812</td>\n",
       "      <td>11.010843</td>\n",
       "      <td>0.223081</td>\n",
       "    </tr>\n",
       "    <tr>\n",
       "      <th>5</th>\n",
       "      <td>reg_2_seasons</td>\n",
       "      <td>XGB</td>\n",
       "      <td>9.194161</td>\n",
       "      <td>0.189745</td>\n",
       "      <td>11.583278</td>\n",
       "      <td>0.253444</td>\n",
       "    </tr>\n",
       "    <tr>\n",
       "      <th>1</th>\n",
       "      <td>reg_2_seasons</td>\n",
       "      <td>KNN</td>\n",
       "      <td>9.952810</td>\n",
       "      <td>0.230096</td>\n",
       "      <td>12.663717</td>\n",
       "      <td>0.310147</td>\n",
       "    </tr>\n",
       "  </tbody>\n",
       "</table>\n",
       "</div>"
      ],
      "text/plain": [
       "        exp_name model  mae_mean   mae_std  rmse_mean  rmse_std\n",
       "0  reg_2_seasons    LR  8.192009  0.136491  10.392967  0.148882\n",
       "2  reg_2_seasons   SVM  8.313091  0.182380  10.599064  0.196440\n",
       "3  reg_2_seasons    RF  8.345848  0.111711  10.585308  0.150436\n",
       "4  reg_2_seasons   LGB  8.702064  0.201812  11.010843  0.223081\n",
       "5  reg_2_seasons   XGB  9.194161  0.189745  11.583278  0.253444\n",
       "1  reg_2_seasons   KNN  9.952810  0.230096  12.663717  0.310147"
      ]
     },
     "execution_count": 39,
     "metadata": {},
     "output_type": "execute_result"
    }
   ],
   "source": [
    "del_result_by(experiment_name)\n",
    "\n",
    "folds, train_seasons, test_seasons = sscv.split(train_size=2, test_size=1)\n",
    "params = (experiment_name, models, folds, train_seasons, test_seasons, X, y)\n",
    "names, results = utils_exp.run_experiment(*params)\n",
    "results_total.append((experiment_name, results))\n",
    "\n",
    "print_prettier_exp_results(experiment_name)"
   ]
  },
  {
   "cell_type": "code",
   "execution_count": 40,
   "metadata": {
    "ExecuteTime": {
     "end_time": "2020-11-13T03:57:21.170660Z",
     "start_time": "2020-11-13T03:57:20.829371Z"
    },
    "pycharm": {
     "name": "#%%\n"
    }
   },
   "outputs": [
    {
     "data": {
      "image/png": "[encoded data removed]",
      "text/plain": [
       "<Figure size 576x576 with 1 Axes>"
      ]
     },
     "metadata": {},
     "output_type": "display_data"
    }
   ],
   "source": [
    "#### Visualize experiments results\n",
    "name, res = get_result_by(experiment_name)\n",
    "plot_results(name, res, figsize=(8,8))"
   ]
  },
  {
   "cell_type": "markdown",
   "metadata": {},
   "source": [
    "### Experiment: train: 3s; test: 1s"
   ]
  },
  {
   "cell_type": "code",
   "execution_count": null,
   "metadata": {
    "ExecuteTime": {
     "end_time": "2020-11-11T02:20:13.873111Z",
     "start_time": "2020-11-11T02:19:54.707Z"
    },
    "pycharm": {
     "name": "#%%\n"
    }
   },
   "outputs": [],
   "source": [
    "experiment_name = f\"{exp_prefix}3_seasons\""
   ]
  },
  {
   "cell_type": "code",
   "execution_count": null,
   "metadata": {
    "ExecuteTime": {
     "end_time": "2020-11-11T02:20:13.876339Z",
     "start_time": "2020-11-11T02:19:54.879Z"
    },
    "pycharm": {
     "name": "#%%\n"
    }
   },
   "outputs": [],
   "source": [
    "del_result_by(experiment_name)\n",
    "\n",
    "folds, train_seasons, test_seasons = sscv.split(train_size=3, test_size=1)\n",
    "params = (experiment_name, models, folds, train_seasons, test_seasons, X, y)\n",
    "names, results = utils_exp.run_experiment(*params)\n",
    "results_total.append((experiment_name, results))\n",
    "\n",
    "print_prettier_exp_results(experiment_name)"
   ]
  },
  {
   "cell_type": "code",
   "execution_count": null,
   "metadata": {
    "ExecuteTime": {
     "end_time": "2020-11-11T02:20:13.879536Z",
     "start_time": "2020-11-11T02:19:55.079Z"
    },
    "pycharm": {
     "name": "#%%\n"
    }
   },
   "outputs": [],
   "source": [
    "#### Visualize experiments results\n",
    "name, res = get_result_by(experiment_name)\n",
    "plot_results(name, res, figsize=(8,4))"
   ]
  },
  {
   "cell_type": "markdown",
   "metadata": {},
   "source": [
    "### Experiment train: 3q ; test: 1q"
   ]
  },
  {
   "cell_type": "code",
   "execution_count": null,
   "metadata": {
    "ExecuteTime": {
     "end_time": "2020-11-11T02:20:13.882974Z",
     "start_time": "2020-11-11T02:19:55.455Z"
    },
    "pycharm": {
     "name": "#%%\n"
    }
   },
   "outputs": [],
   "source": [
    "experiment_name = f\"{exp_prefix}3q_1q\""
   ]
  },
  {
   "cell_type": "code",
   "execution_count": null,
   "metadata": {
    "ExecuteTime": {
     "end_time": "2020-11-11T02:20:13.886194Z",
     "start_time": "2020-11-11T02:19:55.650Z"
    },
    "pycharm": {
     "name": "#%%\n"
    }
   },
   "outputs": [],
   "source": [
    "del_result_by(experiment_name)\n",
    "\n",
    "folds, train_seasons, test_seasons = sscv.quarter_split(train_size=3, test_size=1)\n",
    "params = (experiment_name, models, folds, train_seasons, test_seasons, X, y)\n",
    "names, results = utils_exp.run_experiment(*params)\n",
    "results_total.append((experiment_name, results))\n",
    "\n",
    "print_prettier_exp_results(experiment_name)"
   ]
  },
  {
   "cell_type": "code",
   "execution_count": null,
   "metadata": {
    "ExecuteTime": {
     "end_time": "2020-11-11T02:20:13.889237Z",
     "start_time": "2020-11-11T02:19:55.870Z"
    },
    "pycharm": {
     "name": "#%%\n"
    }
   },
   "outputs": [],
   "source": [
    "#### Visualize experiments results\n",
    "name, res = get_result_by(experiment_name)\n",
    "plot_results(name, res, figsize=(20, 10))"
   ]
  },
  {
   "cell_type": "markdown",
   "metadata": {},
   "source": [
    "### Experiment train: 4q ; test: 2q"
   ]
  },
  {
   "cell_type": "code",
   "execution_count": null,
   "metadata": {
    "ExecuteTime": {
     "end_time": "2020-11-11T02:20:13.892190Z",
     "start_time": "2020-11-11T02:19:56.726Z"
    },
    "pycharm": {
     "name": "#%%\n"
    }
   },
   "outputs": [],
   "source": [
    "experiment_name = f\"{exp_prefix}4q_2q\""
   ]
  },
  {
   "cell_type": "code",
   "execution_count": null,
   "metadata": {
    "ExecuteTime": {
     "end_time": "2020-11-11T02:20:13.895810Z",
     "start_time": "2020-11-11T02:19:57.284Z"
    },
    "pycharm": {
     "name": "#%%\n"
    }
   },
   "outputs": [],
   "source": [
    "del_result_by(experiment_name)\n",
    "\n",
    "folds, train_seasons, test_seasons = sscv.quarter_split(train_size=4, test_size=2)\n",
    "params = (experiment_name, models, folds, train_seasons, test_seasons, X, y)\n",
    "names, results = utils_exp.run_experiment(*params)\n",
    "results_total.append((experiment_name, results))\n",
    "\n",
    "print_prettier_exp_results(experiment_name)"
   ]
  },
  {
   "cell_type": "code",
   "execution_count": null,
   "metadata": {
    "ExecuteTime": {
     "end_time": "2020-11-11T02:20:13.899795Z",
     "start_time": "2020-11-11T02:19:57.759Z"
    },
    "pycharm": {
     "name": "#%%\n"
    }
   },
   "outputs": [],
   "source": [
    "#### Visualize experiments results\n",
    "name, res = get_result_by(experiment_name)\n",
    "plot_results(name, res, figsize=(20, 10))"
   ]
  },
  {
   "cell_type": "markdown",
   "metadata": {},
   "source": [
    "### Experiment remove first 1q ; train: 2q ; test: 1q\n",
    "\n",
    "En este experimento se eliminara el primer cuarto de cada temporada, y se entrenara el modelo con los 2 siguientes cuartos, y como test 1 cuarto de temporada. La ventana deslisante sera de 1 cuarto."
   ]
  },
  {
   "cell_type": "code",
   "execution_count": null,
   "metadata": {
    "ExecuteTime": {
     "end_time": "2020-11-11T02:20:13.903077Z",
     "start_time": "2020-11-11T02:19:58.605Z"
    },
    "pycharm": {
     "name": "#%%\n"
    }
   },
   "outputs": [],
   "source": [
    "experiment_name = f\"{exp_prefix}r1q_2q_1q\""
   ]
  },
  {
   "cell_type": "code",
   "execution_count": null,
   "metadata": {
    "ExecuteTime": {
     "end_time": "2020-11-11T02:20:13.906838Z",
     "start_time": "2020-11-11T02:19:58.919Z"
    },
    "pycharm": {
     "name": "#%%\n"
    }
   },
   "outputs": [],
   "source": [
    "del_result_by(experiment_name)\n",
    "\n",
    "folds, train_seasons, test_seasons = sscv.quarter_split(train_size=2, test_size=1, skip=[0.25])\n",
    "params = (experiment_name, models, folds, train_seasons, test_seasons, X, y)\n",
    "names, results = utils_exp.run_experiment(*params)\n",
    "results_total.append((experiment_name, results))\n",
    "\n",
    "print_prettier_exp_results(experiment_name)"
   ]
  },
  {
   "cell_type": "code",
   "execution_count": null,
   "metadata": {
    "ExecuteTime": {
     "end_time": "2020-11-11T02:20:13.910470Z",
     "start_time": "2020-11-11T02:19:59.387Z"
    },
    "pycharm": {
     "name": "#%%\n"
    }
   },
   "outputs": [],
   "source": [
    "#### Visualize experiments results\n",
    "#### Visualize experiments results\n",
    "name, res = get_result_by(experiment_name)\n",
    "plot_results(name, res, figsize=(20,10))"
   ]
  },
  {
   "cell_type": "markdown",
   "metadata": {},
   "source": [
    "### Experiments comparison"
   ]
  },
  {
   "cell_type": "code",
   "execution_count": null,
   "metadata": {
    "ExecuteTime": {
     "end_time": "2020-11-11T02:20:13.913926Z",
     "start_time": "2020-11-11T02:20:01.462Z"
    },
    "pycharm": {
     "name": "#%%\n"
    }
   },
   "outputs": [],
   "source": [
    "utils.serialize_object(exp_group_name, utils_exp.exp_results)\n",
    "utils.serialize_object(f'result_totals_{exp_group_name}', results_total)"
   ]
  },
  {
   "cell_type": "code",
   "execution_count": 15,
   "metadata": {
    "ExecuteTime": {
     "end_time": "2020-11-12T05:35:10.830560Z",
     "start_time": "2020-11-12T05:35:10.790208Z"
    },
    "pycharm": {
     "name": "#%%\n"
    }
   },
   "outputs": [],
   "source": [
    "results_total = utils.deserialize_object(f'result_totals_{exp_group_name}', [])\n",
    "utils_exp.exp_results = utils.deserialize_object(exp_group_name, [])\n",
    "exp_df = get_results_df()"
   ]
  },
  {
   "cell_type": "code",
   "execution_count": 20,
   "metadata": {
    "ExecuteTime": {
     "end_time": "2020-11-12T05:42:34.512833Z",
     "start_time": "2020-11-12T05:42:34.492078Z"
    },
    "pycharm": {
     "name": "#%%\n"
    }
   },
   "outputs": [],
   "source": [
    "ba_df = exp_df[~exp_df.exp_name.isin(['reg_minmax_data', 'reg_scaled_data'])][['exp_name', 'model',\n",
    "       'mae_mean', 'mae_std', 'rmse_mean', 'rmse_std']]"
   ]
  },
  {
   "cell_type": "code",
   "execution_count": 21,
   "metadata": {
    "ExecuteTime": {
     "end_time": "2020-11-12T05:42:37.758700Z",
     "start_time": "2020-11-12T05:42:37.722347Z"
    },
    "pycharm": {
     "name": "#%%\n"
    }
   },
   "outputs": [
    {
     "data": {
      "application/vnd.jupyter.widget-view+json": {
       "model_id": "77fb813e8d39401f977c56af3660a5ea",
       "version_major": 2,
       "version_minor": 0
      },
      "text/plain": [
       "QgridWidget(grid_options={'fullWidthRows': True, 'syncColumnCellResize': True, 'forceFitColumns': False, 'defa…"
      ]
     },
     "metadata": {},
     "output_type": "display_data"
    }
   ],
   "source": [
    "#show_qgrid(exp_df)\n",
    "qgrid_widget = qgrid.show_grid(exp_df, show_toolbar=True , grid_options={'forceFitColumns': False, 'defaultColumnWidth': 200})\n",
    "qgrid_widget"
   ]
  },
  {
   "cell_type": "code",
   "execution_count": 23,
   "metadata": {
    "ExecuteTime": {
     "end_time": "2020-11-12T05:42:57.183191Z",
     "start_time": "2020-11-12T05:42:57.132329Z"
    },
    "pycharm": {
     "name": "#%%\n"
    }
   },
   "outputs": [
    {
     "data": {
      "text/html": [
       "<div>\n",
       "<style scoped>\n",
       "    .dataframe tbody tr th:only-of-type {\n",
       "        vertical-align: middle;\n",
       "    }\n",
       "\n",
       "    .dataframe tbody tr th {\n",
       "        vertical-align: top;\n",
       "    }\n",
       "\n",
       "    .dataframe thead th {\n",
       "        text-align: right;\n",
       "    }\n",
       "</style>\n",
       "<table border=\"1\" class=\"dataframe\">\n",
       "  <thead>\n",
       "    <tr style=\"text-align: right;\">\n",
       "      <th></th>\n",
       "      <th>exp_name</th>\n",
       "      <th>model</th>\n",
       "      <th>mae_mean</th>\n",
       "      <th>mae_std</th>\n",
       "      <th>rmse_mean</th>\n",
       "      <th>rmse_std</th>\n",
       "    </tr>\n",
       "  </thead>\n",
       "  <tbody>\n",
       "    <tr>\n",
       "      <th>0</th>\n",
       "      <td>reg_3_seasons</td>\n",
       "      <td>LR</td>\n",
       "      <td>8.181175</td>\n",
       "      <td>0.144620</td>\n",
       "      <td>10.372675</td>\n",
       "      <td>0.170107</td>\n",
       "    </tr>\n",
       "    <tr>\n",
       "      <th>1</th>\n",
       "      <td>reg_2_seasons</td>\n",
       "      <td>LR</td>\n",
       "      <td>8.192009</td>\n",
       "      <td>0.136491</td>\n",
       "      <td>10.392967</td>\n",
       "      <td>0.148882</td>\n",
       "    </tr>\n",
       "    <tr>\n",
       "      <th>2</th>\n",
       "      <td>reg_4q_2q</td>\n",
       "      <td>LR</td>\n",
       "      <td>8.226138</td>\n",
       "      <td>0.211604</td>\n",
       "      <td>10.443883</td>\n",
       "      <td>0.273616</td>\n",
       "    </tr>\n",
       "    <tr>\n",
       "      <th>3</th>\n",
       "      <td>reg_1_season</td>\n",
       "      <td>LR</td>\n",
       "      <td>8.256028</td>\n",
       "      <td>0.126807</td>\n",
       "      <td>10.494496</td>\n",
       "      <td>0.178897</td>\n",
       "    </tr>\n",
       "    <tr>\n",
       "      <th>4</th>\n",
       "      <td>reg_3_seasons</td>\n",
       "      <td>SVM</td>\n",
       "      <td>8.268298</td>\n",
       "      <td>0.181485</td>\n",
       "      <td>10.519299</td>\n",
       "      <td>0.221792</td>\n",
       "    </tr>\n",
       "    <tr>\n",
       "      <th>5</th>\n",
       "      <td>reg_3q_1q</td>\n",
       "      <td>LR</td>\n",
       "      <td>8.302867</td>\n",
       "      <td>0.440110</td>\n",
       "      <td>10.579698</td>\n",
       "      <td>0.577662</td>\n",
       "    </tr>\n",
       "  </tbody>\n",
       "</table>\n",
       "</div>"
      ],
      "text/plain": [
       "        exp_name model  mae_mean   mae_std  rmse_mean  rmse_std\n",
       "0  reg_3_seasons    LR  8.181175  0.144620  10.372675  0.170107\n",
       "1  reg_2_seasons    LR  8.192009  0.136491  10.392967  0.148882\n",
       "2      reg_4q_2q    LR  8.226138  0.211604  10.443883  0.273616\n",
       "3   reg_1_season    LR  8.256028  0.126807  10.494496  0.178897\n",
       "4  reg_3_seasons   SVM  8.268298  0.181485  10.519299  0.221792\n",
       "5      reg_3q_1q    LR  8.302867  0.440110  10.579698  0.577662"
      ]
     },
     "execution_count": 23,
     "metadata": {},
     "output_type": "execute_result"
    }
   ],
   "source": [
    "ba_df.sort_values(\n",
    "    by=[\"mae_mean\"]\n",
    "    , ascending=True)[:6].reset_index().drop(labels=[\"index\"], axis=1)"
   ]
  },
  {
   "cell_type": "markdown",
   "metadata": {},
   "source": [
    "### Plot experiment results"
   ]
  },
  {
   "cell_type": "markdown",
   "metadata": {},
   "source": [
    "#### MAE"
   ]
  },
  {
   "cell_type": "code",
   "execution_count": null,
   "metadata": {
    "ExecuteTime": {
     "end_time": "2020-11-11T02:20:13.926493Z",
     "start_time": "2020-11-11T02:20:09.028Z"
    },
    "pycharm": {
     "name": "#%%\n"
    }
   },
   "outputs": [],
   "source": [
    "utils.plot_to_compare_experiments(\n",
    "    results_total,\n",
    "    metric=\"mae\",\n",
    "    figsize=(25, 35),\n",
    "    use_pointplot=True\n",
    ")"
   ]
  },
  {
   "cell_type": "markdown",
   "metadata": {},
   "source": [
    "#### MSE"
   ]
  },
  {
   "cell_type": "code",
   "execution_count": null,
   "metadata": {
    "ExecuteTime": {
     "end_time": "2020-11-11T02:20:13.929120Z",
     "start_time": "2020-11-11T02:20:09.422Z"
    },
    "pycharm": {
     "name": "#%%\n"
    },
    "scrolled": true
   },
   "outputs": [],
   "source": [
    "utils.plot_to_compare_experiments(\n",
    "    results_total,\n",
    "    metric=\"mse\",\n",
    "    figsize=(25, 35),\n",
    "    use_pointplot=True\n",
    ")"
   ]
  },
  {
   "cell_type": "markdown",
   "metadata": {},
   "source": [
    "#### RMSE"
   ]
  },
  {
   "cell_type": "code",
   "execution_count": null,
   "metadata": {
    "ExecuteTime": {
     "end_time": "2020-11-11T02:20:13.931734Z",
     "start_time": "2020-11-11T02:20:09.818Z"
    },
    "pycharm": {
     "name": "#%%\n"
    },
    "scrolled": true
   },
   "outputs": [],
   "source": [
    "utils.plot_to_compare_experiments(\n",
    "    results_total,\n",
    "    metric=\"rmse\",\n",
    "    figsize=(25, 35),\n",
    "    use_pointplot=True\n",
    ")"
   ]
  },
  {
   "cell_type": "markdown",
   "metadata": {},
   "source": [
    "### hyperparameter optimization"
   ]
  },
  {
   "cell_type": "markdown",
   "metadata": {},
   "source": [
    "#### Imports"
   ]
  },
  {
   "cell_type": "code",
   "execution_count": 30,
   "metadata": {
    "ExecuteTime": {
     "end_time": "2020-11-14T01:58:17.376864Z",
     "start_time": "2020-11-14T01:58:17.352024Z"
    },
    "init_cell": true,
    "pycharm": {
     "name": "#%%\n"
    }
   },
   "outputs": [],
   "source": [
    "from sklearn.linear_model import LinearRegression\n",
    "from sklearn.svm import SVC\n",
    "from sklearn.ensemble import RandomForestRegressor\n",
    "import lightgbm as lgb\n",
    "import xgboost as xgb\n",
    "\n",
    "from sklearn.metrics import mean_absolute_error\n",
    "from hyperopt import hp, fmin, tpe, STATUS_OK, Trials\n",
    "from hpsklearn import HyperoptEstimator\n",
    "import hpsklearn\n",
    "from hyperopt.pyll import scope, as_apply\n",
    "from hyperopt import SparkTrials, STATUS_OK"
   ]
  },
  {
   "cell_type": "markdown",
   "metadata": {},
   "source": [
    "#### Dataset"
   ]
  },
  {
   "cell_type": "code",
   "execution_count": 16,
   "metadata": {
    "ExecuteTime": {
     "end_time": "2020-11-13T15:01:53.789381Z",
     "start_time": "2020-11-13T15:01:53.762386Z"
    },
    "pycharm": {
     "name": "#%%\n"
    }
   },
   "outputs": [],
   "source": [
    "op_df = season_games[(season_games.SEASON >= 2010) & (season_games.SEASON <= 2017)]"
   ]
  },
  {
   "cell_type": "markdown",
   "metadata": {},
   "source": [
    "##### Seasons"
   ]
  },
  {
   "cell_type": "code",
   "execution_count": 17,
   "metadata": {
    "ExecuteTime": {
     "end_time": "2020-11-13T15:01:59.036786Z",
     "start_time": "2020-11-13T15:01:59.013452Z"
    },
    "pycharm": {
     "name": "#%%\n"
    }
   },
   "outputs": [
    {
     "data": {
      "text/plain": [
       "array([2010, 2011, 2012, 2013, 2014, 2015, 2016, 2017])"
      ]
     },
     "execution_count": 17,
     "metadata": {},
     "output_type": "execute_result"
    }
   ],
   "source": [
    "op_df.SEASON.unique()"
   ]
  },
  {
   "cell_type": "markdown",
   "metadata": {},
   "source": [
    "##### Clean Data"
   ]
  },
  {
   "cell_type": "code",
   "execution_count": 18,
   "metadata": {
    "ExecuteTime": {
     "end_time": "2020-11-13T15:02:04.262544Z",
     "start_time": "2020-11-13T15:02:04.206529Z"
    },
    "pycharm": {
     "name": "#%%\n"
    }
   },
   "outputs": [
    {
     "name": "stdout",
     "output_type": "stream",
     "text": [
      "(9599, 261)\n",
      "0\n",
      "0\n",
      "(9461, 261)\n"
     ]
    }
   ],
   "source": [
    "print(op_df.shape)\n",
    "op_df = op_df.dropna()\n",
    "print(op_df.isnull().sum().sum())\n",
    "print(op_df.isna().sum().sum())\n",
    "print(op_df.shape)"
   ]
  },
  {
   "cell_type": "markdown",
   "metadata": {},
   "source": [
    "#### setup"
   ]
  },
  {
   "cell_type": "code",
   "execution_count": 19,
   "metadata": {
    "ExecuteTime": {
     "end_time": "2020-11-13T15:02:05.350528Z",
     "start_time": "2020-11-13T15:02:05.323171Z"
    },
    "pycharm": {
     "name": "#%%\n"
    }
   },
   "outputs": [],
   "source": [
    "exp_prefix = \"reg_\"\n",
    "#exp_group_name = \"clf_experiments\"\n",
    "exp_group_name = \"reg_op\"\n",
    "results_total = utils.deserialize_object(f'result_totals_{exp_group_name}', [])\n",
    "\n",
    "op_models = utils_exp.get_reg_models()\n",
    "\n",
    "op_sscv = utils.SeasonSeriesSplit(op_df)\n",
    "op_df_sscv = op_sscv.get_df()\n",
    "op_X = op_df_sscv[exp_X_columns]\n",
    "op_y = op_df_sscv[TARGET]\n",
    "\n"
   ]
  },
  {
   "cell_type": "markdown",
   "metadata": {},
   "source": [
    "#### Utils"
   ]
  },
  {
   "cell_type": "code",
   "execution_count": 20,
   "metadata": {
    "ExecuteTime": {
     "end_time": "2020-11-13T15:02:06.327067Z",
     "start_time": "2020-11-13T15:02:06.303800Z"
    },
    "pycharm": {
     "name": "#%%\n"
    }
   },
   "outputs": [],
   "source": [
    "def walk_forward_val_mean_score(input_model):\n",
    "    metric_results = []\n",
    "    for train_idx, test_idx in folds:\n",
    "        X_train, X_test = X.loc[train_idx], X.loc[test_idx]\n",
    "        y_train, y_test = y.loc[train_idx], y.loc[test_idx]\n",
    "        y_true = y_test\n",
    "\n",
    "        pipeline = Pipeline(steps=[\n",
    "                ('model', input_model)])\n",
    "\n",
    "        model = pipeline\n",
    "        fit_info = pipeline.fit(X_train, y_train)\n",
    "        y_pred = pipeline.predict(X_test)\n",
    "        metric_results.append(mean_absolute_error(y_true, y_pred))\n",
    "\n",
    "    return np.mean(metric_results)\n",
    "\n"
   ]
  },
  {
   "cell_type": "markdown",
   "metadata": {},
   "source": [
    "#### Optimization"
   ]
  },
  {
   "cell_type": "code",
   "execution_count": 21,
   "metadata": {
    "ExecuteTime": {
     "end_time": "2020-11-13T15:02:06.931766Z",
     "start_time": "2020-11-13T15:02:06.871058Z"
    },
    "pycharm": {
     "name": "#%%\n"
    }
   },
   "outputs": [],
   "source": [
    "folds, train_seasons, test_seasons = op_sscv.split(train_size=2, test_size=1)"
   ]
  },
  {
   "cell_type": "code",
   "execution_count": 22,
   "metadata": {
    "ExecuteTime": {
     "end_time": "2020-11-13T15:02:07.450680Z",
     "start_time": "2020-11-13T15:02:07.429699Z"
    },
    "pycharm": {
     "name": "#%%\n"
    }
   },
   "outputs": [],
   "source": [
    "# name = 'reg'\n",
    "# models =[\n",
    "#     #hpsklearn.svc(name + '.SVM'),\n",
    "#     #hpsklearn.random_forest(name + '.RF'),\n",
    "#     #hpsklearn.xgboost_regression(name + '.XGB'),\n",
    "#     #hpsklearn.lightgbm_regression(name + '.LGB')\n",
    "#     hpsklearn.svc_linear(name + 'SVM')\n",
    "# ]\n",
    "\n",
    "# estim = HyperoptEstimator(regressor=hp.choice('%s' % name, models),\n",
    "#                           preprocessing=None,\n",
    "#                           algo=tpe.suggest,\n",
    "#                           max_evals=500,\n",
    "#                           trial_timeout=120)\n",
    "\n",
    "\n",
    "# train_idx, test_idx = folds[-2]\n",
    "# X_train, X_test = X.loc[train_idx], X.loc[test_idx]\n",
    "# y_train, y_test = y.loc[train_idx], y.loc[test_idx]\n",
    "# y_true = y_test\n",
    "\n",
    "# estim.fit(X_train, y_train)\n",
    "# print(estim.score(X_test, y_test))\n",
    "# print(estim.best_model())"
   ]
  },
  {
   "cell_type": "markdown",
   "metadata": {
    "pycharm": {
     "name": "#%%\n"
    }
   },
   "source": [
    "#### LightGBM"
   ]
  },
  {
   "cell_type": "code",
   "execution_count": 24,
   "metadata": {
    "ExecuteTime": {
     "end_time": "2020-11-13T15:04:52.853497Z",
     "start_time": "2020-11-13T15:02:37.518144Z"
    },
    "pycharm": {
     "name": "#%%\n"
    }
   },
   "outputs": [
    {
     "name": "stderr",
     "output_type": "stream",
     "text": [
      "Because the requested parallelism was None or a non-positive value, parallelism will be set to (8), which is Spark's default parallelism (8), or the current total of Spark task slots (8), or 1, whichever is greater. We recommend setting parallelism explicitly to a positive value because the total of Spark task slots is subject to cluster sizing.\n"
     ]
    },
    {
     "name": "stdout",
     "output_type": "stream",
     "text": [
      "  1%|          | 2/200 [02:11<3:36:51, 65.72s/trial, best loss: -10.997595591186654]\n"
     ]
    },
    {
     "name": "stderr",
     "output_type": "stream",
     "text": [
      "Total Trials: 10: 2 succeeded, 8 failed, 0 cancelled.\n"
     ]
    },
    {
     "ename": "KeyboardInterrupt",
     "evalue": "",
     "output_type": "error",
     "traceback": [
      "\u001b[0;31m---------------------------------------------------------------------------\u001b[0m",
      "\u001b[0;31mKeyboardInterrupt\u001b[0m                         Traceback (most recent call last)",
      "\u001b[0;32m<ipython-input-24-4f8e5e7c3dbc>\u001b[0m in \u001b[0;36m<module>\u001b[0;34m\u001b[0m\n\u001b[1;32m     54\u001b[0m         \u001b[0mtrials\u001b[0m\u001b[0;34m=\u001b[0m\u001b[0mspark_trials\u001b[0m\u001b[0;34m,\u001b[0m\u001b[0;34m\u001b[0m\u001b[0;34m\u001b[0m\u001b[0m\n\u001b[1;32m     55\u001b[0m         \u001b[0mrstate\u001b[0m\u001b[0;34m=\u001b[0m\u001b[0mnp\u001b[0m\u001b[0;34m.\u001b[0m\u001b[0mrandom\u001b[0m\u001b[0;34m.\u001b[0m\u001b[0mRandomState\u001b[0m\u001b[0;34m(\u001b[0m\u001b[0mseed\u001b[0m\u001b[0;34m=\u001b[0m\u001b[0;36m0\u001b[0m\u001b[0;34m)\u001b[0m\u001b[0;34m,\u001b[0m\u001b[0;34m\u001b[0m\u001b[0;34m\u001b[0m\u001b[0m\n\u001b[0;32m---> 56\u001b[0;31m         \u001b[0mreturn_argmin\u001b[0m\u001b[0;34m=\u001b[0m\u001b[0;32mFalse\u001b[0m\u001b[0;34m\u001b[0m\u001b[0;34m\u001b[0m\u001b[0m\n\u001b[0m\u001b[1;32m     57\u001b[0m     )\n\u001b[1;32m     58\u001b[0m \u001b[0mbest\u001b[0m\u001b[0;34m\u001b[0m\u001b[0;34m\u001b[0m\u001b[0m\n",
      "\u001b[0;32m~/anaconda3/envs/nba-predictor/lib/python3.7/site-packages/hyperopt/fmin.py\u001b[0m in \u001b[0;36mfmin\u001b[0;34m(fn, space, algo, max_evals, timeout, loss_threshold, trials, rstate, allow_trials_fmin, pass_expr_memo_ctrl, catch_eval_exceptions, verbose, return_argmin, points_to_evaluate, max_queue_len, show_progressbar)\u001b[0m\n\u001b[1;32m    480\u001b[0m             \u001b[0mcatch_eval_exceptions\u001b[0m\u001b[0;34m=\u001b[0m\u001b[0mcatch_eval_exceptions\u001b[0m\u001b[0;34m,\u001b[0m\u001b[0;34m\u001b[0m\u001b[0;34m\u001b[0m\u001b[0m\n\u001b[1;32m    481\u001b[0m             \u001b[0mreturn_argmin\u001b[0m\u001b[0;34m=\u001b[0m\u001b[0mreturn_argmin\u001b[0m\u001b[0;34m,\u001b[0m\u001b[0;34m\u001b[0m\u001b[0;34m\u001b[0m\u001b[0m\n\u001b[0;32m--> 482\u001b[0;31m             \u001b[0mshow_progressbar\u001b[0m\u001b[0;34m=\u001b[0m\u001b[0mshow_progressbar\u001b[0m\u001b[0;34m,\u001b[0m\u001b[0;34m\u001b[0m\u001b[0;34m\u001b[0m\u001b[0m\n\u001b[0m\u001b[1;32m    483\u001b[0m         )\n\u001b[1;32m    484\u001b[0m \u001b[0;34m\u001b[0m\u001b[0m\n",
      "\u001b[0;32m~/anaconda3/envs/nba-predictor/lib/python3.7/site-packages/hyperopt/spark.py\u001b[0m in \u001b[0;36mfmin\u001b[0;34m(self, fn, space, algo, max_evals, timeout, loss_threshold, max_queue_len, rstate, verbose, pass_expr_memo_ctrl, catch_eval_exceptions, return_argmin, show_progressbar)\u001b[0m\n\u001b[1;32m    268\u001b[0m         \u001b[0;32mexcept\u001b[0m \u001b[0mBaseException\u001b[0m \u001b[0;32mas\u001b[0m \u001b[0me\u001b[0m\u001b[0;34m:\u001b[0m\u001b[0;34m\u001b[0m\u001b[0;34m\u001b[0m\u001b[0m\n\u001b[1;32m    269\u001b[0m             \u001b[0mlogger\u001b[0m\u001b[0;34m.\u001b[0m\u001b[0mdebug\u001b[0m\u001b[0;34m(\u001b[0m\u001b[0;34m\"fmin thread exits with an exception raised.\"\u001b[0m\u001b[0;34m)\u001b[0m\u001b[0;34m\u001b[0m\u001b[0;34m\u001b[0m\u001b[0m\n\u001b[0;32m--> 270\u001b[0;31m             \u001b[0;32mraise\u001b[0m \u001b[0me\u001b[0m\u001b[0;34m\u001b[0m\u001b[0;34m\u001b[0m\u001b[0m\n\u001b[0m\u001b[1;32m    271\u001b[0m         \u001b[0;32melse\u001b[0m\u001b[0;34m:\u001b[0m\u001b[0;34m\u001b[0m\u001b[0;34m\u001b[0m\u001b[0m\n\u001b[1;32m    272\u001b[0m             \u001b[0mlogger\u001b[0m\u001b[0;34m.\u001b[0m\u001b[0mdebug\u001b[0m\u001b[0;34m(\u001b[0m\u001b[0;34m\"fmin thread exits normally.\"\u001b[0m\u001b[0;34m)\u001b[0m\u001b[0;34m\u001b[0m\u001b[0;34m\u001b[0m\u001b[0m\n",
      "\u001b[0;32m~/anaconda3/envs/nba-predictor/lib/python3.7/site-packages/hyperopt/spark.py\u001b[0m in \u001b[0;36mfmin\u001b[0;34m(self, fn, space, algo, max_evals, timeout, loss_threshold, max_queue_len, rstate, verbose, pass_expr_memo_ctrl, catch_eval_exceptions, return_argmin, show_progressbar)\u001b[0m\n\u001b[1;32m    264\u001b[0m                 \u001b[0mreturn_argmin\u001b[0m\u001b[0;34m=\u001b[0m\u001b[0mreturn_argmin\u001b[0m\u001b[0;34m,\u001b[0m\u001b[0;34m\u001b[0m\u001b[0;34m\u001b[0m\u001b[0m\n\u001b[1;32m    265\u001b[0m                 \u001b[0mpoints_to_evaluate\u001b[0m\u001b[0;34m=\u001b[0m\u001b[0;32mNone\u001b[0m\u001b[0;34m,\u001b[0m  \u001b[0;31m# not support\u001b[0m\u001b[0;34m\u001b[0m\u001b[0;34m\u001b[0m\u001b[0m\n\u001b[0;32m--> 266\u001b[0;31m                 \u001b[0mshow_progressbar\u001b[0m\u001b[0;34m=\u001b[0m\u001b[0mshow_progressbar\u001b[0m\u001b[0;34m,\u001b[0m\u001b[0;34m\u001b[0m\u001b[0;34m\u001b[0m\u001b[0m\n\u001b[0m\u001b[1;32m    267\u001b[0m             )\n\u001b[1;32m    268\u001b[0m         \u001b[0;32mexcept\u001b[0m \u001b[0mBaseException\u001b[0m \u001b[0;32mas\u001b[0m \u001b[0me\u001b[0m\u001b[0;34m:\u001b[0m\u001b[0;34m\u001b[0m\u001b[0;34m\u001b[0m\u001b[0m\n",
      "\u001b[0;32m~/anaconda3/envs/nba-predictor/lib/python3.7/site-packages/hyperopt/fmin.py\u001b[0m in \u001b[0;36mfmin\u001b[0;34m(fn, space, algo, max_evals, timeout, loss_threshold, trials, rstate, allow_trials_fmin, pass_expr_memo_ctrl, catch_eval_exceptions, verbose, return_argmin, points_to_evaluate, max_queue_len, show_progressbar)\u001b[0m\n\u001b[1;32m    507\u001b[0m \u001b[0;34m\u001b[0m\u001b[0m\n\u001b[1;32m    508\u001b[0m     \u001b[0;31m# next line is where the fmin is actually executed\u001b[0m\u001b[0;34m\u001b[0m\u001b[0;34m\u001b[0m\u001b[0;34m\u001b[0m\u001b[0m\n\u001b[0;32m--> 509\u001b[0;31m     \u001b[0mrval\u001b[0m\u001b[0;34m.\u001b[0m\u001b[0mexhaust\u001b[0m\u001b[0;34m(\u001b[0m\u001b[0;34m)\u001b[0m\u001b[0;34m\u001b[0m\u001b[0;34m\u001b[0m\u001b[0m\n\u001b[0m\u001b[1;32m    510\u001b[0m \u001b[0;34m\u001b[0m\u001b[0m\n\u001b[1;32m    511\u001b[0m     \u001b[0;32mif\u001b[0m \u001b[0mreturn_argmin\u001b[0m\u001b[0;34m:\u001b[0m\u001b[0;34m\u001b[0m\u001b[0;34m\u001b[0m\u001b[0m\n",
      "\u001b[0;32m~/anaconda3/envs/nba-predictor/lib/python3.7/site-packages/hyperopt/fmin.py\u001b[0m in \u001b[0;36mexhaust\u001b[0;34m(self)\u001b[0m\n\u001b[1;32m    328\u001b[0m     \u001b[0;32mdef\u001b[0m \u001b[0mexhaust\u001b[0m\u001b[0;34m(\u001b[0m\u001b[0mself\u001b[0m\u001b[0;34m)\u001b[0m\u001b[0;34m:\u001b[0m\u001b[0;34m\u001b[0m\u001b[0;34m\u001b[0m\u001b[0m\n\u001b[1;32m    329\u001b[0m         \u001b[0mn_done\u001b[0m \u001b[0;34m=\u001b[0m \u001b[0mlen\u001b[0m\u001b[0;34m(\u001b[0m\u001b[0mself\u001b[0m\u001b[0;34m.\u001b[0m\u001b[0mtrials\u001b[0m\u001b[0;34m)\u001b[0m\u001b[0;34m\u001b[0m\u001b[0;34m\u001b[0m\u001b[0m\n\u001b[0;32m--> 330\u001b[0;31m         \u001b[0mself\u001b[0m\u001b[0;34m.\u001b[0m\u001b[0mrun\u001b[0m\u001b[0;34m(\u001b[0m\u001b[0mself\u001b[0m\u001b[0;34m.\u001b[0m\u001b[0mmax_evals\u001b[0m \u001b[0;34m-\u001b[0m \u001b[0mn_done\u001b[0m\u001b[0;34m,\u001b[0m \u001b[0mblock_until_done\u001b[0m\u001b[0;34m=\u001b[0m\u001b[0mself\u001b[0m\u001b[0;34m.\u001b[0m\u001b[0masynchronous\u001b[0m\u001b[0;34m)\u001b[0m\u001b[0;34m\u001b[0m\u001b[0;34m\u001b[0m\u001b[0m\n\u001b[0m\u001b[1;32m    331\u001b[0m         \u001b[0mself\u001b[0m\u001b[0;34m.\u001b[0m\u001b[0mtrials\u001b[0m\u001b[0;34m.\u001b[0m\u001b[0mrefresh\u001b[0m\u001b[0;34m(\u001b[0m\u001b[0;34m)\u001b[0m\u001b[0;34m\u001b[0m\u001b[0;34m\u001b[0m\u001b[0m\n\u001b[1;32m    332\u001b[0m         \u001b[0;32mreturn\u001b[0m \u001b[0mself\u001b[0m\u001b[0;34m\u001b[0m\u001b[0;34m\u001b[0m\u001b[0m\n",
      "\u001b[0;32m~/anaconda3/envs/nba-predictor/lib/python3.7/site-packages/hyperopt/fmin.py\u001b[0m in \u001b[0;36mrun\u001b[0;34m(self, N, block_until_done)\u001b[0m\n\u001b[1;32m    281\u001b[0m                 \u001b[0;32mif\u001b[0m \u001b[0mself\u001b[0m\u001b[0;34m.\u001b[0m\u001b[0masynchronous\u001b[0m\u001b[0;34m:\u001b[0m\u001b[0;34m\u001b[0m\u001b[0;34m\u001b[0m\u001b[0m\n\u001b[1;32m    282\u001b[0m                     \u001b[0;31m# -- wait for workers to fill in the trials\u001b[0m\u001b[0;34m\u001b[0m\u001b[0;34m\u001b[0m\u001b[0;34m\u001b[0m\u001b[0m\n\u001b[0;32m--> 283\u001b[0;31m                     \u001b[0mtime\u001b[0m\u001b[0;34m.\u001b[0m\u001b[0msleep\u001b[0m\u001b[0;34m(\u001b[0m\u001b[0mself\u001b[0m\u001b[0;34m.\u001b[0m\u001b[0mpoll_interval_secs\u001b[0m\u001b[0;34m)\u001b[0m\u001b[0;34m\u001b[0m\u001b[0;34m\u001b[0m\u001b[0m\n\u001b[0m\u001b[1;32m    284\u001b[0m                 \u001b[0;32melse\u001b[0m\u001b[0;34m:\u001b[0m\u001b[0;34m\u001b[0m\u001b[0;34m\u001b[0m\u001b[0m\n\u001b[1;32m    285\u001b[0m                     \u001b[0;31m# -- loop over trials and do the jobs directly\u001b[0m\u001b[0;34m\u001b[0m\u001b[0;34m\u001b[0m\u001b[0;34m\u001b[0m\u001b[0m\n",
      "\u001b[0;32m~/anaconda3/envs/nba-predictor/lib/python3.7/site-packages/pyspark/context.py\u001b[0m in \u001b[0;36msignal_handler\u001b[0;34m(signal, frame)\u001b[0m\n\u001b[1;32m    268\u001b[0m         \u001b[0;32mdef\u001b[0m \u001b[0msignal_handler\u001b[0m\u001b[0;34m(\u001b[0m\u001b[0msignal\u001b[0m\u001b[0;34m,\u001b[0m \u001b[0mframe\u001b[0m\u001b[0;34m)\u001b[0m\u001b[0;34m:\u001b[0m\u001b[0;34m\u001b[0m\u001b[0;34m\u001b[0m\u001b[0m\n\u001b[1;32m    269\u001b[0m             \u001b[0mself\u001b[0m\u001b[0;34m.\u001b[0m\u001b[0mcancelAllJobs\u001b[0m\u001b[0;34m(\u001b[0m\u001b[0;34m)\u001b[0m\u001b[0;34m\u001b[0m\u001b[0;34m\u001b[0m\u001b[0m\n\u001b[0;32m--> 270\u001b[0;31m             \u001b[0;32mraise\u001b[0m \u001b[0mKeyboardInterrupt\u001b[0m\u001b[0;34m(\u001b[0m\u001b[0;34m)\u001b[0m\u001b[0;34m\u001b[0m\u001b[0;34m\u001b[0m\u001b[0m\n\u001b[0m\u001b[1;32m    271\u001b[0m \u001b[0;34m\u001b[0m\u001b[0m\n\u001b[1;32m    272\u001b[0m         \u001b[0;31m# see http://stackoverflow.com/questions/23206787/\u001b[0m\u001b[0;34m\u001b[0m\u001b[0;34m\u001b[0m\u001b[0;34m\u001b[0m\u001b[0m\n",
      "\u001b[0;31mKeyboardInterrupt\u001b[0m: "
     ]
    }
   ],
   "source": [
    "# 'objective': 'binary',\n",
    "#     'metric': 'binary_logloss',\n",
    "# #     'sub_feature': 0.5,\n",
    "#     'min_data': 50,\n",
    "#     'n_estimators': 500,\n",
    "#     'metric': 'auc'\n",
    "\n",
    "# objective='binary',\n",
    "# metric='auc',\n",
    "\n",
    "space = {\n",
    "    'max_depth': hp.uniform('max_depth', 1, 11),\n",
    "    'num_leaves': hp.uniform('num_leaves', 2, 121),\n",
    "    'learning_rate': hp.loguniform('learning_rate', np.log(0.0001), np.log(0.5)) - 0.0001,\n",
    "    'n_estimators': hp.quniform('n_estimators', 100, 6000, 200),\n",
    "    'gamma': hp.loguniform('gamma', np.log(0.0001), np.log(5)) - 0.0001,\n",
    "    'min_child_weight': hp.loguniform('min_child_weight', np.log(1), np.log(100)),\n",
    "    'subsample': hp.uniform('subsample', 0.5, 1),\n",
    "    'colsample_bytree': hp.uniform('colsample_bytree', 0.5, 1),\n",
    "    'colsample_bylevel': hp.uniform('colsample_bylevel', 0.5, 1),\n",
    "    'reg_alpha': hp.loguniform('reg_alpha', np.log(0.0001), np.log(1)) - 0.0001,\n",
    "    'reg_lambda': hp.loguniform('reg_lambda', np.log(1), np.log(4)),\n",
    "    #boosting_type: hp.choice(name, ['gbdt', 'dart', 'goss'])\n",
    "    'boosting_type': hp.choice('boosting_type', ['gbdt'])\n",
    "}\n",
    "\n",
    "default_hiperparameters = {\n",
    "    'objective': 'binary',\n",
    "    #'random_state': 0\n",
    "}\n",
    "\n",
    "def objective(space):\n",
    "    print(space)\n",
    "    hiperparameters = {**default_hiperparameters, **space}\n",
    "    hiperparameters['max_depth'] = int(hiperparameters['max_depth'])\n",
    "    hiperparameters['num_leaves'] = int(hiperparameters['num_leaves'])\n",
    "    hiperparameters['n_estimators'] = int(hiperparameters['n_estimators'])\n",
    "    hiperparameters['min_child_weight'] = int(hiperparameters['min_child_weight'])\n",
    "    model = lgb.LGBMRegressor(\n",
    "        **hiperparameters\n",
    "    )\n",
    "\n",
    "    accuracy = walk_forward_val_mean_score(model)\n",
    "\n",
    "    return {'loss': -accuracy, 'status': STATUS_OK }\n",
    "\n",
    "trials = Trials()\n",
    "spark_trials = SparkTrials()\n",
    "best = fmin(\n",
    "        fn=objective,\n",
    "        space=space,\n",
    "        algo=tpe.suggest,\n",
    "        max_evals=200,\n",
    "        trials=spark_trials,\n",
    "        rstate=np.random.RandomState(seed=0),\n",
    "        return_argmin=False\n",
    "    )\n",
    "best"
   ]
  },
  {
   "cell_type": "markdown",
   "metadata": {},
   "source": [
    "#### Experiment"
   ]
  },
  {
   "cell_type": "code",
   "execution_count": 91,
   "metadata": {
    "ExecuteTime": {
     "end_time": "2020-11-13T13:21:27.507719Z",
     "start_time": "2020-11-13T13:21:27.485503Z"
    },
    "pycharm": {
     "name": "#%%\n"
    }
   },
   "outputs": [],
   "source": [
    "lgbparams = {'boosting_type': 'gbdt',\n",
    " 'colsample_bylevel': 0.6708923954804659,\n",
    " 'colsample_bytree': 0.6000110807769761,\n",
    " 'gamma': 0.3506689603388255,\n",
    " 'learning_rate': 4.812206492908419e-08,\n",
    " 'max_depth': 3.7205211307390265,\n",
    " 'min_child_weight': 17.191236445639678,\n",
    " 'n_estimators': 1200.0,\n",
    " 'num_leaves': 95.60966938610218,\n",
    " 'reg_alpha': 0.030016928545628624,\n",
    " 'reg_lambda': 3.283314946517291,\n",
    " 'subsample': 0.6085661260416309}\n",
    "\n",
    "op_model = [\n",
    "#     (\"RF\", RandomForestClassifier(\n",
    "#                                       criterion='gini',\n",
    "#                                       n_estimators=200,\n",
    "#                                       max_depth=18,\n",
    "#                                       max_leaf_nodes = 24,\n",
    "#                                       min_samples_leaf = 2,\n",
    "#                                       min_samples_split = 3,\n",
    "#                                       n_jobs=-1,\n",
    "#                                       random_state=0))\n",
    "    (\"LGB\", lgb.LGBMRegressor(\n",
    "        **lgbparams\n",
    "#                 boosting_type='goss', colsample_bytree=0.758794422460012,\n",
    "#               learning_rate=0.0009853276762182032, max_delta_step=0,\n",
    "#               max_depth=6, min_child_weight=47, n_estimators=4600, n_jobs=1,\n",
    "#               num_leaves=113, objective='regression',\n",
    "#               reg_alpha=0.34215270718724283, reg_lambda=3.676702330857159,\n",
    "#               scale_pos_weight=1, seed=0, subsample=0.9582168858299254)\n",
    "    ))\n",
    "]"
   ]
  },
  {
   "cell_type": "code",
   "execution_count": 92,
   "metadata": {
    "ExecuteTime": {
     "end_time": "2020-11-13T13:21:31.770031Z",
     "start_time": "2020-11-13T13:21:31.600603Z"
    },
    "pycharm": {
     "name": "#%%\n"
    }
   },
   "outputs": [
    {
     "name": "stdout",
     "output_type": "stream",
     "text": [
      "Running experiment reg_2_seasons_op\n"
     ]
    },
    {
     "ename": "LightGBMError",
     "evalue": "Parameter num_leaves should be of type int, got \"95.60966938610218\"",
     "output_type": "error",
     "traceback": [
      "\u001b[0;31m---------------------------------------------------------------------------\u001b[0m",
      "\u001b[0;31mLightGBMError\u001b[0m                             Traceback (most recent call last)",
      "\u001b[0;32m~/anaconda3/envs/nba-predictor/lib/python3.7/site-packages/lightgbm/engine.py\u001b[0m in \u001b[0;36mtrain\u001b[0;34m(params, train_set, num_boost_round, valid_sets, valid_names, fobj, feval, init_model, feature_name, categorical_feature, early_stopping_rounds, evals_result, verbose_eval, learning_rates, keep_training_booster, callbacks)\u001b[0m\n\u001b[1;32m    227\u001b[0m     \u001b[0;32mtry\u001b[0m\u001b[0;34m:\u001b[0m\u001b[0;34m\u001b[0m\u001b[0;34m\u001b[0m\u001b[0m\n\u001b[0;32m--> 228\u001b[0;31m         \u001b[0mbooster\u001b[0m \u001b[0;34m=\u001b[0m \u001b[0mBooster\u001b[0m\u001b[0;34m(\u001b[0m\u001b[0mparams\u001b[0m\u001b[0;34m=\u001b[0m\u001b[0mparams\u001b[0m\u001b[0;34m,\u001b[0m \u001b[0mtrain_set\u001b[0m\u001b[0;34m=\u001b[0m\u001b[0mtrain_set\u001b[0m\u001b[0;34m)\u001b[0m\u001b[0;34m\u001b[0m\u001b[0;34m\u001b[0m\u001b[0m\n\u001b[0m\u001b[1;32m    229\u001b[0m         \u001b[0;32mif\u001b[0m \u001b[0mis_valid_contain_train\u001b[0m\u001b[0;34m:\u001b[0m\u001b[0;34m\u001b[0m\u001b[0;34m\u001b[0m\u001b[0m\n",
      "\u001b[0;32m~/anaconda3/envs/nba-predictor/lib/python3.7/site-packages/lightgbm/basic.py\u001b[0m in \u001b[0;36m__init__\u001b[0;34m(self, params, train_set, model_file, model_str, silent)\u001b[0m\n\u001b[1;32m   1663\u001b[0m             _safe_call(_LIB.LGBM_BoosterCreate(\n\u001b[0;32m-> 1664\u001b[0;31m                 \u001b[0mtrain_set\u001b[0m\u001b[0;34m.\u001b[0m\u001b[0mconstruct\u001b[0m\u001b[0;34m(\u001b[0m\u001b[0;34m)\u001b[0m\u001b[0;34m.\u001b[0m\u001b[0mhandle\u001b[0m\u001b[0;34m,\u001b[0m\u001b[0;34m\u001b[0m\u001b[0;34m\u001b[0m\u001b[0m\n\u001b[0m\u001b[1;32m   1665\u001b[0m                 \u001b[0mc_str\u001b[0m\u001b[0;34m(\u001b[0m\u001b[0mparams_str\u001b[0m\u001b[0;34m)\u001b[0m\u001b[0;34m,\u001b[0m\u001b[0;34m\u001b[0m\u001b[0;34m\u001b[0m\u001b[0m\n",
      "\u001b[0;32m~/anaconda3/envs/nba-predictor/lib/python3.7/site-packages/lightgbm/basic.py\u001b[0m in \u001b[0;36mconstruct\u001b[0;34m(self)\u001b[0m\n\u001b[1;32m   1036\u001b[0m                                 \u001b[0msilent\u001b[0m\u001b[0;34m=\u001b[0m\u001b[0mself\u001b[0m\u001b[0;34m.\u001b[0m\u001b[0msilent\u001b[0m\u001b[0;34m,\u001b[0m \u001b[0mfeature_name\u001b[0m\u001b[0;34m=\u001b[0m\u001b[0mself\u001b[0m\u001b[0;34m.\u001b[0m\u001b[0mfeature_name\u001b[0m\u001b[0;34m,\u001b[0m\u001b[0;34m\u001b[0m\u001b[0;34m\u001b[0m\u001b[0m\n\u001b[0;32m-> 1037\u001b[0;31m                                 categorical_feature=self.categorical_feature, params=self.params)\n\u001b[0m\u001b[1;32m   1038\u001b[0m             \u001b[0;32mif\u001b[0m \u001b[0mself\u001b[0m\u001b[0;34m.\u001b[0m\u001b[0mfree_raw_data\u001b[0m\u001b[0;34m:\u001b[0m\u001b[0;34m\u001b[0m\u001b[0;34m\u001b[0m\u001b[0m\n",
      "\u001b[0;32m~/anaconda3/envs/nba-predictor/lib/python3.7/site-packages/lightgbm/basic.py\u001b[0m in \u001b[0;36m_lazy_init\u001b[0;34m(self, data, label, reference, weight, group, init_score, predictor, silent, feature_name, categorical_feature, params)\u001b[0m\n\u001b[1;32m    838\u001b[0m         \u001b[0;32melif\u001b[0m \u001b[0misinstance\u001b[0m\u001b[0;34m(\u001b[0m\u001b[0mdata\u001b[0m\u001b[0;34m,\u001b[0m \u001b[0mnp\u001b[0m\u001b[0;34m.\u001b[0m\u001b[0mndarray\u001b[0m\u001b[0;34m)\u001b[0m\u001b[0;34m:\u001b[0m\u001b[0;34m\u001b[0m\u001b[0;34m\u001b[0m\u001b[0m\n\u001b[0;32m--> 839\u001b[0;31m             \u001b[0mself\u001b[0m\u001b[0;34m.\u001b[0m\u001b[0m__init_from_np2d\u001b[0m\u001b[0;34m(\u001b[0m\u001b[0mdata\u001b[0m\u001b[0;34m,\u001b[0m \u001b[0mparams_str\u001b[0m\u001b[0;34m,\u001b[0m \u001b[0mref_dataset\u001b[0m\u001b[0;34m)\u001b[0m\u001b[0;34m\u001b[0m\u001b[0;34m\u001b[0m\u001b[0m\n\u001b[0m\u001b[1;32m    840\u001b[0m         \u001b[0;32melif\u001b[0m \u001b[0misinstance\u001b[0m\u001b[0;34m(\u001b[0m\u001b[0mdata\u001b[0m\u001b[0;34m,\u001b[0m \u001b[0mlist\u001b[0m\u001b[0;34m)\u001b[0m \u001b[0;32mand\u001b[0m \u001b[0mlen\u001b[0m\u001b[0;34m(\u001b[0m\u001b[0mdata\u001b[0m\u001b[0;34m)\u001b[0m \u001b[0;34m>\u001b[0m \u001b[0;36m0\u001b[0m \u001b[0;32mand\u001b[0m \u001b[0mall\u001b[0m\u001b[0;34m(\u001b[0m\u001b[0misinstance\u001b[0m\u001b[0;34m(\u001b[0m\u001b[0mx\u001b[0m\u001b[0;34m,\u001b[0m \u001b[0mnp\u001b[0m\u001b[0;34m.\u001b[0m\u001b[0mndarray\u001b[0m\u001b[0;34m)\u001b[0m \u001b[0;32mfor\u001b[0m \u001b[0mx\u001b[0m \u001b[0;32min\u001b[0m \u001b[0mdata\u001b[0m\u001b[0;34m)\u001b[0m\u001b[0;34m:\u001b[0m\u001b[0;34m\u001b[0m\u001b[0;34m\u001b[0m\u001b[0m\n",
      "\u001b[0;32m~/anaconda3/envs/nba-predictor/lib/python3.7/site-packages/lightgbm/basic.py\u001b[0m in \u001b[0;36m__init_from_np2d\u001b[0;34m(self, mat, params_str, ref_dataset)\u001b[0m\n\u001b[1;32m    888\u001b[0m             \u001b[0mref_dataset\u001b[0m\u001b[0;34m,\u001b[0m\u001b[0;34m\u001b[0m\u001b[0;34m\u001b[0m\u001b[0m\n\u001b[0;32m--> 889\u001b[0;31m             ctypes.byref(self.handle)))\n\u001b[0m\u001b[1;32m    890\u001b[0m         \u001b[0;32mreturn\u001b[0m \u001b[0mself\u001b[0m\u001b[0;34m\u001b[0m\u001b[0;34m\u001b[0m\u001b[0m\n",
      "\u001b[0;32m~/anaconda3/envs/nba-predictor/lib/python3.7/site-packages/lightgbm/basic.py\u001b[0m in \u001b[0;36m_safe_call\u001b[0;34m(ret)\u001b[0m\n\u001b[1;32m     46\u001b[0m     \u001b[0;32mif\u001b[0m \u001b[0mret\u001b[0m \u001b[0;34m!=\u001b[0m \u001b[0;36m0\u001b[0m\u001b[0;34m:\u001b[0m\u001b[0;34m\u001b[0m\u001b[0;34m\u001b[0m\u001b[0m\n\u001b[0;32m---> 47\u001b[0;31m         \u001b[0;32mraise\u001b[0m \u001b[0mLightGBMError\u001b[0m\u001b[0;34m(\u001b[0m\u001b[0mdecode_string\u001b[0m\u001b[0;34m(\u001b[0m\u001b[0m_LIB\u001b[0m\u001b[0;34m.\u001b[0m\u001b[0mLGBM_GetLastError\u001b[0m\u001b[0;34m(\u001b[0m\u001b[0;34m)\u001b[0m\u001b[0;34m)\u001b[0m\u001b[0;34m)\u001b[0m\u001b[0;34m\u001b[0m\u001b[0;34m\u001b[0m\u001b[0m\n\u001b[0m\u001b[1;32m     48\u001b[0m \u001b[0;34m\u001b[0m\u001b[0m\n",
      "\u001b[0;31mLightGBMError\u001b[0m: Parameter num_leaves should be of type int, got \"95.60966938610218\"",
      "\nDuring handling of the above exception, another exception occurred:\n",
      "\u001b[0;31mLightGBMError\u001b[0m                             Traceback (most recent call last)",
      "\u001b[0;32m<ipython-input-92-e41d699fbaf4>\u001b[0m in \u001b[0;36m<module>\u001b[0;34m\u001b[0m\n\u001b[1;32m      4\u001b[0m \u001b[0mfolds\u001b[0m\u001b[0;34m,\u001b[0m \u001b[0mtrain_seasons\u001b[0m\u001b[0;34m,\u001b[0m \u001b[0mtest_seasons\u001b[0m \u001b[0;34m=\u001b[0m \u001b[0msscv\u001b[0m\u001b[0;34m.\u001b[0m\u001b[0msplit\u001b[0m\u001b[0;34m(\u001b[0m\u001b[0mtrain_size\u001b[0m\u001b[0;34m=\u001b[0m\u001b[0;36m2\u001b[0m\u001b[0;34m,\u001b[0m \u001b[0mtest_size\u001b[0m\u001b[0;34m=\u001b[0m\u001b[0;36m1\u001b[0m\u001b[0;34m)\u001b[0m\u001b[0;34m\u001b[0m\u001b[0;34m\u001b[0m\u001b[0m\n\u001b[1;32m      5\u001b[0m \u001b[0mparams\u001b[0m \u001b[0;34m=\u001b[0m \u001b[0;34m(\u001b[0m\u001b[0mexperiment_name\u001b[0m\u001b[0;34m,\u001b[0m \u001b[0mop_model\u001b[0m\u001b[0;34m,\u001b[0m \u001b[0mfolds\u001b[0m\u001b[0;34m,\u001b[0m \u001b[0mtrain_seasons\u001b[0m\u001b[0;34m,\u001b[0m \u001b[0mtest_seasons\u001b[0m\u001b[0;34m,\u001b[0m \u001b[0mX\u001b[0m\u001b[0;34m,\u001b[0m \u001b[0my\u001b[0m\u001b[0;34m)\u001b[0m\u001b[0;34m\u001b[0m\u001b[0;34m\u001b[0m\u001b[0m\n\u001b[0;32m----> 6\u001b[0;31m \u001b[0mnames\u001b[0m\u001b[0;34m,\u001b[0m \u001b[0mresults\u001b[0m \u001b[0;34m=\u001b[0m \u001b[0mutils_exp\u001b[0m\u001b[0;34m.\u001b[0m\u001b[0mrun_experiment\u001b[0m\u001b[0;34m(\u001b[0m\u001b[0;34m*\u001b[0m\u001b[0mparams\u001b[0m\u001b[0;34m)\u001b[0m\u001b[0;34m\u001b[0m\u001b[0;34m\u001b[0m\u001b[0m\n\u001b[0m\u001b[1;32m      7\u001b[0m \u001b[0mresults_total\u001b[0m\u001b[0;34m.\u001b[0m\u001b[0mappend\u001b[0m\u001b[0;34m(\u001b[0m\u001b[0;34m(\u001b[0m\u001b[0mexperiment_name\u001b[0m\u001b[0;34m,\u001b[0m \u001b[0mresults\u001b[0m\u001b[0;34m)\u001b[0m\u001b[0;34m)\u001b[0m\u001b[0;34m\u001b[0m\u001b[0;34m\u001b[0m\u001b[0m\n\u001b[1;32m      8\u001b[0m \u001b[0;34m\u001b[0m\u001b[0m\n",
      "\u001b[0;32m~/dev/studies/MULCIA/TFM/nba-predictor/utils_nba_point_spead_reg.py\u001b[0m in \u001b[0;36mrun_experiment\u001b[0;34m(exp_name, models, folds, train_seasons, test_seasons, X, y, preprocessor, targetTransformer)\u001b[0m\n\u001b[1;32m     76\u001b[0m                 \u001b[0mmodel\u001b[0m \u001b[0;34m=\u001b[0m \u001b[0mTransformedTargetRegressor\u001b[0m\u001b[0;34m(\u001b[0m\u001b[0mregressor\u001b[0m\u001b[0;34m=\u001b[0m\u001b[0mpipeline\u001b[0m\u001b[0;34m,\u001b[0m \u001b[0mtransformer\u001b[0m\u001b[0;34m=\u001b[0m\u001b[0mtargetTransformer\u001b[0m\u001b[0;34m)\u001b[0m\u001b[0;34m\u001b[0m\u001b[0;34m\u001b[0m\u001b[0m\n\u001b[1;32m     77\u001b[0m \u001b[0;34m\u001b[0m\u001b[0m\n\u001b[0;32m---> 78\u001b[0;31m             \u001b[0mfit_info\u001b[0m \u001b[0;34m=\u001b[0m \u001b[0mmodel\u001b[0m\u001b[0;34m.\u001b[0m\u001b[0mfit\u001b[0m\u001b[0;34m(\u001b[0m\u001b[0mX_train\u001b[0m\u001b[0;34m,\u001b[0m \u001b[0my_train\u001b[0m\u001b[0;34m)\u001b[0m\u001b[0;34m\u001b[0m\u001b[0;34m\u001b[0m\u001b[0m\n\u001b[0m\u001b[1;32m     79\u001b[0m             \u001b[0my_pred\u001b[0m \u001b[0;34m=\u001b[0m \u001b[0mmodel\u001b[0m\u001b[0;34m.\u001b[0m\u001b[0mpredict\u001b[0m\u001b[0;34m(\u001b[0m\u001b[0mX_test\u001b[0m\u001b[0;34m)\u001b[0m\u001b[0;34m\u001b[0m\u001b[0;34m\u001b[0m\u001b[0m\n\u001b[1;32m     80\u001b[0m \u001b[0;34m\u001b[0m\u001b[0m\n",
      "\u001b[0;32m~/anaconda3/envs/nba-predictor/lib/python3.7/site-packages/sklearn/pipeline.py\u001b[0m in \u001b[0;36mfit\u001b[0;34m(self, X, y, **fit_params)\u001b[0m\n\u001b[1;32m    333\u001b[0m             \u001b[0;32mif\u001b[0m \u001b[0mself\u001b[0m\u001b[0;34m.\u001b[0m\u001b[0m_final_estimator\u001b[0m \u001b[0;34m!=\u001b[0m \u001b[0;34m'passthrough'\u001b[0m\u001b[0;34m:\u001b[0m\u001b[0;34m\u001b[0m\u001b[0;34m\u001b[0m\u001b[0m\n\u001b[1;32m    334\u001b[0m                 \u001b[0mfit_params_last_step\u001b[0m \u001b[0;34m=\u001b[0m \u001b[0mfit_params_steps\u001b[0m\u001b[0;34m[\u001b[0m\u001b[0mself\u001b[0m\u001b[0;34m.\u001b[0m\u001b[0msteps\u001b[0m\u001b[0;34m[\u001b[0m\u001b[0;34m-\u001b[0m\u001b[0;36m1\u001b[0m\u001b[0;34m]\u001b[0m\u001b[0;34m[\u001b[0m\u001b[0;36m0\u001b[0m\u001b[0;34m]\u001b[0m\u001b[0;34m]\u001b[0m\u001b[0;34m\u001b[0m\u001b[0;34m\u001b[0m\u001b[0m\n\u001b[0;32m--> 335\u001b[0;31m                 \u001b[0mself\u001b[0m\u001b[0;34m.\u001b[0m\u001b[0m_final_estimator\u001b[0m\u001b[0;34m.\u001b[0m\u001b[0mfit\u001b[0m\u001b[0;34m(\u001b[0m\u001b[0mXt\u001b[0m\u001b[0;34m,\u001b[0m \u001b[0my\u001b[0m\u001b[0;34m,\u001b[0m \u001b[0;34m**\u001b[0m\u001b[0mfit_params_last_step\u001b[0m\u001b[0;34m)\u001b[0m\u001b[0;34m\u001b[0m\u001b[0;34m\u001b[0m\u001b[0m\n\u001b[0m\u001b[1;32m    336\u001b[0m \u001b[0;34m\u001b[0m\u001b[0m\n\u001b[1;32m    337\u001b[0m         \u001b[0;32mreturn\u001b[0m \u001b[0mself\u001b[0m\u001b[0;34m\u001b[0m\u001b[0;34m\u001b[0m\u001b[0m\n",
      "\u001b[0;32m~/anaconda3/envs/nba-predictor/lib/python3.7/site-packages/lightgbm/sklearn.py\u001b[0m in \u001b[0;36mfit\u001b[0;34m(self, X, y, sample_weight, init_score, eval_set, eval_names, eval_sample_weight, eval_init_score, eval_metric, early_stopping_rounds, verbose, feature_name, categorical_feature, callbacks)\u001b[0m\n\u001b[1;32m    736\u001b[0m                                        \u001b[0mverbose\u001b[0m\u001b[0;34m=\u001b[0m\u001b[0mverbose\u001b[0m\u001b[0;34m,\u001b[0m \u001b[0mfeature_name\u001b[0m\u001b[0;34m=\u001b[0m\u001b[0mfeature_name\u001b[0m\u001b[0;34m,\u001b[0m\u001b[0;34m\u001b[0m\u001b[0;34m\u001b[0m\u001b[0m\n\u001b[1;32m    737\u001b[0m                                        \u001b[0mcategorical_feature\u001b[0m\u001b[0;34m=\u001b[0m\u001b[0mcategorical_feature\u001b[0m\u001b[0;34m,\u001b[0m\u001b[0;34m\u001b[0m\u001b[0;34m\u001b[0m\u001b[0m\n\u001b[0;32m--> 738\u001b[0;31m                                        callbacks=callbacks)\n\u001b[0m\u001b[1;32m    739\u001b[0m         \u001b[0;32mreturn\u001b[0m \u001b[0mself\u001b[0m\u001b[0;34m\u001b[0m\u001b[0;34m\u001b[0m\u001b[0m\n\u001b[1;32m    740\u001b[0m \u001b[0;34m\u001b[0m\u001b[0m\n",
      "\u001b[0;32m~/anaconda3/envs/nba-predictor/lib/python3.7/site-packages/lightgbm/sklearn.py\u001b[0m in \u001b[0;36mfit\u001b[0;34m(self, X, y, sample_weight, init_score, group, eval_set, eval_names, eval_sample_weight, eval_class_weight, eval_init_score, eval_group, eval_metric, early_stopping_rounds, verbose, feature_name, categorical_feature, callbacks)\u001b[0m\n\u001b[1;32m    593\u001b[0m                               \u001b[0mverbose_eval\u001b[0m\u001b[0;34m=\u001b[0m\u001b[0mverbose\u001b[0m\u001b[0;34m,\u001b[0m \u001b[0mfeature_name\u001b[0m\u001b[0;34m=\u001b[0m\u001b[0mfeature_name\u001b[0m\u001b[0;34m,\u001b[0m\u001b[0;34m\u001b[0m\u001b[0;34m\u001b[0m\u001b[0m\n\u001b[1;32m    594\u001b[0m                               \u001b[0mcategorical_feature\u001b[0m\u001b[0;34m=\u001b[0m\u001b[0mcategorical_feature\u001b[0m\u001b[0;34m,\u001b[0m\u001b[0;34m\u001b[0m\u001b[0;34m\u001b[0m\u001b[0m\n\u001b[0;32m--> 595\u001b[0;31m                               callbacks=callbacks)\n\u001b[0m\u001b[1;32m    596\u001b[0m \u001b[0;34m\u001b[0m\u001b[0m\n\u001b[1;32m    597\u001b[0m         \u001b[0;32mif\u001b[0m \u001b[0mevals_result\u001b[0m\u001b[0;34m:\u001b[0m\u001b[0;34m\u001b[0m\u001b[0;34m\u001b[0m\u001b[0m\n",
      "\u001b[0;32m~/anaconda3/envs/nba-predictor/lib/python3.7/site-packages/lightgbm/engine.py\u001b[0m in \u001b[0;36mtrain\u001b[0;34m(params, train_set, num_boost_round, valid_sets, valid_names, fobj, feval, init_model, feature_name, categorical_feature, early_stopping_rounds, evals_result, verbose_eval, learning_rates, keep_training_booster, callbacks)\u001b[0m\n\u001b[1;32m    232\u001b[0m             \u001b[0mbooster\u001b[0m\u001b[0;34m.\u001b[0m\u001b[0madd_valid\u001b[0m\u001b[0;34m(\u001b[0m\u001b[0mvalid_set\u001b[0m\u001b[0;34m,\u001b[0m \u001b[0mname_valid_set\u001b[0m\u001b[0;34m)\u001b[0m\u001b[0;34m\u001b[0m\u001b[0;34m\u001b[0m\u001b[0m\n\u001b[1;32m    233\u001b[0m     \u001b[0;32mfinally\u001b[0m\u001b[0;34m:\u001b[0m\u001b[0;34m\u001b[0m\u001b[0;34m\u001b[0m\u001b[0m\n\u001b[0;32m--> 234\u001b[0;31m         \u001b[0mtrain_set\u001b[0m\u001b[0;34m.\u001b[0m\u001b[0m_reverse_update_params\u001b[0m\u001b[0;34m(\u001b[0m\u001b[0;34m)\u001b[0m\u001b[0;34m\u001b[0m\u001b[0;34m\u001b[0m\u001b[0m\n\u001b[0m\u001b[1;32m    235\u001b[0m         \u001b[0;32mfor\u001b[0m \u001b[0mvalid_set\u001b[0m \u001b[0;32min\u001b[0m \u001b[0mreduced_valid_sets\u001b[0m\u001b[0;34m:\u001b[0m\u001b[0;34m\u001b[0m\u001b[0;34m\u001b[0m\u001b[0m\n\u001b[1;32m    236\u001b[0m             \u001b[0mvalid_set\u001b[0m\u001b[0;34m.\u001b[0m\u001b[0m_reverse_update_params\u001b[0m\u001b[0;34m(\u001b[0m\u001b[0;34m)\u001b[0m\u001b[0;34m\u001b[0m\u001b[0;34m\u001b[0m\u001b[0m\n",
      "\u001b[0;32m~/anaconda3/envs/nba-predictor/lib/python3.7/site-packages/lightgbm/basic.py\u001b[0m in \u001b[0;36m_reverse_update_params\u001b[0;34m(self)\u001b[0m\n\u001b[1;32m   1131\u001b[0m         \u001b[0mself\u001b[0m\u001b[0;34m.\u001b[0m\u001b[0mparams_back_up\u001b[0m \u001b[0;34m=\u001b[0m \u001b[0;32mNone\u001b[0m\u001b[0;34m\u001b[0m\u001b[0;34m\u001b[0m\u001b[0m\n\u001b[1;32m   1132\u001b[0m         \u001b[0;32mif\u001b[0m \u001b[0mself\u001b[0m\u001b[0;34m.\u001b[0m\u001b[0mhandle\u001b[0m \u001b[0;32mis\u001b[0m \u001b[0;32mnot\u001b[0m \u001b[0;32mNone\u001b[0m \u001b[0;32mand\u001b[0m \u001b[0mself\u001b[0m\u001b[0;34m.\u001b[0m\u001b[0mparams\u001b[0m \u001b[0;32mis\u001b[0m \u001b[0;32mnot\u001b[0m \u001b[0;32mNone\u001b[0m\u001b[0;34m:\u001b[0m\u001b[0;34m\u001b[0m\u001b[0;34m\u001b[0m\u001b[0m\n\u001b[0;32m-> 1133\u001b[0;31m             \u001b[0m_safe_call\u001b[0m\u001b[0;34m(\u001b[0m\u001b[0m_LIB\u001b[0m\u001b[0;34m.\u001b[0m\u001b[0mLGBM_DatasetUpdateParam\u001b[0m\u001b[0;34m(\u001b[0m\u001b[0mself\u001b[0m\u001b[0;34m.\u001b[0m\u001b[0mhandle\u001b[0m\u001b[0;34m,\u001b[0m \u001b[0mc_str\u001b[0m\u001b[0;34m(\u001b[0m\u001b[0mparam_dict_to_str\u001b[0m\u001b[0;34m(\u001b[0m\u001b[0mself\u001b[0m\u001b[0;34m.\u001b[0m\u001b[0mparams\u001b[0m\u001b[0;34m)\u001b[0m\u001b[0;34m)\u001b[0m\u001b[0;34m)\u001b[0m\u001b[0;34m)\u001b[0m\u001b[0;34m\u001b[0m\u001b[0;34m\u001b[0m\u001b[0m\n\u001b[0m\u001b[1;32m   1134\u001b[0m         \u001b[0;32mreturn\u001b[0m \u001b[0mself\u001b[0m\u001b[0;34m\u001b[0m\u001b[0;34m\u001b[0m\u001b[0m\n\u001b[1;32m   1135\u001b[0m \u001b[0;34m\u001b[0m\u001b[0m\n",
      "\u001b[0;32m~/anaconda3/envs/nba-predictor/lib/python3.7/site-packages/lightgbm/basic.py\u001b[0m in \u001b[0;36m_safe_call\u001b[0;34m(ret)\u001b[0m\n\u001b[1;32m     45\u001b[0m     \"\"\"\n\u001b[1;32m     46\u001b[0m     \u001b[0;32mif\u001b[0m \u001b[0mret\u001b[0m \u001b[0;34m!=\u001b[0m \u001b[0;36m0\u001b[0m\u001b[0;34m:\u001b[0m\u001b[0;34m\u001b[0m\u001b[0;34m\u001b[0m\u001b[0m\n\u001b[0;32m---> 47\u001b[0;31m         \u001b[0;32mraise\u001b[0m \u001b[0mLightGBMError\u001b[0m\u001b[0;34m(\u001b[0m\u001b[0mdecode_string\u001b[0m\u001b[0;34m(\u001b[0m\u001b[0m_LIB\u001b[0m\u001b[0;34m.\u001b[0m\u001b[0mLGBM_GetLastError\u001b[0m\u001b[0;34m(\u001b[0m\u001b[0;34m)\u001b[0m\u001b[0;34m)\u001b[0m\u001b[0;34m)\u001b[0m\u001b[0;34m\u001b[0m\u001b[0;34m\u001b[0m\u001b[0m\n\u001b[0m\u001b[1;32m     48\u001b[0m \u001b[0;34m\u001b[0m\u001b[0m\n\u001b[1;32m     49\u001b[0m \u001b[0;34m\u001b[0m\u001b[0m\n",
      "\u001b[0;31mLightGBMError\u001b[0m: Parameter num_leaves should be of type int, got \"95.60966938610218\""
     ]
    }
   ],
   "source": [
    "experiment_name = f\"{exp_prefix}2_seasons_op\"\n",
    "del_result_by(experiment_name)\n",
    "\n",
    "folds, train_seasons, test_seasons = sscv.split(train_size=2, test_size=1)\n",
    "params = (experiment_name, op_model, folds, train_seasons, test_seasons, X, y)\n",
    "names, results = utils_exp.run_experiment(*params)\n",
    "results_total.append((experiment_name, results))\n",
    "\n",
    "print_prettier_exp_results(experiment_name[:-3], metric='mae', filter_val=op_model[0][0])\n",
    "print_prettier_exp_results(experiment_name)\n",
    "\n",
    "\n",
    "# 0\treg_2_seasons\tLR\t8.192009\t0.136491\t10.392967\t0.148882\n",
    "# 2\treg_2_seasons\tSVM\t8.313091\t0.182380\t10.599064\t0.196440\n",
    "# 3\treg_2_seasons\tRF\t8.345848\t0.111711\t10.585308\t0.150436\n",
    "# 4\treg_2_seasons\tLGB\t8.702064\t0.201812\t11.010843\t0.223081\n",
    "# 5\treg_2_seasons\tXGB\t9.194161\t0.189745\t11.583278\t0.253444\n",
    "# 1\treg_2_seasons\tKNN\t9.952810\t0.230096\t12.663717\t0.3101\n",
    "\n",
    "name, res = get_result_by(experiment_name)\n",
    "plot_results(name, res, figsize=(8,4))"
   ]
  },
  {
   "cell_type": "markdown",
   "metadata": {
    "heading_collapsed": true
   },
   "source": [
    "### Final validation"
   ]
  },
  {
   "cell_type": "markdown",
   "metadata": {
    "hidden": true
   },
   "source": [
    "#### Dataset"
   ]
  },
  {
   "cell_type": "code",
   "execution_count": 221,
   "metadata": {
    "ExecuteTime": {
     "end_time": "2020-11-11T05:53:14.921262Z",
     "start_time": "2020-11-11T05:53:14.887916Z"
    },
    "hidden": true,
    "pycharm": {
     "name": "#%%\n"
    }
   },
   "outputs": [],
   "source": [
    "fv_df = season_games[(season_games.SEASON >= 2016)]"
   ]
  },
  {
   "cell_type": "markdown",
   "metadata": {
    "hidden": true
   },
   "source": [
    "##### Seasons"
   ]
  },
  {
   "cell_type": "code",
   "execution_count": 222,
   "metadata": {
    "ExecuteTime": {
     "end_time": "2020-11-11T05:53:15.822195Z",
     "start_time": "2020-11-11T05:53:15.781417Z"
    },
    "hidden": true,
    "pycharm": {
     "name": "#%%\n"
    }
   },
   "outputs": [
    {
     "data": {
      "text/plain": [
       "array([2016, 2017, 2018, 2019])"
      ]
     },
     "execution_count": 222,
     "metadata": {},
     "output_type": "execute_result"
    }
   ],
   "source": [
    "fv_df.SEASON.unique()"
   ]
  },
  {
   "cell_type": "markdown",
   "metadata": {
    "hidden": true
   },
   "source": [
    "##### clean data"
   ]
  },
  {
   "cell_type": "code",
   "execution_count": 223,
   "metadata": {
    "ExecuteTime": {
     "end_time": "2020-11-11T05:53:16.632239Z",
     "start_time": "2020-11-11T05:53:16.590243Z"
    },
    "hidden": true,
    "pycharm": {
     "name": "#%%\n"
    }
   },
   "outputs": [
    {
     "name": "stdout",
     "output_type": "stream",
     "text": [
      "(4749, 261)\n",
      "0\n",
      "0\n",
      "(4685, 261)\n"
     ]
    }
   ],
   "source": [
    "print(fv_df.shape)\n",
    "fv_df = fv_df.dropna()\n",
    "print(fv_df.isnull().sum().sum())\n",
    "print(fv_df.isna().sum().sum())\n",
    "print(fv_df.shape)"
   ]
  },
  {
   "cell_type": "markdown",
   "metadata": {
    "hidden": true
   },
   "source": [
    "#### setup"
   ]
  },
  {
   "cell_type": "code",
   "execution_count": 224,
   "metadata": {
    "ExecuteTime": {
     "end_time": "2020-11-11T05:53:19.031503Z",
     "start_time": "2020-11-11T05:53:19.008386Z"
    },
    "hidden": true,
    "pycharm": {
     "name": "#%%\n"
    }
   },
   "outputs": [],
   "source": [
    "exp_prefix = \"reg_\"\n",
    "exp_group_name = \"reg_final_validation\"\n",
    "results_total = utils.deserialize_object(f'result_totals_{exp_group_name}', [])\n",
    "\n",
    "fv_models = utils_exp.get_reg_models()\n",
    "\n",
    "fv_sscv = utils.SeasonSeriesSplit(fv_df)\n",
    "fv_df_sscv = fv_sscv.get_df()\n",
    "fv_X = fv_df_sscv[exp_X_columns]\n",
    "fv_y = fv_df_sscv[TARGET]"
   ]
  },
  {
   "cell_type": "markdown",
   "metadata": {
    "hidden": true
   },
   "source": [
    "#### experiment"
   ]
  },
  {
   "cell_type": "code",
   "execution_count": 225,
   "metadata": {
    "ExecuteTime": {
     "end_time": "2020-11-11T05:53:21.237133Z",
     "start_time": "2020-11-11T05:53:21.218316Z"
    },
    "hidden": true,
    "pycharm": {
     "name": "#%%\n"
    }
   },
   "outputs": [],
   "source": [
    "experiment_name = f\"{exp_prefix}2_seasons_fv\""
   ]
  },
  {
   "cell_type": "code",
   "execution_count": 226,
   "metadata": {
    "ExecuteTime": {
     "end_time": "2020-11-11T05:53:29.266928Z",
     "start_time": "2020-11-11T05:53:22.209789Z"
    },
    "hidden": true,
    "pycharm": {
     "name": "#%%\n"
    }
   },
   "outputs": [
    {
     "name": "stdout",
     "output_type": "stream",
     "text": [
      "Running experiment reg_2_seasons_fv\n",
      "Done\n"
     ]
    },
    {
     "data": {
      "text/html": [
       "<div>\n",
       "<style scoped>\n",
       "    .dataframe tbody tr th:only-of-type {\n",
       "        vertical-align: middle;\n",
       "    }\n",
       "\n",
       "    .dataframe tbody tr th {\n",
       "        vertical-align: top;\n",
       "    }\n",
       "\n",
       "    .dataframe thead th {\n",
       "        text-align: right;\n",
       "    }\n",
       "</style>\n",
       "<table border=\"1\" class=\"dataframe\">\n",
       "  <thead>\n",
       "    <tr style=\"text-align: right;\">\n",
       "      <th></th>\n",
       "      <th>exp_name</th>\n",
       "      <th>model</th>\n",
       "      <th>mae_mean</th>\n",
       "      <th>mae_std</th>\n",
       "      <th>rmse_mean</th>\n",
       "      <th>rmse_std</th>\n",
       "    </tr>\n",
       "  </thead>\n",
       "  <tbody>\n",
       "    <tr>\n",
       "      <th>0</th>\n",
       "      <td>reg_2_seasons_fv</td>\n",
       "      <td>LR</td>\n",
       "      <td>8.126956</td>\n",
       "      <td>0.155930</td>\n",
       "      <td>10.451102</td>\n",
       "      <td>0.314840</td>\n",
       "    </tr>\n",
       "    <tr>\n",
       "      <th>2</th>\n",
       "      <td>reg_2_seasons_fv</td>\n",
       "      <td>SVM</td>\n",
       "      <td>8.335560</td>\n",
       "      <td>0.139586</td>\n",
       "      <td>10.753539</td>\n",
       "      <td>0.295023</td>\n",
       "    </tr>\n",
       "    <tr>\n",
       "      <th>3</th>\n",
       "      <td>reg_2_seasons_fv</td>\n",
       "      <td>RF</td>\n",
       "      <td>8.399878</td>\n",
       "      <td>0.096542</td>\n",
       "      <td>10.745538</td>\n",
       "      <td>0.285764</td>\n",
       "    </tr>\n",
       "    <tr>\n",
       "      <th>4</th>\n",
       "      <td>reg_2_seasons_fv</td>\n",
       "      <td>LGB</td>\n",
       "      <td>8.811712</td>\n",
       "      <td>0.092612</td>\n",
       "      <td>11.226358</td>\n",
       "      <td>0.256028</td>\n",
       "    </tr>\n",
       "    <tr>\n",
       "      <th>5</th>\n",
       "      <td>reg_2_seasons_fv</td>\n",
       "      <td>XGB</td>\n",
       "      <td>9.241210</td>\n",
       "      <td>0.283491</td>\n",
       "      <td>11.692705</td>\n",
       "      <td>0.454053</td>\n",
       "    </tr>\n",
       "    <tr>\n",
       "      <th>1</th>\n",
       "      <td>reg_2_seasons_fv</td>\n",
       "      <td>KNN</td>\n",
       "      <td>10.491738</td>\n",
       "      <td>0.021062</td>\n",
       "      <td>13.378785</td>\n",
       "      <td>0.096284</td>\n",
       "    </tr>\n",
       "  </tbody>\n",
       "</table>\n",
       "</div>"
      ],
      "text/plain": [
       "           exp_name model   mae_mean   mae_std  rmse_mean  rmse_std\n",
       "0  reg_2_seasons_fv    LR   8.126956  0.155930  10.451102  0.314840\n",
       "2  reg_2_seasons_fv   SVM   8.335560  0.139586  10.753539  0.295023\n",
       "3  reg_2_seasons_fv    RF   8.399878  0.096542  10.745538  0.285764\n",
       "4  reg_2_seasons_fv   LGB   8.811712  0.092612  11.226358  0.256028\n",
       "5  reg_2_seasons_fv   XGB   9.241210  0.283491  11.692705  0.454053\n",
       "1  reg_2_seasons_fv   KNN  10.491738  0.021062  13.378785  0.096284"
      ]
     },
     "execution_count": 226,
     "metadata": {},
     "output_type": "execute_result"
    }
   ],
   "source": [
    "del_result_by(experiment_name)\n",
    "\n",
    "folds, train_seasons, test_seasons = fv_sscv.split(train_size=2, test_size=1)\n",
    "params = (experiment_name, fv_models, folds, train_seasons, test_seasons, fv_X, fv_y)\n",
    "names, results = utils_exp.run_experiment(*params)\n",
    "results_total.append((experiment_name, results))\n",
    "\n",
    "print_prettier_exp_results(experiment_name)"
   ]
  },
  {
   "cell_type": "code",
   "execution_count": 227,
   "metadata": {
    "ExecuteTime": {
     "end_time": "2020-11-11T05:53:29.853883Z",
     "start_time": "2020-11-11T05:53:29.583820Z"
    },
    "hidden": true,
    "pycharm": {
     "name": "#%%\n"
    }
   },
   "outputs": [
    {
     "data": {
      "image/png": "[encoded data removed]",
      "text/plain": [
       "<Figure size 576x288 with 1 Axes>"
      ]
     },
     "metadata": {},
     "output_type": "display_data"
    }
   ],
   "source": [
    "#### Visualize experiments results\n",
    "name, res = get_result_by(experiment_name)\n",
    "plot_results(name, res, figsize=(8,4))"
   ]
  },
  {
   "cell_type": "code",
   "execution_count": null,
   "metadata": {
    "hidden": true,
    "pycharm": {
     "name": "#%%\n"
    }
   },
   "outputs": [],
   "source": []
  }
 ],
 "metadata": {
  "celltoolbar": "Initialization Cell",
  "hide_input": false,
  "kernelspec": {
   "display_name": "Python 3",
   "language": "python",
   "name": "python3"
  },
  "language_info": {
   "codemirror_mode": {
    "name": "ipython",
    "version": 3
   },
   "file_extension": ".py",
   "mimetype": "text/x-python",
   "name": "python",
   "nbconvert_exporter": "python",
   "pygments_lexer": "ipython3",
   "version": "3.7.7"
  },
  "toc": {
   "base_numbering": 1,
   "nav_menu": {
    "height": "491.972px",
    "width": "409.965px"
   },
   "number_sections": true,
   "sideBar": true,
   "skip_h1_title": false,
   "title_cell": "Table of Contents",
   "title_sidebar": "Contents",
   "toc_cell": false,
   "toc_position": {
    "height": "calc(100% - 180px)",
    "left": "10px",
    "top": "150px",
    "width": "295.445px"
   },
   "toc_section_display": true,
   "toc_window_display": false
  },
  "varInspector": {
   "cols": {
    "lenName": 16,
    "lenType": 16,
    "lenVar": 40
   },
   "kernels_config": {
    "python": {
     "delete_cmd_postfix": "",
     "delete_cmd_prefix": "del ",
     "library": "var_list.py",
     "varRefreshCmd": "print(var_dic_list())"
    },
    "r": {
     "delete_cmd_postfix": ") ",
     "delete_cmd_prefix": "rm(",
     "library": "var_list.r",
     "varRefreshCmd": "cat(var_dic_list()) "
    }
   },
   "types_to_exclude": [
    "module",
    "function",
    "builtin_function_or_method",
    "instance",
    "_Feature"
   ],
   "window_display": false
  }
 },
 "nbformat": 4,
 "nbformat_minor": 1
}
