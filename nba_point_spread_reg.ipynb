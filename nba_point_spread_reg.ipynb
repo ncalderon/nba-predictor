{
 "cells": [
  {
   "cell_type": "markdown",
   "source": [
    "# NBA Point Spread Regressor Experiments"
   ],
   "metadata": {
    "collapsed": false
   }
  },
  {
   "cell_type": "markdown",
   "source": [
    "## Imports"
   ],
   "metadata": {
    "collapsed": false
   }
  },
  {
   "cell_type": "code",
   "execution_count": null,
   "outputs": [],
   "source": [
    "import numpy as np\n",
    "import matplotlib.pyplot as plt\n",
    "import pandas as pd\n",
    "import seaborn as sns\n",
    "#pd.options.display.max_columns = None\n",
    "#pd.set_option(\"display.max_colwidth\", None)\n",
    "from IPython.core.interactiveshell import InteractiveShell\n",
    "InteractiveShell.ast_node_interactivity = \"all\"\n",
    "#pd.set_option(\"display.max_rows\", None)\n",
    "import model.train as train\n",
    "import model.config as model_config\n",
    "import utils\n",
    "import model.dataset.game_matchup as gm\n",
    "import experiments as exp\n",
    "import qgrid\n",
    "from yellowbrick import classifier, features, regressor\n",
    "import yellowbrick.model_selection as ms\n",
    "from pandas_profiling import ProfileReport\n",
    "\n",
    "from sklearn.pipeline import Pipeline\n",
    "from sklearn.preprocessing import StandardScaler, MinMaxScaler\n",
    "from sklearn.compose import ColumnTransformer"
   ],
   "metadata": {
    "collapsed": false,
    "pycharm": {
     "name": "#%%\n"
    }
   }
  },
  {
   "cell_type": "code",
   "execution_count": null,
   "outputs": [],
   "source": [
    "%load_ext autoreload\n",
    "%autoreload 2\n",
    "%matplotlib inline\n",
    "\n",
    "sns.set(style=\"whitegrid\", palette=\"husl\")"
   ],
   "metadata": {
    "collapsed": false,
    "pycharm": {
     "name": "#%%\n"
    }
   }
  },
  {
   "cell_type": "markdown",
   "source": [
    "### Utils functions"
   ],
   "metadata": {
    "collapsed": false
   }
  },
  {
   "cell_type": "code",
   "execution_count": null,
   "outputs": [],
   "source": [
    "def show_qgrid(df_):\n",
    "    qgrid_widget = qgrid.show_grid(df_, show_toolbar=True , grid_options={'forceFitColumns': False, 'defaultColumnWidth': 200})\n",
    "    qgrid_widget"
   ],
   "metadata": {
    "collapsed": false,
    "pycharm": {
     "name": "#%%\n"
    }
   }
  },
  {
   "cell_type": "code",
   "execution_count": null,
   "outputs": [],
   "source": [
    "def plot_results(experiment_name, results, figsize=(20,10)):\n",
    "    plt.figure(figsize=figsize)\n",
    "    results_df = exp.map_results_to_df(results)\n",
    "    a = sns.pointplot(data=results_df,\n",
    "              kind=\"point\", x=\"season_test\", y=\"balanced_accuracy\", hue=\"model\"\n",
    "              )\n",
    "    a.set_title(\n",
    "        f\"{experiment_name}-balanced_accuracy\")\n",
    "    a.legend(bbox_to_anchor=(1.05, 1), loc=2, borderaxespad=0.)"
   ],
   "metadata": {
    "collapsed": false,
    "pycharm": {
     "name": "#%%\n"
    }
   }
  },
  {
   "cell_type": "code",
   "execution_count": null,
   "outputs": [],
   "source": [
    "def get_results_df(algorithm_type='clf'):\n",
    "    if algorithm_type == 'reg':\n",
    "        return pd.DataFrame(exp.reg_exp_results)\n",
    "    else:\n",
    "        return pd.DataFrame(exp.exp_results)"
   ],
   "metadata": {
    "collapsed": false,
    "pycharm": {
     "name": "#%%\n"
    }
   }
  },
  {
   "cell_type": "code",
   "execution_count": null,
   "outputs": [],
   "source": [
    "metrics = ['precision', 'balanced_accuracy', 'recall', 'f1', 'roc_auc']\n",
    "\n",
    "def print_prettier_exp_results(exp_name, metric='roc_auc'):\n",
    "    ba_df = get_results_df()[['exp_name', 'model',\n",
    "       f'{metric}_mean', f'{metric}_std']]\n",
    "    return ba_df[ba_df.exp_name == exp_name].sort_values(by=[f\"{metric}_mean\"], ascending=False)\n",
    "\n",
    "\n",
    "reg_metrics = ['mae', 'mse', 'rmse']\n",
    "\n",
    "def print_prettier_reg_exp_results(exp_name, metric='mse'):\n",
    "    ba_df = get_results_df('reg')\n",
    "    return ba_df[ba_df.exp_name == exp_name].sort_values(by=[f\"{metric}_mean\"], ascending=False)"
   ],
   "metadata": {
    "collapsed": false,
    "pycharm": {
     "name": "#%%\n"
    }
   }
  },
  {
   "cell_type": "markdown",
   "source": [
    "## Load Dataset"
   ],
   "metadata": {
    "collapsed": false
   }
  },
  {
   "cell_type": "code",
   "execution_count": null,
   "outputs": [],
   "source": [
    "gm_df = gm.load_game_matchup_dataset()"
   ],
   "metadata": {
    "collapsed": false,
    "pycharm": {
     "name": "#%%\n"
    }
   }
  },
  {
   "cell_type": "markdown",
   "source": [
    "## EDA"
   ],
   "metadata": {
    "collapsed": false
   }
  },
  {
   "cell_type": "code",
   "execution_count": null,
   "outputs": [],
   "source": [
    "eda_df = gm_df"
   ],
   "metadata": {
    "collapsed": false,
    "pycharm": {
     "name": "#%%\n"
    }
   }
  },
  {
   "cell_type": "code",
   "execution_count": null,
   "outputs": [],
   "source": [
    "eda_df.info()"
   ],
   "metadata": {
    "collapsed": false,
    "pycharm": {
     "name": "#%%\n"
    }
   }
  },
  {
   "cell_type": "code",
   "execution_count": null,
   "outputs": [],
   "source": [
    "eda_df.describe()"
   ],
   "metadata": {
    "collapsed": false,
    "pycharm": {
     "name": "#%%\n"
    }
   }
  },
  {
   "cell_type": "code",
   "execution_count": null,
   "outputs": [],
   "source": [
    "eda_df[\"WIN\"] = [\"HOME\" if x == 1 else \"VISITOR\" for x in eda_df['HOME_TEAM_WINS']]"
   ],
   "metadata": {
    "collapsed": false,
    "pycharm": {
     "name": "#%%\n"
    }
   }
  },
  {
   "cell_type": "code",
   "execution_count": null,
   "outputs": [],
   "source": [
    "eda_df[\"WIN\"].value_counts()"
   ],
   "metadata": {
    "collapsed": false,
    "pycharm": {
     "name": "#%%\n"
    }
   }
  },
  {
   "cell_type": "markdown",
   "source": [
    "### Pandas Profiling"
   ],
   "metadata": {
    "collapsed": false
   }
  },
  {
   "cell_type": "code",
   "execution_count": null,
   "outputs": [],
   "source": [
    "profile = ProfileReport(eda_df, title='Pandas Profiling Report', pool_size=4,\n",
    "                        minimal=True,\n",
    "                        explorative=True,\n",
    "                           correlations={\n",
    "             \"pearson\": {\"calculate\": True},\n",
    "             \"spearman\": {\"calculate\": True},\n",
    "             \"kendall\": {\"calculate\": True},\n",
    "             \"phi_k\": {\"calculate\": False},\n",
    "             \"cramers\": {\"calculate\": False},\n",
    "         })\n",
    "profile"
   ],
   "metadata": {
    "collapsed": false,
    "pycharm": {
     "name": "#%%\n"
    }
   }
  },
  {
   "cell_type": "markdown",
   "source": [
    "### By Team"
   ],
   "metadata": {
    "collapsed": false
   }
  },
  {
   "cell_type": "code",
   "execution_count": null,
   "outputs": [],
   "source": [
    "last_season = eda_df[eda_df.SEASON == 2018]\n",
    "last_season.head()"
   ],
   "metadata": {
    "collapsed": false,
    "pycharm": {
     "name": "#%%\n"
    }
   }
  },
  {
   "cell_type": "code",
   "execution_count": null,
   "outputs": [],
   "source": [
    "home_wins_df = last_season[[\"HOME_TEAM_NAME\", \"HOME_TEAM_WINS\"]].groupby(by=\"HOME_TEAM_NAME\") \\\n",
    ".agg({'HOME_TEAM_NAME':'count', 'HOME_TEAM_WINS': 'sum'}) \\\n",
    ".sort_values(by=[\"HOME_TEAM_WINS\"], ascending=False)\n",
    "home_wins_df[\"TEAM_LOSS\"] = home_wins_df[\"HOME_TEAM_NAME\"] - home_wins_df[\"HOME_TEAM_WINS\"]\n",
    "home_wins_df.drop(labels=[\"HOME_TEAM_NAME\"], axis=1, inplace=True)\n",
    "home_wins_df.rename(columns={\"HOME_TEAM_WINS\": \"TEAM_WINS\"}, inplace=True)\n",
    "home_wins_df.index.rename(\"TEAM_NAME\", inplace=True)\n",
    "home_wins_df"
   ],
   "metadata": {
    "collapsed": false,
    "pycharm": {
     "name": "#%%\n"
    }
   }
  },
  {
   "cell_type": "code",
   "execution_count": null,
   "outputs": [],
   "source": [
    "visitor_wins_df = last_season[[\"VISITOR_TEAM_NAME\", \"HOME_TEAM_WINS\"]].groupby(by=\"VISITOR_TEAM_NAME\") \\\n",
    ".agg({'VISITOR_TEAM_NAME':'count', 'HOME_TEAM_WINS': 'sum'}) \\\n",
    ".sort_values(by=[\"HOME_TEAM_WINS\"], ascending=False)\n",
    "visitor_wins_df[\"TEAM_WINS\"] = visitor_wins_df[\"VISITOR_TEAM_NAME\"] - visitor_wins_df[\"HOME_TEAM_WINS\"]\n",
    "visitor_wins_df.rename(columns={\"HOME_TEAM_WINS\": \"TEAM_LOSS\"}, inplace=True)\n",
    "visitor_wins_df.drop(labels=[\"VISITOR_TEAM_NAME\"], axis=1, inplace=True)\n",
    "visitor_wins_df.index.rename(\"TEAM_NAME\", inplace=True)\n",
    "#visitor_wins_df = visitor_wins_df[[\"TEAM_WINS\"]]\n",
    "visitor_wins_df = visitor_wins_df[[\"TEAM_WINS\", \"TEAM_LOSS\"]]\n",
    "visitor_wins_df"
   ],
   "metadata": {
    "collapsed": false,
    "pycharm": {
     "name": "#%%\n"
    }
   }
  },
  {
   "cell_type": "code",
   "execution_count": null,
   "outputs": [],
   "source": [
    "home_wins_df.combine(visitor_wins_df, lambda s1, s2: s1 + s2).sort_values(by=\"TEAM_WINS\", ascending=False)"
   ],
   "metadata": {
    "collapsed": false,
    "pycharm": {
     "name": "#%%\n"
    }
   }
  },
  {
   "cell_type": "code",
   "execution_count": null,
   "outputs": [],
   "source": [
    "mil_df = last_season[(last_season.VISITOR_TEAM_NAME == 'MIL') | (last_season.HOME_TEAM_NAME == 'MIL')]\n",
    "mil_df['GAME_N'] = range(1, 83,1)\n",
    "mil_df"
   ],
   "metadata": {
    "collapsed": false,
    "pycharm": {
     "name": "#%%\n"
    }
   }
  },
  {
   "cell_type": "code",
   "execution_count": null,
   "outputs": [],
   "source": [
    "#sns.regplot(x=mil_df[\"GAME_N\"], y=mil_df[\"GAME_N\"])\n",
    "#sns.catplot(data=mil_df[[\"HOME_TEAM_NAME\", \"GAME_N\", \"WIN\"]],  x=\"GAME_N\", y=\"HOME_TEAM_NAME\", kind=\"bar\", hue=\"WIN\", palette=\"Set2\")\n",
    "#sns.displot(data=mil_df, x=\"GAME_N\", hue=\"WIN\", multiple=\"stack\")\n",
    "#plt.show()\n"
   ],
   "metadata": {
    "collapsed": false,
    "pycharm": {
     "name": "#%%\n"
    }
   }
  },
  {
   "cell_type": "markdown",
   "source": [
    "### Scatter plot"
   ],
   "metadata": {
    "collapsed": false
   }
  },
  {
   "cell_type": "markdown",
   "source": [
    "## Dataset\n"
   ],
   "metadata": {
    "collapsed": false
   }
  },
  {
   "cell_type": "code",
   "execution_count": null,
   "outputs": [],
   "source": [
    "gm_df.groupby(by=\"SEASON\").count()[\"GAME_DATE_EST\"]"
   ],
   "metadata": {
    "collapsed": false,
    "pycharm": {
     "name": "#%%\n"
    }
   }
  },
  {
   "cell_type": "markdown",
   "source": [
    "Podemos observar que no todas las temporadas tiene la misma cantidad de partidos. Esto es debido a la siguientes razones:\n",
    "\n",
    "- 2011: Los jugadores hicieron una huelga debido a no estar de acuerdo con los salarios de los mismos y el limite salarial de las franquicias.\n",
    "- 2012: Un partido entre el equipo de Boston e Indiana fue suspedindo el cual despues no fue reprogramado, y al final de la temporada se decidio ya no reprogramarlo debido a que la clasificacion a playoff ya estaba decidida y no afectaba el resultado.\n",
    "\n",
    "Por tanto se seleccionaran solo las temporadas a partir del 2013(inclusive)."
   ],
   "metadata": {
    "collapsed": false
   }
  },
  {
   "cell_type": "code",
   "execution_count": null,
   "outputs": [],
   "source": [
    "df = gm_df[gm_df.SEASON >= 2013]\n",
    "seasons_size = len(df.SEASON.unique())\n",
    "seasons = list(df.SEASON.unique())"
   ],
   "metadata": {
    "collapsed": false,
    "pycharm": {
     "name": "#%%\n"
    }
   }
  },
  {
   "cell_type": "markdown",
   "source": [
    "## Experiments"
   ],
   "metadata": {
    "collapsed": false
   }
  },
  {
   "cell_type": "markdown",
   "source": [
    "### Setup"
   ],
   "metadata": {
    "collapsed": false
   }
  },
  {
   "cell_type": "code",
   "execution_count": null,
   "outputs": [],
   "source": [
    "exp_prefix = \"reg\"\n",
    "exp_group_name = \"reg_exp\"\n",
    "reg_results_total = []\n",
    "exp.exp_results = []\n",
    "TARGET = \"HOME_TEAM_WINS\"\n",
    "exp_X_columns = model_config.X_COLUMNS\n",
    "exp_y_columns = model_config.Y_COLUMNS[:-1]\n",
    "\n",
    "reg_models = exp.get_reg_models()\n",
    "\n",
    "sscv = utils.SeasonSeriesSplit(df)\n",
    "df_sscv = sscv.get_df()\n",
    "X = df_sscv[exp_X_columns]\n",
    "y = df_sscv[exp_y_columns]\n",
    "\n",
    "num_pipeline = Pipeline([\n",
    "    ('std_scaler', StandardScaler())\n",
    "])\n",
    "preprocessor = ColumnTransformer([\n",
    "    ('numerical', num_pipeline, model_config.X_NUM_COLS)\n",
    "], remainder='passthrough')"
   ],
   "metadata": {
    "collapsed": false,
    "pycharm": {
     "name": "#%%\n"
    }
   }
  },
  {
   "cell_type": "markdown",
   "source": [
    "### Models evaluation"
   ],
   "metadata": {
    "collapsed": false
   }
  },
  {
   "cell_type": "code",
   "execution_count": null,
   "outputs": [],
   "source": [
    "experiment_name = f\"{exp_prefix}1_season\"\n",
    "\n",
    "folds, train_seasons, test_seasons = sscv.split(train_size=1, test_size=1)\n",
    "params = (experiment_name, reg_models, folds, train_seasons, test_seasons, X, y, preprocessor\n",
    "         ,exp.calculate_reg_metrics, 'reg'\n",
    "         )\n",
    "names, results = exp.run_experiment(*params)\n",
    "reg_results_total.append((experiment_name, results))\n",
    "\n",
    "print_prettier_reg_exp_results(experiment_name)"
   ],
   "metadata": {
    "collapsed": false,
    "pycharm": {
     "name": "#%%\n"
    }
   }
  },
  {
   "cell_type": "code",
   "execution_count": null,
   "outputs": [],
   "source": [
    "print_prettier_reg_exp_results(experiment_name)"
   ],
   "metadata": {
    "collapsed": false,
    "pycharm": {
     "name": "#%%\n"
    }
   }
  },
  {
   "cell_type": "code",
   "execution_count": null,
   "outputs": [],
   "source": [],
   "metadata": {
    "collapsed": false,
    "pycharm": {
     "name": "#%%\n"
    }
   }
  }
 ],
 "metadata": {
  "kernelspec": {
   "display_name": "Python 3",
   "language": "python",
   "name": "python3"
  },
  "language_info": {
   "codemirror_mode": {
    "name": "ipython",
    "version": 2
   },
   "file_extension": ".py",
   "mimetype": "text/x-python",
   "name": "python",
   "nbconvert_exporter": "python",
   "pygments_lexer": "ipython2",
   "version": "2.7.6"
  }
 },
 "nbformat": 4,
 "nbformat_minor": 0
}