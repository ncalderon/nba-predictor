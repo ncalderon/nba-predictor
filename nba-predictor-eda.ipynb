{
 "cells": [
  {
   "cell_type": "markdown",
   "metadata": {},
   "source": [
    "# EDA"
   ]
  },
  {
   "cell_type": "markdown",
   "metadata": {},
   "source": [
    "## Import Libraries"
   ]
  },
  {
   "cell_type": "code",
   "execution_count": 12,
   "metadata": {},
   "outputs": [
    {
     "name": "stderr",
     "output_type": "stream",
     "text": [
      "/home/nathaniel/anaconda3/envs/nba-predictor/lib/python3.7/site-packages/ipykernel_launcher.py:9: FutureWarning: Passing a negative integer is deprecated in version 1.0 and will not be supported in future version. Instead, use None to not limit the column width.\n",
      "  if __name__ == '__main__':\n"
     ]
    }
   ],
   "source": [
    "import numpy as np\n",
    "import pandas as pd\n",
    "import seaborn as sns\n",
    "import matplotlib.pyplot as plt\n",
    "sns.set()\n",
    "%matplotlib inline\n",
    "from pandas import DataFrame\n",
    "pd.options.display.max_columns = None\n",
    "pd.set_option(\"display.max_colwidth\", -1)\n",
    "from IPython.core.interactiveshell import InteractiveShell\n",
    "InteractiveShell.ast_node_interactivity = \"all\"\n",
    "pd.set_option(\"display.max_rows\", 101)"
   ]
  },
  {
   "cell_type": "markdown",
   "metadata": {},
   "source": [
    "## Importing the dataset"
   ]
  },
  {
   "cell_type": "code",
   "execution_count": 3,
   "metadata": {},
   "outputs": [],
   "source": [
    "DATA_PATH = 'data'\n",
    "\n",
    "SEASONS_PROCESSED_DS = f\"{DATA_PATH}/seasons.processed.feather\"\n",
    "\n",
    "TEAMS_DS = f\"{DATA_PATH}/teams.csv\"\n",
    "TEAMS_PROCESSED_DS = f\"{DATA_PATH}/teams.processed.feather\"\n",
    "\n",
    "RANKING_DS = f\"{DATA_PATH}/ranking.csv\"\n",
    "RANKING_PROCESSED_DS = f\"{DATA_PATH}/ranking.processed.feather\"\n",
    "\n",
    "GAMES_DS = f\"{DATA_PATH}/games.csv\"\n",
    "GAMES_PROCESSED_DS = f\"{DATA_PATH}/games.processed.feather\""
   ]
  },
  {
   "cell_type": "code",
   "execution_count": 4,
   "metadata": {},
   "outputs": [],
   "source": [
    "games = pd.read_csv(GAMES_DS, parse_dates=[\"GAME_DATE_EST\"], usecols=[\"GAME_ID\",'GAME_DATE_EST', 'GAME_STATUS_TEXT', 'HOME_TEAM_ID', 'VISITOR_TEAM_ID',\n",
    "       'SEASON', 'PTS_home', 'FG_PCT_home', 'FT_PCT_home',\n",
    "       'FG3_PCT_home', 'AST_home', 'REB_home', 'PTS_away',\n",
    "       'FG_PCT_away', 'FT_PCT_away', 'FG3_PCT_away', 'AST_away', 'REB_away',\n",
    "       'HOME_TEAM_WINS']\n",
    "                    , infer_datetime_format=True, index_col=\"GAME_ID\")\n",
    "games = games.sort_values(by=['GAME_DATE_EST', 'GAME_ID'])\n",
    "\n",
    "teams = pd.read_feather(TEAMS_PROCESSED_DS)\n",
    "\n",
    "seasons = pd.read_feather(SEASONS_PROCESSED_DS)\n",
    "\n",
    "rankings = pd.read_csv(RANKING_DS)\n",
    "\n",
    "games_matchup = pd.read_feather(GAMES_PROCESSED_DS)\n",
    "games_matchup = games_matchup.set_index([\"GAME_ID\"])\n",
    "games_matchup = games_matchup.sort_values(by=['GAME_DATE_EST', 'GAME_ID'])"
   ]
  },
  {
   "cell_type": "code",
   "execution_count": 5,
   "metadata": {},
   "outputs": [
    {
     "name": "stdout",
     "output_type": "stream",
     "text": [
      "(4919, 70)\n",
      "<class 'pandas.core.frame.DataFrame'>\n",
      "Int64Index: 4919 entries, 21500001 to 21801229\n",
      "Data columns (total 70 columns):\n",
      " #   Column                 Non-Null Count  Dtype         \n",
      "---  ------                 --------------  -----         \n",
      " 0   GAME_DATE_EST          4919 non-null   datetime64[ns]\n",
      " 1   HOME_TEAM_NAME         4919 non-null   object        \n",
      " 2   HOME_TEAM_ID           4919 non-null   int64         \n",
      " 3   VISITOR_TEAM_NAME      4919 non-null   object        \n",
      " 4   VISITOR_TEAM_ID        4919 non-null   int64         \n",
      " 5   GAME_STATUS_TEXT       4919 non-null   object        \n",
      " 6   SEASON                 4919 non-null   int64         \n",
      " 7   HT_RANK                0 non-null      object        \n",
      " 8   HT_CLASS               0 non-null      object        \n",
      " 9   HT_HW                  4919 non-null   int64         \n",
      " 10  HT_HL                  4919 non-null   int64         \n",
      " 11  HT_VW                  4919 non-null   int64         \n",
      " 12  HT_VL                  4919 non-null   int64         \n",
      " 13  HT_LAST10_W            4919 non-null   int64         \n",
      " 14  HT_LAST10_L            4919 non-null   int64         \n",
      " 15  HT_LAST10_MATCHUP_W    4919 non-null   int64         \n",
      " 16  HT_LAST10_MATCHUP_L    4919 non-null   int64         \n",
      " 17  HT_OVERALL_OFF_POINTS  4919 non-null   float64       \n",
      " 18  HT_OVERALL_DEF_POINTS  4919 non-null   float64       \n",
      " 19  HT_OVERALL_OFF_FG      4919 non-null   float64       \n",
      " 20  HT_OVERALL_DEF_FG      4919 non-null   float64       \n",
      " 21  HT_OVERALL_OFF_3P      4919 non-null   float64       \n",
      " 22  HT_OVERALL_DEF_3P      4919 non-null   float64       \n",
      " 23  HT_OVERALL_OFF_FT      4919 non-null   float64       \n",
      " 24  HT_OVERALL_DEF_FT      4919 non-null   float64       \n",
      " 25  HT_OVERALL_OFF_REB     4919 non-null   float64       \n",
      " 26  HT_OVERALL_DEF_REB     4919 non-null   float64       \n",
      " 27  HT_AWAY_POINTS         4919 non-null   float64       \n",
      " 28  HT_AWAY_FG             4919 non-null   float64       \n",
      " 29  HT_AWAY_3P             4919 non-null   float64       \n",
      " 30  HT_AWAY_FT             4919 non-null   float64       \n",
      " 31  HT_AWAY_REB            4919 non-null   float64       \n",
      " 32  VT_RANK                0 non-null      object        \n",
      " 33  VT_CLASS               0 non-null      object        \n",
      " 34  VT_HW                  4919 non-null   int64         \n",
      " 35  VT_HL                  4919 non-null   int64         \n",
      " 36  VT_VW                  4919 non-null   int64         \n",
      " 37  VT_VL                  4919 non-null   int64         \n",
      " 38  VT_LAST10_W            4919 non-null   int64         \n",
      " 39  VT_LAST10_L            4919 non-null   int64         \n",
      " 40  VT_LAST10_MATCHUP_W    4919 non-null   int64         \n",
      " 41  VT_LAST10_MATCHUP_L    4919 non-null   int64         \n",
      " 42  VT_OVERALL_OFF_POINTS  4919 non-null   float64       \n",
      " 43  VT_OVERALL_DEF_POINTS  4919 non-null   float64       \n",
      " 44  VT_OVERALL_OFF_FG      4919 non-null   float64       \n",
      " 45  VT_OVERALL_DEF_FG      4919 non-null   float64       \n",
      " 46  VT_OVERALL_OFF_3P      4919 non-null   float64       \n",
      " 47  VT_OVERALL_DEF_3P      4919 non-null   float64       \n",
      " 48  VT_OVERALL_OFF_FT      4919 non-null   float64       \n",
      " 49  VT_OVERALL_DEF_FT      4919 non-null   float64       \n",
      " 50  VT_OVERALL_OFF_REB     4919 non-null   float64       \n",
      " 51  VT_OVERALL_DEF_REB     4919 non-null   float64       \n",
      " 52  VT_AWAY_POINTS         4919 non-null   float64       \n",
      " 53  VT_AWAY_FG             4919 non-null   float64       \n",
      " 54  VT_AWAY_3P             4919 non-null   float64       \n",
      " 55  VT_AWAY_FT             4919 non-null   float64       \n",
      " 56  VT_AWAY_REB            4919 non-null   float64       \n",
      " 57  PTS_home               4919 non-null   float64       \n",
      " 58  FG_PCT_home            4919 non-null   float64       \n",
      " 59  FT_PCT_home            4919 non-null   float64       \n",
      " 60  FG3_PCT_home           4919 non-null   float64       \n",
      " 61  AST_home               4919 non-null   float64       \n",
      " 62  REB_home               4919 non-null   float64       \n",
      " 63  PTS_away               4919 non-null   float64       \n",
      " 64  FG_PCT_away            4919 non-null   float64       \n",
      " 65  FT_PCT_away            4919 non-null   float64       \n",
      " 66  FG3_PCT_away           4919 non-null   float64       \n",
      " 67  AST_away               4919 non-null   float64       \n",
      " 68  REB_away               4919 non-null   float64       \n",
      " 69  HOME_TEAM_WINS         4919 non-null   int64         \n",
      "dtypes: datetime64[ns](1), float64(42), int64(20), object(7)\n",
      "memory usage: 2.7+ MB\n"
     ]
    }
   ],
   "source": [
    "print(games_matchup.shape)\n",
    "games_matchup.info()"
   ]
  },
  {
   "cell_type": "markdown",
   "metadata": {},
   "source": [
    "## Checking null value"
   ]
  },
  {
   "cell_type": "code",
   "execution_count": 6,
   "metadata": {},
   "outputs": [
    {
     "data": {
      "text/plain": [
       "GAME_DATE_EST            False\n",
       "HOME_TEAM_NAME           False\n",
       "HOME_TEAM_ID             False\n",
       "VISITOR_TEAM_NAME        False\n",
       "VISITOR_TEAM_ID          False\n",
       "GAME_STATUS_TEXT         False\n",
       "SEASON                   False\n",
       "HT_RANK                  True \n",
       "HT_CLASS                 True \n",
       "HT_HW                    False\n",
       "HT_HL                    False\n",
       "HT_VW                    False\n",
       "HT_VL                    False\n",
       "HT_LAST10_W              False\n",
       "HT_LAST10_L              False\n",
       "HT_LAST10_MATCHUP_W      False\n",
       "HT_LAST10_MATCHUP_L      False\n",
       "HT_OVERALL_OFF_POINTS    False\n",
       "HT_OVERALL_DEF_POINTS    False\n",
       "HT_OVERALL_OFF_FG        False\n",
       "HT_OVERALL_DEF_FG        False\n",
       "HT_OVERALL_OFF_3P        False\n",
       "HT_OVERALL_DEF_3P        False\n",
       "HT_OVERALL_OFF_FT        False\n",
       "HT_OVERALL_DEF_FT        False\n",
       "HT_OVERALL_OFF_REB       False\n",
       "HT_OVERALL_DEF_REB       False\n",
       "HT_AWAY_POINTS           False\n",
       "HT_AWAY_FG               False\n",
       "HT_AWAY_3P               False\n",
       "HT_AWAY_FT               False\n",
       "HT_AWAY_REB              False\n",
       "VT_RANK                  True \n",
       "VT_CLASS                 True \n",
       "VT_HW                    False\n",
       "VT_HL                    False\n",
       "VT_VW                    False\n",
       "VT_VL                    False\n",
       "VT_LAST10_W              False\n",
       "VT_LAST10_L              False\n",
       "VT_LAST10_MATCHUP_W      False\n",
       "VT_LAST10_MATCHUP_L      False\n",
       "VT_OVERALL_OFF_POINTS    False\n",
       "VT_OVERALL_DEF_POINTS    False\n",
       "VT_OVERALL_OFF_FG        False\n",
       "VT_OVERALL_DEF_FG        False\n",
       "VT_OVERALL_OFF_3P        False\n",
       "VT_OVERALL_DEF_3P        False\n",
       "VT_OVERALL_OFF_FT        False\n",
       "VT_OVERALL_DEF_FT        False\n",
       "VT_OVERALL_OFF_REB       False\n",
       "VT_OVERALL_DEF_REB       False\n",
       "VT_AWAY_POINTS           False\n",
       "VT_AWAY_FG               False\n",
       "VT_AWAY_3P               False\n",
       "VT_AWAY_FT               False\n",
       "VT_AWAY_REB              False\n",
       "PTS_home                 False\n",
       "FG_PCT_home              False\n",
       "FT_PCT_home              False\n",
       "FG3_PCT_home             False\n",
       "AST_home                 False\n",
       "REB_home                 False\n",
       "PTS_away                 False\n",
       "FG_PCT_away              False\n",
       "FT_PCT_away              False\n",
       "FG3_PCT_away             False\n",
       "AST_away                 False\n",
       "REB_away                 False\n",
       "HOME_TEAM_WINS           False\n",
       "dtype: bool"
      ]
     },
     "execution_count": 6,
     "metadata": {},
     "output_type": "execute_result"
    }
   ],
   "source": [
    "games_matchup.isnull().any()"
   ]
  },
  {
   "cell_type": "markdown",
   "metadata": {},
   "source": [
    "## Unique enteries in each of the columns"
   ]
  },
  {
   "cell_type": "code",
   "execution_count": 7,
   "metadata": {},
   "outputs": [
    {
     "data": {
      "text/plain": [
       "GAME_DATE_EST            659 \n",
       "HOME_TEAM_NAME           30  \n",
       "HOME_TEAM_ID             30  \n",
       "VISITOR_TEAM_NAME        30  \n",
       "VISITOR_TEAM_ID          30  \n",
       "GAME_STATUS_TEXT         1   \n",
       "SEASON                   4   \n",
       "HT_RANK                  0   \n",
       "HT_CLASS                 0   \n",
       "HT_HW                    136 \n",
       "HT_HL                    114 \n",
       "HT_VW                    110 \n",
       "HT_VL                    123 \n",
       "HT_LAST10_W              11  \n",
       "HT_LAST10_L              11  \n",
       "HT_LAST10_MATCHUP_W      11  \n",
       "HT_LAST10_MATCHUP_L      11  \n",
       "HT_OVERALL_OFF_POINTS    3906\n",
       "HT_OVERALL_DEF_POINTS    3971\n",
       "HT_OVERALL_OFF_FG        120 \n",
       "HT_OVERALL_DEF_FG        116 \n",
       "HT_OVERALL_OFF_3P        175 \n",
       "HT_OVERALL_DEF_3P        156 \n",
       "HT_OVERALL_OFF_FT        207 \n",
       "HT_OVERALL_DEF_FT        163 \n",
       "HT_OVERALL_OFF_REB       3182\n",
       "HT_OVERALL_DEF_REB       3265\n",
       "HT_AWAY_POINTS           2020\n",
       "HT_AWAY_FG               101 \n",
       "HT_AWAY_3P               149 \n",
       "HT_AWAY_FT               186 \n",
       "HT_AWAY_REB              1758\n",
       "VT_RANK                  0   \n",
       "VT_CLASS                 0   \n",
       "VT_HW                    134 \n",
       "VT_HL                    107 \n",
       "VT_VW                    122 \n",
       "VT_VL                    128 \n",
       "VT_LAST10_W              11  \n",
       "VT_LAST10_L              11  \n",
       "VT_LAST10_MATCHUP_W      11  \n",
       "VT_LAST10_MATCHUP_L      11  \n",
       "VT_OVERALL_OFF_POINTS    3930\n",
       "VT_OVERALL_DEF_POINTS    3979\n",
       "VT_OVERALL_OFF_FG        123 \n",
       "VT_OVERALL_DEF_FG        115 \n",
       "VT_OVERALL_OFF_3P        175 \n",
       "VT_OVERALL_DEF_3P        151 \n",
       "VT_OVERALL_OFF_FT        211 \n",
       "VT_OVERALL_DEF_FT        169 \n",
       "VT_OVERALL_OFF_REB       3173\n",
       "VT_OVERALL_DEF_REB       3266\n",
       "VT_AWAY_POINTS           3807\n",
       "VT_AWAY_FG               110 \n",
       "VT_AWAY_3P               180 \n",
       "VT_AWAY_FT               212 \n",
       "VT_AWAY_REB              2952\n",
       "PTS_home                 83  \n",
       "FG_PCT_home              285 \n",
       "FT_PCT_home              259 \n",
       "FG3_PCT_home             303 \n",
       "AST_home                 36  \n",
       "REB_home                 47  \n",
       "PTS_away                 83  \n",
       "FG_PCT_away              276 \n",
       "FT_PCT_away              255 \n",
       "FG3_PCT_away             290 \n",
       "AST_away                 36  \n",
       "REB_away                 48  \n",
       "HOME_TEAM_WINS           2   \n",
       "dtype: int64"
      ]
     },
     "execution_count": 7,
     "metadata": {},
     "output_type": "execute_result"
    }
   ],
   "source": [
    "games_matchup.nunique()"
   ]
  },
  {
   "cell_type": "markdown",
   "metadata": {},
   "source": [
    "## Visualizing the data"
   ]
  },
  {
   "cell_type": "code",
   "execution_count": 8,
   "metadata": {},
   "outputs": [
    {
     "data": {
      "text/plain": [
       "<matplotlib.axes._subplots.AxesSubplot at 0x7fab95fd9dd0>"
      ]
     },
     "execution_count": 8,
     "metadata": {},
     "output_type": "execute_result"
    },
    {
     "data": {
      "image/png": "[encoded data removed]",
      "text/plain": [
       "<Figure size 720x576 with 1 Axes>"
      ]
     },
     "metadata": {
      "needs_background": "light"
     },
     "output_type": "display_data"
    }
   ],
   "source": [
    "games_matchup[\"PTS_home\"].plot.hist(bins=10, figsize=(10,8))"
   ]
  },
  {
   "cell_type": "code",
   "execution_count": 9,
   "metadata": {},
   "outputs": [
    {
     "data": {
      "image/png": "[encoded data removed]",
      "text/plain": [
       "<Figure size 720x576 with 1 Axes>"
      ]
     },
     "metadata": {
      "needs_background": "light"
     },
     "output_type": "display_data"
    }
   ],
   "source": [
    "boxplot = games_matchup.boxplot(grid=False, rot=45, figsize=(10, 8), column=[    \"PTS_home\",\n",
    "\"FG_PCT_home\",\n",
    "\"FT_PCT_home\",\n",
    "\"FG3_PCT_home\",\n",
    "\"AST_home\",\n",
    "\"REB_home\",\n",
    "\"PTS_away\",\n",
    "\"FG_PCT_away\",\n",
    "\"FT_PCT_away\",\n",
    "\"FG3_PCT_away\",\n",
    "\"AST_away\",\n",
    "\"REB_away\"])"
   ]
  },
  {
   "cell_type": "code",
   "execution_count": 10,
   "metadata": {},
   "outputs": [
    {
     "data": {
      "image/png": "[encoded data removed]",
      "text/plain": [
       "<Figure size 720x576 with 1 Axes>"
      ]
     },
     "metadata": {
      "needs_background": "light"
     },
     "output_type": "display_data"
    }
   ],
   "source": [
    "boxplot = games_matchup.boxplot(grid=False, rot=45, figsize=(10, 8), column=[\"HT_OVERALL_OFF_POINTS\",\n",
    "\"VT_OVERALL_OFF_POINTS\"])"
   ]
  },
  {
   "cell_type": "code",
   "execution_count": 13,
   "metadata": {},
   "outputs": [
    {
     "data": {
      "text/plain": [
       "550"
      ]
     },
     "execution_count": 13,
     "metadata": {},
     "output_type": "execute_result"
    }
   ],
   "source": [
    "len(games_matchup.loc[games_matchup[\"HT_OVERALL_OFF_POINTS\"] > 108])"
   ]
  },
  {
   "cell_type": "code",
   "execution_count": null,
   "metadata": {},
   "outputs": [],
   "source": [
    "#sns.pairplot(games_matchup)"
   ]
  }
 ],
 "metadata": {
  "kernelspec": {
   "display_name": "nba-predictor",
   "language": "python",
   "name": "nba-predictor"
  },
  "language_info": {
   "codemirror_mode": {
    "name": "ipython",
    "version": 3
   },
   "file_extension": ".py",
   "mimetype": "text/x-python",
   "name": "python",
   "nbconvert_exporter": "python",
   "pygments_lexer": "ipython3",
   "version": "3.7.7"
  },
  "toc": {
   "base_numbering": 1,
   "nav_menu": {},
   "number_sections": true,
   "sideBar": true,
   "skip_h1_title": false,
   "title_cell": "Table of Contents",
   "title_sidebar": "Contents",
   "toc_cell": false,
   "toc_position": {},
   "toc_section_display": true,
   "toc_window_display": false
  }
 },
 "nbformat": 4,
 "nbformat_minor": 1
}
