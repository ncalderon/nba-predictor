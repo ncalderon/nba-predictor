{
 "cells": [
  {
   "cell_type": "markdown",
   "metadata": {},
   "source": [
    "# NBA Point Spread Regressor Experiments"
   ]
  },
  {
   "cell_type": "markdown",
   "metadata": {},
   "source": [
    "## Imports"
   ]
  },
  {
   "cell_type": "code",
   "execution_count": 5,
   "metadata": {
    "ExecuteTime": {
     "end_time": "2020-11-24T20:21:58.153690Z",
     "start_time": "2020-11-24T20:21:56.495412Z"
    },
    "pycharm": {
     "name": "#%%\n"
    }
   },
   "outputs": [
    {
     "name": "stderr",
     "output_type": "stream",
     "text": [
      "/home/nathaniel/anaconda3/envs/nba-predictor/lib/python3.7/site-packages/sklearn/utils/deprecation.py:143: FutureWarning: The sklearn.metrics.classification module is  deprecated in version 0.22 and will be removed in version 0.24. The corresponding classes / functions should instead be imported from sklearn.metrics. Anything that cannot be imported from sklearn.metrics is now part of the private API.\n",
      "  warnings.warn(message, FutureWarning)\n"
     ]
    }
   ],
   "source": [
    "import numpy as np\n",
    "import matplotlib.pyplot as plt\n",
    "import pandas as pd\n",
    "import seaborn as sns\n",
    "#pd.options.display.max_columns = None\n",
    "#pd.set_option(\"display.max_colwidth\", None)\n",
    "from IPython.core.interactiveshell import InteractiveShell\n",
    "InteractiveShell.ast_node_interactivity = \"all\"\n",
    "#pd.set_option(\"display.max_rows\", None)\n",
    "import model.train as train\n",
    "import model.config as model_config\n",
    "import utils\n",
    "import model.dataset.season_game as sg\n",
    "import utils_nba_point_spead_reg as utils_exp\n",
    "import qgrid\n",
    "from yellowbrick import classifier, features\n",
    "from pandas_profiling import ProfileReport\n",
    "\n",
    "from sklearn.pipeline import Pipeline\n",
    "from sklearn.preprocessing import StandardScaler, MinMaxScaler\n",
    "from sklearn.compose import ColumnTransformer\n",
    "from boruta import BorutaPy"
   ]
  },
  {
   "cell_type": "markdown",
   "metadata": {},
   "source": [
    "## Setup"
   ]
  },
  {
   "cell_type": "code",
   "execution_count": 6,
   "metadata": {
    "ExecuteTime": {
     "end_time": "2020-11-24T20:22:02.685189Z",
     "start_time": "2020-11-24T20:22:02.645022Z"
    },
    "pycharm": {
     "name": "#%%\n"
    }
   },
   "outputs": [
    {
     "data": {
      "application/javascript": [
       "IPython.notebook.set_autosave_interval(60000)"
      ]
     },
     "metadata": {},
     "output_type": "display_data"
    },
    {
     "name": "stdout",
     "output_type": "stream",
     "text": [
      "Autosaving every 60 seconds\n"
     ]
    }
   ],
   "source": [
    "%load_ext autoreload\n",
    "%autoreload 2\n",
    "%matplotlib inline\n",
    "%autosave 60\n",
    "\n",
    "sns.set(style=\"whitegrid\")"
   ]
  },
  {
   "cell_type": "markdown",
   "metadata": {},
   "source": [
    "### Utils functions"
   ]
  },
  {
   "cell_type": "code",
   "execution_count": 7,
   "metadata": {
    "ExecuteTime": {
     "end_time": "2020-11-24T20:22:03.054813Z",
     "start_time": "2020-11-24T20:22:03.026147Z"
    },
    "pycharm": {
     "name": "#%%\n"
    }
   },
   "outputs": [],
   "source": [
    "def filter_from(items, cond):\n",
    "    return list(filter(cond, items)) "
   ]
  },
  {
   "cell_type": "code",
   "execution_count": 8,
   "metadata": {
    "ExecuteTime": {
     "end_time": "2020-11-24T20:22:03.235413Z",
     "start_time": "2020-11-24T20:22:03.204188Z"
    },
    "pycharm": {
     "name": "#%%\n"
    }
   },
   "outputs": [],
   "source": [
    "def del_result_by(exp_name):\n",
    "    global results_total\n",
    "    results_total = filter_from(results_total, lambda i: i[0] != exp_name)\n",
    "    utils_exp.exp_results = filter_from(utils_exp.exp_results, lambda i: i['exp_name'] != exp_name)"
   ]
  },
  {
   "cell_type": "code",
   "execution_count": 9,
   "metadata": {
    "ExecuteTime": {
     "end_time": "2020-11-24T20:22:03.402612Z",
     "start_time": "2020-11-24T20:22:03.382154Z"
    },
    "pycharm": {
     "name": "#%%\n"
    }
   },
   "outputs": [],
   "source": [
    "def get_result_by(exp_name):\n",
    "    global results_total\n",
    "    return next((x for x in results_total if x[0] == exp_name), None)"
   ]
  },
  {
   "cell_type": "code",
   "execution_count": 10,
   "metadata": {
    "ExecuteTime": {
     "end_time": "2020-11-24T20:22:03.589371Z",
     "start_time": "2020-11-24T20:22:03.568937Z"
    },
    "pycharm": {
     "name": "#%%\n"
    }
   },
   "outputs": [],
   "source": [
    "#del_result_by('reg_1_season')\n",
    "#utils_exp.exp_results\n",
    "#utils.deserialize_object(f'result_totals', [])"
   ]
  },
  {
   "cell_type": "code",
   "execution_count": 11,
   "metadata": {
    "ExecuteTime": {
     "end_time": "2020-11-24T20:22:03.772748Z",
     "start_time": "2020-11-24T20:22:03.750327Z"
    },
    "pycharm": {
     "name": "#%%\n"
    }
   },
   "outputs": [],
   "source": [
    "def del_exp_result(exp_name):\n",
    "    for idx, res in enumerate(list(utils_exp.exp_results)):\n",
    "        if res['exp_name'] == exp_name:\n",
    "            del utils_exp.exp_results[idx]"
   ]
  },
  {
   "cell_type": "code",
   "execution_count": 12,
   "metadata": {
    "ExecuteTime": {
     "end_time": "2020-11-24T20:22:03.941689Z",
     "start_time": "2020-11-24T20:22:03.919755Z"
    },
    "pycharm": {
     "name": "#%%\n"
    }
   },
   "outputs": [],
   "source": [
    "def show_qgrid(df_):\n",
    "    qgrid_widget = qgrid.show_grid(df_, show_toolbar=True , grid_options={'forceFitColumns': False, 'defaultColumnWidth': 200})\n",
    "    qgrid_widget"
   ]
  },
  {
   "cell_type": "code",
   "execution_count": 13,
   "metadata": {
    "ExecuteTime": {
     "end_time": "2020-11-24T20:22:04.108438Z",
     "start_time": "2020-11-24T20:22:04.083825Z"
    },
    "pycharm": {
     "name": "#%%\n"
    }
   },
   "outputs": [],
   "source": [
    "def plot_results(experiment_name, results, figsize=(10,6)):\n",
    "    plt.figure(figsize=figsize)\n",
    "    results_df = utils.map_results_to_df(results)\n",
    "    #     a = sns.pointplot(data=results_df,\n",
    "    #               kind=\"point\", x=\"season_test\", y=\"rmse\", hue=\"model\"\n",
    "    #               )\n",
    "    a = sns.lineplot(\n",
    "        data=results_df,\n",
    "        x=\"season_test\", y=\"mae\", hue=\"model\", style=\"model\",\n",
    "        markers=True, dashes=False\n",
    "    )\n",
    "    a.set_title(\n",
    "        f\"{experiment_name}-mae\")\n",
    "    a.legend(bbox_to_anchor=(1.05, 1), loc=2, borderaxespad=0.)"
   ]
  },
  {
   "cell_type": "code",
   "execution_count": 14,
   "metadata": {
    "ExecuteTime": {
     "end_time": "2020-11-24T20:22:04.305987Z",
     "start_time": "2020-11-24T20:22:04.284166Z"
    },
    "pycharm": {
     "name": "#%%\n"
    }
   },
   "outputs": [],
   "source": [
    "def get_results_df():\n",
    "    return pd.DataFrame(utils_exp.exp_results)"
   ]
  },
  {
   "cell_type": "code",
   "execution_count": 15,
   "metadata": {
    "ExecuteTime": {
     "end_time": "2020-11-24T20:22:04.487146Z",
     "start_time": "2020-11-24T20:22:04.465174Z"
    },
    "pycharm": {
     "name": "#%%\n"
    }
   },
   "outputs": [],
   "source": [
    "reg_metrics = ['mae', 'mse', 'rmse']\n",
    "\n",
    "def print_prettier_exp_results(exp_name, metric='mae', filter_val=None):\n",
    "    second_metric = 'rmse' if metric == 'mae' else 'mae'\n",
    "    ba_df = get_results_df()[['exp_name', 'model',\n",
    "       f'{metric}_mean', f'{metric}_std', f'{second_metric}_mean', f'{second_metric}_std']]\n",
    "    cond = ba_df.exp_name == exp_name\n",
    "    if filter_val is not None:\n",
    "        cond = (ba_df.exp_name == exp_name) & (ba_df.model == filter_val)\n",
    "    return ba_df[cond].sort_values(by=[f\"{metric}_mean\"], ascending=True)"
   ]
  },
  {
   "cell_type": "markdown",
   "metadata": {},
   "source": [
    "## Load Dataset"
   ]
  },
  {
   "cell_type": "code",
   "execution_count": 16,
   "metadata": {
    "ExecuteTime": {
     "end_time": "2020-11-24T20:22:05.034674Z",
     "start_time": "2020-11-24T20:22:04.812627Z"
    },
    "pycharm": {
     "name": "#%%\n"
    }
   },
   "outputs": [],
   "source": [
    "season_games = sg.load_season_games_dataset()"
   ]
  },
  {
   "cell_type": "markdown",
   "metadata": {},
   "source": [
    "## Dataset\n"
   ]
  },
  {
   "cell_type": "code",
   "execution_count": 17,
   "metadata": {
    "ExecuteTime": {
     "end_time": "2020-11-24T20:22:05.326349Z",
     "start_time": "2020-11-24T20:22:05.187976Z"
    },
    "pycharm": {
     "name": "#%%\n"
    }
   },
   "outputs": [
    {
     "data": {
      "text/plain": [
       "SEASON\n",
       "2002    1189\n",
       "2003    1189\n",
       "2004    1230\n",
       "2005    1230\n",
       "2006    1230\n",
       "2007    1230\n",
       "2008    1230\n",
       "2009    1230\n",
       "2010    1230\n",
       "2011     990\n",
       "2012    1229\n",
       "2013    1230\n",
       "2014    1230\n",
       "2015    1230\n",
       "2016    1230\n",
       "2017    1230\n",
       "2018    1230\n",
       "2019    1059\n",
       "Name: GAME_DATE_EST, dtype: int64"
      ]
     },
     "execution_count": 17,
     "metadata": {},
     "output_type": "execute_result"
    }
   ],
   "source": [
    "season_games.groupby(by=\"SEASON\").count()[\"GAME_DATE_EST\"]"
   ]
  },
  {
   "cell_type": "markdown",
   "metadata": {},
   "source": [
    "Podemos observar que no todas las temporadas tiene la misma cantidad de partidos. Esto es debido a la siguientes razones:\n",
    "\n",
    "- 2011: Los jugadores hicieron una huelga debido a no estar de acuerdo con los salarios de los mismos y el limite salarial de las franquicias.\n",
    "- 2012: Un partido entre el equipo de Boston e Indiana fue suspedindo el cual despues no fue reprogramado, y al final de la temporada se decidio ya no reprogramarlo debido a que la clasificacion a playoff ya estaba decidida y no afectaba el resultado.\n",
    "\n",
    "Por tanto se seleccionaran solo las temporadas a partir del 2013(inclusive)."
   ]
  },
  {
   "cell_type": "code",
   "execution_count": 18,
   "metadata": {
    "ExecuteTime": {
     "end_time": "2020-11-24T20:22:05.618448Z",
     "start_time": "2020-11-24T20:22:05.582323Z"
    },
    "pycharm": {
     "name": "#%%\n"
    }
   },
   "outputs": [],
   "source": [
    "df = season_games[(season_games.SEASON >= 2010) & (season_games.SEASON <= 2017)]\n",
    "seasons_size = len(df.SEASON.unique())\n",
    "seasons = list(df.SEASON.unique())"
   ]
  },
  {
   "cell_type": "code",
   "execution_count": 19,
   "metadata": {
    "ExecuteTime": {
     "end_time": "2020-11-24T20:22:06.172467Z",
     "start_time": "2020-11-24T20:22:06.087240Z"
    },
    "pycharm": {
     "name": "#%%\n"
    }
   },
   "outputs": [
    {
     "name": "stdout",
     "output_type": "stream",
     "text": [
      "(9599, 405)\n",
      "0\n",
      "(9461, 405)\n"
     ]
    }
   ],
   "source": [
    "print(df.shape)\n",
    "df = df.dropna()\n",
    "print(df.isnull().sum().sum())\n",
    "print(df.shape)"
   ]
  },
  {
   "cell_type": "markdown",
   "metadata": {},
   "source": [
    "## Experiments"
   ]
  },
  {
   "cell_type": "markdown",
   "metadata": {},
   "source": [
    "### Setup"
   ]
  },
  {
   "cell_type": "code",
   "execution_count": 20,
   "metadata": {
    "ExecuteTime": {
     "end_time": "2020-11-24T20:22:17.814552Z",
     "start_time": "2020-11-24T20:22:17.494991Z"
    },
    "pycharm": {
     "name": "#%%\n"
    }
   },
   "outputs": [],
   "source": [
    "exp_prefix = \"reg_\"\n",
    "## exp_group_name = \"reg_experiments\"\n",
    "exp_group_name = \"reg_experiments\"\n",
    "results_total = utils.deserialize_object(f'result_totals_{exp_group_name}', [])\n",
    "utils_exp.exp_results = []\n",
    "TARGET = \"HOME_POINT_SPREAD\"\n",
    "exp_X_columns = model_config.X_COLS_NO_HIGH_CORR\n",
    "exp_y_columns = model_config.Y_REG_COL\n",
    "\n",
    "models = utils_exp.get_reg_models()\n",
    "\n",
    "sscv = utils.SeasonSeriesSplit(df)\n",
    "df_sscv = sscv.get_df()\n",
    "X = df_sscv[exp_X_columns]\n",
    "y = df_sscv[TARGET]"
   ]
  },
  {
   "cell_type": "markdown",
   "metadata": {},
   "source": [
    "### Experiment using 1 season"
   ]
  },
  {
   "cell_type": "code",
   "execution_count": 21,
   "metadata": {
    "ExecuteTime": {
     "end_time": "2020-11-24T20:22:21.060712Z",
     "start_time": "2020-11-24T20:22:21.025985Z"
    },
    "pycharm": {
     "name": "#%%\n"
    }
   },
   "outputs": [],
   "source": [
    "experiment_name = f\"{exp_prefix}1_season\""
   ]
  },
  {
   "cell_type": "code",
   "execution_count": null,
   "metadata": {
    "ExecuteTime": {
     "start_time": "2020-11-24T20:22:23.441Z"
    },
    "pycharm": {
     "name": "#%%\n"
    }
   },
   "outputs": [
    {
     "name": "stdout",
     "output_type": "stream",
     "text": [
      "Running experiment reg_1_season\n"
     ]
    }
   ],
   "source": [
    "del_result_by(experiment_name)\n",
    "\n",
    "folds, train_seasons, test_seasons = sscv.split(train_size=1, test_size=1)\n",
    "params = (experiment_name, models, folds, train_seasons, test_seasons, X, y)\n",
    "names, results = utils_exp.run_experiment(*params)\n",
    "results_total.append((experiment_name, results))\n",
    "\n",
    "print_prettier_exp_results(experiment_name)"
   ]
  },
  {
   "cell_type": "code",
   "execution_count": null,
   "metadata": {
    "ExecuteTime": {
     "start_time": "2020-11-24T20:22:23.626Z"
    },
    "pycharm": {
     "name": "#%%\n"
    }
   },
   "outputs": [],
   "source": [
    "#### Visualize experiments results\n",
    "name, res = get_result_by(experiment_name)\n",
    "plot_results(name, res, figsize=(8,4))"
   ]
  },
  {
   "cell_type": "code",
   "execution_count": null,
   "metadata": {
    "ExecuteTime": {
     "start_time": "2020-11-24T20:22:23.805Z"
    },
    "pycharm": {
     "name": "#%%\n"
    }
   },
   "outputs": [],
   "source": [
    "utils.folds_to_df(folds, train_seasons, test_seasons)"
   ]
  },
  {
   "cell_type": "markdown",
   "metadata": {},
   "source": [
    "### Experiment using StandardScaler"
   ]
  },
  {
   "cell_type": "code",
   "execution_count": null,
   "metadata": {
    "ExecuteTime": {
     "start_time": "2020-11-24T20:22:24.166Z"
    },
    "pycharm": {
     "name": "#%%\n"
    }
   },
   "outputs": [],
   "source": [
    "experiment_name = f\"{exp_prefix}scaled_data\""
   ]
  },
  {
   "cell_type": "code",
   "execution_count": null,
   "metadata": {
    "ExecuteTime": {
     "start_time": "2020-11-24T20:22:24.355Z"
    },
    "pycharm": {
     "name": "#%%\n"
    }
   },
   "outputs": [],
   "source": [
    "del_result_by(experiment_name)\n",
    "\n",
    "num_pipeline = Pipeline([\n",
    "    ('std_scaler', StandardScaler())\n",
    "])\n",
    "preprocessor = ColumnTransformer([\n",
    "        ('numerical', num_pipeline, exp_X_columns)\n",
    "    ], remainder='passthrough')\n",
    "#transformed_data = preprocessor.fit_transform(df)\n",
    "\n",
    "folds, train_seasons, test_seasons = sscv.split(train_size=1, test_size=1)\n",
    "params = (experiment_name, models, folds, train_seasons, test_seasons, X, y, preprocessor)\n",
    "names, results = utils_exp.run_experiment(*params)\n",
    "results_total.append((experiment_name, results))\n",
    "\n",
    "print_prettier_exp_results(experiment_name)"
   ]
  },
  {
   "cell_type": "code",
   "execution_count": null,
   "metadata": {
    "ExecuteTime": {
     "start_time": "2020-11-24T20:22:24.544Z"
    },
    "pycharm": {
     "name": "#%%\n"
    }
   },
   "outputs": [],
   "source": [
    "#### Visualize experiments results\n",
    "name, res = get_result_by(experiment_name)\n",
    "plot_results(name, res, figsize=(8,4))\n"
   ]
  },
  {
   "cell_type": "code",
   "execution_count": null,
   "metadata": {
    "ExecuteTime": {
     "start_time": "2020-11-24T20:22:24.720Z"
    },
    "pycharm": {
     "name": "#%%\n"
    }
   },
   "outputs": [],
   "source": [
    "utils.folds_to_df(folds, train_seasons, test_seasons)"
   ]
  },
  {
   "cell_type": "markdown",
   "metadata": {},
   "source": [
    "### Experiment using MinMaxScaler"
   ]
  },
  {
   "cell_type": "code",
   "execution_count": null,
   "metadata": {
    "ExecuteTime": {
     "start_time": "2020-11-24T20:22:25.090Z"
    },
    "pycharm": {
     "name": "#%%\n"
    }
   },
   "outputs": [],
   "source": [
    "experiment_name = f\"{exp_prefix}minmax_data\""
   ]
  },
  {
   "cell_type": "code",
   "execution_count": null,
   "metadata": {
    "ExecuteTime": {
     "start_time": "2020-11-24T20:22:25.448Z"
    },
    "pycharm": {
     "name": "#%%\n"
    }
   },
   "outputs": [],
   "source": [
    "del_result_by(experiment_name)\n",
    "\n",
    "num_pipeline = Pipeline([\n",
    "    ('minmax_scaler', MinMaxScaler())\n",
    "])\n",
    "preprocessor = ColumnTransformer([\n",
    "        ('numerical', num_pipeline, exp_X_columns)\n",
    "    ], remainder='passthrough')\n",
    "#transformed_data = preprocessor.fit_transform(df)\n",
    "\n",
    "folds, train_seasons, test_seasons = sscv.split(train_size=1, test_size=1)\n",
    "params = (experiment_name, models, folds, train_seasons, test_seasons, X, y, preprocessor)\n",
    "names, results = utils_exp.run_experiment(*params)\n",
    "results_total.append((experiment_name, results))\n",
    "\n",
    "print_prettier_exp_results(experiment_name)"
   ]
  },
  {
   "cell_type": "code",
   "execution_count": null,
   "metadata": {
    "ExecuteTime": {
     "start_time": "2020-11-24T20:22:25.627Z"
    },
    "pycharm": {
     "name": "#%%\n"
    }
   },
   "outputs": [],
   "source": [
    "#### Visualize experiments results\n",
    "name, res = get_result_by(experiment_name)\n",
    "plot_results(name, res, figsize=(8,4))"
   ]
  },
  {
   "cell_type": "code",
   "execution_count": null,
   "metadata": {
    "ExecuteTime": {
     "start_time": "2020-11-24T20:22:25.817Z"
    },
    "pycharm": {
     "name": "#%%\n"
    }
   },
   "outputs": [],
   "source": [
    "utils.folds_to_df(folds, train_seasons, test_seasons)"
   ]
  },
  {
   "cell_type": "markdown",
   "metadata": {},
   "source": [
    "### Experiment: train: 2s; test: 1s"
   ]
  },
  {
   "cell_type": "code",
   "execution_count": null,
   "metadata": {
    "ExecuteTime": {
     "start_time": "2020-11-24T20:22:26.203Z"
    },
    "pycharm": {
     "name": "#%%\n"
    }
   },
   "outputs": [],
   "source": [
    "experiment_name = f\"{exp_prefix}2_seasons\""
   ]
  },
  {
   "cell_type": "code",
   "execution_count": null,
   "metadata": {
    "ExecuteTime": {
     "start_time": "2020-11-24T20:22:26.391Z"
    },
    "pycharm": {
     "name": "#%%\n"
    }
   },
   "outputs": [],
   "source": [
    "del_result_by(experiment_name)\n",
    "\n",
    "folds, train_seasons, test_seasons = sscv.split(train_size=2, test_size=1)\n",
    "params = (experiment_name, models, folds, train_seasons, test_seasons, X, y)\n",
    "names, results = utils_exp.run_experiment(*params)\n",
    "results_total.append((experiment_name, results))\n",
    "\n",
    "print_prettier_exp_results(experiment_name)\n",
    "\n"
   ]
  },
  {
   "cell_type": "code",
   "execution_count": null,
   "metadata": {
    "ExecuteTime": {
     "start_time": "2020-11-24T20:22:26.574Z"
    },
    "pycharm": {
     "name": "#%%\n"
    }
   },
   "outputs": [],
   "source": [
    "#### Visualize experiments results\n",
    "name, res = get_result_by(experiment_name)\n",
    "plot_results(name, res, figsize=(8,4))"
   ]
  },
  {
   "cell_type": "code",
   "execution_count": null,
   "metadata": {
    "ExecuteTime": {
     "start_time": "2020-11-24T20:22:26.753Z"
    },
    "pycharm": {
     "name": "#%%\n"
    }
   },
   "outputs": [],
   "source": [
    "utils.folds_to_df(folds, train_seasons, test_seasons)"
   ]
  },
  {
   "cell_type": "markdown",
   "metadata": {},
   "source": [
    "### Experiment: train: 3s; test: 1s"
   ]
  },
  {
   "cell_type": "code",
   "execution_count": null,
   "metadata": {
    "ExecuteTime": {
     "start_time": "2020-11-24T20:22:27.128Z"
    },
    "pycharm": {
     "name": "#%%\n"
    }
   },
   "outputs": [],
   "source": [
    "experiment_name = f\"{exp_prefix}3_seasons\""
   ]
  },
  {
   "cell_type": "code",
   "execution_count": null,
   "metadata": {
    "ExecuteTime": {
     "start_time": "2020-11-24T20:22:27.310Z"
    },
    "pycharm": {
     "name": "#%%\n"
    }
   },
   "outputs": [],
   "source": [
    "del_result_by(experiment_name)\n",
    "\n",
    "folds, train_seasons, test_seasons = sscv.split(train_size=3, test_size=1)\n",
    "params = (experiment_name, models, folds, train_seasons, test_seasons, X, y)\n",
    "names, results = utils_exp.run_experiment(*params)\n",
    "results_total.append((experiment_name, results))\n",
    "\n",
    "print_prettier_exp_results(experiment_name)"
   ]
  },
  {
   "cell_type": "code",
   "execution_count": null,
   "metadata": {
    "ExecuteTime": {
     "start_time": "2020-11-24T20:22:27.506Z"
    },
    "pycharm": {
     "name": "#%%\n"
    }
   },
   "outputs": [],
   "source": [
    "#### Visualize experiments results\n",
    "name, res = get_result_by(experiment_name)\n",
    "plot_results(name, res, figsize=(8,4))"
   ]
  },
  {
   "cell_type": "code",
   "execution_count": null,
   "metadata": {
    "ExecuteTime": {
     "start_time": "2020-11-24T20:22:27.689Z"
    },
    "pycharm": {
     "name": "#%%\n"
    }
   },
   "outputs": [],
   "source": [
    "utils.folds_to_df(folds, train_seasons, test_seasons)"
   ]
  },
  {
   "cell_type": "markdown",
   "metadata": {},
   "source": [
    "### Experiment remove last 2q ; train: 2q ; test: 2q"
   ]
  },
  {
   "cell_type": "code",
   "execution_count": null,
   "metadata": {
    "ExecuteTime": {
     "start_time": "2020-11-24T20:22:28.060Z"
    },
    "pycharm": {
     "name": "#%%\n"
    }
   },
   "outputs": [],
   "source": [
    "experiment_name = f\"{exp_prefix}2q_2q_r2q\""
   ]
  },
  {
   "cell_type": "code",
   "execution_count": null,
   "metadata": {
    "ExecuteTime": {
     "start_time": "2020-11-24T20:22:28.254Z"
    },
    "pycharm": {
     "name": "#%%\n"
    }
   },
   "outputs": [],
   "source": [
    "del_result_by(experiment_name)\n",
    "\n",
    "folds, train_seasons, test_seasons = sscv.quarter_split(train_size=2, test_size=2, remove_quarters=[0.75, 1.0])\n",
    "params = (experiment_name, models, folds, train_seasons, test_seasons, X, y)\n",
    "names, results = utils_exp.run_experiment(*params)\n",
    "results_total.append((experiment_name, results))\n",
    "\n",
    "print_prettier_exp_results(experiment_name)"
   ]
  },
  {
   "cell_type": "code",
   "execution_count": null,
   "metadata": {
    "ExecuteTime": {
     "start_time": "2020-11-24T20:22:28.439Z"
    },
    "pycharm": {
     "name": "#%%\n"
    }
   },
   "outputs": [],
   "source": [
    "#### Visualize experiments results\n",
    "name, res = get_result_by(experiment_name)\n",
    "plot_results(name, res, figsize=(15, 10))"
   ]
  },
  {
   "cell_type": "code",
   "execution_count": null,
   "metadata": {
    "ExecuteTime": {
     "start_time": "2020-11-24T20:22:28.619Z"
    },
    "pycharm": {
     "name": "#%%\n"
    }
   },
   "outputs": [],
   "source": [
    "utils.folds_to_df(folds, train_seasons, test_seasons)"
   ]
  },
  {
   "cell_type": "markdown",
   "metadata": {},
   "source": [
    "### Experiment remove first 2q ;train: 2q ; test: 2q"
   ]
  },
  {
   "cell_type": "code",
   "execution_count": null,
   "metadata": {
    "ExecuteTime": {
     "start_time": "2020-11-24T20:22:28.995Z"
    },
    "pycharm": {
     "name": "#%%\n"
    }
   },
   "outputs": [],
   "source": [
    "experiment_name = f\"{exp_prefix}2q_2q_r2q\""
   ]
  },
  {
   "cell_type": "code",
   "execution_count": null,
   "metadata": {
    "ExecuteTime": {
     "start_time": "2020-11-24T20:22:29.175Z"
    },
    "pycharm": {
     "name": "#%%\n"
    }
   },
   "outputs": [],
   "source": [
    "del_result_by(experiment_name)\n",
    "\n",
    "folds, train_seasons, test_seasons = sscv.quarter_split(train_size=2, test_size=2, remove_quarters=[0.25, 0.5])\n",
    "params = (experiment_name, models, folds, train_seasons, test_seasons, X, y)\n",
    "names, results = utils_exp.run_experiment(*params)\n",
    "results_total.append((experiment_name, results))\n",
    "\n",
    "print_prettier_exp_results(experiment_name)"
   ]
  },
  {
   "cell_type": "code",
   "execution_count": null,
   "metadata": {
    "ExecuteTime": {
     "start_time": "2020-11-24T20:22:29.363Z"
    },
    "pycharm": {
     "name": "#%%\n"
    }
   },
   "outputs": [],
   "source": [
    "#### Visualize experiments results\n",
    "name, res = get_result_by(experiment_name)\n",
    "plot_results(name, res, figsize=(8, 4))"
   ]
  },
  {
   "cell_type": "code",
   "execution_count": null,
   "metadata": {
    "ExecuteTime": {
     "start_time": "2020-11-24T20:22:29.549Z"
    },
    "pycharm": {
     "name": "#%%\n"
    }
   },
   "outputs": [],
   "source": [
    "utils.folds_to_df(folds, train_seasons, test_seasons)"
   ]
  },
  {
   "cell_type": "markdown",
   "metadata": {},
   "source": [
    "### Experiment train: remove last 1q ; 3q ; test: 1q ; step: 3q"
   ]
  },
  {
   "cell_type": "code",
   "execution_count": null,
   "metadata": {
    "ExecuteTime": {
     "start_time": "2020-11-24T20:22:29.919Z"
    },
    "pycharm": {
     "name": "#%%\n"
    }
   },
   "outputs": [],
   "source": [
    "experiment_name = f\"{exp_prefix}3q_1q_r1q_s3q\""
   ]
  },
  {
   "cell_type": "code",
   "execution_count": null,
   "metadata": {
    "ExecuteTime": {
     "start_time": "2020-11-24T20:22:30.112Z"
    },
    "pycharm": {
     "name": "#%%\n"
    }
   },
   "outputs": [],
   "source": [
    "del_result_by(experiment_name)\n",
    "\n",
    "folds, train_seasons, test_seasons = sscv.quarter_split(train_size=3, test_size=1, remove_quarters=[1.0], skip_size=3)\n",
    "params = (experiment_name, models, folds, train_seasons, test_seasons, X, y)\n",
    "names, results = utils_exp.run_experiment(*params)\n",
    "results_total.append((experiment_name, results))\n",
    "\n",
    "print_prettier_exp_results(experiment_name)"
   ]
  },
  {
   "cell_type": "code",
   "execution_count": null,
   "metadata": {
    "ExecuteTime": {
     "start_time": "2020-11-24T20:22:30.308Z"
    },
    "pycharm": {
     "name": "#%%\n"
    }
   },
   "outputs": [],
   "source": [
    "#### Visualize experiments results\n",
    "name, res = get_result_by(experiment_name)\n",
    "plot_results(name, res, figsize=(8, 4))"
   ]
  },
  {
   "cell_type": "code",
   "execution_count": null,
   "metadata": {
    "ExecuteTime": {
     "start_time": "2020-11-24T20:22:30.484Z"
    },
    "pycharm": {
     "name": "#%%\n"
    }
   },
   "outputs": [],
   "source": [
    "utils.folds_to_df(folds, train_seasons, test_seasons)"
   ]
  },
  {
   "cell_type": "markdown",
   "metadata": {},
   "source": [
    "### Experiment train: 3q ; test: 1q ; step: 3q"
   ]
  },
  {
   "cell_type": "code",
   "execution_count": null,
   "metadata": {
    "ExecuteTime": {
     "start_time": "2020-11-24T20:22:30.852Z"
    },
    "pycharm": {
     "name": "#%%\n"
    }
   },
   "outputs": [],
   "source": [
    "experiment_name = f\"{exp_prefix}3q_1q_3s\""
   ]
  },
  {
   "cell_type": "code",
   "execution_count": null,
   "metadata": {
    "ExecuteTime": {
     "start_time": "2020-11-24T20:22:31.039Z"
    },
    "pycharm": {
     "name": "#%%\n"
    }
   },
   "outputs": [],
   "source": [
    "del_result_by(experiment_name)\n",
    "\n",
    "folds, train_seasons, test_seasons = sscv.quarter_split(train_size=3, test_size=1, skip_size=3)\n",
    "params = (experiment_name, models, folds, train_seasons, test_seasons, X, y)\n",
    "names, results = utils_exp.run_experiment(*params)\n",
    "results_total.append((experiment_name, results))\n",
    "\n",
    "print_prettier_exp_results(experiment_name)"
   ]
  },
  {
   "cell_type": "code",
   "execution_count": null,
   "metadata": {
    "ExecuteTime": {
     "start_time": "2020-11-24T20:22:31.226Z"
    },
    "pycharm": {
     "name": "#%%\n"
    }
   },
   "outputs": [],
   "source": [
    "#### Visualize experiments results\n",
    "name, res = get_result_by(experiment_name)\n",
    "plot_results(name, res, figsize=(8, 4))"
   ]
  },
  {
   "cell_type": "code",
   "execution_count": null,
   "metadata": {
    "ExecuteTime": {
     "start_time": "2020-11-24T20:22:31.414Z"
    },
    "pycharm": {
     "name": "#%%\n"
    }
   },
   "outputs": [],
   "source": [
    "utils.folds_to_df(folds, train_seasons, test_seasons)"
   ]
  },
  {
   "cell_type": "markdown",
   "metadata": {},
   "source": [
    "### Experiment train: 4q ; test: 2q"
   ]
  },
  {
   "cell_type": "code",
   "execution_count": null,
   "metadata": {
    "ExecuteTime": {
     "start_time": "2020-11-24T20:22:31.782Z"
    },
    "pycharm": {
     "name": "#%%\n"
    }
   },
   "outputs": [],
   "source": [
    "experiment_name = f\"{exp_prefix}4q_2q\""
   ]
  },
  {
   "cell_type": "code",
   "execution_count": null,
   "metadata": {
    "ExecuteTime": {
     "start_time": "2020-11-24T20:22:31.964Z"
    },
    "pycharm": {
     "name": "#%%\n"
    }
   },
   "outputs": [],
   "source": [
    "del_result_by(experiment_name)\n",
    "\n",
    "folds, train_seasons, test_seasons = sscv.quarter_split(train_size=4, test_size=2)\n",
    "params = (experiment_name, models, folds, train_seasons, test_seasons, X, y)\n",
    "names, results = utils_exp.run_experiment(*params)\n",
    "results_total.append((experiment_name, results))\n",
    "\n",
    "print_prettier_exp_results(experiment_name)"
   ]
  },
  {
   "cell_type": "code",
   "execution_count": null,
   "metadata": {
    "ExecuteTime": {
     "start_time": "2020-11-24T20:22:32.159Z"
    },
    "pycharm": {
     "name": "#%%\n"
    }
   },
   "outputs": [],
   "source": [
    "#### Visualize experiments results\n",
    "name, res = get_result_by(experiment_name)\n",
    "plot_results(name, res, figsize=(30,10))"
   ]
  },
  {
   "cell_type": "code",
   "execution_count": null,
   "metadata": {
    "ExecuteTime": {
     "start_time": "2020-11-24T20:22:32.361Z"
    },
    "pycharm": {
     "name": "#%%\n"
    }
   },
   "outputs": [],
   "source": [
    "utils.folds_to_df(folds, train_seasons, test_seasons)"
   ]
  },
  {
   "cell_type": "markdown",
   "metadata": {},
   "source": [
    "### Experiment remove first 2q ; train: 4q ; test: 2q"
   ]
  },
  {
   "cell_type": "code",
   "execution_count": null,
   "metadata": {
    "ExecuteTime": {
     "start_time": "2020-11-24T20:22:32.762Z"
    },
    "pycharm": {
     "name": "#%%\n"
    }
   },
   "outputs": [],
   "source": [
    "experiment_name = f\"{exp_prefix}4q_2q_r2q\""
   ]
  },
  {
   "cell_type": "code",
   "execution_count": null,
   "metadata": {
    "ExecuteTime": {
     "start_time": "2020-11-24T20:22:32.944Z"
    },
    "pycharm": {
     "name": "#%%\n"
    }
   },
   "outputs": [],
   "source": [
    "del_result_by(experiment_name)\n",
    "\n",
    "folds, train_seasons, test_seasons = sscv.quarter_split(train_size=4, test_size=2, remove_quarters=[0.25, 0.50])\n",
    "params = (experiment_name, models, folds, train_seasons, test_seasons, X, y)\n",
    "names, results = utils_exp.run_experiment(*params)\n",
    "results_total.append((experiment_name, results))\n",
    "\n",
    "print_prettier_exp_results(experiment_name)"
   ]
  },
  {
   "cell_type": "code",
   "execution_count": null,
   "metadata": {
    "ExecuteTime": {
     "start_time": "2020-11-24T20:22:33.132Z"
    },
    "pycharm": {
     "name": "#%%\n"
    }
   },
   "outputs": [],
   "source": [
    "#### Visualize experiments results\n",
    "name, res = get_result_by(experiment_name)\n",
    "plot_results(name, res, figsize=(30,10))"
   ]
  },
  {
   "cell_type": "code",
   "execution_count": null,
   "metadata": {
    "ExecuteTime": {
     "start_time": "2020-11-24T20:22:33.320Z"
    },
    "pycharm": {
     "name": "#%%\n"
    }
   },
   "outputs": [],
   "source": [
    "utils.folds_to_df(folds, train_seasons, test_seasons)"
   ]
  },
  {
   "cell_type": "markdown",
   "metadata": {},
   "source": [
    "### Experiment remove first 2q ; train: 4q ; test: 2q"
   ]
  },
  {
   "cell_type": "code",
   "execution_count": null,
   "metadata": {
    "ExecuteTime": {
     "start_time": "2020-11-24T20:22:33.685Z"
    },
    "pycharm": {
     "name": "#%%\n"
    }
   },
   "outputs": [],
   "source": [
    "experiment_name = f\"{exp_prefix}4q_2q_r2q\""
   ]
  },
  {
   "cell_type": "code",
   "execution_count": null,
   "metadata": {
    "ExecuteTime": {
     "start_time": "2020-11-24T20:22:33.901Z"
    },
    "pycharm": {
     "name": "#%%\n"
    }
   },
   "outputs": [],
   "source": [
    "del_result_by(experiment_name)\n",
    "\n",
    "folds, train_seasons, test_seasons = sscv.quarter_split(train_size=4, test_size=2, remove_quarters=[0.25, 0.50])\n",
    "params = (experiment_name, models, folds, train_seasons, test_seasons, X, y)\n",
    "names, results = utils_exp.run_experiment(*params)\n",
    "results_total.append((experiment_name, results))\n",
    "\n",
    "print_prettier_exp_results(experiment_name)"
   ]
  },
  {
   "cell_type": "code",
   "execution_count": null,
   "metadata": {
    "ExecuteTime": {
     "start_time": "2020-11-24T20:22:34.082Z"
    },
    "pycharm": {
     "name": "#%%\n"
    }
   },
   "outputs": [],
   "source": [
    "#### Visualize experiments results\n",
    "name, res = get_result_by(experiment_name)\n",
    "plot_results(name, res, figsize=(12,4))"
   ]
  },
  {
   "cell_type": "code",
   "execution_count": null,
   "metadata": {
    "ExecuteTime": {
     "start_time": "2020-11-24T20:22:34.296Z"
    },
    "pycharm": {
     "name": "#%%\n"
    }
   },
   "outputs": [],
   "source": [
    "utils.folds_to_df(folds, train_seasons, test_seasons)"
   ]
  },
  {
   "cell_type": "markdown",
   "metadata": {
    "pycharm": {
     "name": "#%% md\n"
    }
   },
   "source": [
    "### Experiments comparison"
   ]
  },
  {
   "cell_type": "code",
   "execution_count": null,
   "metadata": {
    "ExecuteTime": {
     "start_time": "2020-11-24T20:22:34.716Z"
    },
    "pycharm": {
     "name": "#%%\n"
    }
   },
   "outputs": [],
   "source": [
    "utils.serialize_object(exp_group_name, utils_exp.exp_results)\n",
    "utils.serialize_object(f'result_totals_{exp_group_name}', results_total)"
   ]
  },
  {
   "cell_type": "code",
   "execution_count": null,
   "metadata": {
    "ExecuteTime": {
     "start_time": "2020-11-24T20:22:34.912Z"
    },
    "pycharm": {
     "name": "#%%\n"
    }
   },
   "outputs": [],
   "source": [
    "results_total = utils.deserialize_object(f'result_totals_{exp_group_name}', [])\n",
    "utils_exp.exp_results = utils.deserialize_object(exp_group_name, [])\n",
    "exp_df = get_results_df()"
   ]
  },
  {
   "cell_type": "code",
   "execution_count": null,
   "metadata": {
    "ExecuteTime": {
     "start_time": "2020-11-24T20:22:35.114Z"
    },
    "pycharm": {
     "name": "#%%\n"
    }
   },
   "outputs": [],
   "source": [
    "ba_df = exp_df[~exp_df.exp_name.isin(['reg_minmax_data', 'reg_scaled_data'])][['exp_name', 'model',\n",
    "       'mae_mean', 'mae_std', 'rmse_mean', 'rmse_std']]"
   ]
  },
  {
   "cell_type": "code",
   "execution_count": null,
   "metadata": {
    "ExecuteTime": {
     "start_time": "2020-11-24T20:22:35.306Z"
    },
    "pycharm": {
     "name": "#%%\n"
    }
   },
   "outputs": [],
   "source": [
    "#show_qgrid(exp_df)\n",
    "qgrid_widget = qgrid.show_grid(exp_df, show_toolbar=True , grid_options={'forceFitColumns': False, 'defaultColumnWidth': 200})\n",
    "qgrid_widget"
   ]
  },
  {
   "cell_type": "code",
   "execution_count": null,
   "metadata": {
    "ExecuteTime": {
     "start_time": "2020-11-24T20:22:35.505Z"
    },
    "pycharm": {
     "name": "#%%\n"
    }
   },
   "outputs": [],
   "source": [
    "ba_df.sort_values(\n",
    "    by=[\"mae_mean\"]\n",
    "    , ascending=True)[:6].reset_index().drop(labels=[\"index\"], axis=1)"
   ]
  },
  {
   "cell_type": "markdown",
   "metadata": {},
   "source": [
    "### Plot experiment results"
   ]
  },
  {
   "cell_type": "markdown",
   "metadata": {
    "pycharm": {
     "name": "#%% md\n"
    }
   },
   "source": [
    "#### MAE"
   ]
  },
  {
   "cell_type": "code",
   "execution_count": null,
   "metadata": {
    "ExecuteTime": {
     "start_time": "2020-11-24T20:22:36.076Z"
    },
    "pycharm": {
     "name": "#%%\n"
    }
   },
   "outputs": [],
   "source": [
    "utils.plot_to_compare_experiments(\n",
    "    results_total,\n",
    "    metric=\"mae\",\n",
    "    figsize=(25, 35),\n",
    "    use_pointplot=True\n",
    ")"
   ]
  },
  {
   "cell_type": "markdown",
   "metadata": {},
   "source": [
    "#### MSE"
   ]
  },
  {
   "cell_type": "code",
   "execution_count": null,
   "metadata": {
    "ExecuteTime": {
     "start_time": "2020-11-24T20:22:36.467Z"
    },
    "pycharm": {
     "name": "#%%\n"
    }
   },
   "outputs": [],
   "source": [
    "utils.plot_to_compare_experiments(\n",
    "    results_total,\n",
    "    metric=\"mse\",\n",
    "    figsize=(25, 35),\n",
    "    use_pointplot=True\n",
    ")"
   ]
  },
  {
   "cell_type": "markdown",
   "metadata": {},
   "source": [
    "#### RMSE"
   ]
  },
  {
   "cell_type": "code",
   "execution_count": null,
   "metadata": {
    "ExecuteTime": {
     "start_time": "2020-11-24T20:22:36.921Z"
    },
    "pycharm": {
     "name": "#%%\n"
    }
   },
   "outputs": [],
   "source": [
    "utils.plot_to_compare_experiments(\n",
    "    results_total,\n",
    "    metric=\"rmse\",\n",
    "    figsize=(25, 35),\n",
    "    use_pointplot=True\n",
    ")"
   ]
  },
  {
   "cell_type": "code",
   "execution_count": null,
   "outputs": [],
   "source": [],
   "metadata": {
    "collapsed": false,
    "pycharm": {
     "name": "#%%\n"
    }
   }
  },
  {
   "cell_type": "code",
   "execution_count": null,
   "metadata": {},
   "outputs": [],
   "source": []
  }
 ],
 "metadata": {
  "celltoolbar": "Initialization Cell",
  "hide_input": false,
  "kernelspec": {
   "display_name": "Python 3",
   "language": "python",
   "name": "python3"
  },
  "language_info": {
   "codemirror_mode": {
    "name": "ipython",
    "version": 3
   },
   "file_extension": ".py",
   "mimetype": "text/x-python",
   "name": "python",
   "nbconvert_exporter": "python",
   "pygments_lexer": "ipython3",
   "version": "3.7.7"
  },
  "toc": {
   "base_numbering": 1,
   "nav_menu": {
    "height": "491.972px",
    "width": "409.965px"
   },
   "number_sections": true,
   "sideBar": true,
   "skip_h1_title": false,
   "title_cell": "Table of Contents",
   "title_sidebar": "Contents",
   "toc_cell": false,
   "toc_position": {
    "height": "calc(100% - 180px)",
    "left": "10px",
    "top": "150px",
    "width": "295.445px"
   },
   "toc_section_display": true,
   "toc_window_display": true
  },
  "varInspector": {
   "cols": {
    "lenName": 16,
    "lenType": 16,
    "lenVar": 40
   },
   "kernels_config": {
    "python": {
     "delete_cmd_postfix": "",
     "delete_cmd_prefix": "del ",
     "library": "var_list.py",
     "varRefreshCmd": "print(var_dic_list())"
    },
    "r": {
     "delete_cmd_postfix": ") ",
     "delete_cmd_prefix": "rm(",
     "library": "var_list.r",
     "varRefreshCmd": "cat(var_dic_list()) "
    }
   },
   "types_to_exclude": [
    "module",
    "function",
    "builtin_function_or_method",
    "instance",
    "_Feature"
   ],
   "window_display": false
  }
 },
 "nbformat": 4,
 "nbformat_minor": 1
}