{
 "cells": [
  {
   "cell_type": "markdown",
   "metadata": {},
   "source": [
    "# EDA"
   ]
  },
  {
   "cell_type": "markdown",
   "metadata": {},
   "source": [
    "## Import Libraries"
   ]
  },
  {
   "cell_type": "code",
   "execution_count": 27,
   "metadata": {
    "ExecuteTime": {
     "end_time": "2020-11-21T02:10:06.672619Z",
     "start_time": "2020-11-21T02:10:05.891107Z"
    },
    "init_cell": true,
    "pycharm": {
     "name": "#%%\n"
    }
   },
   "outputs": [],
   "source": [
    "import numpy as np\n",
    "import pandas as pd\n",
    "from pandas import DataFrame\n",
    "import seaborn as sns\n",
    "import matplotlib.pyplot as plt\n",
    "import sweetviz as sv\n",
    "\n",
    "import model.train as train\n",
    "import model.config as config\n",
    "import utils as utils\n",
    "import model.dataset.season_game as sg\n",
    "\n",
    "from pandas_profiling import ProfileReport\n",
    "from yellowbrick.target import FeatureCorrelation\n",
    "import qgrid"
   ]
  },
  {
   "cell_type": "markdown",
   "metadata": {},
   "source": [
    "## Setup"
   ]
  },
  {
   "cell_type": "code",
   "execution_count": 28,
   "metadata": {
    "ExecuteTime": {
     "end_time": "2020-11-21T02:10:06.882897Z",
     "start_time": "2020-11-21T02:10:06.676012Z"
    },
    "init_cell": true
   },
   "outputs": [
    {
     "name": "stdout",
     "output_type": "stream",
     "text": [
      "The autoreload extension is already loaded. To reload it, use:\n",
      "  %reload_ext autoreload\n"
     ]
    }
   ],
   "source": [
    "%load_ext autoreload\n",
    "%autoreload 2\n",
    "%matplotlib inline\n",
    "sns.set(style=\"whitegrid\")\n",
    "#sns.set(style='whitegrid', palette=sns.color_palette(\n",
    " #   \"BuGn_r\"), font_scale=1.5, color_codes=True)\n",
    "\n",
    "#pd.options.display.max_columns = None\n",
    "#pd.set_option(\"display.max_colwidth\", None)\n",
    "#from IPython.core.interactiveshell import InteractiveShell\n",
    "#InteractiveShell.ast_node_interactivity = \"all\"\n",
    "pd.set_option(\"display.max_rows\", 50)\n",
    "pd.set_option(\"display.max_colwidth\", 50)\n",
    "pd.set_option(\"display.max_columns\", 50)"
   ]
  },
  {
   "cell_type": "markdown",
   "metadata": {},
   "source": [
    "### Utils functions"
   ]
  },
  {
   "cell_type": "code",
   "execution_count": 29,
   "metadata": {
    "ExecuteTime": {
     "end_time": "2020-11-21T02:10:06.911201Z",
     "start_time": "2020-11-21T02:10:06.885157Z"
    },
    "init_cell": true
   },
   "outputs": [],
   "source": [
    "def show_qgrid(df_):\n",
    "    qgrid_widget = qgrid.show_grid(df_, show_toolbar=True , grid_options={'forceFitColumns': False, 'defaultColumnWidth': 200})\n",
    "    qgrid_widget"
   ]
  },
  {
   "cell_type": "markdown",
   "metadata": {},
   "source": [
    "## Load dataset"
   ]
  },
  {
   "cell_type": "code",
   "execution_count": 30,
   "metadata": {
    "ExecuteTime": {
     "end_time": "2020-11-21T02:10:07.512710Z",
     "start_time": "2020-11-21T02:10:06.913397Z"
    },
    "init_cell": true,
    "pycharm": {
     "name": "#%%\n"
    }
   },
   "outputs": [],
   "source": [
    "raw_ds = sg.load_raw_season_games_dataset()\n",
    "dataset = sg.load_season_games_dataset()\n",
    "df = dataset"
   ]
  },
  {
   "cell_type": "code",
   "execution_count": 16,
   "metadata": {
    "ExecuteTime": {
     "end_time": "2020-11-10T17:34:58.155911Z",
     "start_time": "2020-11-10T17:34:58.118392Z"
    }
   },
   "outputs": [
    {
     "data": {
      "text/plain": [
       "['SEASON_ID',\n",
       " 'TEAM_ID_HOME',\n",
       " 'TEAM_ABBREVIATION_HOME',\n",
       " 'TEAM_NAME_HOME',\n",
       " 'GAME_DATE',\n",
       " 'MATCHUP_HOME',\n",
       " 'WL_HOME',\n",
       " 'MIN_HOME',\n",
       " 'FGM_HOME',\n",
       " 'FGA_HOME',\n",
       " 'FG_PCT_HOME',\n",
       " 'FG3M_HOME',\n",
       " 'FG3A_HOME',\n",
       " 'FG3_PCT_HOME',\n",
       " 'FTM_HOME',\n",
       " 'FTA_HOME',\n",
       " 'FT_PCT_HOME',\n",
       " 'OREB_HOME',\n",
       " 'DREB_HOME',\n",
       " 'REB_HOME',\n",
       " 'AST_HOME',\n",
       " 'STL_HOME',\n",
       " 'BLK_HOME',\n",
       " 'TOV_HOME',\n",
       " 'PF_HOME',\n",
       " 'PTS_HOME',\n",
       " 'PLUS_MINUS_HOME',\n",
       " 'W_L_HOME',\n",
       " 'W_L_L10_CUM_HOME',\n",
       " 'SEASON_HOME',\n",
       " 'LOCATION_HOME',\n",
       " 'UNIQUE_MATCHUP_HOME',\n",
       " 'FGM_ML10_HOME',\n",
       " 'FGA_ML10_HOME',\n",
       " 'FG3M_ML10_HOME',\n",
       " 'FG3A_ML10_HOME',\n",
       " 'FTM_ML10_HOME',\n",
       " 'FTA_ML10_HOME',\n",
       " 'OREB_ML10_HOME',\n",
       " 'DREB_ML10_HOME',\n",
       " 'PLUS_MINUS_ML10_HOME',\n",
       " 'W_L_ML10_HOME',\n",
       " 'FGM_MEAN_HOME',\n",
       " 'FGA_MEAN_HOME',\n",
       " 'FG3M_MEAN_HOME',\n",
       " 'FG3A_MEAN_HOME',\n",
       " 'FTM_MEAN_HOME',\n",
       " 'FTA_MEAN_HOME',\n",
       " 'OREB_MEAN_HOME',\n",
       " 'DREB_MEAN_HOME',\n",
       " 'FGM_L10_HOME',\n",
       " 'FGA_L10_HOME',\n",
       " 'FG3M_L10_HOME',\n",
       " 'FG3A_L10_HOME',\n",
       " 'FTM_L10_HOME',\n",
       " 'FTA_L10_HOME',\n",
       " 'OREB_L10_HOME',\n",
       " 'DREB_L10_HOME',\n",
       " 'TEAM_ID_AWAY',\n",
       " 'TEAM_ABBREVIATION_AWAY',\n",
       " 'TEAM_NAME_AWAY',\n",
       " 'MATCHUP_AWAY',\n",
       " 'WL_AWAY',\n",
       " 'FGM_AWAY',\n",
       " 'FGA_AWAY',\n",
       " 'FG_PCT_AWAY',\n",
       " 'FG3M_AWAY',\n",
       " 'FG3A_AWAY',\n",
       " 'FG3_PCT_AWAY',\n",
       " 'FTM_AWAY',\n",
       " 'FTA_AWAY',\n",
       " 'FT_PCT_AWAY',\n",
       " 'OREB_AWAY',\n",
       " 'DREB_AWAY',\n",
       " 'REB_AWAY',\n",
       " 'AST_AWAY',\n",
       " 'STL_AWAY',\n",
       " 'BLK_AWAY',\n",
       " 'TOV_AWAY',\n",
       " 'PF_AWAY',\n",
       " 'PTS_AWAY',\n",
       " 'PLUS_MINUS_AWAY',\n",
       " 'W_L_AWAY',\n",
       " 'W_L_L10_CUM_AWAY',\n",
       " 'LOCATION_AWAY',\n",
       " 'FGM_ML10_AWAY',\n",
       " 'FGA_ML10_AWAY',\n",
       " 'FG3M_ML10_AWAY',\n",
       " 'FG3A_ML10_AWAY',\n",
       " 'FTM_ML10_AWAY',\n",
       " 'FTA_ML10_AWAY',\n",
       " 'OREB_ML10_AWAY',\n",
       " 'DREB_ML10_AWAY',\n",
       " 'PLUS_MINUS_ML10_AWAY',\n",
       " 'W_L_ML10_AWAY',\n",
       " 'FGM_MEAN_AWAY',\n",
       " 'FGA_MEAN_AWAY',\n",
       " 'FG3M_MEAN_AWAY',\n",
       " 'FG3A_MEAN_AWAY',\n",
       " 'FTM_MEAN_AWAY',\n",
       " 'FTA_MEAN_AWAY',\n",
       " 'OREB_MEAN_AWAY',\n",
       " 'DREB_MEAN_AWAY',\n",
       " 'FGM_L10_AWAY',\n",
       " 'FGA_L10_AWAY',\n",
       " 'FG3M_L10_AWAY',\n",
       " 'FG3A_L10_AWAY',\n",
       " 'FTM_L10_AWAY',\n",
       " 'FTA_L10_AWAY',\n",
       " 'OREB_L10_AWAY',\n",
       " 'DREB_L10_AWAY',\n",
       " 'HOME_WINS',\n",
       " 'HOME_POINT_SPREAD',\n",
       " 'PTS',\n",
       " 'SEASON',\n",
       " 'GAME_DATE_EST',\n",
       " 'HOME_FGM',\n",
       " 'HOME_FGA',\n",
       " 'HOME_FG_PCT',\n",
       " 'HOME_FG3M',\n",
       " 'HOME_FG3A',\n",
       " 'HOME_FTM',\n",
       " 'HOME_FTA',\n",
       " 'HOME_OREB',\n",
       " 'HOME_DREB',\n",
       " 'HOME_REB',\n",
       " 'HOME_AST',\n",
       " 'HOME_STL',\n",
       " 'HOME_BLK',\n",
       " 'HOME_TOV',\n",
       " 'HOME_PF',\n",
       " 'HOME_PTS',\n",
       " 'HOME_PLUS_MINUS',\n",
       " 'HOME_W_L_CUM',\n",
       " 'HOME_W_L_L10_CUM',\n",
       " 'HOME_FGM_ML10',\n",
       " 'HOME_FGA_ML10',\n",
       " 'HOME_FG3M_ML10',\n",
       " 'HOME_FG3A_ML10',\n",
       " 'HOME_FTM_ML10',\n",
       " 'HOME_FTA_ML10',\n",
       " 'HOME_OREB_ML10',\n",
       " 'HOME_DREB_ML10',\n",
       " 'HOME_REB_ML10',\n",
       " 'HOME_STL_ML10',\n",
       " 'HOME_TOV_ML10',\n",
       " 'HOME_PTS_ML10',\n",
       " 'HOME_FGM_MEAN',\n",
       " 'HOME_FGA_MEAN',\n",
       " 'HOME_FG3M_MEAN',\n",
       " 'HOME_FG3A_MEAN',\n",
       " 'HOME_FTM_MEAN',\n",
       " 'HOME_FTA_MEAN',\n",
       " 'HOME_OREB_MEAN',\n",
       " 'HOME_DREB_MEAN',\n",
       " 'HOME_REB_MEAN',\n",
       " 'HOME_STL_MEAN',\n",
       " 'HOME_TOV_MEAN',\n",
       " 'HOME_PTS_MEAN',\n",
       " 'HOME_FGM_L10',\n",
       " 'HOME_FGA_L10',\n",
       " 'HOME_FG3M_L10',\n",
       " 'HOME_FG3A_L10',\n",
       " 'HOME_FTM_L10',\n",
       " 'HOME_FTA_L10',\n",
       " 'HOME_OREB_L10',\n",
       " 'HOME_DREB_L10',\n",
       " 'HOME_REB_L10',\n",
       " 'HOME_STL_L10',\n",
       " 'HOME_TOV_L10',\n",
       " 'HOME_PTS_L10']"
      ]
     },
     "execution_count": 16,
     "metadata": {},
     "output_type": "execute_result"
    }
   ],
   "source": [
    "cols = list(df.columns) \n",
    "[x for x in cols if x not in config.X_COLS]"
   ]
  },
  {
   "cell_type": "code",
   "execution_count": 31,
   "metadata": {
    "ExecuteTime": {
     "end_time": "2020-11-21T02:10:07.539769Z",
     "start_time": "2020-11-21T02:10:07.515035Z"
    },
    "init_cell": true
   },
   "outputs": [],
   "source": [
    "columns = config.X_COLS + config.Y_CLF_COL + config.Y_REG_COL"
   ]
  },
  {
   "cell_type": "markdown",
   "metadata": {},
   "source": [
    "### Validate dataset"
   ]
  },
  {
   "cell_type": "code",
   "execution_count": null,
   "metadata": {
    "ExecuteTime": {
     "end_time": "2020-11-09T06:55:24.865271Z",
     "start_time": "2020-11-09T06:55:24.838698Z"
    }
   },
   "outputs": [],
   "source": [
    "cond = (dataset.WL_HOME == 'L') & (dataset.SEASON == 2018)\n",
    "dataset[cond].columns.unique()"
   ]
  },
  {
   "cell_type": "code",
   "execution_count": null,
   "metadata": {
    "ExecuteTime": {
     "end_time": "2020-11-07T01:09:09.263039Z",
     "start_time": "2020-11-07T01:09:09.232118Z"
    }
   },
   "outputs": [],
   "source": [
    "test_df = pd.DataFrame({\"B\": [1, 2, 3, 4, 5, np.nan], \"C\": [1, 2, 3, 4, 5, 6], \"D\": [1, np.nan, 3, 4, 5, 6]})\n",
    "#test_df.apply(lambda x : x.shift(1).expanding().mean())\n",
    "#test_df.shift(1).expanding(min_periods=-1).mean()\n",
    "test_df.shift(1).rolling(window=5, min_periods=0).sum()\n",
    "#test_df[['B', 'C']] = test_df[['B', 'C']].fillna(0)\n",
    "\n",
    "\n"
   ]
  },
  {
   "cell_type": "code",
   "execution_count": null,
   "metadata": {
    "ExecuteTime": {
     "end_time": "2020-11-07T03:39:57.937790Z",
     "start_time": "2020-11-07T03:39:57.899993Z"
    }
   },
   "outputs": [],
   "source": [
    "cols = [\n",
    "'GAME_DATE',\n",
    "'MATCHUP_HOME',\n",
    "'FGM_HOME',\n",
    "'FGM_MEAN_HOME',\n",
    "'FGA_HOME',\n",
    "'FGA_MEAN_HOME',\n",
    "'FG_PCT_HOME',\n",
    "'FG_PCT_MEAN_HOME',\n",
    "'FG3M_HOME',\n",
    "'FG3M_MEAN_HOME',\n",
    "'FG3A_HOME',\n",
    "'FG3A_MEAN_HOME',\n",
    "'FG3_PCT_HOME',\n",
    "'FG3_PCT_MEAN_HOME',\n",
    "'FTM_HOME',\n",
    "'FTM_MEAN_HOME',    \n",
    "'FTA_HOME',\n",
    "'FTA_MEAN_HOME',    \n",
    "'FT_PCT_HOME',\n",
    "'FT_PCT_MEAN_HOME',\n",
    "'OREB_HOME',\n",
    "'OREB_MEAN_HOME',\n",
    "'DREB_HOME',\n",
    "'DREB_MEAN_HOME',\n",
    "'REB_HOME',\n",
    "'REB_MEAN_HOME',\n",
    "'AST_HOME',\n",
    "'AST_MEAN_HOME',\n",
    "'STL_HOME',\n",
    "'STL_MEAN_HOME',\n",
    "'BLK_HOME',\n",
    "'BLK_MEAN_HOME',\n",
    "'TOV_HOME',\n",
    "'TOV_MEAN_HOME',\n",
    "'PF_HOME',\n",
    "'PF_MEAN_HOME',\n",
    "'PTS_HOME',\n",
    "'PTS_MEAN_HOME',\n",
    "'PLUS_MINUS_HOME',\n",
    "'PLUS_MINUS_MEAN_HOME'\n",
    "]"
   ]
  },
  {
   "cell_type": "code",
   "execution_count": null,
   "metadata": {
    "ExecuteTime": {
     "end_time": "2020-11-07T03:40:02.000341Z",
     "start_time": "2020-11-07T03:40:01.913892Z"
    }
   },
   "outputs": [],
   "source": [
    "cond = ((df.TEAM_ABBREVIATION_HOME == 'MIL') | (df.TEAM_ABBREVIATION_AWAY == 'MIL')) \\\n",
    "    & (df.SEASON == 2018)\n",
    "#list(df[cond].columns)\n",
    "df[cond][cols]"
   ]
  },
  {
   "cell_type": "code",
   "execution_count": null,
   "metadata": {
    "ExecuteTime": {
     "end_time": "2020-11-07T05:39:12.450909Z",
     "start_time": "2020-11-07T05:39:12.321172Z"
    }
   },
   "outputs": [],
   "source": [
    "pd.set_option(\"display.max_columns\", 200)\n",
    "dataset.head()"
   ]
  },
  {
   "cell_type": "code",
   "execution_count": 16,
   "metadata": {
    "ExecuteTime": {
     "end_time": "2020-11-20T21:41:08.597365Z",
     "start_time": "2020-11-20T21:41:08.559003Z"
    }
   },
   "outputs": [
    {
     "data": {
      "text/plain": [
       "['AST_AWAY',\n",
       " 'AST_HOME',\n",
       " 'AST_L10_AWAY',\n",
       " 'AST_L10_HOME',\n",
       " 'AST_MEAN_AWAY',\n",
       " 'AST_MEAN_HOME',\n",
       " 'AST_ML10_AWAY',\n",
       " 'AST_ML10_HOME',\n",
       " 'BLK_AWAY',\n",
       " 'BLK_HOME',\n",
       " 'BLK_L10_AWAY',\n",
       " 'BLK_L10_HOME',\n",
       " 'BLK_MEAN_AWAY',\n",
       " 'BLK_MEAN_HOME',\n",
       " 'BLK_ML10_AWAY',\n",
       " 'BLK_ML10_HOME',\n",
       " 'DREB_AWAY',\n",
       " 'DREB_HOME',\n",
       " 'DREB_L10_AWAY',\n",
       " 'DREB_L10_HOME',\n",
       " 'DREB_MEAN_AWAY',\n",
       " 'DREB_MEAN_HOME',\n",
       " 'DREB_ML10_AWAY',\n",
       " 'DREB_ML10_HOME',\n",
       " 'FG3A_AWAY',\n",
       " 'FG3A_HOME',\n",
       " 'FG3A_L10_AWAY',\n",
       " 'FG3A_L10_HOME',\n",
       " 'FG3A_MEAN_AWAY',\n",
       " 'FG3A_MEAN_HOME',\n",
       " 'FG3A_ML10_AWAY',\n",
       " 'FG3A_ML10_HOME',\n",
       " 'FG3M_AWAY',\n",
       " 'FG3M_HOME',\n",
       " 'FG3M_L10_AWAY',\n",
       " 'FG3M_L10_HOME',\n",
       " 'FG3M_MEAN_AWAY',\n",
       " 'FG3M_MEAN_HOME',\n",
       " 'FG3M_ML10_AWAY',\n",
       " 'FG3M_ML10_HOME',\n",
       " 'FG3_PCT_AWAY',\n",
       " 'FG3_PCT_HOME',\n",
       " 'FG3_PCT_L10_AWAY',\n",
       " 'FG3_PCT_L10_HOME',\n",
       " 'FG3_PCT_MEAN_AWAY',\n",
       " 'FG3_PCT_MEAN_HOME',\n",
       " 'FG3_PCT_ML10_AWAY',\n",
       " 'FG3_PCT_ML10_HOME',\n",
       " 'FGA_AWAY',\n",
       " 'FGA_HOME',\n",
       " 'FGA_L10_AWAY',\n",
       " 'FGA_L10_HOME',\n",
       " 'FGA_MEAN_AWAY',\n",
       " 'FGA_MEAN_HOME',\n",
       " 'FGA_ML10_AWAY',\n",
       " 'FGA_ML10_HOME',\n",
       " 'FGM_AWAY',\n",
       " 'FGM_HOME',\n",
       " 'FGM_L10_AWAY',\n",
       " 'FGM_L10_HOME',\n",
       " 'FGM_MEAN_AWAY',\n",
       " 'FGM_MEAN_HOME',\n",
       " 'FGM_ML10_AWAY',\n",
       " 'FGM_ML10_HOME',\n",
       " 'FG_PCT_AWAY',\n",
       " 'FG_PCT_HOME',\n",
       " 'FG_PCT_L10_AWAY',\n",
       " 'FG_PCT_L10_HOME',\n",
       " 'FG_PCT_MEAN_AWAY',\n",
       " 'FG_PCT_MEAN_HOME',\n",
       " 'FG_PCT_ML10_AWAY',\n",
       " 'FG_PCT_ML10_HOME',\n",
       " 'FTA_AWAY',\n",
       " 'FTA_HOME',\n",
       " 'FTA_L10_AWAY',\n",
       " 'FTA_L10_HOME',\n",
       " 'FTA_MEAN_AWAY',\n",
       " 'FTA_MEAN_HOME',\n",
       " 'FTA_ML10_AWAY',\n",
       " 'FTA_ML10_HOME',\n",
       " 'FTM_AWAY',\n",
       " 'FTM_HOME',\n",
       " 'FTM_L10_AWAY',\n",
       " 'FTM_L10_HOME',\n",
       " 'FTM_MEAN_AWAY',\n",
       " 'FTM_MEAN_HOME',\n",
       " 'FTM_ML10_AWAY',\n",
       " 'FTM_ML10_HOME',\n",
       " 'FT_PCT_AWAY',\n",
       " 'FT_PCT_HOME',\n",
       " 'FT_PCT_L10_AWAY',\n",
       " 'FT_PCT_L10_HOME',\n",
       " 'FT_PCT_MEAN_AWAY',\n",
       " 'FT_PCT_MEAN_HOME',\n",
       " 'FT_PCT_ML10_AWAY',\n",
       " 'FT_PCT_ML10_HOME',\n",
       " 'GAME_DATE',\n",
       " 'GAME_DATE_EST',\n",
       " 'HOME_AST',\n",
       " 'HOME_AST_L10',\n",
       " 'HOME_AST_MEAN',\n",
       " 'HOME_AST_ML10',\n",
       " 'HOME_BLK',\n",
       " 'HOME_BLK_L10',\n",
       " 'HOME_BLK_MEAN',\n",
       " 'HOME_BLK_ML10',\n",
       " 'HOME_DREB',\n",
       " 'HOME_DREB_L10',\n",
       " 'HOME_DREB_MEAN',\n",
       " 'HOME_DREB_ML10',\n",
       " 'HOME_FG3A',\n",
       " 'HOME_FG3A_L10',\n",
       " 'HOME_FG3A_MEAN',\n",
       " 'HOME_FG3A_ML10',\n",
       " 'HOME_FG3M',\n",
       " 'HOME_FG3M_L10',\n",
       " 'HOME_FG3M_MEAN',\n",
       " 'HOME_FG3M_ML10',\n",
       " 'HOME_FG3_PCT',\n",
       " 'HOME_FG3_PCT_L10',\n",
       " 'HOME_FG3_PCT_MEAN',\n",
       " 'HOME_FG3_PCT_ML10',\n",
       " 'HOME_FGA',\n",
       " 'HOME_FGA_L10',\n",
       " 'HOME_FGA_MEAN',\n",
       " 'HOME_FGA_ML10',\n",
       " 'HOME_FGM',\n",
       " 'HOME_FGM_L10',\n",
       " 'HOME_FGM_MEAN',\n",
       " 'HOME_FGM_ML10',\n",
       " 'HOME_FG_PCT',\n",
       " 'HOME_FG_PCT_L10',\n",
       " 'HOME_FG_PCT_MEAN',\n",
       " 'HOME_FG_PCT_ML10',\n",
       " 'HOME_FTA',\n",
       " 'HOME_FTA_L10',\n",
       " 'HOME_FTA_MEAN',\n",
       " 'HOME_FTA_ML10',\n",
       " 'HOME_FTM',\n",
       " 'HOME_FTM_L10',\n",
       " 'HOME_FTM_MEAN',\n",
       " 'HOME_FTM_ML10',\n",
       " 'HOME_FT_PCT',\n",
       " 'HOME_FT_PCT_L10',\n",
       " 'HOME_FT_PCT_MEAN',\n",
       " 'HOME_FT_PCT_ML10',\n",
       " 'HOME_OREB',\n",
       " 'HOME_OREB_L10',\n",
       " 'HOME_OREB_MEAN',\n",
       " 'HOME_OREB_ML10',\n",
       " 'HOME_PF',\n",
       " 'HOME_PF_L10',\n",
       " 'HOME_PF_MEAN',\n",
       " 'HOME_PF_ML10',\n",
       " 'HOME_PLUS_MINUS',\n",
       " 'HOME_PLUS_MINUS_L10',\n",
       " 'HOME_PLUS_MINUS_MEAN',\n",
       " 'HOME_PLUS_MINUS_ML10',\n",
       " 'HOME_POINT_SPREAD',\n",
       " 'HOME_PTS',\n",
       " 'HOME_PTS_CUM',\n",
       " 'HOME_PTS_CUM_ML10',\n",
       " 'HOME_PTS_L10',\n",
       " 'HOME_PTS_L10_CUM',\n",
       " 'HOME_PTS_MEAN',\n",
       " 'HOME_PTS_ML10',\n",
       " 'HOME_PYTHAGOREAN_EXPECTATION',\n",
       " 'HOME_PYTHAGOREAN_EXPECTATION_CUM_ML10',\n",
       " 'HOME_PYTHAGOREAN_EXPECTATION_L10',\n",
       " 'HOME_REB',\n",
       " 'HOME_REB_L10',\n",
       " 'HOME_REB_MEAN',\n",
       " 'HOME_REB_ML10',\n",
       " 'HOME_STL',\n",
       " 'HOME_STL_L10',\n",
       " 'HOME_STL_MEAN',\n",
       " 'HOME_STL_ML10',\n",
       " 'HOME_TOV',\n",
       " 'HOME_TOV_L10',\n",
       " 'HOME_TOV_MEAN',\n",
       " 'HOME_TOV_ML10',\n",
       " 'HOME_WINS',\n",
       " 'HOME_W_L_CUM',\n",
       " 'HOME_W_L_CUM_ML10',\n",
       " 'HOME_W_L_L10_CUM',\n",
       " 'LOCATION_AWAY',\n",
       " 'LOCATION_HOME',\n",
       " 'MATCHUP_AWAY',\n",
       " 'MATCHUP_HOME',\n",
       " 'MIN_HOME',\n",
       " 'OREB_AWAY',\n",
       " 'OREB_HOME',\n",
       " 'OREB_L10_AWAY',\n",
       " 'OREB_L10_HOME',\n",
       " 'OREB_MEAN_AWAY',\n",
       " 'OREB_MEAN_HOME',\n",
       " 'OREB_ML10_AWAY',\n",
       " 'OREB_ML10_HOME',\n",
       " 'PF_AWAY',\n",
       " 'PF_HOME',\n",
       " 'PF_L10_AWAY',\n",
       " 'PF_L10_HOME',\n",
       " 'PF_MEAN_AWAY',\n",
       " 'PF_MEAN_HOME',\n",
       " 'PF_ML10_AWAY',\n",
       " 'PF_ML10_HOME',\n",
       " 'PLUS_MINUS_AWAY',\n",
       " 'PLUS_MINUS_HOME',\n",
       " 'PLUS_MINUS_L10_AWAY',\n",
       " 'PLUS_MINUS_L10_HOME',\n",
       " 'PLUS_MINUS_MEAN_AWAY',\n",
       " 'PLUS_MINUS_MEAN_HOME',\n",
       " 'PLUS_MINUS_ML10_AWAY',\n",
       " 'PLUS_MINUS_ML10_HOME',\n",
       " 'PTS',\n",
       " 'PTS_AWAY',\n",
       " 'PTS_CUM_AWAY',\n",
       " 'PTS_CUM_HOME',\n",
       " 'PTS_CUM_ML10_AWAY',\n",
       " 'PTS_CUM_ML10_HOME',\n",
       " 'PTS_HOME',\n",
       " 'PTS_L10_AWAY',\n",
       " 'PTS_L10_CUM_AWAY',\n",
       " 'PTS_L10_CUM_HOME',\n",
       " 'PTS_L10_HOME',\n",
       " 'PTS_MEAN_AWAY',\n",
       " 'PTS_MEAN_HOME',\n",
       " 'PTS_ML10_AWAY',\n",
       " 'PTS_ML10_HOME',\n",
       " 'PYTHAGOREAN_EXPECTATION_AWAY',\n",
       " 'PYTHAGOREAN_EXPECTATION_CUM_ML10_AWAY',\n",
       " 'PYTHAGOREAN_EXPECTATION_CUM_ML10_HOME',\n",
       " 'PYTHAGOREAN_EXPECTATION_HOME',\n",
       " 'PYTHAGOREAN_EXPECTATION_L10_AWAY',\n",
       " 'PYTHAGOREAN_EXPECTATION_L10_HOME',\n",
       " 'REB_AWAY',\n",
       " 'REB_HOME',\n",
       " 'REB_L10_AWAY',\n",
       " 'REB_L10_HOME',\n",
       " 'REB_MEAN_AWAY',\n",
       " 'REB_MEAN_HOME',\n",
       " 'REB_ML10_AWAY',\n",
       " 'REB_ML10_HOME',\n",
       " 'SEASON',\n",
       " 'SEASON_HOME',\n",
       " 'SEASON_ID',\n",
       " 'STL_AWAY',\n",
       " 'STL_HOME',\n",
       " 'STL_L10_AWAY',\n",
       " 'STL_L10_HOME',\n",
       " 'STL_MEAN_AWAY',\n",
       " 'STL_MEAN_HOME',\n",
       " 'STL_ML10_AWAY',\n",
       " 'STL_ML10_HOME',\n",
       " 'TEAM_ABBREVIATION_AWAY',\n",
       " 'TEAM_ABBREVIATION_HOME',\n",
       " 'TEAM_ID_AWAY',\n",
       " 'TEAM_ID_HOME',\n",
       " 'TEAM_NAME_AWAY',\n",
       " 'TEAM_NAME_HOME',\n",
       " 'TOV_AWAY',\n",
       " 'TOV_HOME',\n",
       " 'TOV_L10_AWAY',\n",
       " 'TOV_L10_HOME',\n",
       " 'TOV_MEAN_AWAY',\n",
       " 'TOV_MEAN_HOME',\n",
       " 'TOV_ML10_AWAY',\n",
       " 'TOV_ML10_HOME',\n",
       " 'UNIQUE_MATCHUP_HOME',\n",
       " 'WL_AWAY',\n",
       " 'WL_HOME',\n",
       " 'W_L_AWAY',\n",
       " 'W_L_CUM_AWAY',\n",
       " 'W_L_CUM_HOME',\n",
       " 'W_L_CUM_ML10_AWAY',\n",
       " 'W_L_CUM_ML10_HOME',\n",
       " 'W_L_HOME',\n",
       " 'W_L_L10_CUM_AWAY',\n",
       " 'W_L_L10_CUM_HOME']"
      ]
     },
     "execution_count": 16,
     "metadata": {},
     "output_type": "execute_result"
    }
   ],
   "source": [
    "ds_columns = list(dataset.columns)\n",
    "ds_columns.sort()\n",
    "ds_columns"
   ]
  },
  {
   "cell_type": "markdown",
   "metadata": {
    "ExecuteTime": {
     "end_time": "2020-11-03T00:51:59.359723Z",
     "start_time": "2020-11-03T00:51:59.314880Z"
    }
   },
   "source": [
    "### Drop unimportant column"
   ]
  },
  {
   "cell_type": "code",
   "execution_count": 32,
   "metadata": {
    "ExecuteTime": {
     "end_time": "2020-11-21T02:10:07.563959Z",
     "start_time": "2020-11-21T02:10:07.541098Z"
    },
    "init_cell": true
   },
   "outputs": [],
   "source": [
    "#df = df[columns]"
   ]
  },
  {
   "cell_type": "code",
   "execution_count": 33,
   "metadata": {
    "ExecuteTime": {
     "end_time": "2020-11-21T02:10:07.636291Z",
     "start_time": "2020-11-21T02:10:07.566078Z"
    },
    "init_cell": true
   },
   "outputs": [
    {
     "ename": "KeyError",
     "evalue": "\"None of [Index(['PLUS_MINUS_ML5_HOME', 'PLUS_MINUS_ML5_AWAY'], dtype='object')] are in the [columns]\"",
     "output_type": "error",
     "traceback": [
      "\u001b[0;31m---------------------------------------------------------------------------\u001b[0m",
      "\u001b[0;31mKeyError\u001b[0m                                  Traceback (most recent call last)",
      "\u001b[0;32m<ipython-input-33-a8abc648479a>\u001b[0m in \u001b[0;36m<module>\u001b[0;34m\u001b[0m\n\u001b[0;32m----> 1\u001b[0;31m \u001b[0mdf\u001b[0m\u001b[0;34m[\u001b[0m\u001b[0;34m[\u001b[0m\u001b[0;34m\"PLUS_MINUS_ML5_HOME\"\u001b[0m\u001b[0;34m,\u001b[0m \u001b[0;34m\"PLUS_MINUS_ML5_AWAY\"\u001b[0m\u001b[0;34m]\u001b[0m\u001b[0;34m]\u001b[0m\u001b[0;34m\u001b[0m\u001b[0;34m\u001b[0m\u001b[0m\n\u001b[0m",
      "\u001b[0;32m~/anaconda3/envs/nba-predictor/lib/python3.7/site-packages/pandas/core/frame.py\u001b[0m in \u001b[0;36m__getitem__\u001b[0;34m(self, key)\u001b[0m\n\u001b[1;32m   2906\u001b[0m             \u001b[0;32mif\u001b[0m \u001b[0mis_iterator\u001b[0m\u001b[0;34m(\u001b[0m\u001b[0mkey\u001b[0m\u001b[0;34m)\u001b[0m\u001b[0;34m:\u001b[0m\u001b[0;34m\u001b[0m\u001b[0;34m\u001b[0m\u001b[0m\n\u001b[1;32m   2907\u001b[0m                 \u001b[0mkey\u001b[0m \u001b[0;34m=\u001b[0m \u001b[0mlist\u001b[0m\u001b[0;34m(\u001b[0m\u001b[0mkey\u001b[0m\u001b[0;34m)\u001b[0m\u001b[0;34m\u001b[0m\u001b[0;34m\u001b[0m\u001b[0m\n\u001b[0;32m-> 2908\u001b[0;31m             \u001b[0mindexer\u001b[0m \u001b[0;34m=\u001b[0m \u001b[0mself\u001b[0m\u001b[0;34m.\u001b[0m\u001b[0mloc\u001b[0m\u001b[0;34m.\u001b[0m\u001b[0m_get_listlike_indexer\u001b[0m\u001b[0;34m(\u001b[0m\u001b[0mkey\u001b[0m\u001b[0;34m,\u001b[0m \u001b[0maxis\u001b[0m\u001b[0;34m=\u001b[0m\u001b[0;36m1\u001b[0m\u001b[0;34m,\u001b[0m \u001b[0mraise_missing\u001b[0m\u001b[0;34m=\u001b[0m\u001b[0;32mTrue\u001b[0m\u001b[0;34m)\u001b[0m\u001b[0;34m[\u001b[0m\u001b[0;36m1\u001b[0m\u001b[0;34m]\u001b[0m\u001b[0;34m\u001b[0m\u001b[0;34m\u001b[0m\u001b[0m\n\u001b[0m\u001b[1;32m   2909\u001b[0m \u001b[0;34m\u001b[0m\u001b[0m\n\u001b[1;32m   2910\u001b[0m         \u001b[0;31m# take() does not accept boolean indexers\u001b[0m\u001b[0;34m\u001b[0m\u001b[0;34m\u001b[0m\u001b[0;34m\u001b[0m\u001b[0m\n",
      "\u001b[0;32m~/anaconda3/envs/nba-predictor/lib/python3.7/site-packages/pandas/core/indexing.py\u001b[0m in \u001b[0;36m_get_listlike_indexer\u001b[0;34m(self, key, axis, raise_missing)\u001b[0m\n\u001b[1;32m   1252\u001b[0m             \u001b[0mkeyarr\u001b[0m\u001b[0;34m,\u001b[0m \u001b[0mindexer\u001b[0m\u001b[0;34m,\u001b[0m \u001b[0mnew_indexer\u001b[0m \u001b[0;34m=\u001b[0m \u001b[0max\u001b[0m\u001b[0;34m.\u001b[0m\u001b[0m_reindex_non_unique\u001b[0m\u001b[0;34m(\u001b[0m\u001b[0mkeyarr\u001b[0m\u001b[0;34m)\u001b[0m\u001b[0;34m\u001b[0m\u001b[0;34m\u001b[0m\u001b[0m\n\u001b[1;32m   1253\u001b[0m \u001b[0;34m\u001b[0m\u001b[0m\n\u001b[0;32m-> 1254\u001b[0;31m         \u001b[0mself\u001b[0m\u001b[0;34m.\u001b[0m\u001b[0m_validate_read_indexer\u001b[0m\u001b[0;34m(\u001b[0m\u001b[0mkeyarr\u001b[0m\u001b[0;34m,\u001b[0m \u001b[0mindexer\u001b[0m\u001b[0;34m,\u001b[0m \u001b[0maxis\u001b[0m\u001b[0;34m,\u001b[0m \u001b[0mraise_missing\u001b[0m\u001b[0;34m=\u001b[0m\u001b[0mraise_missing\u001b[0m\u001b[0;34m)\u001b[0m\u001b[0;34m\u001b[0m\u001b[0;34m\u001b[0m\u001b[0m\n\u001b[0m\u001b[1;32m   1255\u001b[0m         \u001b[0;32mreturn\u001b[0m \u001b[0mkeyarr\u001b[0m\u001b[0;34m,\u001b[0m \u001b[0mindexer\u001b[0m\u001b[0;34m\u001b[0m\u001b[0;34m\u001b[0m\u001b[0m\n\u001b[1;32m   1256\u001b[0m \u001b[0;34m\u001b[0m\u001b[0m\n",
      "\u001b[0;32m~/anaconda3/envs/nba-predictor/lib/python3.7/site-packages/pandas/core/indexing.py\u001b[0m in \u001b[0;36m_validate_read_indexer\u001b[0;34m(self, key, indexer, axis, raise_missing)\u001b[0m\n\u001b[1;32m   1296\u001b[0m             \u001b[0;32mif\u001b[0m \u001b[0mmissing\u001b[0m \u001b[0;34m==\u001b[0m \u001b[0mlen\u001b[0m\u001b[0;34m(\u001b[0m\u001b[0mindexer\u001b[0m\u001b[0;34m)\u001b[0m\u001b[0;34m:\u001b[0m\u001b[0;34m\u001b[0m\u001b[0;34m\u001b[0m\u001b[0m\n\u001b[1;32m   1297\u001b[0m                 \u001b[0maxis_name\u001b[0m \u001b[0;34m=\u001b[0m \u001b[0mself\u001b[0m\u001b[0;34m.\u001b[0m\u001b[0mobj\u001b[0m\u001b[0;34m.\u001b[0m\u001b[0m_get_axis_name\u001b[0m\u001b[0;34m(\u001b[0m\u001b[0maxis\u001b[0m\u001b[0;34m)\u001b[0m\u001b[0;34m\u001b[0m\u001b[0;34m\u001b[0m\u001b[0m\n\u001b[0;32m-> 1298\u001b[0;31m                 \u001b[0;32mraise\u001b[0m \u001b[0mKeyError\u001b[0m\u001b[0;34m(\u001b[0m\u001b[0;34mf\"None of [{key}] are in the [{axis_name}]\"\u001b[0m\u001b[0;34m)\u001b[0m\u001b[0;34m\u001b[0m\u001b[0;34m\u001b[0m\u001b[0m\n\u001b[0m\u001b[1;32m   1299\u001b[0m \u001b[0;34m\u001b[0m\u001b[0m\n\u001b[1;32m   1300\u001b[0m             \u001b[0;31m# We (temporarily) allow for some missing keys with .loc, except in\u001b[0m\u001b[0;34m\u001b[0m\u001b[0;34m\u001b[0m\u001b[0;34m\u001b[0m\u001b[0m\n",
      "\u001b[0;31mKeyError\u001b[0m: \"None of [Index(['PLUS_MINUS_ML5_HOME', 'PLUS_MINUS_ML5_AWAY'], dtype='object')] are in the [columns]\""
     ]
    }
   ],
   "source": [
    "df[[\"PLUS_MINUS_ML5_HOME\", \"PLUS_MINUS_ML5_AWAY\"]]"
   ]
  },
  {
   "cell_type": "markdown",
   "metadata": {},
   "source": [
    "### Checking null value"
   ]
  },
  {
   "cell_type": "code",
   "execution_count": null,
   "metadata": {
    "ExecuteTime": {
     "end_time": "2020-11-21T02:10:07.640629Z",
     "start_time": "2020-11-21T02:10:05.904Z"
    },
    "init_cell": true,
    "pycharm": {
     "name": "#%%\n"
    }
   },
   "outputs": [],
   "source": [
    "df.isnull().sum()\n",
    "#.sum()"
   ]
  },
  {
   "cell_type": "markdown",
   "metadata": {
    "pycharm": {
     "name": "#%% md\n"
    }
   },
   "source": [
    "Se observa que existen valores nulos."
   ]
  },
  {
   "cell_type": "code",
   "execution_count": null,
   "metadata": {
    "ExecuteTime": {
     "end_time": "2020-11-07T03:44:56.365829Z",
     "start_time": "2020-11-07T03:44:56.275890Z"
    }
   },
   "outputs": [],
   "source": [
    "#df.columns\n",
    "pd.set_option(\"display.max_rows\", 600)\n",
    "raw_ds[raw_ds.isnull().any(axis=1)].groupby(by=[\"TEAM_ID\", \"SEASON_ID\"])[['FGA']].count()"
   ]
  },
  {
   "cell_type": "markdown",
   "metadata": {},
   "source": [
    "### Unique enteries in each of the columns"
   ]
  },
  {
   "cell_type": "code",
   "execution_count": null,
   "metadata": {
    "ExecuteTime": {
     "end_time": "2020-11-03T23:05:42.146315Z",
     "start_time": "2020-11-03T23:05:42.049551Z"
    },
    "pycharm": {
     "name": "#%%\n"
    }
   },
   "outputs": [],
   "source": [
    "df.nunique()"
   ]
  },
  {
   "cell_type": "markdown",
   "metadata": {
    "ExecuteTime": {
     "end_time": "2020-11-03T22:21:42.486454Z",
     "start_time": "2020-11-03T22:21:42.452052Z"
    }
   },
   "source": [
    "## Insights"
   ]
  },
  {
   "cell_type": "code",
   "execution_count": null,
   "metadata": {
    "ExecuteTime": {
     "end_time": "2020-11-07T03:45:49.720750Z",
     "start_time": "2020-11-07T03:45:49.669186Z"
    }
   },
   "outputs": [],
   "source": [
    "dfi = dataset.reset_index()"
   ]
  },
  {
   "cell_type": "markdown",
   "metadata": {},
   "source": [
    "### WL by season\n",
    "\n",
    "Porcentaje de victorias por temporada del equipo que juega como casa vs equipo que juega como visitante"
   ]
  },
  {
   "cell_type": "code",
   "execution_count": null,
   "metadata": {
    "ExecuteTime": {
     "end_time": "2020-11-07T03:45:51.885321Z",
     "start_time": "2020-11-07T03:45:51.817006Z"
    }
   },
   "outputs": [],
   "source": [
    "grouped = dfi[['SEASON', 'WL_HOME', 'GAME_ID']].groupby(by=['SEASON', 'WL_HOME']).count()\n",
    "grouped = grouped.reset_index(level=0).reset_index(level=0)\n",
    "grouped_total = grouped[['SEASON', 'GAME_ID']].groupby(by=['SEASON']).sum()\n",
    "grouped_total = grouped_total.reset_index(level=0)\n",
    "plot_data = pd.merge(grouped, grouped_total, suffixes=['', '_S'], on=['SEASON', 'SEASON'])\n",
    "plot_data.rename(columns={\"GAME_ID\": \"W_COUNT\", \"GAME_ID_S\": \"GAMES_COUNT\"}, inplace=True)\n",
    "plot_data[\"TEAM\"] = np.where(plot_data['WL_HOME'] == 'W', 'HOME', 'AWAY')\n",
    "plot_data[\"WINS_PERC\"] = (plot_data[\"W_COUNT\"] / plot_data[\"GAMES_COUNT\"]) * 100\n",
    "plot_data.head()"
   ]
  },
  {
   "cell_type": "code",
   "execution_count": null,
   "metadata": {
    "ExecuteTime": {
     "end_time": "2020-11-07T03:45:56.700171Z",
     "start_time": "2020-11-07T03:45:56.285470Z"
    }
   },
   "outputs": [],
   "source": [
    "import matplotlib.ticker as mtick\n",
    "import matplotlib.ticker as ticker\n",
    "fig_dims = (20, 10)\n",
    "fig, ax = plt.subplots(figsize=fig_dims, sharex=True, sharey=True)\n",
    "ax.yaxis.set_major_formatter(mtick.PercentFormatter())\n",
    "ax.yaxis.set_major_locator(ticker.MultipleLocator(5))\n",
    "ax.yaxis.set_minor_locator(ticker.MultipleLocator(30))\n",
    "ax.set_yticks(np.arange(20, 100,5))\n",
    "sns.barplot(x=\"SEASON\", y='WINS_PERC', hue=\"TEAM\", data=plot_data, ax=ax)"
   ]
  },
  {
   "cell_type": "code",
   "execution_count": null,
   "metadata": {
    "ExecuteTime": {
     "end_time": "2020-11-07T03:46:03.783455Z",
     "start_time": "2020-11-07T03:46:03.767099Z"
    }
   },
   "outputs": [],
   "source": [
    "wl_season_data = plot_data"
   ]
  },
  {
   "cell_type": "markdown",
   "metadata": {
    "ExecuteTime": {
     "end_time": "2020-11-04T00:12:46.844740Z",
     "start_time": "2020-11-04T00:12:46.825004Z"
    }
   },
   "source": [
    "### Three Points Field Goalds "
   ]
  },
  {
   "cell_type": "code",
   "execution_count": null,
   "metadata": {
    "ExecuteTime": {
     "end_time": "2020-11-07T03:46:04.858975Z",
     "start_time": "2020-11-07T03:46:04.769697Z"
    }
   },
   "outputs": [],
   "source": [
    "dfi = raw_ds\n",
    "dfi"
   ]
  },
  {
   "cell_type": "code",
   "execution_count": null,
   "metadata": {
    "ExecuteTime": {
     "end_time": "2020-11-07T03:46:06.630242Z",
     "start_time": "2020-11-07T03:46:06.579148Z"
    }
   },
   "outputs": [],
   "source": [
    "plot_data = dfi.groupby(by=[\"SEASON\"]).mean()[[\"FGA\", \"FG3A\"]].reset_index()\n",
    "plot_data.SEASON.unique()"
   ]
  },
  {
   "cell_type": "code",
   "execution_count": null,
   "metadata": {
    "ExecuteTime": {
     "end_time": "2020-11-07T03:46:07.951076Z",
     "start_time": "2020-11-07T03:46:07.723375Z"
    }
   },
   "outputs": [],
   "source": [
    "import matplotlib.ticker as ticker\n",
    "fig_dims = (10, 6)\n",
    "fig, ax = plt.subplots(figsize=fig_dims, sharex=True, sharey=True)\n",
    "ax.set(xticks=plot_data.SEASON.unique())\n",
    "ax = sns.lineplot(x=plot_data.SEASON.unique(), y=plot_data.FG3A.values, ax=ax, marker=\"o\")\n",
    "ax.set_title(\"Promedio por partido de intento de tiros de 3PTS\")\n",
    "ax.set(xlabel=\"Temporadas\", ylabel = \"Intentos de tiro de 3PTS\")\n",
    "plt.show()"
   ]
  },
  {
   "cell_type": "code",
   "execution_count": null,
   "metadata": {
    "ExecuteTime": {
     "end_time": "2020-11-07T03:46:10.701821Z",
     "start_time": "2020-11-07T03:46:10.668688Z"
    }
   },
   "outputs": [],
   "source": [
    "winner_by_3pta = dataset.reset_index()\n",
    "winner_by_3pta['WINNER_3PTA'] = 0\n",
    "cond = ((winner_by_3pta.FG3A_HOME > winner_by_3pta.FG3A_AWAY) & (winner_by_3pta.HOME_WINS == 1))\n",
    "winner_by_3pta.loc[cond, 'WINNER_3PTA'] = 1\n",
    "cond = ((winner_by_3pta.FG3A_HOME < winner_by_3pta.FG3A_AWAY) & (winner_by_3pta.HOME_WINS == 0))\n",
    "winner_by_3pta.loc[cond, 'WINNER_3PTA'] = 1"
   ]
  },
  {
   "cell_type": "code",
   "execution_count": null,
   "metadata": {
    "ExecuteTime": {
     "end_time": "2020-11-07T03:46:12.022613Z",
     "start_time": "2020-11-07T03:46:11.973486Z"
    }
   },
   "outputs": [],
   "source": [
    "winner_by_3pta.groupby(by=[\"SEASON\", 'WINNER_3PTA']).count()[['GAME_ID']]"
   ]
  },
  {
   "cell_type": "code",
   "execution_count": null,
   "metadata": {},
   "outputs": [],
   "source": [
    "grouped = dfi[['SEASON', 'WL_HOME', 'GAME_ID']].groupby(by=['SEASON', 'WL_HOME']).count()\n",
    "grouped = grouped.reset_index(level=0).reset_index(level=0)\n",
    "grouped_total = grouped[['SEASON', 'GAME_ID']].groupby(by=['SEASON']).sum()\n",
    "grouped_total = grouped_total.reset_index(level=0)\n",
    "plot_data = pd.merge(grouped, grouped_total, suffixes=['', '_S'], on=['SEASON', 'SEASON'])\n",
    "plot_data.rename(columns={\"GAME_ID\": \"W_COUNT\", \"GAME_ID_S\": \"GAMES_COUNT\"}, inplace=True)\n",
    "plot_data[\"TEAM\"] = np.where(plot_data['WL_HOME'] == 'W', 'HOME', 'AWAY')\n",
    "plot_data[\"WINS_PERC\"] = (plot_data[\"W_COUNT\"] / plot_data[\"GAMES_COUNT\"]) * 100\n",
    "plot_data.head()"
   ]
  },
  {
   "cell_type": "code",
   "execution_count": null,
   "metadata": {
    "ExecuteTime": {
     "end_time": "2020-11-07T03:47:19.413809Z",
     "start_time": "2020-11-07T03:47:19.154058Z"
    }
   },
   "outputs": [],
   "source": [
    "import matplotlib.ticker as mtick\n",
    "import matplotlib.ticker as ticker\n",
    "fig_dims = (20, 10)\n",
    "fig, ax = plt.subplots(figsize=fig_dims, sharex=True, sharey=True)\n",
    "ax.yaxis.set_major_formatter(mtick.PercentFormatter())\n",
    "ax.yaxis.set_major_locator(ticker.MultipleLocator(5))\n",
    "ax.yaxis.set_minor_locator(ticker.MultipleLocator(30))\n",
    "ax.set_yticks(np.arange(20, 100,5))\n",
    "sns.barplot(x=\"SEASON\", y='FG3A', hue=\"LOCATION\", data=plot_data, ax=ax)"
   ]
  },
  {
   "cell_type": "markdown",
   "metadata": {
    "ExecuteTime": {
     "end_time": "2020-11-04T02:28:41.566953Z",
     "start_time": "2020-11-04T02:28:41.548339Z"
    }
   },
   "source": [
    "### How much have offensive NBA stats changed over time?"
   ]
  },
  {
   "cell_type": "code",
   "execution_count": null,
   "metadata": {
    "ExecuteTime": {
     "end_time": "2020-11-07T03:46:16.031064Z",
     "start_time": "2020-11-07T03:46:15.977275Z"
    }
   },
   "outputs": [],
   "source": [
    "plot_data = dfi.groupby(by=[\"SEASON\"]).mean()[['FGA', 'REB', \"AST\", 'STL', 'PTS']].reset_index()"
   ]
  },
  {
   "cell_type": "code",
   "execution_count": null,
   "metadata": {
    "ExecuteTime": {
     "end_time": "2020-11-04T03:41:51.817634Z",
     "start_time": "2020-11-04T03:41:51.525348Z"
    },
    "scrolled": false
   },
   "outputs": [],
   "source": [
    "import matplotlib.ticker as ticker\n",
    "fig_dims = (10, 6)\n",
    "fig, ax = plt.subplots(figsize=fig_dims, sharex=True, sharey=True)\n",
    "ax.set(xticks=plot_data.SEASON.unique())\n",
    "ax = sns.lineplot(data=pd.melt(plot_data, ['SEASON']), x='SEASON', y='value', hue='variable', ax=ax, marker=\"o\")\n",
    "ax.set_title(\"Promedio por partido de estadisticas ofensivas\")\n",
    "ax.set(xlabel=\"Temporadas\", ylabel = \"Promedio\")\n",
    "plt.show()"
   ]
  },
  {
   "cell_type": "markdown",
   "metadata": {
    "pycharm": {
     "name": "#%% md\n"
    }
   },
   "source": [
    "## Features  correlations"
   ]
  },
  {
   "cell_type": "markdown",
   "metadata": {
    "ExecuteTime": {
     "end_time": "2020-09-18T00:46:59.232446Z",
     "start_time": "2020-09-18T00:46:59.192013Z"
    }
   },
   "source": [
    "### Utils functions"
   ]
  },
  {
   "cell_type": "code",
   "execution_count": null,
   "metadata": {
    "ExecuteTime": {
     "end_time": "2020-11-21T02:10:07.641423Z",
     "start_time": "2020-11-21T02:10:05.906Z"
    },
    "init_cell": true
   },
   "outputs": [],
   "source": [
    "def plot_heatmap(data, title):\n",
    "    mask = np.zeros_like(pearson_corr)\n",
    "    mask[np.triu_indices_from(mask)] = True\n",
    "    with sns.axes_style(\"white\"):\n",
    "        f, ax = plt.subplots(figsize = (30, 24))\n",
    "        heatmap = sns.heatmap(data, mask=mask, square=True,\n",
    "                        linewidth=1,\n",
    "                        annot=True,\n",
    "                        annot_kws={'size' : 10} \n",
    "                        )\n",
    "#     plt.figure(figsize = (30, 24))\n",
    "#     heatmap = sns.heatmap(data,\n",
    "#             linewidth=1,\n",
    "#             annot=True,\n",
    "#             annot_kws={'size' : 10} )\n",
    "    plt.title(title, fontsize=25)\n",
    "    plt.show()\n",
    "    return heatmap\n",
    "\n",
    "def save_heatmap(heatmap, name):\n",
    "    figure = heatmap.get_figure()    \n",
    "    figure.savefig(f'plots/{name}.png')\n",
    "    \n",
    "def top_corr_features(corr):\n",
    "    c = corr.abs()\n",
    "    sol = (c.where(np.triu(np.ones(c.shape), k=1).astype(np.bool))\n",
    "                 .stack()\n",
    "                 .sort_values(ascending=False))\n",
    "    return pd.DataFrame(sol)"
   ]
  },
  {
   "cell_type": "markdown",
   "metadata": {},
   "source": [
    "### Generate correlation matrix"
   ]
  },
  {
   "cell_type": "code",
   "execution_count": null,
   "metadata": {
    "ExecuteTime": {
     "end_time": "2020-11-03T01:14:00.659707Z",
     "start_time": "2020-11-03T01:13:52.127297Z"
    },
    "pycharm": {
     "name": "#%%\n"
    }
   },
   "outputs": [],
   "source": [
    "pearson_corr = df.corr(method='pearson')\n",
    "spearman_corr = df.corr(method='spearman')\n",
    "kendall_corr = df.corr(method='kendall')"
   ]
  },
  {
   "cell_type": "markdown",
   "metadata": {},
   "source": [
    "### Pearson Correlations"
   ]
  },
  {
   "cell_type": "code",
   "execution_count": null,
   "metadata": {
    "ExecuteTime": {
     "end_time": "2020-11-03T01:14:16.903086Z",
     "start_time": "2020-11-03T01:14:02.910085Z"
    }
   },
   "outputs": [],
   "source": [
    "mask = np.zeros_like(pearson_corr)\n",
    "mask[np.triu_indices_from(mask)] = True\n",
    "with sns.axes_style(\"white\"):\n",
    "    f, ax = plt.subplots(figsize = (30, 24))\n",
    "    ax = sns.heatmap(pearson_corr, mask=mask, square=True,\n",
    "                    linewidth=1,\n",
    "                    annot=True,\n",
    "                    annot_kws={'size' : 10} \n",
    "                    )\n",
    "save_heatmap(plot_heatmap(pearson_corr, \"Pearson Correlation\"), \"pearson_corr\")"
   ]
  },
  {
   "cell_type": "code",
   "execution_count": null,
   "metadata": {
    "ExecuteTime": {
     "end_time": "2020-11-03T01:14:19.166968Z",
     "start_time": "2020-11-03T01:14:19.125566Z"
    }
   },
   "outputs": [],
   "source": [
    "top_corr_features_df = top_corr_features(pearson_corr)\n",
    "qgrid_widget = qgrid.show_grid(top_corr_features_df, show_toolbar=True , grid_options={'forceFitColumns': False, 'defaultColumnWidth': 200})\n",
    "qgrid_widget"
   ]
  },
  {
   "cell_type": "markdown",
   "metadata": {},
   "source": [
    "Se observa que existe muchos features altamente correlacionados, por lo que se evaluara que tan insprecindible son y como es el comportamiento de los experimentos al eliminar estos."
   ]
  },
  {
   "cell_type": "markdown",
   "metadata": {},
   "source": [
    "### Spearman Correlation"
   ]
  },
  {
   "cell_type": "code",
   "execution_count": null,
   "metadata": {
    "ExecuteTime": {
     "end_time": "2020-11-03T01:14:29.064392Z",
     "start_time": "2020-11-03T01:14:21.414341Z"
    }
   },
   "outputs": [],
   "source": [
    "save_heatmap(plot_heatmap(spearman_corr, \"Spearman Correlation\"), \"spearman_corr\")"
   ]
  },
  {
   "cell_type": "code",
   "execution_count": null,
   "metadata": {
    "ExecuteTime": {
     "end_time": "2020-11-03T01:14:31.247674Z",
     "start_time": "2020-11-03T01:14:31.207794Z"
    }
   },
   "outputs": [],
   "source": [
    "top_corr_features_df = top_corr_features(spearman_corr)\n",
    "qgrid_widget = qgrid.show_grid(top_corr_features_df, show_toolbar=True , grid_options={'forceFitColumns': False, 'defaultColumnWidth': 200})\n",
    "qgrid_widget"
   ]
  },
  {
   "cell_type": "markdown",
   "metadata": {},
   "source": [
    "### __Kendall correlation__"
   ]
  },
  {
   "cell_type": "code",
   "execution_count": null,
   "metadata": {
    "ExecuteTime": {
     "end_time": "2020-11-03T01:14:41.035588Z",
     "start_time": "2020-11-03T01:14:33.411940Z"
    }
   },
   "outputs": [],
   "source": [
    "save_heatmap(plot_heatmap(kendall_corr, \"Kendall Correlations\"), \"kendall_corr\")"
   ]
  },
  {
   "cell_type": "code",
   "execution_count": null,
   "metadata": {
    "ExecuteTime": {
     "end_time": "2020-11-03T01:14:43.234679Z",
     "start_time": "2020-11-03T01:14:43.192055Z"
    }
   },
   "outputs": [],
   "source": [
    "top_corr_features_df = top_corr_features(kendall_corr)\n",
    "qgrid_widget = qgrid.show_grid(top_corr_features_df, show_toolbar=True , grid_options={'forceFitColumns': False, 'defaultColumnWidth': 200})\n",
    "qgrid_widget"
   ]
  },
  {
   "cell_type": "markdown",
   "metadata": {
    "ExecuteTime": {
     "end_time": "2020-09-18T01:08:42.161421Z",
     "start_time": "2020-09-18T01:08:42.141445Z"
    }
   },
   "source": [
    "## Generate Panda Profiling Report"
   ]
  },
  {
   "cell_type": "code",
   "execution_count": null,
   "metadata": {},
   "outputs": [],
   "source": []
  },
  {
   "cell_type": "code",
   "execution_count": 34,
   "metadata": {
    "ExecuteTime": {
     "end_time": "2020-11-21T02:10:28.859171Z",
     "start_time": "2020-11-21T02:10:28.681836Z"
    }
   },
   "outputs": [],
   "source": [
    "cols = config.X_COLS\n",
    "report_df = df[df.SEASON >= 2010]\n",
    "report_df = df[cols]\n",
    "report_df = report_df.dropna()"
   ]
  },
  {
   "cell_type": "code",
   "execution_count": 35,
   "metadata": {
    "ExecuteTime": {
     "end_time": "2020-11-21T02:10:35.040360Z",
     "start_time": "2020-11-21T02:10:33.929892Z"
    },
    "pycharm": {
     "name": "#%%\n"
    }
   },
   "outputs": [],
   "source": [
    "\n",
    "profile = ProfileReport(report_df, title='Pandas Profiling Report', pool_size=4,\n",
    "                        minimal=True,\n",
    "                        explorative=True,\n",
    "                           correlations={\n",
    "             \"pearson\": {\"calculate\": True},\n",
    "             \"spearman\": {\"calculate\": False},\n",
    "             \"kendall\": {\"calculate\": False},\n",
    "             \"phi_k\": {\"calculate\": False},\n",
    "             \"cramers\": {\"calculate\": False},\n",
    "         })"
   ]
  },
  {
   "cell_type": "code",
   "execution_count": 36,
   "metadata": {
    "ExecuteTime": {
     "end_time": "2020-11-21T02:11:23.316086Z",
     "start_time": "2020-11-21T02:10:35.397665Z"
    }
   },
   "outputs": [
    {
     "data": {
      "application/vnd.jupyter.widget-view+json": {
       "model_id": "8daee28d184a465887788c0e4455b8ed",
       "version_major": 2,
       "version_minor": 0
      },
      "text/plain": [
       "HBox(children=(FloatProgress(value=0.0, description='Summarize dataset', max=106.0, style=ProgressStyle(descri…"
      ]
     },
     "metadata": {},
     "output_type": "display_data"
    },
    {
     "name": "stdout",
     "output_type": "stream",
     "text": [
      "\n"
     ]
    },
    {
     "data": {
      "application/vnd.jupyter.widget-view+json": {
       "model_id": "cdc6366ffb7a4b2080b83ca271e3c728",
       "version_major": 2,
       "version_minor": 0
      },
      "text/plain": [
       "HBox(children=(FloatProgress(value=0.0, description='Generate report structure', max=1.0, style=ProgressStyle(…"
      ]
     },
     "metadata": {},
     "output_type": "display_data"
    },
    {
     "name": "stdout",
     "output_type": "stream",
     "text": [
      "\n"
     ]
    },
    {
     "data": {
      "application/vnd.jupyter.widget-view+json": {
       "model_id": "9f773c84ab784a5cbd5f24b10872dabf",
       "version_major": 2,
       "version_minor": 0
      },
      "text/plain": [
       "HBox(children=(FloatProgress(value=0.0, description='Render HTML', max=1.0, style=ProgressStyle(description_wi…"
      ]
     },
     "metadata": {},
     "output_type": "display_data"
    },
    {
     "name": "stdout",
     "output_type": "stream",
     "text": [
      "\n"
     ]
    },
    {
     "data": {
      "application/vnd.jupyter.widget-view+json": {
       "model_id": "f7fd51efe4054528aa1df4c4275ea153",
       "version_major": 2,
       "version_minor": 0
      },
      "text/plain": [
       "HBox(children=(FloatProgress(value=0.0, description='Export report to file', max=1.0, style=ProgressStyle(desc…"
      ]
     },
     "metadata": {},
     "output_type": "display_data"
    },
    {
     "name": "stdout",
     "output_type": "stream",
     "text": [
      "\n"
     ]
    }
   ],
   "source": [
    "profile.to_file(\"plots/season_games_profile_report.html\")"
   ]
  },
  {
   "cell_type": "markdown",
   "metadata": {},
   "source": [
    "Para visualizar el reporte generado puede acceder a este link:\n",
    "\n",
    "[Panda Profiling Report](plots/season_games_profile_report.html)"
   ]
  },
  {
   "cell_type": "markdown",
   "metadata": {},
   "source": [
    "## Generate sweetviz report"
   ]
  },
  {
   "cell_type": "code",
   "execution_count": 38,
   "metadata": {
    "ExecuteTime": {
     "end_time": "2020-11-10T06:12:21.167396Z",
     "start_time": "2020-11-10T06:10:54.094844Z"
    }
   },
   "outputs": [
    {
     "name": "stderr",
     "output_type": "stream",
     "text": [
      ":FEATURES DONE:                    |█████████████████████| [100%]   01:03  -> (00:00 left)\n",
      ":PAIRWISE DONE:                    |█████████████████████| [100%]   00:08  -> (00:00 left)\n"
     ]
    },
    {
     "name": "stdout",
     "output_type": "stream",
     "text": [
      "Creating Associations graph... DONE!\n",
      "Report plots/sweetviz_report.html was generated! NOTEBOOK/COLAB USERS: no browser will pop up, the report is saved in your notebook/colab files.\n"
     ]
    }
   ],
   "source": [
    "#analyzing the dataset\n",
    "report = sv.analyze(report_df, pairwise_analysis='on')\n",
    "#display the report\n",
    "report.show_html('plots/sweetviz_report.html')"
   ]
  },
  {
   "cell_type": "markdown",
   "metadata": {},
   "source": [
    "Para visualizar el reporte generado puede acceder a este link:\n",
    "\n",
    "[Sweetviz](plots/sweetviz_report.html)"
   ]
  },
  {
   "cell_type": "markdown",
   "metadata": {},
   "source": [
    "## Visualization of correlation between dependent variable and features"
   ]
  },
  {
   "cell_type": "code",
   "execution_count": null,
   "metadata": {
    "ExecuteTime": {
     "end_time": "2020-11-03T01:06:54.044172Z",
     "start_time": "2020-11-03T01:06:53.994591Z"
    }
   },
   "outputs": [],
   "source": [
    "#target = df[config.y_columns]\n",
    "target = df[\"HOME_TEAM_WINS\"]\n",
    "features = df.drop(config.y_columns, axis=1)"
   ]
  },
  {
   "cell_type": "markdown",
   "metadata": {},
   "source": [
    "### Drop categorical values"
   ]
  },
  {
   "cell_type": "code",
   "execution_count": null,
   "metadata": {
    "ExecuteTime": {
     "end_time": "2020-09-18T01:24:44.424549Z",
     "start_time": "2020-09-18T01:24:44.401082Z"
    }
   },
   "outputs": [],
   "source": [
    "#features.drop([\"HT_RANK\", \"HT_CLASS\", \"VT_RANK\", \"VT_CLASS\"], axis=1, inplace=True)"
   ]
  },
  {
   "cell_type": "code",
   "execution_count": null,
   "metadata": {
    "ExecuteTime": {
     "end_time": "2020-09-18T01:24:45.070426Z",
     "start_time": "2020-09-18T01:24:45.046624Z"
    }
   },
   "outputs": [],
   "source": [
    "features_names = list(features.columns)"
   ]
  },
  {
   "cell_type": "markdown",
   "metadata": {},
   "source": [
    "## Yellowbrick Visualizer"
   ]
  },
  {
   "cell_type": "code",
   "execution_count": null,
   "metadata": {
    "ExecuteTime": {
     "end_time": "2020-09-18T01:24:46.250708Z",
     "start_time": "2020-09-18T01:24:45.753579Z"
    }
   },
   "outputs": [],
   "source": [
    "plt.figure(figsize = (15, 15))\n",
    "visualizer = FeatureCorrelation(labels=features_names)\n",
    "visualizer.fit(features, target)\n",
    "visualizer.poof()"
   ]
  },
  {
   "cell_type": "code",
   "execution_count": null,
   "metadata": {},
   "outputs": [],
   "source": []
  }
 ],
 "metadata": {
  "celltoolbar": "Initialization Cell",
  "hide_input": false,
  "kernelspec": {
   "display_name": "nba-predictor",
   "language": "python",
   "name": "nba-predictor"
  },
  "language_info": {
   "codemirror_mode": {
    "name": "ipython",
    "version": 3
   },
   "file_extension": ".py",
   "mimetype": "text/x-python",
   "name": "python",
   "nbconvert_exporter": "python",
   "pygments_lexer": "ipython3",
   "version": "3.7.7"
  },
  "toc": {
   "base_numbering": 1,
   "nav_menu": {
    "height": "271.972px",
    "width": "468.979px"
   },
   "number_sections": true,
   "sideBar": true,
   "skip_h1_title": false,
   "title_cell": "Table of Contents",
   "title_sidebar": "Contents",
   "toc_cell": false,
   "toc_position": {
    "height": "calc(100% - 180px)",
    "left": "10px",
    "top": "150px",
    "width": "295.481px"
   },
   "toc_section_display": true,
   "toc_window_display": true
  },
  "varInspector": {
   "cols": {
    "lenName": 16,
    "lenType": 16,
    "lenVar": 40
   },
   "kernels_config": {
    "python": {
     "delete_cmd_postfix": "",
     "delete_cmd_prefix": "del ",
     "library": "var_list.py",
     "varRefreshCmd": "print(var_dic_list())"
    },
    "r": {
     "delete_cmd_postfix": ") ",
     "delete_cmd_prefix": "rm(",
     "library": "var_list.r",
     "varRefreshCmd": "cat(var_dic_list()) "
    }
   },
   "types_to_exclude": [
    "module",
    "function",
    "builtin_function_or_method",
    "instance",
    "_Feature"
   ],
   "window_display": false
  }
 },
 "nbformat": 4,
 "nbformat_minor": 1
}
