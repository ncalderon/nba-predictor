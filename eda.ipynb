{
 "cells": [
  {
   "cell_type": "markdown",
   "metadata": {},
   "source": [
    "# EDA"
   ]
  },
  {
   "cell_type": "markdown",
   "metadata": {},
   "source": [
    "## Import Libraries"
   ]
  },
  {
   "cell_type": "code",
   "execution_count": 24,
   "metadata": {
    "ExecuteTime": {
     "end_time": "2020-11-09T08:54:08.795941Z",
     "start_time": "2020-11-09T08:54:08.774380Z"
    },
    "init_cell": true,
    "pycharm": {
     "name": "#%%\n"
    }
   },
   "outputs": [],
   "source": [
    "import numpy as np\n",
    "import pandas as pd\n",
    "from pandas import DataFrame\n",
    "import seaborn as sns\n",
    "import matplotlib.pyplot as plt\n",
    "import sweetviz as sv\n",
    "\n",
    "import model.train as train\n",
    "import model.config as config\n",
    "import utils as utils\n",
    "import model.dataset.season_game as sg\n",
    "\n",
    "from pandas_profiling import ProfileReport\n",
    "from yellowbrick.target import FeatureCorrelation\n",
    "import qgrid"
   ]
  },
  {
   "cell_type": "markdown",
   "metadata": {},
   "source": [
    "## Setup"
   ]
  },
  {
   "cell_type": "code",
   "execution_count": 25,
   "metadata": {
    "ExecuteTime": {
     "end_time": "2020-11-09T08:54:08.821330Z",
     "start_time": "2020-11-09T08:54:08.797406Z"
    },
    "init_cell": true
   },
   "outputs": [
    {
     "name": "stdout",
     "output_type": "stream",
     "text": [
      "The autoreload extension is already loaded. To reload it, use:\n",
      "  %reload_ext autoreload\n"
     ]
    }
   ],
   "source": [
    "%load_ext autoreload\n",
    "%autoreload 2\n",
    "%matplotlib inline\n",
    "sns.set(style=\"whitegrid\")\n",
    "#sns.set(style='whitegrid', palette=sns.color_palette(\n",
    " #   \"BuGn_r\"), font_scale=1.5, color_codes=True)\n",
    "\n",
    "#pd.options.display.max_columns = None\n",
    "#pd.set_option(\"display.max_colwidth\", None)\n",
    "#from IPython.core.interactiveshell import InteractiveShell\n",
    "#InteractiveShell.ast_node_interactivity = \"all\"\n",
    "pd.set_option(\"display.max_rows\", 50)\n",
    "pd.set_option(\"display.max_colwidth\", 50)\n",
    "pd.set_option(\"display.max_columns\", 50)"
   ]
  },
  {
   "cell_type": "markdown",
   "metadata": {},
   "source": [
    "### Utils functions"
   ]
  },
  {
   "cell_type": "code",
   "execution_count": 26,
   "metadata": {
    "ExecuteTime": {
     "end_time": "2020-11-09T08:54:08.847131Z",
     "start_time": "2020-11-09T08:54:08.823665Z"
    },
    "init_cell": true
   },
   "outputs": [],
   "source": [
    "def show_qgrid(df_):\n",
    "    qgrid_widget = qgrid.show_grid(df_, show_toolbar=True , grid_options={'forceFitColumns': False, 'defaultColumnWidth': 200})\n",
    "    qgrid_widget"
   ]
  },
  {
   "cell_type": "markdown",
   "metadata": {},
   "source": [
    "## Load dataset"
   ]
  },
  {
   "cell_type": "code",
   "execution_count": 27,
   "metadata": {
    "ExecuteTime": {
     "end_time": "2020-11-09T08:54:09.027143Z",
     "start_time": "2020-11-09T08:54:08.848609Z"
    },
    "init_cell": true,
    "pycharm": {
     "name": "#%%\n"
    }
   },
   "outputs": [],
   "source": [
    "raw_ds = sg.load_raw_season_games_dataset()\n",
    "dataset = sg.load_season_games_dataset()\n",
    "df = dataset"
   ]
  },
  {
   "cell_type": "code",
   "execution_count": 28,
   "metadata": {
    "ExecuteTime": {
     "end_time": "2020-11-09T08:54:09.049400Z",
     "start_time": "2020-11-09T08:54:09.028579Z"
    },
    "init_cell": true
   },
   "outputs": [],
   "source": [
    "columns = config.X_COLS + config.Y_CLF_COL + config.Y_REG_COL"
   ]
  },
  {
   "cell_type": "markdown",
   "metadata": {},
   "source": [
    "### Validate dataset"
   ]
  },
  {
   "cell_type": "code",
   "execution_count": null,
   "metadata": {
    "ExecuteTime": {
     "end_time": "2020-11-09T06:55:24.865271Z",
     "start_time": "2020-11-09T06:55:24.838698Z"
    }
   },
   "outputs": [],
   "source": [
    "cond = (dataset.WL_HOME == 'L') & (dataset.SEASON == 2018)\n",
    "dataset[cond].columns.unique()"
   ]
  },
  {
   "cell_type": "code",
   "execution_count": null,
   "metadata": {
    "ExecuteTime": {
     "end_time": "2020-11-07T01:09:09.263039Z",
     "start_time": "2020-11-07T01:09:09.232118Z"
    }
   },
   "outputs": [],
   "source": [
    "test_df = pd.DataFrame({\"B\": [1, 2, 3, 4, 5, np.nan], \"C\": [1, 2, 3, 4, 5, 6], \"D\": [1, np.nan, 3, 4, 5, 6]})\n",
    "#test_df.apply(lambda x : x.shift(1).expanding().mean())\n",
    "#test_df.shift(1).expanding(min_periods=-1).mean()\n",
    "test_df.shift(1).rolling(window=5, min_periods=0).sum()\n",
    "#test_df[['B', 'C']] = test_df[['B', 'C']].fillna(0)\n",
    "\n",
    "\n"
   ]
  },
  {
   "cell_type": "code",
   "execution_count": null,
   "metadata": {
    "ExecuteTime": {
     "end_time": "2020-11-07T03:39:57.937790Z",
     "start_time": "2020-11-07T03:39:57.899993Z"
    }
   },
   "outputs": [],
   "source": [
    "cols = [\n",
    "'GAME_DATE',\n",
    "'MATCHUP_HOME',\n",
    "'FGM_HOME',\n",
    "'FGM_MEAN_HOME',\n",
    "'FGA_HOME',\n",
    "'FGA_MEAN_HOME',\n",
    "'FG_PCT_HOME',\n",
    "'FG_PCT_MEAN_HOME',\n",
    "'FG3M_HOME',\n",
    "'FG3M_MEAN_HOME',\n",
    "'FG3A_HOME',\n",
    "'FG3A_MEAN_HOME',\n",
    "'FG3_PCT_HOME',\n",
    "'FG3_PCT_MEAN_HOME',\n",
    "'FTM_HOME',\n",
    "'FTM_MEAN_HOME',    \n",
    "'FTA_HOME',\n",
    "'FTA_MEAN_HOME',    \n",
    "'FT_PCT_HOME',\n",
    "'FT_PCT_MEAN_HOME',\n",
    "'OREB_HOME',\n",
    "'OREB_MEAN_HOME',\n",
    "'DREB_HOME',\n",
    "'DREB_MEAN_HOME',\n",
    "'REB_HOME',\n",
    "'REB_MEAN_HOME',\n",
    "'AST_HOME',\n",
    "'AST_MEAN_HOME',\n",
    "'STL_HOME',\n",
    "'STL_MEAN_HOME',\n",
    "'BLK_HOME',\n",
    "'BLK_MEAN_HOME',\n",
    "'TOV_HOME',\n",
    "'TOV_MEAN_HOME',\n",
    "'PF_HOME',\n",
    "'PF_MEAN_HOME',\n",
    "'PTS_HOME',\n",
    "'PTS_MEAN_HOME',\n",
    "'PLUS_MINUS_HOME',\n",
    "'PLUS_MINUS_MEAN_HOME'\n",
    "]"
   ]
  },
  {
   "cell_type": "code",
   "execution_count": null,
   "metadata": {
    "ExecuteTime": {
     "end_time": "2020-11-07T03:40:02.000341Z",
     "start_time": "2020-11-07T03:40:01.913892Z"
    }
   },
   "outputs": [],
   "source": [
    "cond = ((df.TEAM_ABBREVIATION_HOME == 'MIL') | (df.TEAM_ABBREVIATION_AWAY == 'MIL')) \\\n",
    "    & (df.SEASON == 2018)\n",
    "#list(df[cond].columns)\n",
    "df[cond][cols]"
   ]
  },
  {
   "cell_type": "code",
   "execution_count": null,
   "metadata": {
    "ExecuteTime": {
     "end_time": "2020-11-07T05:39:12.450909Z",
     "start_time": "2020-11-07T05:39:12.321172Z"
    }
   },
   "outputs": [],
   "source": [
    "pd.set_option(\"display.max_columns\", 200)\n",
    "dataset.head()"
   ]
  },
  {
   "cell_type": "code",
   "execution_count": null,
   "metadata": {
    "ExecuteTime": {
     "end_time": "2020-11-07T05:32:59.665584Z",
     "start_time": "2020-11-07T05:32:59.625800Z"
    }
   },
   "outputs": [],
   "source": [
    "ds_columns = list(dataset.columns)\n",
    "ds_columns.sort()\n",
    "ds_columns"
   ]
  },
  {
   "cell_type": "markdown",
   "metadata": {
    "ExecuteTime": {
     "end_time": "2020-11-03T00:51:59.359723Z",
     "start_time": "2020-11-03T00:51:59.314880Z"
    }
   },
   "source": [
    "### Drop unimportant column"
   ]
  },
  {
   "cell_type": "code",
   "execution_count": 29,
   "metadata": {
    "ExecuteTime": {
     "end_time": "2020-11-09T08:54:09.070466Z",
     "start_time": "2020-11-09T08:54:09.051127Z"
    },
    "init_cell": true
   },
   "outputs": [],
   "source": [
    "#df = df[columns]"
   ]
  },
  {
   "cell_type": "code",
   "execution_count": 30,
   "metadata": {
    "ExecuteTime": {
     "end_time": "2020-11-09T08:54:09.100058Z",
     "start_time": "2020-11-09T08:54:09.071821Z"
    },
    "init_cell": true
   },
   "outputs": [
    {
     "data": {
      "text/html": [
       "<div>\n",
       "<style scoped>\n",
       "    .dataframe tbody tr th:only-of-type {\n",
       "        vertical-align: middle;\n",
       "    }\n",
       "\n",
       "    .dataframe tbody tr th {\n",
       "        vertical-align: top;\n",
       "    }\n",
       "\n",
       "    .dataframe thead th {\n",
       "        text-align: right;\n",
       "    }\n",
       "</style>\n",
       "<table border=\"1\" class=\"dataframe\">\n",
       "  <thead>\n",
       "    <tr style=\"text-align: right;\">\n",
       "      <th></th>\n",
       "      <th>PLUS_MINUS_ML5_HOME</th>\n",
       "      <th>PLUS_MINUS_ML5_AWAY</th>\n",
       "    </tr>\n",
       "    <tr>\n",
       "      <th>GAME_ID</th>\n",
       "      <th></th>\n",
       "      <th></th>\n",
       "    </tr>\n",
       "  </thead>\n",
       "  <tbody>\n",
       "    <tr>\n",
       "      <th>0020200001</th>\n",
       "      <td>-2.6</td>\n",
       "      <td>7.6</td>\n",
       "    </tr>\n",
       "    <tr>\n",
       "      <th>0020200002</th>\n",
       "      <td>-3.8</td>\n",
       "      <td>-3.0</td>\n",
       "    </tr>\n",
       "    <tr>\n",
       "      <th>0020200003</th>\n",
       "      <td>3.2</td>\n",
       "      <td>-6.4</td>\n",
       "    </tr>\n",
       "    <tr>\n",
       "      <th>0020200004</th>\n",
       "      <td>6.2</td>\n",
       "      <td>18.2</td>\n",
       "    </tr>\n",
       "    <tr>\n",
       "      <th>0020200005</th>\n",
       "      <td>-6.4</td>\n",
       "      <td>15.6</td>\n",
       "    </tr>\n",
       "    <tr>\n",
       "      <th>...</th>\n",
       "      <td>...</td>\n",
       "      <td>...</td>\n",
       "    </tr>\n",
       "    <tr>\n",
       "      <th>0021901314</th>\n",
       "      <td>-3.4</td>\n",
       "      <td>3.4</td>\n",
       "    </tr>\n",
       "    <tr>\n",
       "      <th>0021901315</th>\n",
       "      <td>-1.8</td>\n",
       "      <td>1.8</td>\n",
       "    </tr>\n",
       "    <tr>\n",
       "      <th>0021901316</th>\n",
       "      <td>-4.4</td>\n",
       "      <td>4.4</td>\n",
       "    </tr>\n",
       "    <tr>\n",
       "      <th>0021901317</th>\n",
       "      <td>2.6</td>\n",
       "      <td>-2.6</td>\n",
       "    </tr>\n",
       "    <tr>\n",
       "      <th>0021901318</th>\n",
       "      <td>-8.2</td>\n",
       "      <td>8.2</td>\n",
       "    </tr>\n",
       "  </tbody>\n",
       "</table>\n",
       "<p>21646 rows × 2 columns</p>\n",
       "</div>"
      ],
      "text/plain": [
       "            PLUS_MINUS_ML5_HOME  PLUS_MINUS_ML5_AWAY\n",
       "GAME_ID                                             \n",
       "0020200001                 -2.6                  7.6\n",
       "0020200002                 -3.8                 -3.0\n",
       "0020200003                  3.2                 -6.4\n",
       "0020200004                  6.2                 18.2\n",
       "0020200005                 -6.4                 15.6\n",
       "...                         ...                  ...\n",
       "0021901314                 -3.4                  3.4\n",
       "0021901315                 -1.8                  1.8\n",
       "0021901316                 -4.4                  4.4\n",
       "0021901317                  2.6                 -2.6\n",
       "0021901318                 -8.2                  8.2\n",
       "\n",
       "[21646 rows x 2 columns]"
      ]
     },
     "execution_count": 30,
     "metadata": {},
     "output_type": "execute_result"
    }
   ],
   "source": [
    "df[[\"PLUS_MINUS_ML5_HOME\", \"PLUS_MINUS_ML5_AWAY\"]]"
   ]
  },
  {
   "cell_type": "markdown",
   "metadata": {},
   "source": [
    "### Checking null value"
   ]
  },
  {
   "cell_type": "code",
   "execution_count": 31,
   "metadata": {
    "ExecuteTime": {
     "end_time": "2020-11-09T08:54:09.166454Z",
     "start_time": "2020-11-09T08:54:09.102387Z"
    },
    "init_cell": true,
    "pycharm": {
     "name": "#%%\n"
    }
   },
   "outputs": [
    {
     "data": {
      "text/plain": [
       "SEASON_ID                   0\n",
       "TEAM_ID_HOME                0\n",
       "TEAM_ABBREVIATION_HOME      0\n",
       "TEAM_NAME_HOME              0\n",
       "GAME_DATE                   0\n",
       "                         ... \n",
       "HOME_BLK_L10              311\n",
       "HOME_TOV_L10              311\n",
       "HOME_PF_L10               311\n",
       "HOME_PTS_L10              311\n",
       "HOME_PLUS_MINUS_L10       311\n",
       "Length: 381, dtype: int64"
      ]
     },
     "execution_count": 31,
     "metadata": {},
     "output_type": "execute_result"
    }
   ],
   "source": [
    "df.isnull().sum()\n",
    "#.sum()"
   ]
  },
  {
   "cell_type": "markdown",
   "metadata": {
    "pycharm": {
     "name": "#%% md\n"
    }
   },
   "source": [
    "Se observa que existen valores nulos."
   ]
  },
  {
   "cell_type": "code",
   "execution_count": null,
   "metadata": {
    "ExecuteTime": {
     "end_time": "2020-11-07T03:44:56.365829Z",
     "start_time": "2020-11-07T03:44:56.275890Z"
    }
   },
   "outputs": [],
   "source": [
    "#df.columns\n",
    "pd.set_option(\"display.max_rows\", 600)\n",
    "raw_ds[raw_ds.isnull().any(axis=1)].groupby(by=[\"TEAM_ID\", \"SEASON_ID\"])[['FGA']].count()"
   ]
  },
  {
   "cell_type": "markdown",
   "metadata": {},
   "source": [
    "### Unique enteries in each of the columns"
   ]
  },
  {
   "cell_type": "code",
   "execution_count": null,
   "metadata": {
    "ExecuteTime": {
     "end_time": "2020-11-03T23:05:42.146315Z",
     "start_time": "2020-11-03T23:05:42.049551Z"
    },
    "pycharm": {
     "name": "#%%\n"
    }
   },
   "outputs": [],
   "source": [
    "df.nunique()"
   ]
  },
  {
   "cell_type": "markdown",
   "metadata": {
    "ExecuteTime": {
     "end_time": "2020-11-03T22:21:42.486454Z",
     "start_time": "2020-11-03T22:21:42.452052Z"
    }
   },
   "source": [
    "## Insights"
   ]
  },
  {
   "cell_type": "code",
   "execution_count": null,
   "metadata": {
    "ExecuteTime": {
     "end_time": "2020-11-07T03:45:49.720750Z",
     "start_time": "2020-11-07T03:45:49.669186Z"
    }
   },
   "outputs": [],
   "source": [
    "dfi = dataset.reset_index()"
   ]
  },
  {
   "cell_type": "markdown",
   "metadata": {},
   "source": [
    "### WL by season\n",
    "\n",
    "Porcentaje de victorias por temporada del equipo que juega como casa vs equipo que juega como visitante"
   ]
  },
  {
   "cell_type": "code",
   "execution_count": null,
   "metadata": {
    "ExecuteTime": {
     "end_time": "2020-11-07T03:45:51.885321Z",
     "start_time": "2020-11-07T03:45:51.817006Z"
    }
   },
   "outputs": [],
   "source": [
    "grouped = dfi[['SEASON', 'WL_HOME', 'GAME_ID']].groupby(by=['SEASON', 'WL_HOME']).count()\n",
    "grouped = grouped.reset_index(level=0).reset_index(level=0)\n",
    "grouped_total = grouped[['SEASON', 'GAME_ID']].groupby(by=['SEASON']).sum()\n",
    "grouped_total = grouped_total.reset_index(level=0)\n",
    "plot_data = pd.merge(grouped, grouped_total, suffixes=['', '_S'], on=['SEASON', 'SEASON'])\n",
    "plot_data.rename(columns={\"GAME_ID\": \"W_COUNT\", \"GAME_ID_S\": \"GAMES_COUNT\"}, inplace=True)\n",
    "plot_data[\"TEAM\"] = np.where(plot_data['WL_HOME'] == 'W', 'HOME', 'AWAY')\n",
    "plot_data[\"WINS_PERC\"] = (plot_data[\"W_COUNT\"] / plot_data[\"GAMES_COUNT\"]) * 100\n",
    "plot_data.head()"
   ]
  },
  {
   "cell_type": "code",
   "execution_count": null,
   "metadata": {
    "ExecuteTime": {
     "end_time": "2020-11-07T03:45:56.700171Z",
     "start_time": "2020-11-07T03:45:56.285470Z"
    }
   },
   "outputs": [],
   "source": [
    "import matplotlib.ticker as mtick\n",
    "import matplotlib.ticker as ticker\n",
    "fig_dims = (20, 10)\n",
    "fig, ax = plt.subplots(figsize=fig_dims, sharex=True, sharey=True)\n",
    "ax.yaxis.set_major_formatter(mtick.PercentFormatter())\n",
    "ax.yaxis.set_major_locator(ticker.MultipleLocator(5))\n",
    "ax.yaxis.set_minor_locator(ticker.MultipleLocator(30))\n",
    "ax.set_yticks(np.arange(20, 100,5))\n",
    "sns.barplot(x=\"SEASON\", y='WINS_PERC', hue=\"TEAM\", data=plot_data, ax=ax)"
   ]
  },
  {
   "cell_type": "code",
   "execution_count": null,
   "metadata": {
    "ExecuteTime": {
     "end_time": "2020-11-07T03:46:03.783455Z",
     "start_time": "2020-11-07T03:46:03.767099Z"
    }
   },
   "outputs": [],
   "source": [
    "wl_season_data = plot_data"
   ]
  },
  {
   "cell_type": "markdown",
   "metadata": {
    "ExecuteTime": {
     "end_time": "2020-11-04T00:12:46.844740Z",
     "start_time": "2020-11-04T00:12:46.825004Z"
    }
   },
   "source": [
    "### Three Points Field Goalds "
   ]
  },
  {
   "cell_type": "code",
   "execution_count": null,
   "metadata": {
    "ExecuteTime": {
     "end_time": "2020-11-07T03:46:04.858975Z",
     "start_time": "2020-11-07T03:46:04.769697Z"
    }
   },
   "outputs": [],
   "source": [
    "dfi = raw_ds\n",
    "dfi"
   ]
  },
  {
   "cell_type": "code",
   "execution_count": null,
   "metadata": {
    "ExecuteTime": {
     "end_time": "2020-11-07T03:46:06.630242Z",
     "start_time": "2020-11-07T03:46:06.579148Z"
    }
   },
   "outputs": [],
   "source": [
    "plot_data = dfi.groupby(by=[\"SEASON\"]).mean()[[\"FGA\", \"FG3A\"]].reset_index()\n",
    "plot_data.SEASON.unique()"
   ]
  },
  {
   "cell_type": "code",
   "execution_count": null,
   "metadata": {
    "ExecuteTime": {
     "end_time": "2020-11-07T03:46:07.951076Z",
     "start_time": "2020-11-07T03:46:07.723375Z"
    }
   },
   "outputs": [],
   "source": [
    "import matplotlib.ticker as ticker\n",
    "fig_dims = (10, 6)\n",
    "fig, ax = plt.subplots(figsize=fig_dims, sharex=True, sharey=True)\n",
    "ax.set(xticks=plot_data.SEASON.unique())\n",
    "ax = sns.lineplot(x=plot_data.SEASON.unique(), y=plot_data.FG3A.values, ax=ax, marker=\"o\")\n",
    "ax.set_title(\"Promedio por partido de intento de tiros de 3PTS\")\n",
    "ax.set(xlabel=\"Temporadas\", ylabel = \"Intentos de tiro de 3PTS\")\n",
    "plt.show()"
   ]
  },
  {
   "cell_type": "code",
   "execution_count": null,
   "metadata": {
    "ExecuteTime": {
     "end_time": "2020-11-07T03:46:10.701821Z",
     "start_time": "2020-11-07T03:46:10.668688Z"
    }
   },
   "outputs": [],
   "source": [
    "winner_by_3pta = dataset.reset_index()\n",
    "winner_by_3pta['WINNER_3PTA'] = 0\n",
    "cond = ((winner_by_3pta.FG3A_HOME > winner_by_3pta.FG3A_AWAY) & (winner_by_3pta.HOME_WINS == 1))\n",
    "winner_by_3pta.loc[cond, 'WINNER_3PTA'] = 1\n",
    "cond = ((winner_by_3pta.FG3A_HOME < winner_by_3pta.FG3A_AWAY) & (winner_by_3pta.HOME_WINS == 0))\n",
    "winner_by_3pta.loc[cond, 'WINNER_3PTA'] = 1"
   ]
  },
  {
   "cell_type": "code",
   "execution_count": null,
   "metadata": {
    "ExecuteTime": {
     "end_time": "2020-11-07T03:46:12.022613Z",
     "start_time": "2020-11-07T03:46:11.973486Z"
    }
   },
   "outputs": [],
   "source": [
    "winner_by_3pta.groupby(by=[\"SEASON\", 'WINNER_3PTA']).count()[['GAME_ID']]"
   ]
  },
  {
   "cell_type": "code",
   "execution_count": null,
   "metadata": {},
   "outputs": [],
   "source": [
    "grouped = dfi[['SEASON', 'WL_HOME', 'GAME_ID']].groupby(by=['SEASON', 'WL_HOME']).count()\n",
    "grouped = grouped.reset_index(level=0).reset_index(level=0)\n",
    "grouped_total = grouped[['SEASON', 'GAME_ID']].groupby(by=['SEASON']).sum()\n",
    "grouped_total = grouped_total.reset_index(level=0)\n",
    "plot_data = pd.merge(grouped, grouped_total, suffixes=['', '_S'], on=['SEASON', 'SEASON'])\n",
    "plot_data.rename(columns={\"GAME_ID\": \"W_COUNT\", \"GAME_ID_S\": \"GAMES_COUNT\"}, inplace=True)\n",
    "plot_data[\"TEAM\"] = np.where(plot_data['WL_HOME'] == 'W', 'HOME', 'AWAY')\n",
    "plot_data[\"WINS_PERC\"] = (plot_data[\"W_COUNT\"] / plot_data[\"GAMES_COUNT\"]) * 100\n",
    "plot_data.head()"
   ]
  },
  {
   "cell_type": "code",
   "execution_count": null,
   "metadata": {
    "ExecuteTime": {
     "end_time": "2020-11-07T03:47:19.413809Z",
     "start_time": "2020-11-07T03:47:19.154058Z"
    }
   },
   "outputs": [],
   "source": [
    "import matplotlib.ticker as mtick\n",
    "import matplotlib.ticker as ticker\n",
    "fig_dims = (20, 10)\n",
    "fig, ax = plt.subplots(figsize=fig_dims, sharex=True, sharey=True)\n",
    "ax.yaxis.set_major_formatter(mtick.PercentFormatter())\n",
    "ax.yaxis.set_major_locator(ticker.MultipleLocator(5))\n",
    "ax.yaxis.set_minor_locator(ticker.MultipleLocator(30))\n",
    "ax.set_yticks(np.arange(20, 100,5))\n",
    "sns.barplot(x=\"SEASON\", y='FG3A', hue=\"LOCATION\", data=plot_data, ax=ax)"
   ]
  },
  {
   "cell_type": "markdown",
   "metadata": {
    "ExecuteTime": {
     "end_time": "2020-11-04T02:28:41.566953Z",
     "start_time": "2020-11-04T02:28:41.548339Z"
    }
   },
   "source": [
    "### How much have offensive NBA stats changed over time?"
   ]
  },
  {
   "cell_type": "code",
   "execution_count": null,
   "metadata": {
    "ExecuteTime": {
     "end_time": "2020-11-07T03:46:16.031064Z",
     "start_time": "2020-11-07T03:46:15.977275Z"
    }
   },
   "outputs": [],
   "source": [
    "plot_data = dfi.groupby(by=[\"SEASON\"]).mean()[['FGA', 'REB', \"AST\", 'STL', 'PTS']].reset_index()"
   ]
  },
  {
   "cell_type": "code",
   "execution_count": null,
   "metadata": {
    "ExecuteTime": {
     "end_time": "2020-11-04T03:41:51.817634Z",
     "start_time": "2020-11-04T03:41:51.525348Z"
    },
    "scrolled": false
   },
   "outputs": [],
   "source": [
    "import matplotlib.ticker as ticker\n",
    "fig_dims = (10, 6)\n",
    "fig, ax = plt.subplots(figsize=fig_dims, sharex=True, sharey=True)\n",
    "ax.set(xticks=plot_data.SEASON.unique())\n",
    "ax = sns.lineplot(data=pd.melt(plot_data, ['SEASON']), x='SEASON', y='value', hue='variable', ax=ax, marker=\"o\")\n",
    "ax.set_title(\"Promedio por partido de estadisticas ofensivas\")\n",
    "ax.set(xlabel=\"Temporadas\", ylabel = \"Promedio\")\n",
    "plt.show()"
   ]
  },
  {
   "cell_type": "markdown",
   "metadata": {
    "pycharm": {
     "name": "#%% md\n"
    }
   },
   "source": [
    "## Features  correlations"
   ]
  },
  {
   "cell_type": "markdown",
   "metadata": {
    "ExecuteTime": {
     "end_time": "2020-09-18T00:46:59.232446Z",
     "start_time": "2020-09-18T00:46:59.192013Z"
    }
   },
   "source": [
    "### Utils functions"
   ]
  },
  {
   "cell_type": "code",
   "execution_count": 32,
   "metadata": {
    "ExecuteTime": {
     "end_time": "2020-11-09T08:54:09.194370Z",
     "start_time": "2020-11-09T08:54:09.169117Z"
    },
    "init_cell": true
   },
   "outputs": [],
   "source": [
    "def plot_heatmap(data, title):\n",
    "    mask = np.zeros_like(pearson_corr)\n",
    "    mask[np.triu_indices_from(mask)] = True\n",
    "    with sns.axes_style(\"white\"):\n",
    "        f, ax = plt.subplots(figsize = (30, 24))\n",
    "        heatmap = sns.heatmap(data, mask=mask, square=True,\n",
    "                        linewidth=1,\n",
    "                        annot=True,\n",
    "                        annot_kws={'size' : 10} \n",
    "                        )\n",
    "#     plt.figure(figsize = (30, 24))\n",
    "#     heatmap = sns.heatmap(data,\n",
    "#             linewidth=1,\n",
    "#             annot=True,\n",
    "#             annot_kws={'size' : 10} )\n",
    "    plt.title(title, fontsize=25)\n",
    "    plt.show()\n",
    "    return heatmap\n",
    "\n",
    "def save_heatmap(heatmap, name):\n",
    "    figure = heatmap.get_figure()    \n",
    "    figure.savefig(f'plots/{name}.png')\n",
    "    \n",
    "def top_corr_features(corr):\n",
    "    c = corr.abs()\n",
    "    sol = (c.where(np.triu(np.ones(c.shape), k=1).astype(np.bool))\n",
    "                 .stack()\n",
    "                 .sort_values(ascending=False))\n",
    "    return pd.DataFrame(sol)"
   ]
  },
  {
   "cell_type": "markdown",
   "metadata": {},
   "source": [
    "### Generate correlation matrix"
   ]
  },
  {
   "cell_type": "code",
   "execution_count": null,
   "metadata": {
    "ExecuteTime": {
     "end_time": "2020-11-03T01:14:00.659707Z",
     "start_time": "2020-11-03T01:13:52.127297Z"
    },
    "pycharm": {
     "name": "#%%\n"
    }
   },
   "outputs": [],
   "source": [
    "pearson_corr = df.corr(method='pearson')\n",
    "spearman_corr = df.corr(method='spearman')\n",
    "kendall_corr = df.corr(method='kendall')"
   ]
  },
  {
   "cell_type": "markdown",
   "metadata": {},
   "source": [
    "### Pearson Correlations"
   ]
  },
  {
   "cell_type": "code",
   "execution_count": null,
   "metadata": {
    "ExecuteTime": {
     "end_time": "2020-11-03T01:14:16.903086Z",
     "start_time": "2020-11-03T01:14:02.910085Z"
    }
   },
   "outputs": [],
   "source": [
    "mask = np.zeros_like(pearson_corr)\n",
    "mask[np.triu_indices_from(mask)] = True\n",
    "with sns.axes_style(\"white\"):\n",
    "    f, ax = plt.subplots(figsize = (30, 24))\n",
    "    ax = sns.heatmap(pearson_corr, mask=mask, square=True,\n",
    "                    linewidth=1,\n",
    "                    annot=True,\n",
    "                    annot_kws={'size' : 10} \n",
    "                    )\n",
    "save_heatmap(plot_heatmap(pearson_corr, \"Pearson Correlation\"), \"pearson_corr\")"
   ]
  },
  {
   "cell_type": "code",
   "execution_count": null,
   "metadata": {
    "ExecuteTime": {
     "end_time": "2020-11-03T01:14:19.166968Z",
     "start_time": "2020-11-03T01:14:19.125566Z"
    }
   },
   "outputs": [],
   "source": [
    "top_corr_features_df = top_corr_features(pearson_corr)\n",
    "qgrid_widget = qgrid.show_grid(top_corr_features_df, show_toolbar=True , grid_options={'forceFitColumns': False, 'defaultColumnWidth': 200})\n",
    "qgrid_widget"
   ]
  },
  {
   "cell_type": "markdown",
   "metadata": {},
   "source": [
    "Se observa que existe muchos features altamente correlacionados, por lo que se evaluara que tan insprecindible son y como es el comportamiento de los experimentos al eliminar estos."
   ]
  },
  {
   "cell_type": "markdown",
   "metadata": {},
   "source": [
    "### Spearman Correlation"
   ]
  },
  {
   "cell_type": "code",
   "execution_count": null,
   "metadata": {
    "ExecuteTime": {
     "end_time": "2020-11-03T01:14:29.064392Z",
     "start_time": "2020-11-03T01:14:21.414341Z"
    }
   },
   "outputs": [],
   "source": [
    "save_heatmap(plot_heatmap(spearman_corr, \"Spearman Correlation\"), \"spearman_corr\")"
   ]
  },
  {
   "cell_type": "code",
   "execution_count": null,
   "metadata": {
    "ExecuteTime": {
     "end_time": "2020-11-03T01:14:31.247674Z",
     "start_time": "2020-11-03T01:14:31.207794Z"
    }
   },
   "outputs": [],
   "source": [
    "top_corr_features_df = top_corr_features(spearman_corr)\n",
    "qgrid_widget = qgrid.show_grid(top_corr_features_df, show_toolbar=True , grid_options={'forceFitColumns': False, 'defaultColumnWidth': 200})\n",
    "qgrid_widget"
   ]
  },
  {
   "cell_type": "markdown",
   "metadata": {},
   "source": [
    "### __Kendall correlation__"
   ]
  },
  {
   "cell_type": "code",
   "execution_count": null,
   "metadata": {
    "ExecuteTime": {
     "end_time": "2020-11-03T01:14:41.035588Z",
     "start_time": "2020-11-03T01:14:33.411940Z"
    }
   },
   "outputs": [],
   "source": [
    "save_heatmap(plot_heatmap(kendall_corr, \"Kendall Correlations\"), \"kendall_corr\")"
   ]
  },
  {
   "cell_type": "code",
   "execution_count": null,
   "metadata": {
    "ExecuteTime": {
     "end_time": "2020-11-03T01:14:43.234679Z",
     "start_time": "2020-11-03T01:14:43.192055Z"
    }
   },
   "outputs": [],
   "source": [
    "top_corr_features_df = top_corr_features(kendall_corr)\n",
    "qgrid_widget = qgrid.show_grid(top_corr_features_df, show_toolbar=True , grid_options={'forceFitColumns': False, 'defaultColumnWidth': 200})\n",
    "qgrid_widget"
   ]
  },
  {
   "cell_type": "markdown",
   "metadata": {
    "ExecuteTime": {
     "end_time": "2020-09-18T01:08:42.161421Z",
     "start_time": "2020-09-18T01:08:42.141445Z"
    }
   },
   "source": [
    "## Generate Panda Profiling Report"
   ]
  },
  {
   "cell_type": "code",
   "execution_count": 34,
   "metadata": {
    "ExecuteTime": {
     "end_time": "2020-11-09T08:54:54.277499Z",
     "start_time": "2020-11-09T08:54:54.242686Z"
    }
   },
   "outputs": [],
   "source": [
    "cols = config.X_EDA_COLS\n",
    "report_df = df[df.SEASON >= 2013]\n",
    "report_df = df[cols]\n",
    "report_df = report_df.dropna()"
   ]
  },
  {
   "cell_type": "code",
   "execution_count": 35,
   "metadata": {
    "ExecuteTime": {
     "end_time": "2020-11-09T08:54:57.096904Z",
     "start_time": "2020-11-09T08:54:57.058493Z"
    },
    "pycharm": {
     "name": "#%%\n"
    }
   },
   "outputs": [],
   "source": [
    "\n",
    "profile = ProfileReport(report_df, title='Pandas Profiling Report', pool_size=4,\n",
    "                        minimal=True,\n",
    "                        explorative=True,\n",
    "                           correlations={\n",
    "             \"pearson\": {\"calculate\": True},\n",
    "             \"spearman\": {\"calculate\": True},\n",
    "             \"kendall\": {\"calculate\": True},\n",
    "             \"phi_k\": {\"calculate\": False},\n",
    "             \"cramers\": {\"calculate\": False},\n",
    "         })"
   ]
  },
  {
   "cell_type": "code",
   "execution_count": 36,
   "metadata": {
    "ExecuteTime": {
     "end_time": "2020-11-09T08:55:58.362689Z",
     "start_time": "2020-11-09T08:54:59.893570Z"
    }
   },
   "outputs": [
    {
     "data": {
      "application/vnd.jupyter.widget-view+json": {
       "model_id": "76dcb6abdd774168a3f69dda3deaeca1",
       "version_major": 2,
       "version_minor": 0
      },
      "text/plain": [
       "HBox(children=(FloatProgress(value=0.0, description='Summarize dataset', max=107.0, style=ProgressStyle(descri…"
      ]
     },
     "metadata": {},
     "output_type": "display_data"
    },
    {
     "name": "stdout",
     "output_type": "stream",
     "text": [
      "\n"
     ]
    },
    {
     "data": {
      "application/vnd.jupyter.widget-view+json": {
       "model_id": "189d6ae3fc4e4073a4d4d9b8c4b3c261",
       "version_major": 2,
       "version_minor": 0
      },
      "text/plain": [
       "HBox(children=(FloatProgress(value=0.0, description='Generate report structure', max=1.0, style=ProgressStyle(…"
      ]
     },
     "metadata": {},
     "output_type": "display_data"
    },
    {
     "name": "stdout",
     "output_type": "stream",
     "text": [
      "\n"
     ]
    },
    {
     "data": {
      "application/vnd.jupyter.widget-view+json": {
       "model_id": "908be8ebe55243f3800e1da68dfdcd82",
       "version_major": 2,
       "version_minor": 0
      },
      "text/plain": [
       "HBox(children=(FloatProgress(value=0.0, description='Render HTML', max=1.0, style=ProgressStyle(description_wi…"
      ]
     },
     "metadata": {},
     "output_type": "display_data"
    },
    {
     "name": "stdout",
     "output_type": "stream",
     "text": [
      "\n"
     ]
    },
    {
     "data": {
      "application/vnd.jupyter.widget-view+json": {
       "model_id": "702fd1de8ca941b7bc81166729d51835",
       "version_major": 2,
       "version_minor": 0
      },
      "text/plain": [
       "HBox(children=(FloatProgress(value=0.0, description='Export report to file', max=1.0, style=ProgressStyle(desc…"
      ]
     },
     "metadata": {},
     "output_type": "display_data"
    },
    {
     "name": "stdout",
     "output_type": "stream",
     "text": [
      "\n"
     ]
    }
   ],
   "source": [
    "profile.to_file(\"plots/season_games_profile_report.html\")"
   ]
  },
  {
   "cell_type": "markdown",
   "metadata": {},
   "source": [
    "Para visualizar el reporte generado puede acceder a este link:\n",
    "\n",
    "[Panda Profiling Report](plots/season_games_profile_report.html)"
   ]
  },
  {
   "cell_type": "markdown",
   "metadata": {},
   "source": [
    "## Generate sweetviz report"
   ]
  },
  {
   "cell_type": "code",
   "execution_count": 37,
   "metadata": {
    "ExecuteTime": {
     "end_time": "2020-11-09T08:56:51.704614Z",
     "start_time": "2020-11-09T08:56:01.193312Z"
    }
   },
   "outputs": [
    {
     "name": "stderr",
     "output_type": "stream",
     "text": [
      ":FEATURES DONE:                    |█████████████████████| [100%]   00:36  -> (00:00 left)\n",
      ":PAIRWISE DONE:                    |█████████████████████| [100%]   00:04  -> (00:00 left)\n"
     ]
    },
    {
     "name": "stdout",
     "output_type": "stream",
     "text": [
      "Creating Associations graph... DONE!\n",
      "Report plots/sweetviz_report.html was generated! NOTEBOOK/COLAB USERS: no browser will pop up, the report is saved in your notebook/colab files.\n"
     ]
    }
   ],
   "source": [
    "#analyzing the dataset\n",
    "report = sv.analyze(report_df, pairwise_analysis='on')\n",
    "#display the report\n",
    "report.show_html('plots/sweetviz_report.html')"
   ]
  },
  {
   "cell_type": "markdown",
   "metadata": {},
   "source": [
    "Para visualizar el reporte generado puede acceder a este link:\n",
    "\n",
    "[Sweetviz](plots/sweetviz_report.html)"
   ]
  },
  {
   "cell_type": "markdown",
   "metadata": {},
   "source": [
    "## Visualization of correlation between dependent variable and features"
   ]
  },
  {
   "cell_type": "code",
   "execution_count": null,
   "metadata": {
    "ExecuteTime": {
     "end_time": "2020-11-03T01:06:54.044172Z",
     "start_time": "2020-11-03T01:06:53.994591Z"
    }
   },
   "outputs": [],
   "source": [
    "#target = df[config.y_columns]\n",
    "target = df[\"HOME_TEAM_WINS\"]\n",
    "features = df.drop(config.y_columns, axis=1)"
   ]
  },
  {
   "cell_type": "markdown",
   "metadata": {},
   "source": [
    "### Drop categorical values"
   ]
  },
  {
   "cell_type": "code",
   "execution_count": null,
   "metadata": {
    "ExecuteTime": {
     "end_time": "2020-09-18T01:24:44.424549Z",
     "start_time": "2020-09-18T01:24:44.401082Z"
    }
   },
   "outputs": [],
   "source": [
    "#features.drop([\"HT_RANK\", \"HT_CLASS\", \"VT_RANK\", \"VT_CLASS\"], axis=1, inplace=True)"
   ]
  },
  {
   "cell_type": "code",
   "execution_count": null,
   "metadata": {
    "ExecuteTime": {
     "end_time": "2020-09-18T01:24:45.070426Z",
     "start_time": "2020-09-18T01:24:45.046624Z"
    }
   },
   "outputs": [],
   "source": [
    "features_names = list(features.columns)"
   ]
  },
  {
   "cell_type": "markdown",
   "metadata": {
    "heading_collapsed": true
   },
   "source": [
    "## Yellowbrick Visualizer"
   ]
  },
  {
   "cell_type": "code",
   "execution_count": null,
   "metadata": {
    "ExecuteTime": {
     "end_time": "2020-09-18T01:24:46.250708Z",
     "start_time": "2020-09-18T01:24:45.753579Z"
    },
    "hidden": true
   },
   "outputs": [],
   "source": [
    "plt.figure(figsize = (15, 15))\n",
    "visualizer = FeatureCorrelation(labels=features_names)\n",
    "visualizer.fit(features, target)\n",
    "visualizer.poof()"
   ]
  },
  {
   "cell_type": "code",
   "execution_count": null,
   "metadata": {
    "hidden": true
   },
   "outputs": [],
   "source": []
  }
 ],
 "metadata": {
  "celltoolbar": "Initialization Cell",
  "hide_input": false,
  "kernelspec": {
   "display_name": "nba-predictor",
   "language": "python",
   "name": "nba-predictor"
  },
  "language_info": {
   "codemirror_mode": {
    "name": "ipython",
    "version": 3
   },
   "file_extension": ".py",
   "mimetype": "text/x-python",
   "name": "python",
   "nbconvert_exporter": "python",
   "pygments_lexer": "ipython3",
   "version": "3.7.7"
  },
  "toc": {
   "base_numbering": 1,
   "nav_menu": {
    "height": "271.972px",
    "width": "468.979px"
   },
   "number_sections": true,
   "sideBar": true,
   "skip_h1_title": false,
   "title_cell": "Table of Contents",
   "title_sidebar": "Contents",
   "toc_cell": false,
   "toc_position": {
    "height": "calc(100% - 180px)",
    "left": "10px",
    "top": "150px",
    "width": "295.481px"
   },
   "toc_section_display": true,
   "toc_window_display": false
  },
  "varInspector": {
   "cols": {
    "lenName": 16,
    "lenType": 16,
    "lenVar": 40
   },
   "kernels_config": {
    "python": {
     "delete_cmd_postfix": "",
     "delete_cmd_prefix": "del ",
     "library": "var_list.py",
     "varRefreshCmd": "print(var_dic_list())"
    },
    "r": {
     "delete_cmd_postfix": ") ",
     "delete_cmd_prefix": "rm(",
     "library": "var_list.r",
     "varRefreshCmd": "cat(var_dic_list()) "
    }
   },
   "types_to_exclude": [
    "module",
    "function",
    "builtin_function_or_method",
    "instance",
    "_Feature"
   ],
   "window_display": false
  }
 },
 "nbformat": 4,
 "nbformat_minor": 1
}
