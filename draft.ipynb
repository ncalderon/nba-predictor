{
 "cells": [
  {
   "cell_type": "code",
   "execution_count": 1,
   "metadata": {},
   "outputs": [
    {
     "name": "stderr",
     "output_type": "stream",
     "text": [
      "/home/nathaniel/anaconda3/envs/nba-predictor/lib/python3.7/site-packages/ipykernel_launcher.py:6: FutureWarning: Passing a negative integer is deprecated in version 1.0 and will not be supported in future version. Instead, use None to not limit the column width.\n",
      "  \n"
     ]
    }
   ],
   "source": [
    "import numpy as np\n",
    "import matplotlib.pyplot as plt\n",
    "import pandas as pd\n",
    "import utils as utils\n",
    "pd.options.display.max_columns = None\n",
    "pd.set_option(\"display.max_colwidth\", -1)\n",
    "from IPython.core.interactiveshell import InteractiveShell\n",
    "InteractiveShell.ast_node_interactivity = \"all\"\n",
    "pd.set_option(\"display.max_rows\", None)"
   ]
  },
  {
   "cell_type": "code",
   "execution_count": 2,
   "metadata": {},
   "outputs": [],
   "source": [
    "games, season_games, teams, seasons, rankings, games_matchup = utils.load_df()"
   ]
  },
  {
   "cell_type": "code",
   "execution_count": 3,
   "metadata": {},
   "outputs": [],
   "source": [
    "df1, df2, df3, df4, df5 = utils.load_experiment_datasets()"
   ]
  },
  {
   "cell_type": "code",
   "execution_count": 22,
   "metadata": {},
   "outputs": [],
   "source": [
    "utils.X_y_values(df2)"
   ]
  },
  {
   "cell_type": "code",
   "execution_count": 5,
   "metadata": {},
   "outputs": [
    {
     "data": {
      "text/plain": [
       "array([1, 1, 1, ..., 1, 1, 1])"
      ]
     },
     "execution_count": 5,
     "metadata": {},
     "output_type": "execute_result"
    }
   ],
   "source": [
    "utils.y.ravel()"
   ]
  },
  {
   "cell_type": "code",
   "execution_count": 6,
   "metadata": {},
   "outputs": [
    {
     "name": "stdout",
     "output_type": "stream",
     "text": [
      "Experiment: do_logistic_regression\n",
      "Running experiment for dataset: 1\n",
      "Precision: 77.51%\n",
      "Recall: 72.78%\n",
      "Experiment: do_logistic_regression\n",
      "Running experiment for dataset: 2\n",
      "Precision: 80.29%\n",
      "Recall: 78.93%\n",
      "Experiment: do_logistic_regression\n",
      "Running experiment for dataset: 3\n",
      "Precision: 80.33%\n",
      "Recall: 80.33%\n",
      "Experiment: do_logistic_regression\n",
      "Running experiment for dataset: 4\n",
      "Precision: 80.67%\n",
      "Recall: 82.44%\n",
      "Experiment: do_logistic_regression\n",
      "Running experiment for dataset: 5\n",
      "Precision: 81.61%\n",
      "Recall: 81.79%\n"
     ]
    }
   ],
   "source": [
    "utils.do_experiments()"
   ]
  },
  {
   "cell_type": "code",
   "execution_count": 12,
   "metadata": {},
   "outputs": [],
   "source": [
    "import sklearn.metrics as metrics\n",
    "def regression_results(y_true, y_pred):\n",
    "# Regression metrics\n",
    "    explained_variance=metrics.explained_variance_score(y_true, y_pred)\n",
    "    mean_absolute_error=metrics.mean_absolute_error(y_true, y_pred) \n",
    "    mse=metrics.mean_squared_error(y_true, y_pred) \n",
    "    mean_squared_log_error=metrics.mean_squared_log_error(y_true, y_pred)\n",
    "    median_absolute_error=metrics.median_absolute_error(y_true, y_pred)\n",
    "    r2=metrics.r2_score(y_true, y_pred)\n",
    "    print('explained_variance: ', round(explained_variance,4))    \n",
    "    print('mean_squared_log_error: ', round(mean_squared_log_error,4))\n",
    "    print('r2: ', round(r2,4))\n",
    "    print('MAE: ', round(mean_absolute_error,4))\n",
    "    print('MSE: ', round(mse,4))\n",
    "    print('RMSE: ', round(np.sqrt(mse),4))"
   ]
  },
  {
   "cell_type": "code",
   "execution_count": 25,
   "metadata": {},
   "outputs": [],
   "source": [
    "from sklearn.model_selection import TimeSeriesSplit\n",
    "from sklearn.neighbors import KNeighborsClassifier\n",
    "from sklearn.svm import SVC\n",
    "from sklearn.naive_bayes import GaussianNB\n",
    "from sklearn.tree import DecisionTreeClassifier\n",
    "from sklearn.ensemble import RandomForestClassifier, GradientBoostingClassifier\n",
    "from sklearn.model_selection import cross_val_score\n",
    "from sklearn.metrics import precision_score, recall_score, balanced_accuracy_score"
   ]
  },
  {
   "cell_type": "code",
   "execution_count": 26,
   "metadata": {},
   "outputs": [
    {
     "name": "stdout",
     "output_type": "stream",
     "text": [
      "KNN: 0.699436 (0.018624)\n"
     ]
    },
    {
     "data": {
      "text/plain": [
       "KNeighborsClassifier()"
      ]
     },
     "execution_count": 26,
     "metadata": {},
     "output_type": "execute_result"
    },
    {
     "name": "stdout",
     "output_type": "stream",
     "text": [
      "Balanced accuracy score: 71.26%\n",
      "Precision: 75.36%\n",
      "Recall: 80.02%\n",
      "-------------------------------------------------\n",
      "SVM: 0.724280 (0.059332)\n"
     ]
    },
    {
     "data": {
      "text/plain": [
       "SVC(kernel='linear', random_state=0)"
      ]
     },
     "execution_count": 26,
     "metadata": {},
     "output_type": "execute_result"
    },
    {
     "name": "stdout",
     "output_type": "stream",
     "text": [
      "Balanced accuracy score: 77.68%\n",
      "Precision: 81.19%\n",
      "Recall: 82.89%\n",
      "-------------------------------------------------\n",
      "KSVM: 0.751768 (0.021674)\n"
     ]
    },
    {
     "data": {
      "text/plain": [
       "SVC(random_state=0)"
      ]
     },
     "execution_count": 26,
     "metadata": {},
     "output_type": "execute_result"
    },
    {
     "name": "stdout",
     "output_type": "stream",
     "text": [
      "Balanced accuracy score: 76.76%\n",
      "Precision: 79.36%\n",
      "Recall: 85.32%\n",
      "-------------------------------------------------\n",
      "NB: 0.680913 (0.023763)\n"
     ]
    },
    {
     "data": {
      "text/plain": [
       "GaussianNB()"
      ]
     },
     "execution_count": 26,
     "metadata": {},
     "output_type": "execute_result"
    },
    {
     "name": "stdout",
     "output_type": "stream",
     "text": [
      "Balanced accuracy score: 68.97%\n",
      "Precision: 82.10%\n",
      "Recall: 55.19%\n",
      "-------------------------------------------------\n",
      "DT: 0.629689 (0.020918)\n"
     ]
    },
    {
     "data": {
      "text/plain": [
       "DecisionTreeClassifier(criterion='entropy', random_state=0)"
      ]
     },
     "execution_count": 26,
     "metadata": {},
     "output_type": "execute_result"
    },
    {
     "name": "stdout",
     "output_type": "stream",
     "text": [
      "Balanced accuracy score: 63.87%\n",
      "Precision: 70.31%\n",
      "Recall: 70.31%\n",
      "-------------------------------------------------\n",
      "RF: 0.738879 (0.026136)\n"
     ]
    },
    {
     "data": {
      "text/plain": [
       "RandomForestClassifier(max_depth=15, max_features='sqrt', n_estimators=500,\n",
       "                       n_jobs=-1, random_state=0)"
      ]
     },
     "execution_count": 26,
     "metadata": {},
     "output_type": "execute_result"
    },
    {
     "name": "stdout",
     "output_type": "stream",
     "text": [
      "Balanced accuracy score: 76.36%\n",
      "Precision: 79.06%\n",
      "Recall: 84.99%\n",
      "-------------------------------------------------\n",
      "GB: 0.748670 (0.018966)\n"
     ]
    },
    {
     "data": {
      "text/plain": [
       "GradientBoostingClassifier(max_depth=15, max_features='sqrt', n_estimators=500,\n",
       "                           random_state=0)"
      ]
     },
     "execution_count": 26,
     "metadata": {},
     "output_type": "execute_result"
    },
    {
     "name": "stdout",
     "output_type": "stream",
     "text": [
      "Balanced accuracy score: 75.65%\n",
      "Precision: 79.40%\n",
      "Recall: 81.68%\n",
      "-------------------------------------------------\n"
     ]
    },
    {
     "data": {
      "text/plain": [
       "{'whiskers': [<matplotlib.lines.Line2D at 0x7f898aed8e90>,\n",
       "  <matplotlib.lines.Line2D at 0x7f898aed8d90>,\n",
       "  <matplotlib.lines.Line2D at 0x7f898ae40850>,\n",
       "  <matplotlib.lines.Line2D at 0x7f898aef04d0>,\n",
       "  <matplotlib.lines.Line2D at 0x7f898ae86290>,\n",
       "  <matplotlib.lines.Line2D at 0x7f898aa29bd0>,\n",
       "  <matplotlib.lines.Line2D at 0x7f898ae75690>,\n",
       "  <matplotlib.lines.Line2D at 0x7f898ae75150>,\n",
       "  <matplotlib.lines.Line2D at 0x7f898ae8d0d0>,\n",
       "  <matplotlib.lines.Line2D at 0x7f898ae521d0>,\n",
       "  <matplotlib.lines.Line2D at 0x7f898ae6fc50>,\n",
       "  <matplotlib.lines.Line2D at 0x7f898afdfc50>,\n",
       "  <matplotlib.lines.Line2D at 0x7f898afd55d0>,\n",
       "  <matplotlib.lines.Line2D at 0x7f898b03e550>],\n",
       " 'caps': [<matplotlib.lines.Line2D at 0x7f898aeda510>,\n",
       "  <matplotlib.lines.Line2D at 0x7f898aedaf90>,\n",
       "  <matplotlib.lines.Line2D at 0x7f898aef0fd0>,\n",
       "  <matplotlib.lines.Line2D at 0x7f898af13a50>,\n",
       "  <matplotlib.lines.Line2D at 0x7f898ae4a050>,\n",
       "  <matplotlib.lines.Line2D at 0x7f898ae4ad50>,\n",
       "  <matplotlib.lines.Line2D at 0x7f898ae75750>,\n",
       "  <matplotlib.lines.Line2D at 0x7f898ae06bd0>,\n",
       "  <matplotlib.lines.Line2D at 0x7f898ae52390>,\n",
       "  <matplotlib.lines.Line2D at 0x7f898ae52750>,\n",
       "  <matplotlib.lines.Line2D at 0x7f898b01fe50>,\n",
       "  <matplotlib.lines.Line2D at 0x7f898b01fdd0>,\n",
       "  <matplotlib.lines.Line2D at 0x7f898b03e510>,\n",
       "  <matplotlib.lines.Line2D at 0x7f898afd1450>],\n",
       " 'boxes': [<matplotlib.lines.Line2D at 0x7f898aed18d0>,\n",
       "  <matplotlib.lines.Line2D at 0x7f898ae404d0>,\n",
       "  <matplotlib.lines.Line2D at 0x7f898ae86c90>,\n",
       "  <matplotlib.lines.Line2D at 0x7f898ae123d0>,\n",
       "  <matplotlib.lines.Line2D at 0x7f898ae8dd10>,\n",
       "  <matplotlib.lines.Line2D at 0x7f898aefaf10>,\n",
       "  <matplotlib.lines.Line2D at 0x7f898afd5b10>],\n",
       " 'medians': [<matplotlib.lines.Line2D at 0x7f898aedaa90>,\n",
       "  <matplotlib.lines.Line2D at 0x7f898ae1a510>,\n",
       "  <matplotlib.lines.Line2D at 0x7f898ae12e10>,\n",
       "  <matplotlib.lines.Line2D at 0x7f898ae068d0>,\n",
       "  <matplotlib.lines.Line2D at 0x7f898aefa290>,\n",
       "  <matplotlib.lines.Line2D at 0x7f898b01c110>,\n",
       "  <matplotlib.lines.Line2D at 0x7f898aff1990>],\n",
       " 'fliers': [<matplotlib.lines.Line2D at 0x7f898aea4890>,\n",
       "  <matplotlib.lines.Line2D at 0x7f898ae86bd0>,\n",
       "  <matplotlib.lines.Line2D at 0x7f898ae125d0>,\n",
       "  <matplotlib.lines.Line2D at 0x7f898ae06590>,\n",
       "  <matplotlib.lines.Line2D at 0x7f898aefad50>,\n",
       "  <matplotlib.lines.Line2D at 0x7f898afdb1d0>,\n",
       "  <matplotlib.lines.Line2D at 0x7f898aff1610>],\n",
       " 'means': []}"
      ]
     },
     "execution_count": 26,
     "metadata": {},
     "output_type": "execute_result"
    },
    {
     "data": {
      "text/plain": [
       "Text(0.5, 1.0, 'Algorithm Comparison')"
      ]
     },
     "execution_count": 26,
     "metadata": {},
     "output_type": "execute_result"
    },
    {
     "data": {
      "image/png": "[encoded data removed]",
      "text/plain": [
       "<Figure size 432x288 with 1 Axes>"
      ]
     },
     "metadata": {
      "needs_background": "light"
     },
     "output_type": "display_data"
    }
   ],
   "source": [
    "models = []\n",
    "models.append(('KNN', KNeighborsClassifier(n_neighbors = 5, metric = 'minkowski', p = 2))) \n",
    "models.append(('SVM', SVC(kernel = 'linear', random_state=0))) \n",
    "models.append(('KSVM', SVC(kernel = 'rbf', random_state=0))) \n",
    "models.append(('NB', GaussianNB())) \n",
    "models.append(('DT', DecisionTreeClassifier(criterion = 'entropy', random_state=0))) \n",
    "models.append((\"RF\", RandomForestClassifier(n_estimators=500, \n",
    "                                            max_features=\"sqrt\", \n",
    "                                            max_depth=15, \n",
    "                                            n_jobs=-1, \n",
    "                                            random_state = 0)))\n",
    "models.append((\"GB\", GradientBoostingClassifier(n_estimators=500, \n",
    "                                                max_depth=15, \n",
    "                                                max_features=\"sqrt\", \n",
    "                                                random_state = 0)))\n",
    "\n",
    "# Ensemble method - collection of many decision trees\n",
    "\n",
    "# Evaluate each model in turn\n",
    "results = []\n",
    "names = []\n",
    "for name, model in models:\n",
    "    # TimeSeries Cross validation\n",
    "    tscv = TimeSeriesSplit(n_splits=4)\n",
    "\n",
    "    cv_results = cross_val_score(model,\n",
    "                                 utils.X_train,\n",
    "                                 utils.y_train.ravel(),\n",
    "                                 cv=tscv,\n",
    "                                 scoring='balanced_accuracy')\n",
    "    results.append(cv_results)\n",
    "    names.append(name)\n",
    "    print('%s: %f (%f)' % (name, cv_results.mean(), cv_results.std()))\n",
    "    \n",
    "    model.fit(X=utils.X_train,y=utils.y_train.ravel())\n",
    "    y_pred = model.predict(utils.X_test)\n",
    "    print(\"Balanced accuracy score: {:.2f}%\".format(100 * balanced_accuracy_score(utils.y_test, y_pred)))\n",
    "    print(\"Precision: {:.2f}%\".format(100 * precision_score(utils.y_test, y_pred)))\n",
    "    print(\"Recall: {:.2f}%\".format(100 * recall_score(utils.y_test, y_pred)))\n",
    "    print(\"-------------------------------------------------\")\n",
    "# Compare Algorithms\n",
    "plt.boxplot(results, labels=names)\n",
    "plt.title('Algorithm Comparison')\n",
    "plt.show()"
   ]
  },
  {
   "cell_type": "code",
   "execution_count": 17,
   "metadata": {},
   "outputs": [],
   "source": [
    "from sklearn.metrics import make_scorer\n",
    "def rmse(actual, predict):\n",
    "    predict = np.array(predict)\n",
    "    actual = np.array(actual)\n",
    "    distance = predict - actual\n",
    "    square_distance = distance ** 2\n",
    "    mean_square_distance = square_distance.mean()\n",
    "    score = np.sqrt(mean_square_distance)\n",
    "    return score\n",
    "rmse_score = make_scorer(rmse, greater_is_better = False)"
   ]
  },
  {
   "cell_type": "code",
   "execution_count": 19,
   "metadata": {},
   "outputs": [
    {
     "data": {
      "text/plain": [
       "GridSearchCV(cv=TimeSeriesSplit(max_train_size=None, n_splits=4),\n",
       "             estimator=GradientBoostingClassifier(),\n",
       "             param_grid={'max_depth': [5, 6, 7, 8, 9, 10, 11, 12, 13, 14],\n",
       "                         'max_features': ['auto', 'sqrt', 'log2'],\n",
       "                         'n_estimators': [20, 50, 100, 200]},\n",
       "             scoring=make_scorer(rmse, greater_is_better=False))"
      ]
     },
     "execution_count": 19,
     "metadata": {},
     "output_type": "execute_result"
    },
    {
     "name": "stdout",
     "output_type": "stream",
     "text": [
      "Best score: -0.485160451606227, best model: GradientBoostingClassifier(max_depth=13, max_features='sqrt')\n"
     ]
    }
   ],
   "source": [
    "from sklearn.model_selection import GridSearchCV\n",
    "model = GradientBoostingClassifier()\n",
    "param_search = { \n",
    "    # probar rango muy separados de parametros. ej: 100-200-300\n",
    "    'n_estimators': [20, 50, 100,200],\n",
    "    'max_features': ['auto', 'sqrt', 'log2'],\n",
    "    # probar en rango amplios y luego ir probando en los rangos mas prometedores a partir\n",
    "    # de los resultadosg\n",
    "    'max_depth' : [i for i in range(5,15)]\n",
    "}\n",
    "tscv = TimeSeriesSplit(n_splits=4)\n",
    "gsearch = GridSearchCV(estimator=model,\n",
    "                       cv=tscv,\n",
    "                       param_grid=param_search,\n",
    "                       scoring = rmse_score)\n",
    "gsearch.fit(utils.X_train, utils.y_train.ravel())\n",
    "best_score = gsearch.best_score_\n",
    "best_model = gsearch.best_estimator_\n",
    "print(f\"Best score: {best_score}, best model: {best_model}\")"
   ]
  }
 ],
 "metadata": {
  "kernelspec": {
   "display_name": "Python 3",
   "language": "python",
   "name": "python3"
  },
  "language_info": {
   "codemirror_mode": {
    "name": "ipython",
    "version": 3
   },
   "file_extension": ".py",
   "mimetype": "text/x-python",
   "name": "python",
   "nbconvert_exporter": "python",
   "pygments_lexer": "ipython3",
   "version": "3.7.7"
  },
  "toc": {
   "base_numbering": 1,
   "nav_menu": {},
   "number_sections": true,
   "sideBar": true,
   "skip_h1_title": false,
   "title_cell": "Table of Contents",
   "title_sidebar": "Contents",
   "toc_cell": false,
   "toc_position": {},
   "toc_section_display": true,
   "toc_window_display": false
  }
 },
 "nbformat": 4,
 "nbformat_minor": 1
}