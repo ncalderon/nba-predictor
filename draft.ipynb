{
 "cells": [
  {
   "cell_type": "code",
   "execution_count": 36,
   "metadata": {},
   "outputs": [
    {
     "name": "stderr",
     "output_type": "stream",
     "text": [
      "/home/nathaniel/anaconda3/envs/nba-predictor/lib/python3.7/site-packages/ipykernel_launcher.py:6: FutureWarning: Passing a negative integer is deprecated in version 1.0 and will not be supported in future version. Instead, use None to not limit the column width.\n",
      "  \n"
     ]
    }
   ],
   "source": [
    "import numpy as np\n",
    "import matplotlib.pyplot as plt\n",
    "import pandas as pd\n",
    "import utils as utils\n",
    "pd.options.display.max_columns = None\n",
    "pd.set_option(\"display.max_colwidth\", -1)\n",
    "from IPython.core.interactiveshell import InteractiveShell\n",
    "InteractiveShell.ast_node_interactivity = \"all\"\n",
    "#pd.set_option(\"display.max_rows\", None)"
   ]
  },
  {
   "cell_type": "code",
   "execution_count": 37,
   "metadata": {},
   "outputs": [],
   "source": [
    "games, season_games, teams, seasons, rankings, games_matchup = utils.load_df()"
   ]
  },
  {
   "cell_type": "code",
   "execution_count": 38,
   "metadata": {},
   "outputs": [],
   "source": [
    "df = games_matchup"
   ]
  },
  {
   "cell_type": "code",
   "execution_count": 39,
   "metadata": {},
   "outputs": [],
   "source": [
    "#utils.X_y_values(df[df.SEASON.isin(df.SEASON.unique()[:2])])\n",
    "utils.X_y_values(df)"
   ]
  },
  {
   "cell_type": "code",
   "execution_count": 40,
   "metadata": {},
   "outputs": [],
   "source": [
    "tscv = utils.time_series_cv_split(df, 2)\n",
    "#data_tsvc = [tscv]\n",
    "#list(tscv)"
   ]
  },
  {
   "cell_type": "code",
   "execution_count": 42,
   "metadata": {},
   "outputs": [],
   "source": [
    "import sklearn.metrics as metrics\n",
    "def regression_results(y_true, y_pred):\n",
    "# Regression metrics\n",
    "    explained_variance=metrics.explained_variance_score(y_true, y_pred)\n",
    "    mean_absolute_error=metrics.mean_absolute_error(y_true, y_pred) \n",
    "    mse=metrics.mean_squared_error(y_true, y_pred) \n",
    "    mean_squared_log_error=metrics.mean_squared_log_error(y_true, y_pred)\n",
    "    median_absolute_error=metrics.median_absolute_error(y_true, y_pred)\n",
    "    r2=metrics.r2_score(y_true, y_pred)\n",
    "    print('explained_variance: ', round(explained_variance,4))    \n",
    "    print('mean_squared_log_error: ', round(mean_squared_log_error,4))\n",
    "    print('r2: ', round(r2,4))\n",
    "    print('MAE: ', round(mean_absolute_error,4))\n",
    "    print('MSE: ', round(mse,4))\n",
    "    print('RMSE: ', round(np.sqrt(mse),4))"
   ]
  },
  {
   "cell_type": "code",
   "execution_count": 43,
   "metadata": {},
   "outputs": [],
   "source": [
    "from sklearn.model_selection import TimeSeriesSplit\n",
    "from sklearn.neighbors import KNeighborsClassifier\n",
    "from sklearn.svm import SVC\n",
    "from sklearn.naive_bayes import GaussianNB\n",
    "from sklearn.tree import DecisionTreeClassifier\n",
    "from sklearn.ensemble import RandomForestClassifier, GradientBoostingClassifier\n",
    "from sklearn.model_selection import cross_val_score\n",
    "from sklearn.metrics import precision_score, recall_score, balanced_accuracy_score"
   ]
  },
  {
   "cell_type": "code",
   "execution_count": null,
   "metadata": {},
   "outputs": [
    {
     "name": "stdout",
     "output_type": "stream",
     "text": [
      "DT: 0.501824 (0.026345)\n"
     ]
    }
   ],
   "source": [
    "models = []\n",
    "#models.append(('KNN', KNeighborsClassifier(n_neighbors = 5, metric = 'minkowski', p = 2))) \n",
    "#models.append(('SVM', SVC(kernel = 'linear', random_state=0))) \n",
    "#models.append(('KSVM', SVC(kernel = 'rbf', random_state=0))) \n",
    "#models.append(('NB', GaussianNB())) \n",
    "models.append(('DT', DecisionTreeClassifier(criterion = 'entropy', random_state=0))) \n",
    "models.append((\"RF\", RandomForestClassifier(n_estimators=500, \n",
    "                                            max_features=\"sqrt\", \n",
    "                                            max_depth=15, \n",
    "                                            n_jobs=-1, \n",
    "                                            random_state = 0)))\n",
    "models.append((\"GB\", GradientBoostingClassifier(n_estimators=500, \n",
    "                                                max_depth=15, \n",
    "                                                max_features=\"sqrt\", \n",
    "                                                random_state = 0)))\n",
    "\n",
    "# Ensemble method - collection of many decision trees\n",
    "\n",
    "# Evaluate each model in turn\n",
    "results = []\n",
    "names = []\n",
    "for name, model in models:\n",
    "    # TimeSeries Cross validation\n",
    "    tscv = TimeSeriesSplit(n_splits=len(games_matchup.SEASON.unique())-1, max_train_size=2)\n",
    "    #tscv = utils.time_series_cv_split(df, 2)\n",
    "\n",
    "    cv_results = cross_val_score(model,\n",
    "                                 utils.X,\n",
    "                                 utils.y.ravel(),\n",
    "                                 cv=tscv,\n",
    "                                 scoring='balanced_accuracy')\n",
    "    results.append(cv_results)\n",
    "    names.append(name)\n",
    "    print('%s: %f (%f)' % (name, cv_results.mean(), cv_results.std()))\n",
    "    \n",
    "    #model.fit(X=utils.X_train,y=utils.y_train.ravel())\n",
    "    #y_pred = model.predict(utils.X_test)\n",
    "    #print(\"Balanced accuracy score: {:.2f}%\".format(100 * balanced_accuracy_score(utils.y_test, y_pred)))\n",
    "    #print(\"Precision: {:.2f}%\".format(100 * precision_score(utils.y_test, y_pred)))\n",
    "    #print(\"Recall: {:.2f}%\".format(100 * recall_score(utils.y_test, y_pred)))\n",
    "    #print(\"-------------------------------------------------\")\n",
    "# Compare Algorithms\n",
    "plt.boxplot(results, labels=names)\n",
    "plt.title('Algorithm Comparison')\n",
    "plt.show()"
   ]
  },
  {
   "cell_type": "code",
   "execution_count": null,
   "metadata": {},
   "outputs": [],
   "source": [
    "from sklearn.metrics import make_scorer\n",
    "def rmse(actual, predict):\n",
    "    predict = np.array(predict)\n",
    "    actual = np.array(actual)\n",
    "    distance = predict - actual\n",
    "    square_distance = distance ** 2\n",
    "    mean_square_distance = square_distance.mean()\n",
    "    score = np.sqrt(mean_square_distance)\n",
    "    return score\n",
    "rmse_score = make_scorer(rmse, greater_is_better = False)"
   ]
  },
  {
   "cell_type": "code",
   "execution_count": null,
   "metadata": {},
   "outputs": [],
   "source": [
    "from sklearn.model_selection import GridSearchCV\n",
    "model = GradientBoostingClassifier()\n",
    "param_search = { \n",
    "    # probar rango muy separados de parametros. ej: 100-200-300\n",
    "    'n_estimators': [20, 50, 100,200],\n",
    "    'max_features': ['auto', 'sqrt', 'log2'],\n",
    "    # probar en rango amplios y luego ir probando en los rangos mas prometedores a partir\n",
    "    # de los resultadosg\n",
    "    'max_depth' : [i for i in range(5,15)]\n",
    "}\n",
    "tscv = TimeSeriesSplit(n_splits=9, max_train_size=2)\n",
    "gsearch = GridSearchCV(estimator=model,\n",
    "                       cv=tscv,\n",
    "                       param_grid=param_search,\n",
    "                       scoring = rmse_score)\n",
    "gsearch.fit(utils.X_train, utils.y_train.ravel())\n",
    "best_score = gsearch.best_score_\n",
    "best_model = gsearch.best_estimator_\n",
    "print(f\"Best score: {best_score}, best model: {best_model}\")"
   ]
  }
 ],
 "metadata": {
  "kernelspec": {
   "display_name": "Python 3",
   "language": "python",
   "name": "python3"
  },
  "language_info": {
   "codemirror_mode": {
    "name": "ipython",
    "version": 3
   },
   "file_extension": ".py",
   "mimetype": "text/x-python",
   "name": "python",
   "nbconvert_exporter": "python",
   "pygments_lexer": "ipython3",
   "version": "3.7.7"
  },
  "toc": {
   "base_numbering": 1,
   "nav_menu": {},
   "number_sections": true,
   "sideBar": true,
   "skip_h1_title": false,
   "title_cell": "Table of Contents",
   "title_sidebar": "Contents",
   "toc_cell": false,
   "toc_position": {},
   "toc_section_display": true,
   "toc_window_display": false
  }
 },
 "nbformat": 4,
 "nbformat_minor": 1
}
