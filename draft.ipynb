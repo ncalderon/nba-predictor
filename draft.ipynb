{
 "cells": [
  {
   "cell_type": "code",
   "execution_count": 14,
   "metadata": {},
   "outputs": [
    {
     "name": "stderr",
     "output_type": "stream",
     "text": [
      "/home/nathaniel/anaconda3/envs/nba-predictor/lib/python3.7/site-packages/ipykernel_launcher.py:5: FutureWarning: Passing a negative integer is deprecated in version 1.0 and will not be supported in future version. Instead, use None to not limit the column width.\n",
      "  \"\"\"\n"
     ]
    }
   ],
   "source": [
    "import numpy as np\n",
    "import matplotlib.pyplot as plt\n",
    "import pandas as pd\n",
    "pd.options.display.max_columns = None\n",
    "pd.set_option(\"display.max_colwidth\", -1)\n",
    "#from IPython.core.interactiveshell import InteractiveShell\n",
    "#InteractiveShell.ast_node_interactivity = \"all\"\n",
    "pd.set_option(\"display.max_rows\", 101)"
   ]
  },
  {
   "cell_type": "code",
   "execution_count": 15,
   "metadata": {},
   "outputs": [],
   "source": [
    "DATA_PATH = 'data'\n",
    "\n",
    "SEASONS_PROCESSED_DS = f\"{DATA_PATH}/seasons.processed.feather\"\n",
    "\n",
    "TEAMS_DS = f\"{DATA_PATH}/teams.csv\"\n",
    "TEAMS_PROCESSED_DS = f\"{DATA_PATH}/teams.processed.feather\"\n",
    "\n",
    "RANKING_DS = f\"{DATA_PATH}/ranking.csv\"\n",
    "RANKING_PROCESSED_DS = f\"{DATA_PATH}/ranking.processed.feather\"\n",
    "\n",
    "GAMES_DS = f\"{DATA_PATH}/games.csv\"\n",
    "GAMES_PROCESSED_DS = f\"{DATA_PATH}/games.processed.feather\""
   ]
  },
  {
   "cell_type": "code",
   "execution_count": 26,
   "metadata": {},
   "outputs": [],
   "source": [
    "games = pd.read_csv(GAMES_DS, parse_dates=[\"GAME_DATE_EST\"], usecols=[\"GAME_ID\",'GAME_DATE_EST', 'GAME_STATUS_TEXT', 'HOME_TEAM_ID', 'VISITOR_TEAM_ID',\n",
    "       'SEASON', 'PTS_home', 'FG_PCT_home', 'FT_PCT_home',\n",
    "       'FG3_PCT_home', 'AST_home', 'REB_home', 'PTS_away',\n",
    "       'FG_PCT_away', 'FT_PCT_away', 'FG3_PCT_away', 'AST_away', 'REB_away',\n",
    "       'HOME_TEAM_WINS']\n",
    "                    , infer_datetime_format=True, index_col=\"GAME_ID\")\n",
    "games = games.sort_values(by=['GAME_DATE_EST', 'GAME_ID'])\n",
    "\n",
    "teams = pd.read_feather(TEAMS_PROCESSED_DS)\n",
    "\n",
    "seasons = pd.read_feather(SEASONS_PROCESSED_DS)\n",
    "\n",
    "rankings = pd.read_csv(RANKING_DS, parse_dates=[\"STANDINGSDATE\"], usecols=['TEAM_ID', 'LEAGUE_ID', 'SEASON_ID', 'STANDINGSDATE', 'CONFERENCE',\n",
    "       'TEAM', 'G', 'W', 'L', 'W_PCT', 'HOME_RECORD', 'ROAD_RECORD'], infer_datetime_format=True,\n",
    "                      index_col=[\"STANDINGSDATE\"])\n",
    "\n",
    "games_matchup = pd.read_feather(GAMES_PROCESSED_DS)\n",
    "games_matchup = games_matchup.set_index([\"GAME_ID\"])\n",
    "games_matchup = games_matchup.sort_values(by=['GAME_DATE_EST', 'GAME_ID'])"
   ]
  },
  {
   "cell_type": "code",
   "execution_count": 39,
   "metadata": {},
   "outputs": [],
   "source": [
    "df = rankings"
   ]
  },
  {
   "cell_type": "code",
   "execution_count": null,
   "outputs": [],
   "source": [
    "df.index.value_counts()"
   ],
   "metadata": {
    "collapsed": false,
    "pycharm": {
     "name": "#%%\n"
    }
   }
  },
  {
   "cell_type": "code",
   "execution_count": null,
   "outputs": [],
   "source": [
    "df_2015 = df[df.index.year == 2015]"
   ],
   "metadata": {
    "collapsed": false,
    "pycharm": {
     "name": "#%%\n"
    }
   }
  },
  {
   "cell_type": "code",
   "execution_count": null,
   "outputs": [],
   "source": [
    "df_gws = df_2015[df_2015.TEAM_ID == 1610612744]"
   ],
   "metadata": {
    "collapsed": false,
    "pycharm": {
     "name": "#%%\n"
    }
   }
  },
  {
   "cell_type": "code",
   "execution_count": null,
   "outputs": [],
   "source": [
    "df_gws.sort_index()\n",
    "#rankings_g = rankings[rankings.SEASON_ID >= 1015].groupby([\"STANDINGSDATE\"])\n",
    "#rankings_g.describe()"
   ],
   "metadata": {
    "collapsed": false,
    "pycharm": {
     "name": "#%%\n"
    }
   }
  },
  {
   "cell_type": "code",
   "execution_count": null,
   "outputs": [],
   "source": [],
   "metadata": {
    "collapsed": false,
    "pycharm": {
     "name": "#%%\n"
    }
   }
  },
  {
   "cell_type": "code",
   "execution_count": 45,
   "metadata": {},
   "outputs": [
    {
     "data": {
      "text/plain": [
       "2018-07-17    30\n",
       "2015-03-19    30\n",
       "2007-10-10    30\n",
       "2012-05-04    30\n",
       "2016-11-27    30\n",
       "              ..\n",
       "2004-09-29    29\n",
       "2004-01-05    29\n",
       "2004-08-07    29\n",
       "2004-03-23    29\n",
       "2004-07-06    29\n",
       "Name: STANDINGSDATE, Length: 5997, dtype: int64"
      ]
     },
     "execution_count": 45,
     "metadata": {},
     "output_type": "execute_result"
    }
   ],
   "source": []
  },
  {
   "cell_type": "code",
   "execution_count": 58,
   "metadata": {},
   "outputs": [],
   "source": [
    "df_2015 = df[df.index.year == 2015]"
   ]
  },
  {
   "cell_type": "code",
   "execution_count": 60,
   "metadata": {},
   "outputs": [],
   "source": [
    "df_gws = df_2015[df_2015.TEAM_ID == 1610612744]"
   ]
  },
  {
   "cell_type": "code",
   "execution_count": 62,
   "metadata": {
    "pycharm": {
     "name": "#%%\n"
    }
   },
   "outputs": [
    {
     "data": {
      "text/html": [
       "<div>\n",
       "<style scoped>\n",
       "    .dataframe tbody tr th:only-of-type {\n",
       "        vertical-align: middle;\n",
       "    }\n",
       "\n",
       "    .dataframe tbody tr th {\n",
       "        vertical-align: top;\n",
       "    }\n",
       "\n",
       "    .dataframe thead th {\n",
       "        text-align: right;\n",
       "    }\n",
       "</style>\n",
       "<table border=\"1\" class=\"dataframe\">\n",
       "  <thead>\n",
       "    <tr style=\"text-align: right;\">\n",
       "      <th></th>\n",
       "      <th>TEAM_ID</th>\n",
       "      <th>LEAGUE_ID</th>\n",
       "      <th>SEASON_ID</th>\n",
       "      <th>CONFERENCE</th>\n",
       "      <th>TEAM</th>\n",
       "      <th>G</th>\n",
       "      <th>W</th>\n",
       "      <th>L</th>\n",
       "      <th>W_PCT</th>\n",
       "      <th>HOME_RECORD</th>\n",
       "      <th>ROAD_RECORD</th>\n",
       "    </tr>\n",
       "    <tr>\n",
       "      <th>STANDINGSDATE</th>\n",
       "      <th></th>\n",
       "      <th></th>\n",
       "      <th></th>\n",
       "      <th></th>\n",
       "      <th></th>\n",
       "      <th></th>\n",
       "      <th></th>\n",
       "      <th></th>\n",
       "      <th></th>\n",
       "      <th></th>\n",
       "      <th></th>\n",
       "    </tr>\n",
       "  </thead>\n",
       "  <tbody>\n",
       "    <tr>\n",
       "      <th>2015-01-01</th>\n",
       "      <td>1610612744</td>\n",
       "      <td>0</td>\n",
       "      <td>22014</td>\n",
       "      <td>West</td>\n",
       "      <td>Golden State</td>\n",
       "      <td>30</td>\n",
       "      <td>25</td>\n",
       "      <td>5</td>\n",
       "      <td>0.833</td>\n",
       "      <td>12-1</td>\n",
       "      <td>13-4</td>\n",
       "    </tr>\n",
       "    <tr>\n",
       "      <th>2015-01-02</th>\n",
       "      <td>1610612744</td>\n",
       "      <td>0</td>\n",
       "      <td>22014</td>\n",
       "      <td>West</td>\n",
       "      <td>Golden State</td>\n",
       "      <td>31</td>\n",
       "      <td>26</td>\n",
       "      <td>5</td>\n",
       "      <td>0.839</td>\n",
       "      <td>13-1</td>\n",
       "      <td>13-4</td>\n",
       "    </tr>\n",
       "    <tr>\n",
       "      <th>2015-01-03</th>\n",
       "      <td>1610612744</td>\n",
       "      <td>0</td>\n",
       "      <td>22014</td>\n",
       "      <td>West</td>\n",
       "      <td>Golden State</td>\n",
       "      <td>31</td>\n",
       "      <td>26</td>\n",
       "      <td>5</td>\n",
       "      <td>0.839</td>\n",
       "      <td>13-1</td>\n",
       "      <td>13-4</td>\n",
       "    </tr>\n",
       "    <tr>\n",
       "      <th>2015-01-04</th>\n",
       "      <td>1610612744</td>\n",
       "      <td>0</td>\n",
       "      <td>22014</td>\n",
       "      <td>West</td>\n",
       "      <td>Golden State</td>\n",
       "      <td>31</td>\n",
       "      <td>26</td>\n",
       "      <td>5</td>\n",
       "      <td>0.839</td>\n",
       "      <td>13-1</td>\n",
       "      <td>13-4</td>\n",
       "    </tr>\n",
       "    <tr>\n",
       "      <th>2015-01-05</th>\n",
       "      <td>1610612744</td>\n",
       "      <td>0</td>\n",
       "      <td>22014</td>\n",
       "      <td>West</td>\n",
       "      <td>Golden State</td>\n",
       "      <td>32</td>\n",
       "      <td>27</td>\n",
       "      <td>5</td>\n",
       "      <td>0.844</td>\n",
       "      <td>14-1</td>\n",
       "      <td>13-4</td>\n",
       "    </tr>\n",
       "    <tr>\n",
       "      <th>...</th>\n",
       "      <td>...</td>\n",
       "      <td>...</td>\n",
       "      <td>...</td>\n",
       "      <td>...</td>\n",
       "      <td>...</td>\n",
       "      <td>...</td>\n",
       "      <td>...</td>\n",
       "      <td>...</td>\n",
       "      <td>...</td>\n",
       "      <td>...</td>\n",
       "      <td>...</td>\n",
       "    </tr>\n",
       "    <tr>\n",
       "      <th>2015-12-27</th>\n",
       "      <td>1610612744</td>\n",
       "      <td>0</td>\n",
       "      <td>22015</td>\n",
       "      <td>West</td>\n",
       "      <td>Golden State</td>\n",
       "      <td>29</td>\n",
       "      <td>28</td>\n",
       "      <td>1</td>\n",
       "      <td>0.966</td>\n",
       "      <td>14-0</td>\n",
       "      <td>14-1</td>\n",
       "    </tr>\n",
       "    <tr>\n",
       "      <th>2015-12-28</th>\n",
       "      <td>1610612744</td>\n",
       "      <td>0</td>\n",
       "      <td>22015</td>\n",
       "      <td>West</td>\n",
       "      <td>Golden State</td>\n",
       "      <td>30</td>\n",
       "      <td>29</td>\n",
       "      <td>1</td>\n",
       "      <td>0.967</td>\n",
       "      <td>15-0</td>\n",
       "      <td>14-1</td>\n",
       "    </tr>\n",
       "    <tr>\n",
       "      <th>2015-12-29</th>\n",
       "      <td>1610612744</td>\n",
       "      <td>0</td>\n",
       "      <td>22015</td>\n",
       "      <td>West</td>\n",
       "      <td>Golden State</td>\n",
       "      <td>30</td>\n",
       "      <td>29</td>\n",
       "      <td>1</td>\n",
       "      <td>0.967</td>\n",
       "      <td>15-0</td>\n",
       "      <td>14-1</td>\n",
       "    </tr>\n",
       "    <tr>\n",
       "      <th>2015-12-30</th>\n",
       "      <td>1610612744</td>\n",
       "      <td>0</td>\n",
       "      <td>22015</td>\n",
       "      <td>West</td>\n",
       "      <td>Golden State</td>\n",
       "      <td>31</td>\n",
       "      <td>29</td>\n",
       "      <td>2</td>\n",
       "      <td>0.935</td>\n",
       "      <td>15-0</td>\n",
       "      <td>14-2</td>\n",
       "    </tr>\n",
       "    <tr>\n",
       "      <th>2015-12-31</th>\n",
       "      <td>1610612744</td>\n",
       "      <td>0</td>\n",
       "      <td>22015</td>\n",
       "      <td>West</td>\n",
       "      <td>Golden State</td>\n",
       "      <td>32</td>\n",
       "      <td>30</td>\n",
       "      <td>2</td>\n",
       "      <td>0.938</td>\n",
       "      <td>15-0</td>\n",
       "      <td>15-2</td>\n",
       "    </tr>\n",
       "  </tbody>\n",
       "</table>\n",
       "<p>365 rows × 11 columns</p>\n",
       "</div>"
      ],
      "text/plain": [
       "                  TEAM_ID  LEAGUE_ID  SEASON_ID CONFERENCE          TEAM   G  \\\n",
       "STANDINGSDATE                                                                  \n",
       "2015-01-01     1610612744  0          22014      West       Golden State  30   \n",
       "2015-01-02     1610612744  0          22014      West       Golden State  31   \n",
       "2015-01-03     1610612744  0          22014      West       Golden State  31   \n",
       "2015-01-04     1610612744  0          22014      West       Golden State  31   \n",
       "2015-01-05     1610612744  0          22014      West       Golden State  32   \n",
       "...                   ... ..            ...       ...                ...  ..   \n",
       "2015-12-27     1610612744  0          22015      West       Golden State  29   \n",
       "2015-12-28     1610612744  0          22015      West       Golden State  30   \n",
       "2015-12-29     1610612744  0          22015      West       Golden State  30   \n",
       "2015-12-30     1610612744  0          22015      West       Golden State  31   \n",
       "2015-12-31     1610612744  0          22015      West       Golden State  32   \n",
       "\n",
       "                W  L  W_PCT HOME_RECORD ROAD_RECORD  \n",
       "STANDINGSDATE                                        \n",
       "2015-01-01     25  5  0.833  12-1        13-4        \n",
       "2015-01-02     26  5  0.839  13-1        13-4        \n",
       "2015-01-03     26  5  0.839  13-1        13-4        \n",
       "2015-01-04     26  5  0.839  13-1        13-4        \n",
       "2015-01-05     27  5  0.844  14-1        13-4        \n",
       "...            .. ..    ...   ...         ...        \n",
       "2015-12-27     28  1  0.966  14-0        14-1        \n",
       "2015-12-28     29  1  0.967  15-0        14-1        \n",
       "2015-12-29     29  1  0.967  15-0        14-1        \n",
       "2015-12-30     29  2  0.935  15-0        14-2        \n",
       "2015-12-31     30  2  0.938  15-0        15-2        \n",
       "\n",
       "[365 rows x 11 columns]"
      ]
     },
     "execution_count": 62,
     "metadata": {},
     "output_type": "execute_result"
    }
   ],
   "source": [
    "df_gws.sort_index()\n",
    "#rankings_g = rankings[rankings.SEASON_ID >= 1015].groupby([\"STANDINGSDATE\"])\n",
    "#rankings_g.describe()"
   ]
  },
  {
   "cell_type": "code",
   "execution_count": null,
   "metadata": {},
   "outputs": [],
   "source": []
  }
 ],
 "metadata": {
  "kernelspec": {
   "display_name": "Python 3",
   "language": "python",
   "name": "python3"
  },
  "language_info": {
   "codemirror_mode": {
    "name": "ipython",
    "version": 3
   },
   "file_extension": ".py",
   "mimetype": "text/x-python",
   "name": "python",
   "nbconvert_exporter": "python",
   "pygments_lexer": "ipython3",
   "version": "3.7.7"
  },
  "toc": {
   "base_numbering": 1,
   "nav_menu": {},
   "number_sections": true,
   "sideBar": true,
   "skip_h1_title": false,
   "title_cell": "Table of Contents",
   "title_sidebar": "Contents",
   "toc_cell": false,
   "toc_position": {},
   "toc_section_display": true,
   "toc_window_display": false
  }
 },
 "nbformat": 4,
 "nbformat_minor": 1
}