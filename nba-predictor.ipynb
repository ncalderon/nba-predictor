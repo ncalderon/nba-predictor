{
 "cells": [
  {
   "cell_type": "code",
   "execution_count": 45,
   "metadata": {},
   "outputs": [],
   "source": [
    "GAME_COLUMNS = [\n",
    "    'DATE',\n",
    "    'ID',\n",
    "    # HOME TEAM\n",
    "    'HT',\n",
    "    'HT_RANK',\n",
    "    'HT_CLASS',\n",
    "    'HT_HW',\n",
    "    'HT_HL',\n",
    "    'HT_VW',\n",
    "    'HT_VL',\n",
    "    'HT_LAST10_W',\n",
    "    'HT_LAST10_L',\n",
    "    'HT_LAST10_MATCHUP_W',\n",
    "    'HT_LAST10_MATCHUP_L',\n",
    "    'HT_OVERALL_OFF_POINTS',\n",
    "    'HT_OVERALL_DEF_POINTS',\n",
    "    'HT_OVERALL_OFF_FG',\n",
    "    'HT_OVERALL_DEF_FG',\n",
    "    'HT_OVERALL_OFF_3P',\n",
    "    'HT_OVERALL_DEF_3P',\n",
    "    'HT_OVERALL_OFF_FT',\n",
    "    'HT_OVERALL_DEF_FT',\n",
    "    'HT_OVERALL_OFF_REB',\n",
    "    'HT_OVERALL_DEF_REB',\n",
    "    'HT_OVERALL_OFF_POINTS',\n",
    "    'HT_AWAY_DEF_POINTS',\n",
    "    'HT_AWAY_OFF_FG',\n",
    "    'HT_AWAY_DEF_FG',\n",
    "    'HT_AWAY_OFF_3P',\n",
    "    'HT_AWAY_DEF_3P',\n",
    "    'HT_AWAY_OFF_FT',\n",
    "    'HT_AWAY_DEF_FT',\n",
    "    'HT_AWAY_OFF_REB',\n",
    "    'HT_AWAY_DEF_REB',\n",
    "    # AWAY TEAM\n",
    "    'AT',\n",
    "    'AT_RANK',\n",
    "    'AT_CLASS',\n",
    "    'AT_HW',\n",
    "    'AT_HL',\n",
    "    'AT_VW',\n",
    "    'AT_VL',\n",
    "    'AT_LAST10_W',\n",
    "    'AT_LAST10_L',\n",
    "    'AT_LAST10_MATCHUP_W',\n",
    "    'AT_LAST10_MATCHUP_L',\n",
    "    'AT_OVERALL_OFF_POINTS',\n",
    "    'AT_OVERALL_DEF_POINTS',\n",
    "    'AT_OVERALL_OFF_FG',\n",
    "    'AT_OVERALL_DEF_FG',\n",
    "    'AT_OVERALL_OFF_3P',\n",
    "    'AT_OVERALL_DEF_3P',\n",
    "    'AT_OVERALL_OFF_FT',\n",
    "    'AT_OVERALL_DEF_FT',\n",
    "    'AT_OVERALL_OFF_REB',\n",
    "    'AT_OVERALL_DEF_REB',\n",
    "    'AT_OVERALL_OFF_POINTS',\n",
    "    'AT_AWAY_DEF_POINTS',\n",
    "    'AT_AWAY_OFF_FG',\n",
    "    'AT_AWAY_DEF_FG',\n",
    "    'AT_AWAY_OFF_3P',\n",
    "    'AT_AWAY_DEF_3P',\n",
    "    'AT_AWAY_OFF_FT',\n",
    "    'AT_AWAY_DEF_FT',\n",
    "    'AT_AWAY_OFF_REB',\n",
    "    'AT_AWAY_DEF_REB',\n",
    "]"
   ]
  },
  {
   "cell_type": "code",
   "execution_count": 40,
   "metadata": {},
   "outputs": [],
   "source": [
    "import numpy as np\n",
    "import pandas as pd\n",
    "from pandas import DataFrame"
   ]
  },
  {
   "cell_type": "code",
   "execution_count": 41,
   "metadata": {},
   "outputs": [],
   "source": [
    "DATA_PATH = 'data'\n",
    "\n",
    "SEASONS_PROCESSED_DS = f\"{DATA_PATH}/seasons.processed.feather\"\n",
    "\n",
    "TEAMS_DS = f\"{DATA_PATH}/teams.processed.feather\"\n",
    "TEAMS_PROCESSED_DS = f\"{DATA_PATH}/teams.processed.feather\"\n",
    "\n",
    "GAMES_DS = f\"{DATA_PATH}/games.csv\"\n",
    "GAMES_PROCESSED_DS = f\"{DATA_PATH}/games.processed.feather\""
   ]
  },
  {
   "cell_type": "code",
   "execution_count": 42,
   "metadata": {},
   "outputs": [],
   "source": [
    "def get_season_games(games, seasons):\n",
    "    row = seasons.iloc[0]\n",
    "    season_games = games[(games.SEASON == row.SEASON) & \\\n",
    "                         (games.GAME_DATE_EST >= row.SEASON_START) & \\\n",
    "                         (games.GAME_DATE_EST <= row.SEASON_END)\n",
    "                         ]\n",
    "    for i in range(1, len(seasons)):\n",
    "        row = seasons.iloc[i]\n",
    "        temp = games[(games.SEASON == row.SEASON) & \\\n",
    "                     (games.GAME_DATE_EST >= row.SEASON_START) & \\\n",
    "                     (games.GAME_DATE_EST <= row.SEASON_END)\n",
    "                     ]\n",
    "        season_games = pd.concat([season_games, temp])\n",
    "    return season_games"
   ]
  },
  {
   "cell_type": "code",
   "execution_count": 43,
   "metadata": {},
   "outputs": [],
   "source": [
    "games = pd.read_csv(GAMES_DS, parse_dates=[\"GAME_DATE_EST\"]\n",
    "                    , infer_datetime_format=True, index_col=\"GAME_ID\")\n",
    "games = games.sort_values(by=['GAME_DATE_EST', 'GAME_ID'])\n",
    "teams = pd.read_feather(TEAMS_PROCESSED_DS)\n",
    "seasons = pd.read_feather(SEASONS_PROCESSED_DS)\n",
    "season_games = get_season_games(games, seasons)"
   ]
  },
  {
   "cell_type": "code",
   "execution_count": null,
   "outputs": [],
   "source": [
    "games_processed: DataFrame = pd.DataFrame(columns=GAME_COLUMNS)\n",
    "i = len(season_games)-1\n",
    "game_processed = {}\n",
    "row = season_games.iloc[i, :]\n",
    "previous_games = season_games[:i]\n",
    "print(season_games.shape)\n",
    "print(previous_games.shape)"
   ],
   "metadata": {
    "collapsed": false,
    "pycharm": {
     "name": "#%%\n"
    }
   }
  },
  {
   "cell_type": "code",
   "execution_count": null,
   "outputs": [],
   "source": [
    "home_team_id = row.HOME_TEAM_ID\n",
    "visitor_team_id = row.VISITOR_TEAM_ID\n",
    "season_year = row.SEASON\n",
    "print(teams[teams.TEAM_ID == home_team_id])\n",
    "print(teams[teams.TEAM_ID == visitor_team_id])\n",
    "print(season_year)"
   ],
   "metadata": {
    "collapsed": false,
    "pycharm": {
     "name": "#%%\n"
    }
   }
  },
  {
   "cell_type": "code",
   "execution_count": null,
   "outputs": [],
   "source": [
    "game_processed[\"ID\"] = row.name\n",
    "game_processed['DATE'] = row[\"GAME_DATE_EST\"]\n",
    "# # HOME TEAM\n",
    "game_processed['HT'] = row[\"HOME_TEAM_ID\"]\n",
    "game_processed['HT_RANK'] = None\n",
    "game_processed['HT_CLASS'] = None\n",
    "game_processed['HT_HW'] = None"
   ],
   "metadata": {
    "collapsed": false,
    "pycharm": {
     "name": "#%%\n"
    }
   }
  },
  {
   "cell_type": "code",
   "execution_count": null,
   "outputs": [],
   "source": [
    "query = ((season_games.HOME_TEAM_ID == home_team_id) | (season_games.VISITOR_TEAM_ID == home_team_id)) & \\\n",
    "                ((season_games.HOME_TEAM_ID == visitor_team_id) | (season_games.VISITOR_TEAM_ID == visitor_team_id))\n",
    "last10_matchup = previous_games[query].tail(10)\n",
    "last10_matchup\n"
   ],
   "metadata": {
    "collapsed": false,
    "pycharm": {
     "name": "#%%\n"
    }
   }
  },
  {
   "cell_type": "code",
   "execution_count": null,
   "outputs": [],
   "source": [
    "ppg.season_games.iloc[len(ppg.season_games)-1, :]"
   ],
   "metadata": {
    "collapsed": false,
    "pycharm": {
     "name": "#%%\n"
    }
   }
  },
  {
   "cell_type": "code",
   "execution_count": 50,
   "metadata": {},
   "outputs": [
    {
     "name": "stdout",
     "output_type": "stream",
     "text": [
      "(10829, 20)\n",
      "(10828, 20)\n"
     ]
    }
   ],
   "source": [
    "home_team_id = row.HOME_TEAM_ID\n",
    "visitor_team_id = row.VISITOR_TEAM_ID\n",
    "season_year = row.SEASON\n",
    "print(teams[teams.TEAM_ID == home_team_id])\n",
    "print(teams[teams.TEAM_ID == visitor_team_id])\n",
    "print(season_year)"
   ]
  },
  {
   "cell_type": "code",
   "execution_count": 55,
   "metadata": {},
   "outputs": [
    {
     "name": "stdout",
     "output_type": "stream",
     "text": [
      "       TEAM_ID NAME       NICKNAME      CITY\n",
      "18  1610612757  POR  Trail Blazers  Portland\n",
      "       TEAM_ID NAME NICKNAME        CITY\n",
      "19  1610612758  SAC    Kings  Sacramento\n",
      "2018\n"
     ]
    }
   ],
   "source": [
    "game_processed[\"ID\"] = row.name\n",
    "game_processed['DATE'] = row[\"GAME_DATE_EST\"]\n",
    "# # HOME TEAM\n",
    "game_processed['HT'] = row[\"HOME_TEAM_ID\"]\n",
    "game_processed['HT_RANK'] = None\n",
    "game_processed['HT_CLASS'] = None\n",
    "game_processed['HT_HW'] = None"
   ]
  },
  {
   "cell_type": "code",
   "execution_count": 56,
   "metadata": {
    "pycharm": {
     "name": "#%%\n"
    }
   },
   "outputs": [],
   "source": [
    "query = ((season_games.HOME_TEAM_ID == home_team_id) | (season_games.VISITOR_TEAM_ID == home_team_id)) & \\\n",
    "                ((season_games.HOME_TEAM_ID == visitor_team_id) | (season_games.VISITOR_TEAM_ID == visitor_team_id))\n",
    "last10_matchup = previous_games[query].tail(10)\n",
    "last10_matchup"
   ]
  },
  {
   "cell_type": "code",
   "execution_count": null,
   "metadata": {},
   "outputs": [],
   "source": []
  }
 ],
 "metadata": {
  "kernelspec": {
   "display_name": "Python 3",
   "language": "python",
   "name": "python3"
  },
  "language_info": {
   "codemirror_mode": {
    "name": "ipython",
    "version": 3
   },
   "file_extension": ".py",
   "mimetype": "text/x-python",
   "name": "python",
   "nbconvert_exporter": "python",
   "pygments_lexer": "ipython3",
   "version": "3.7.7"
  },
  "toc": {
   "base_numbering": 1,
   "nav_menu": {},
   "number_sections": true,
   "sideBar": true,
   "skip_h1_title": false,
   "title_cell": "Table of Contents",
   "title_sidebar": "Contents",
   "toc_cell": false,
   "toc_position": {},
   "toc_section_display": true,
   "toc_window_display": false
  }
 },
 "nbformat": 4,
 "nbformat_minor": 1
}