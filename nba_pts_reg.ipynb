{
 "cells": [
  {
   "cell_type": "markdown",
   "metadata": {},
   "source": [
    "# NBA PTS Regressor Experiments"
   ]
  },
  {
   "cell_type": "markdown",
   "metadata": {},
   "source": [
    "## Imports"
   ]
  },
  {
   "cell_type": "code",
   "execution_count": 1,
   "metadata": {
    "ExecuteTime": {
     "end_time": "2020-11-01T05:01:17.897528Z",
     "start_time": "2020-11-01T05:01:16.228034Z"
    },
    "init_cell": true,
    "pycharm": {
     "name": "#%%\n"
    }
   },
   "outputs": [
    {
     "name": "stderr",
     "output_type": "stream",
     "text": [
      "/home/nathaniel/anaconda3/envs/nba-predictor/lib/python3.7/site-packages/sklearn/utils/deprecation.py:143: FutureWarning: The sklearn.metrics.classification module is  deprecated in version 0.22 and will be removed in version 0.24. The corresponding classes / functions should instead be imported from sklearn.metrics. Anything that cannot be imported from sklearn.metrics is now part of the private API.\n",
      "  warnings.warn(message, FutureWarning)\n"
     ]
    }
   ],
   "source": [
    "import numpy as np\n",
    "import matplotlib.pyplot as plt\n",
    "import pandas as pd\n",
    "import seaborn as sns\n",
    "#pd.options.display.max_columns = None\n",
    "#pd.set_option(\"display.max_colwidth\", None)\n",
    "from IPython.core.interactiveshell import InteractiveShell\n",
    "InteractiveShell.ast_node_interactivity = \"all\"\n",
    "#pd.set_option(\"display.max_rows\", None)\n",
    "import model.train as train\n",
    "import model.config as model_config\n",
    "import utils\n",
    "import model.dataset.season_game as sg\n",
    "import utils_nba_point_spead_reg as utils_exp\n",
    "import qgrid\n",
    "from yellowbrick import classifier, features\n",
    "from pandas_profiling import ProfileReport\n",
    "\n",
    "from sklearn.pipeline import Pipeline\n",
    "from sklearn.preprocessing import StandardScaler, MinMaxScaler\n",
    "from sklearn.compose import ColumnTransformer"
   ]
  },
  {
   "cell_type": "markdown",
   "metadata": {},
   "source": [
    "## Setup"
   ]
  },
  {
   "cell_type": "code",
   "execution_count": 2,
   "metadata": {
    "ExecuteTime": {
     "end_time": "2020-11-01T05:01:17.937184Z",
     "start_time": "2020-11-01T05:01:17.899292Z"
    },
    "init_cell": true,
    "pycharm": {
     "name": "#%%\n"
    }
   },
   "outputs": [],
   "source": [
    "%load_ext autoreload\n",
    "%autoreload 2\n",
    "%matplotlib inline\n",
    "\n",
    "sns.set(style=\"whitegrid\", palette=\"husl\")"
   ]
  },
  {
   "cell_type": "markdown",
   "metadata": {},
   "source": [
    "### Utils functions"
   ]
  },
  {
   "cell_type": "code",
   "execution_count": 3,
   "metadata": {
    "ExecuteTime": {
     "end_time": "2020-11-01T05:01:17.973196Z",
     "start_time": "2020-11-01T05:01:17.938887Z"
    },
    "init_cell": true
   },
   "outputs": [],
   "source": [
    "def del_exp_result(exp_name):\n",
    "    for idx, res in enumerate(list(utils_exp.exp_results)):\n",
    "        if res['exp_name'] == exp_name:\n",
    "            del utils_exp.exp_results[idx]"
   ]
  },
  {
   "cell_type": "code",
   "execution_count": 4,
   "metadata": {
    "ExecuteTime": {
     "end_time": "2020-11-01T05:01:17.994246Z",
     "start_time": "2020-11-01T05:01:17.974548Z"
    },
    "init_cell": true,
    "pycharm": {
     "name": "#%%\n"
    }
   },
   "outputs": [],
   "source": [
    "def show_qgrid(df_):\n",
    "    qgrid_widget = qgrid.show_grid(df_, show_toolbar=True , grid_options={'forceFitColumns': False, 'defaultColumnWidth': 200})\n",
    "    qgrid_widget"
   ]
  },
  {
   "cell_type": "code",
   "execution_count": 5,
   "metadata": {
    "ExecuteTime": {
     "end_time": "2020-11-01T05:01:18.015482Z",
     "start_time": "2020-11-01T05:01:17.995532Z"
    },
    "init_cell": true,
    "pycharm": {
     "name": "#%%\n"
    }
   },
   "outputs": [],
   "source": [
    "def plot_results(experiment_name, results, figsize=(20,10)):\n",
    "    plt.figure(figsize=figsize)\n",
    "    results_df = utils.map_results_to_df(results)\n",
    "    a = sns.pointplot(data=results_df,\n",
    "              kind=\"point\", x=\"season_test\", y=\"rmse\", hue=\"model\"\n",
    "              )\n",
    "    a.set_title(\n",
    "        f\"{experiment_name}-rmse\")\n",
    "    a.legend(bbox_to_anchor=(1.05, 1), loc=2, borderaxespad=0.)"
   ]
  },
  {
   "cell_type": "code",
   "execution_count": 6,
   "metadata": {
    "ExecuteTime": {
     "end_time": "2020-11-01T05:01:18.035315Z",
     "start_time": "2020-11-01T05:01:18.016838Z"
    },
    "init_cell": true,
    "pycharm": {
     "name": "#%%\n"
    }
   },
   "outputs": [],
   "source": [
    "def get_results_df():\n",
    "    return pd.DataFrame(utils_exp.exp_results)"
   ]
  },
  {
   "cell_type": "code",
   "execution_count": 7,
   "metadata": {
    "ExecuteTime": {
     "end_time": "2020-11-01T05:01:18.056160Z",
     "start_time": "2020-11-01T05:01:18.036710Z"
    },
    "init_cell": true,
    "pycharm": {
     "name": "#%%\n"
    }
   },
   "outputs": [],
   "source": [
    "reg_metrics = ['mae', 'mse', 'rmse']\n",
    "\n",
    "def print_prettier_exp_results(exp_name, metric='rmse'):\n",
    "    ba_df = get_results_df()[['exp_name', 'model',\n",
    "       f'{metric}_mean', f'{metric}_std']]\n",
    "    return ba_df[ba_df.exp_name == exp_name].sort_values(by=[f\"{metric}_mean\"], ascending=True)"
   ]
  },
  {
   "cell_type": "markdown",
   "metadata": {},
   "source": [
    "## Load Dataset"
   ]
  },
  {
   "cell_type": "code",
   "execution_count": 8,
   "metadata": {
    "ExecuteTime": {
     "end_time": "2020-11-01T05:01:18.190954Z",
     "start_time": "2020-11-01T05:01:18.058170Z"
    },
    "init_cell": true,
    "pycharm": {
     "name": "#%%\n"
    }
   },
   "outputs": [],
   "source": [
    "season_games = sg.load_season_games_dataset()"
   ]
  },
  {
   "cell_type": "markdown",
   "metadata": {},
   "source": [
    "## EDA"
   ]
  },
  {
   "cell_type": "code",
   "execution_count": 25,
   "metadata": {
    "ExecuteTime": {
     "end_time": "2020-10-30T05:53:13.227961Z",
     "start_time": "2020-10-30T05:53:13.207718Z"
    },
    "pycharm": {
     "name": "#%%\n"
    }
   },
   "outputs": [],
   "source": [
    "eda_df = season_games"
   ]
  },
  {
   "cell_type": "code",
   "execution_count": 26,
   "metadata": {
    "ExecuteTime": {
     "end_time": "2020-10-30T05:53:13.844971Z",
     "start_time": "2020-10-30T05:53:13.805309Z"
    },
    "pycharm": {
     "name": "#%%\n"
    }
   },
   "outputs": [
    {
     "name": "stdout",
     "output_type": "stream",
     "text": [
      "<class 'pandas.core.frame.DataFrame'>\n",
      "Index: 21646 entries, 0020200001 to 0021901318\n",
      "Columns: 178 entries, SEASON_ID to GAME_DATE_EST\n",
      "dtypes: datetime64[ns](2), float64(126), int64(40), object(10)\n",
      "memory usage: 29.6+ MB\n"
     ]
    }
   ],
   "source": [
    "eda_df.info()"
   ]
  },
  {
   "cell_type": "code",
   "execution_count": 27,
   "metadata": {
    "ExecuteTime": {
     "end_time": "2020-10-30T05:53:15.259873Z",
     "start_time": "2020-10-30T05:53:14.890196Z"
    },
    "pycharm": {
     "name": "#%%\n"
    }
   },
   "outputs": [
    {
     "data": {
      "text/html": [
       "<div>\n",
       "<style scoped>\n",
       "    .dataframe tbody tr th:only-of-type {\n",
       "        vertical-align: middle;\n",
       "    }\n",
       "\n",
       "    .dataframe tbody tr th {\n",
       "        vertical-align: top;\n",
       "    }\n",
       "\n",
       "    .dataframe thead th {\n",
       "        text-align: right;\n",
       "    }\n",
       "</style>\n",
       "<table border=\"1\" class=\"dataframe\">\n",
       "  <thead>\n",
       "    <tr style=\"text-align: right;\">\n",
       "      <th></th>\n",
       "      <th>TEAM_ID_HOME</th>\n",
       "      <th>MIN_HOME</th>\n",
       "      <th>FGM_HOME</th>\n",
       "      <th>FGA_HOME</th>\n",
       "      <th>FG_PCT_HOME</th>\n",
       "      <th>FG3M_HOME</th>\n",
       "      <th>FG3A_HOME</th>\n",
       "      <th>FG3_PCT_HOME</th>\n",
       "      <th>FTM_HOME</th>\n",
       "      <th>FTA_HOME</th>\n",
       "      <th>...</th>\n",
       "      <th>AST_L10_AWAY</th>\n",
       "      <th>STL_L10_AWAY</th>\n",
       "      <th>BLK_L10_AWAY</th>\n",
       "      <th>TOV_L10_AWAY</th>\n",
       "      <th>PF_L10_AWAY</th>\n",
       "      <th>PTS_L10_AWAY</th>\n",
       "      <th>PLUS_MINUS_L10_AWAY</th>\n",
       "      <th>HOME_WINS</th>\n",
       "      <th>HOME_POINT_SPREAD</th>\n",
       "      <th>SEASON</th>\n",
       "    </tr>\n",
       "  </thead>\n",
       "  <tbody>\n",
       "    <tr>\n",
       "      <th>count</th>\n",
       "      <td>2.164600e+04</td>\n",
       "      <td>21646.000000</td>\n",
       "      <td>21646.000000</td>\n",
       "      <td>21646.000000</td>\n",
       "      <td>21646.000000</td>\n",
       "      <td>21646.000000</td>\n",
       "      <td>21646.000000</td>\n",
       "      <td>21646.000000</td>\n",
       "      <td>21646.000000</td>\n",
       "      <td>21646.000000</td>\n",
       "      <td>...</td>\n",
       "      <td>21646.000000</td>\n",
       "      <td>21646.000000</td>\n",
       "      <td>21646.000000</td>\n",
       "      <td>21646.000000</td>\n",
       "      <td>21646.000000</td>\n",
       "      <td>21646.000000</td>\n",
       "      <td>21646.000000</td>\n",
       "      <td>21646.000000</td>\n",
       "      <td>21646.000000</td>\n",
       "      <td>21646.000000</td>\n",
       "    </tr>\n",
       "    <tr>\n",
       "      <th>mean</th>\n",
       "      <td>1.610613e+09</td>\n",
       "      <td>241.807493</td>\n",
       "      <td>38.053867</td>\n",
       "      <td>82.732098</td>\n",
       "      <td>0.460948</td>\n",
       "      <td>7.570082</td>\n",
       "      <td>20.996628</td>\n",
       "      <td>0.357365</td>\n",
       "      <td>18.590640</td>\n",
       "      <td>24.485540</td>\n",
       "      <td>...</td>\n",
       "      <td>21.823919</td>\n",
       "      <td>7.577665</td>\n",
       "      <td>4.869551</td>\n",
       "      <td>14.539762</td>\n",
       "      <td>21.102605</td>\n",
       "      <td>100.510239</td>\n",
       "      <td>-0.287958</td>\n",
       "      <td>0.594613</td>\n",
       "      <td>2.969325</td>\n",
       "      <td>2010.457544</td>\n",
       "    </tr>\n",
       "    <tr>\n",
       "      <th>std</th>\n",
       "      <td>8.623953e+00</td>\n",
       "      <td>7.583848</td>\n",
       "      <td>5.335071</td>\n",
       "      <td>7.813640</td>\n",
       "      <td>0.056462</td>\n",
       "      <td>3.836670</td>\n",
       "      <td>8.401484</td>\n",
       "      <td>0.115589</td>\n",
       "      <td>6.318934</td>\n",
       "      <td>7.798392</td>\n",
       "      <td>...</td>\n",
       "      <td>2.710392</td>\n",
       "      <td>1.337221</td>\n",
       "      <td>1.181640</td>\n",
       "      <td>1.834785</td>\n",
       "      <td>2.305682</td>\n",
       "      <td>7.678851</td>\n",
       "      <td>6.293498</td>\n",
       "      <td>0.490978</td>\n",
       "      <td>13.191697</td>\n",
       "      <td>5.168496</td>\n",
       "    </tr>\n",
       "    <tr>\n",
       "      <th>min</th>\n",
       "      <td>1.610613e+09</td>\n",
       "      <td>240.000000</td>\n",
       "      <td>19.000000</td>\n",
       "      <td>56.000000</td>\n",
       "      <td>0.250000</td>\n",
       "      <td>0.000000</td>\n",
       "      <td>1.000000</td>\n",
       "      <td>0.000000</td>\n",
       "      <td>1.000000</td>\n",
       "      <td>1.000000</td>\n",
       "      <td>...</td>\n",
       "      <td>8.000000</td>\n",
       "      <td>1.000000</td>\n",
       "      <td>0.000000</td>\n",
       "      <td>6.000000</td>\n",
       "      <td>13.900000</td>\n",
       "      <td>59.000000</td>\n",
       "      <td>-33.000000</td>\n",
       "      <td>0.000000</td>\n",
       "      <td>-56.000000</td>\n",
       "      <td>2002.000000</td>\n",
       "    </tr>\n",
       "    <tr>\n",
       "      <th>25%</th>\n",
       "      <td>1.610613e+09</td>\n",
       "      <td>240.000000</td>\n",
       "      <td>34.000000</td>\n",
       "      <td>77.000000</td>\n",
       "      <td>0.422000</td>\n",
       "      <td>5.000000</td>\n",
       "      <td>15.000000</td>\n",
       "      <td>0.286000</td>\n",
       "      <td>14.000000</td>\n",
       "      <td>19.000000</td>\n",
       "      <td>...</td>\n",
       "      <td>20.000000</td>\n",
       "      <td>6.700000</td>\n",
       "      <td>4.100000</td>\n",
       "      <td>13.300000</td>\n",
       "      <td>19.500000</td>\n",
       "      <td>95.200000</td>\n",
       "      <td>-4.500000</td>\n",
       "      <td>0.000000</td>\n",
       "      <td>-6.000000</td>\n",
       "      <td>2006.000000</td>\n",
       "    </tr>\n",
       "    <tr>\n",
       "      <th>50%</th>\n",
       "      <td>1.610613e+09</td>\n",
       "      <td>240.000000</td>\n",
       "      <td>38.000000</td>\n",
       "      <td>82.000000</td>\n",
       "      <td>0.460000</td>\n",
       "      <td>7.000000</td>\n",
       "      <td>20.000000</td>\n",
       "      <td>0.357000</td>\n",
       "      <td>18.000000</td>\n",
       "      <td>24.000000</td>\n",
       "      <td>...</td>\n",
       "      <td>21.600000</td>\n",
       "      <td>7.500000</td>\n",
       "      <td>4.800000</td>\n",
       "      <td>14.500000</td>\n",
       "      <td>21.000000</td>\n",
       "      <td>100.000000</td>\n",
       "      <td>-0.300000</td>\n",
       "      <td>1.000000</td>\n",
       "      <td>4.000000</td>\n",
       "      <td>2010.000000</td>\n",
       "    </tr>\n",
       "    <tr>\n",
       "      <th>75%</th>\n",
       "      <td>1.610613e+09</td>\n",
       "      <td>240.000000</td>\n",
       "      <td>42.000000</td>\n",
       "      <td>88.000000</td>\n",
       "      <td>0.500000</td>\n",
       "      <td>10.000000</td>\n",
       "      <td>26.000000</td>\n",
       "      <td>0.429000</td>\n",
       "      <td>23.000000</td>\n",
       "      <td>29.750000</td>\n",
       "      <td>...</td>\n",
       "      <td>23.500000</td>\n",
       "      <td>8.400000</td>\n",
       "      <td>5.600000</td>\n",
       "      <td>15.700000</td>\n",
       "      <td>22.600000</td>\n",
       "      <td>105.400000</td>\n",
       "      <td>3.900000</td>\n",
       "      <td>1.000000</td>\n",
       "      <td>11.000000</td>\n",
       "      <td>2015.000000</td>\n",
       "    </tr>\n",
       "    <tr>\n",
       "      <th>max</th>\n",
       "      <td>1.610613e+09</td>\n",
       "      <td>340.000000</td>\n",
       "      <td>62.000000</td>\n",
       "      <td>125.000000</td>\n",
       "      <td>0.684000</td>\n",
       "      <td>27.000000</td>\n",
       "      <td>70.000000</td>\n",
       "      <td>1.000000</td>\n",
       "      <td>48.000000</td>\n",
       "      <td>64.000000</td>\n",
       "      <td>...</td>\n",
       "      <td>36.000000</td>\n",
       "      <td>16.000000</td>\n",
       "      <td>15.000000</td>\n",
       "      <td>27.000000</td>\n",
       "      <td>42.000000</td>\n",
       "      <td>131.100000</td>\n",
       "      <td>48.000000</td>\n",
       "      <td>1.000000</td>\n",
       "      <td>61.000000</td>\n",
       "      <td>2019.000000</td>\n",
       "    </tr>\n",
       "  </tbody>\n",
       "</table>\n",
       "<p>8 rows × 166 columns</p>\n",
       "</div>"
      ],
      "text/plain": [
       "       TEAM_ID_HOME      MIN_HOME      FGM_HOME      FGA_HOME   FG_PCT_HOME  \\\n",
       "count  2.164600e+04  21646.000000  21646.000000  21646.000000  21646.000000   \n",
       "mean   1.610613e+09    241.807493     38.053867     82.732098      0.460948   \n",
       "std    8.623953e+00      7.583848      5.335071      7.813640      0.056462   \n",
       "min    1.610613e+09    240.000000     19.000000     56.000000      0.250000   \n",
       "25%    1.610613e+09    240.000000     34.000000     77.000000      0.422000   \n",
       "50%    1.610613e+09    240.000000     38.000000     82.000000      0.460000   \n",
       "75%    1.610613e+09    240.000000     42.000000     88.000000      0.500000   \n",
       "max    1.610613e+09    340.000000     62.000000    125.000000      0.684000   \n",
       "\n",
       "          FG3M_HOME     FG3A_HOME  FG3_PCT_HOME      FTM_HOME      FTA_HOME  \\\n",
       "count  21646.000000  21646.000000  21646.000000  21646.000000  21646.000000   \n",
       "mean       7.570082     20.996628      0.357365     18.590640     24.485540   \n",
       "std        3.836670      8.401484      0.115589      6.318934      7.798392   \n",
       "min        0.000000      1.000000      0.000000      1.000000      1.000000   \n",
       "25%        5.000000     15.000000      0.286000     14.000000     19.000000   \n",
       "50%        7.000000     20.000000      0.357000     18.000000     24.000000   \n",
       "75%       10.000000     26.000000      0.429000     23.000000     29.750000   \n",
       "max       27.000000     70.000000      1.000000     48.000000     64.000000   \n",
       "\n",
       "       ...  AST_L10_AWAY  STL_L10_AWAY  BLK_L10_AWAY  TOV_L10_AWAY  \\\n",
       "count  ...  21646.000000  21646.000000  21646.000000  21646.000000   \n",
       "mean   ...     21.823919      7.577665      4.869551     14.539762   \n",
       "std    ...      2.710392      1.337221      1.181640      1.834785   \n",
       "min    ...      8.000000      1.000000      0.000000      6.000000   \n",
       "25%    ...     20.000000      6.700000      4.100000     13.300000   \n",
       "50%    ...     21.600000      7.500000      4.800000     14.500000   \n",
       "75%    ...     23.500000      8.400000      5.600000     15.700000   \n",
       "max    ...     36.000000     16.000000     15.000000     27.000000   \n",
       "\n",
       "        PF_L10_AWAY  PTS_L10_AWAY  PLUS_MINUS_L10_AWAY     HOME_WINS  \\\n",
       "count  21646.000000  21646.000000         21646.000000  21646.000000   \n",
       "mean      21.102605    100.510239            -0.287958      0.594613   \n",
       "std        2.305682      7.678851             6.293498      0.490978   \n",
       "min       13.900000     59.000000           -33.000000      0.000000   \n",
       "25%       19.500000     95.200000            -4.500000      0.000000   \n",
       "50%       21.000000    100.000000            -0.300000      1.000000   \n",
       "75%       22.600000    105.400000             3.900000      1.000000   \n",
       "max       42.000000    131.100000            48.000000      1.000000   \n",
       "\n",
       "       HOME_POINT_SPREAD        SEASON  \n",
       "count       21646.000000  21646.000000  \n",
       "mean            2.969325   2010.457544  \n",
       "std            13.191697      5.168496  \n",
       "min           -56.000000   2002.000000  \n",
       "25%            -6.000000   2006.000000  \n",
       "50%             4.000000   2010.000000  \n",
       "75%            11.000000   2015.000000  \n",
       "max            61.000000   2019.000000  \n",
       "\n",
       "[8 rows x 166 columns]"
      ]
     },
     "execution_count": 27,
     "metadata": {},
     "output_type": "execute_result"
    }
   ],
   "source": [
    "eda_df.describe()"
   ]
  },
  {
   "cell_type": "code",
   "execution_count": 29,
   "metadata": {
    "ExecuteTime": {
     "end_time": "2020-10-30T05:53:17.831345Z",
     "start_time": "2020-10-30T05:53:17.772453Z"
    },
    "pycharm": {
     "name": "#%%\n"
    }
   },
   "outputs": [],
   "source": [
    "eda_df[\"WIN\"] = [\"HOME\" if x == 1 else \"VISITOR\" for x in eda_df['HOME_WINS']]"
   ]
  },
  {
   "cell_type": "code",
   "execution_count": 30,
   "metadata": {
    "ExecuteTime": {
     "end_time": "2020-10-30T05:53:18.752129Z",
     "start_time": "2020-10-30T05:53:18.729126Z"
    },
    "pycharm": {
     "name": "#%%\n"
    }
   },
   "outputs": [
    {
     "data": {
      "text/plain": [
       "HOME       12871\n",
       "VISITOR     8775\n",
       "Name: WIN, dtype: int64"
      ]
     },
     "execution_count": 30,
     "metadata": {},
     "output_type": "execute_result"
    }
   ],
   "source": [
    "eda_df[\"WIN\"].value_counts()"
   ]
  },
  {
   "cell_type": "markdown",
   "metadata": {},
   "source": [
    "### Pandas Profiling"
   ]
  },
  {
   "cell_type": "code",
   "execution_count": null,
   "metadata": {
    "ExecuteTime": {
     "end_time": "2020-10-30T04:05:42.660877Z",
     "start_time": "2020-10-30T04:03:36.451558Z"
    },
    "pycharm": {
     "name": "#%%\n"
    }
   },
   "outputs": [],
   "source": [
    "profile = ProfileReport(eda_df, title='Pandas Profiling Report', pool_size=4,\n",
    "                        minimal=True,\n",
    "                        explorative=True,\n",
    "                           correlations={\n",
    "             \"pearson\": {\"calculate\": True},\n",
    "             \"spearman\": {\"calculate\": True},\n",
    "             \"kendall\": {\"calculate\": True},\n",
    "             \"phi_k\": {\"calculate\": False},\n",
    "             \"cramers\": {\"calculate\": False},\n",
    "         })\n",
    "profile.to_file(\"season_games_pd_report.html\")"
   ]
  },
  {
   "cell_type": "code",
   "execution_count": 22,
   "metadata": {
    "ExecuteTime": {
     "end_time": "2020-10-30T04:07:04.162607Z",
     "start_time": "2020-10-30T04:07:04.021146Z"
    }
   },
   "outputs": [
    {
     "data": {
      "application/vnd.jupyter.widget-view+json": {
       "model_id": "151f6760c36a4394a8421dbfb1428d06",
       "version_major": 2,
       "version_minor": 0
      },
      "text/plain": [
       "HBox(children=(FloatProgress(value=0.0, description='Export report to file', max=1.0, style=ProgressStyle(desc…"
      ]
     },
     "metadata": {},
     "output_type": "display_data"
    },
    {
     "name": "stdout",
     "output_type": "stream",
     "text": [
      "\n"
     ]
    }
   ],
   "source": []
  },
  {
   "cell_type": "markdown",
   "metadata": {},
   "source": [
    "### By Team"
   ]
  },
  {
   "cell_type": "code",
   "execution_count": 32,
   "metadata": {
    "ExecuteTime": {
     "end_time": "2020-10-30T05:53:27.950797Z",
     "start_time": "2020-10-30T05:53:27.914279Z"
    },
    "pycharm": {
     "name": "#%%\n"
    }
   },
   "outputs": [
    {
     "data": {
      "text/html": [
       "<div>\n",
       "<style scoped>\n",
       "    .dataframe tbody tr th:only-of-type {\n",
       "        vertical-align: middle;\n",
       "    }\n",
       "\n",
       "    .dataframe tbody tr th {\n",
       "        vertical-align: top;\n",
       "    }\n",
       "\n",
       "    .dataframe thead th {\n",
       "        text-align: right;\n",
       "    }\n",
       "</style>\n",
       "<table border=\"1\" class=\"dataframe\">\n",
       "  <thead>\n",
       "    <tr style=\"text-align: right;\">\n",
       "      <th></th>\n",
       "      <th>SEASON_ID</th>\n",
       "      <th>TEAM_ID_HOME</th>\n",
       "      <th>TEAM_ABBREVIATION_HOME</th>\n",
       "      <th>TEAM_NAME_HOME</th>\n",
       "      <th>GAME_DATE</th>\n",
       "      <th>MATCHUP_HOME</th>\n",
       "      <th>WL_HOME</th>\n",
       "      <th>MIN_HOME</th>\n",
       "      <th>FGM_HOME</th>\n",
       "      <th>FGA_HOME</th>\n",
       "      <th>...</th>\n",
       "      <th>BLK_L10_AWAY</th>\n",
       "      <th>TOV_L10_AWAY</th>\n",
       "      <th>PF_L10_AWAY</th>\n",
       "      <th>PTS_L10_AWAY</th>\n",
       "      <th>PLUS_MINUS_L10_AWAY</th>\n",
       "      <th>HOME_WINS</th>\n",
       "      <th>HOME_POINT_SPREAD</th>\n",
       "      <th>SEASON</th>\n",
       "      <th>GAME_DATE_EST</th>\n",
       "      <th>WIN</th>\n",
       "    </tr>\n",
       "    <tr>\n",
       "      <th>GAME_ID</th>\n",
       "      <th></th>\n",
       "      <th></th>\n",
       "      <th></th>\n",
       "      <th></th>\n",
       "      <th></th>\n",
       "      <th></th>\n",
       "      <th></th>\n",
       "      <th></th>\n",
       "      <th></th>\n",
       "      <th></th>\n",
       "      <th></th>\n",
       "      <th></th>\n",
       "      <th></th>\n",
       "      <th></th>\n",
       "      <th></th>\n",
       "      <th></th>\n",
       "      <th></th>\n",
       "      <th></th>\n",
       "      <th></th>\n",
       "      <th></th>\n",
       "      <th></th>\n",
       "    </tr>\n",
       "  </thead>\n",
       "  <tbody>\n",
       "    <tr>\n",
       "      <th>0021800001</th>\n",
       "      <td>22018</td>\n",
       "      <td>1610612738</td>\n",
       "      <td>BOS</td>\n",
       "      <td>Boston Celtics</td>\n",
       "      <td>2018-10-16</td>\n",
       "      <td>BOS vs. PHI</td>\n",
       "      <td>W</td>\n",
       "      <td>240</td>\n",
       "      <td>42</td>\n",
       "      <td>97</td>\n",
       "      <td>...</td>\n",
       "      <td>5.0</td>\n",
       "      <td>16.0</td>\n",
       "      <td>20.0</td>\n",
       "      <td>87.0</td>\n",
       "      <td>-18.0</td>\n",
       "      <td>1</td>\n",
       "      <td>18</td>\n",
       "      <td>2018</td>\n",
       "      <td>2018-10-16</td>\n",
       "      <td>HOME</td>\n",
       "    </tr>\n",
       "    <tr>\n",
       "      <th>0021800002</th>\n",
       "      <td>22018</td>\n",
       "      <td>1610612744</td>\n",
       "      <td>GSW</td>\n",
       "      <td>Golden State Warriors</td>\n",
       "      <td>2018-10-16</td>\n",
       "      <td>GSW vs. OKC</td>\n",
       "      <td>W</td>\n",
       "      <td>240</td>\n",
       "      <td>42</td>\n",
       "      <td>95</td>\n",
       "      <td>...</td>\n",
       "      <td>6.0</td>\n",
       "      <td>15.0</td>\n",
       "      <td>21.0</td>\n",
       "      <td>100.0</td>\n",
       "      <td>-8.0</td>\n",
       "      <td>1</td>\n",
       "      <td>8</td>\n",
       "      <td>2018</td>\n",
       "      <td>2018-10-16</td>\n",
       "      <td>HOME</td>\n",
       "    </tr>\n",
       "    <tr>\n",
       "      <th>0021800003</th>\n",
       "      <td>22018</td>\n",
       "      <td>1610612766</td>\n",
       "      <td>CHA</td>\n",
       "      <td>Charlotte Hornets</td>\n",
       "      <td>2018-10-17</td>\n",
       "      <td>CHA vs. MIL</td>\n",
       "      <td>L</td>\n",
       "      <td>240</td>\n",
       "      <td>41</td>\n",
       "      <td>92</td>\n",
       "      <td>...</td>\n",
       "      <td>4.0</td>\n",
       "      <td>21.0</td>\n",
       "      <td>25.0</td>\n",
       "      <td>113.0</td>\n",
       "      <td>1.0</td>\n",
       "      <td>0</td>\n",
       "      <td>-1</td>\n",
       "      <td>2018</td>\n",
       "      <td>2018-10-17</td>\n",
       "      <td>VISITOR</td>\n",
       "    </tr>\n",
       "    <tr>\n",
       "      <th>0021800004</th>\n",
       "      <td>22018</td>\n",
       "      <td>1610612765</td>\n",
       "      <td>DET</td>\n",
       "      <td>Detroit Pistons</td>\n",
       "      <td>2018-10-17</td>\n",
       "      <td>DET vs. BKN</td>\n",
       "      <td>W</td>\n",
       "      <td>240</td>\n",
       "      <td>39</td>\n",
       "      <td>92</td>\n",
       "      <td>...</td>\n",
       "      <td>5.0</td>\n",
       "      <td>19.0</td>\n",
       "      <td>23.0</td>\n",
       "      <td>100.0</td>\n",
       "      <td>-3.0</td>\n",
       "      <td>1</td>\n",
       "      <td>3</td>\n",
       "      <td>2018</td>\n",
       "      <td>2018-10-17</td>\n",
       "      <td>HOME</td>\n",
       "    </tr>\n",
       "    <tr>\n",
       "      <th>0021800005</th>\n",
       "      <td>22018</td>\n",
       "      <td>1610612754</td>\n",
       "      <td>IND</td>\n",
       "      <td>Indiana Pacers</td>\n",
       "      <td>2018-10-17</td>\n",
       "      <td>IND vs. MEM</td>\n",
       "      <td>W</td>\n",
       "      <td>240</td>\n",
       "      <td>47</td>\n",
       "      <td>83</td>\n",
       "      <td>...</td>\n",
       "      <td>3.0</td>\n",
       "      <td>10.0</td>\n",
       "      <td>18.0</td>\n",
       "      <td>83.0</td>\n",
       "      <td>-28.0</td>\n",
       "      <td>1</td>\n",
       "      <td>28</td>\n",
       "      <td>2018</td>\n",
       "      <td>2018-10-17</td>\n",
       "      <td>HOME</td>\n",
       "    </tr>\n",
       "  </tbody>\n",
       "</table>\n",
       "<p>5 rows × 179 columns</p>\n",
       "</div>"
      ],
      "text/plain": [
       "           SEASON_ID  TEAM_ID_HOME TEAM_ABBREVIATION_HOME  \\\n",
       "GAME_ID                                                     \n",
       "0021800001     22018    1610612738                    BOS   \n",
       "0021800002     22018    1610612744                    GSW   \n",
       "0021800003     22018    1610612766                    CHA   \n",
       "0021800004     22018    1610612765                    DET   \n",
       "0021800005     22018    1610612754                    IND   \n",
       "\n",
       "                   TEAM_NAME_HOME  GAME_DATE MATCHUP_HOME WL_HOME  MIN_HOME  \\\n",
       "GAME_ID                                                                       \n",
       "0021800001         Boston Celtics 2018-10-16  BOS vs. PHI       W       240   \n",
       "0021800002  Golden State Warriors 2018-10-16  GSW vs. OKC       W       240   \n",
       "0021800003      Charlotte Hornets 2018-10-17  CHA vs. MIL       L       240   \n",
       "0021800004        Detroit Pistons 2018-10-17  DET vs. BKN       W       240   \n",
       "0021800005         Indiana Pacers 2018-10-17  IND vs. MEM       W       240   \n",
       "\n",
       "            FGM_HOME  FGA_HOME  ...  BLK_L10_AWAY  TOV_L10_AWAY  PF_L10_AWAY  \\\n",
       "GAME_ID                         ...                                            \n",
       "0021800001        42        97  ...           5.0          16.0         20.0   \n",
       "0021800002        42        95  ...           6.0          15.0         21.0   \n",
       "0021800003        41        92  ...           4.0          21.0         25.0   \n",
       "0021800004        39        92  ...           5.0          19.0         23.0   \n",
       "0021800005        47        83  ...           3.0          10.0         18.0   \n",
       "\n",
       "            PTS_L10_AWAY  PLUS_MINUS_L10_AWAY  HOME_WINS  HOME_POINT_SPREAD  \\\n",
       "GAME_ID                                                                       \n",
       "0021800001          87.0                -18.0          1                 18   \n",
       "0021800002         100.0                 -8.0          1                  8   \n",
       "0021800003         113.0                  1.0          0                 -1   \n",
       "0021800004         100.0                 -3.0          1                  3   \n",
       "0021800005          83.0                -28.0          1                 28   \n",
       "\n",
       "            SEASON  GAME_DATE_EST      WIN  \n",
       "GAME_ID                                     \n",
       "0021800001    2018     2018-10-16     HOME  \n",
       "0021800002    2018     2018-10-16     HOME  \n",
       "0021800003    2018     2018-10-17  VISITOR  \n",
       "0021800004    2018     2018-10-17     HOME  \n",
       "0021800005    2018     2018-10-17     HOME  \n",
       "\n",
       "[5 rows x 179 columns]"
      ]
     },
     "execution_count": 32,
     "metadata": {},
     "output_type": "execute_result"
    }
   ],
   "source": [
    "last_season = eda_df[eda_df.SEASON == 2018]\n",
    "last_season.head()"
   ]
  },
  {
   "cell_type": "code",
   "execution_count": 33,
   "metadata": {
    "ExecuteTime": {
     "end_time": "2020-10-30T05:53:28.236170Z",
     "start_time": "2020-10-30T05:53:28.206359Z"
    },
    "pycharm": {
     "name": "#%%\n"
    }
   },
   "outputs": [
    {
     "ename": "KeyError",
     "evalue": "\"None of [Index(['HOME_TEAM_NAME', 'HOME_TEAM_WINS'], dtype='object')] are in the [columns]\"",
     "output_type": "error",
     "traceback": [
      "\u001B[0;31m---------------------------------------------------------------------------\u001B[0m",
      "\u001B[0;31mKeyError\u001B[0m                                  Traceback (most recent call last)",
      "\u001B[0;32m<ipython-input-33-a1b7c540a002>\u001B[0m in \u001B[0;36m<module>\u001B[0;34m\u001B[0m\n\u001B[0;32m----> 1\u001B[0;31m \u001B[0mhome_wins_df\u001B[0m \u001B[0;34m=\u001B[0m \u001B[0mlast_season\u001B[0m\u001B[0;34m[\u001B[0m\u001B[0;34m[\u001B[0m\u001B[0;34m\"HOME_TEAM_NAME\"\u001B[0m\u001B[0;34m,\u001B[0m \u001B[0;34m\"HOME_TEAM_WINS\"\u001B[0m\u001B[0;34m]\u001B[0m\u001B[0;34m]\u001B[0m\u001B[0;34m.\u001B[0m\u001B[0mgroupby\u001B[0m\u001B[0;34m(\u001B[0m\u001B[0mby\u001B[0m\u001B[0;34m=\u001B[0m\u001B[0;34m\"HOME_TEAM_NAME\"\u001B[0m\u001B[0;34m)\u001B[0m\u001B[0;31m \u001B[0m\u001B[0;31m\\\u001B[0m\u001B[0;34m\u001B[0m\u001B[0;34m\u001B[0m\u001B[0m\n\u001B[0m\u001B[1;32m      2\u001B[0m \u001B[0;34m.\u001B[0m\u001B[0magg\u001B[0m\u001B[0;34m(\u001B[0m\u001B[0;34m{\u001B[0m\u001B[0;34m'HOME_TEAM_NAME'\u001B[0m\u001B[0;34m:\u001B[0m\u001B[0;34m'count'\u001B[0m\u001B[0;34m,\u001B[0m \u001B[0;34m'HOME_TEAM_WINS'\u001B[0m\u001B[0;34m:\u001B[0m \u001B[0;34m'sum'\u001B[0m\u001B[0;34m}\u001B[0m\u001B[0;34m)\u001B[0m\u001B[0;31m \u001B[0m\u001B[0;31m\\\u001B[0m\u001B[0;34m\u001B[0m\u001B[0;34m\u001B[0m\u001B[0m\n\u001B[1;32m      3\u001B[0m \u001B[0;34m.\u001B[0m\u001B[0msort_values\u001B[0m\u001B[0;34m(\u001B[0m\u001B[0mby\u001B[0m\u001B[0;34m=\u001B[0m\u001B[0;34m[\u001B[0m\u001B[0;34m\"HOME_TEAM_WINS\"\u001B[0m\u001B[0;34m]\u001B[0m\u001B[0;34m,\u001B[0m \u001B[0mascending\u001B[0m\u001B[0;34m=\u001B[0m\u001B[0;32mFalse\u001B[0m\u001B[0;34m)\u001B[0m\u001B[0;34m\u001B[0m\u001B[0;34m\u001B[0m\u001B[0m\n\u001B[1;32m      4\u001B[0m \u001B[0mhome_wins_df\u001B[0m\u001B[0;34m[\u001B[0m\u001B[0;34m\"TEAM_LOSS\"\u001B[0m\u001B[0;34m]\u001B[0m \u001B[0;34m=\u001B[0m \u001B[0mhome_wins_df\u001B[0m\u001B[0;34m[\u001B[0m\u001B[0;34m\"HOME_TEAM_NAME\"\u001B[0m\u001B[0;34m]\u001B[0m \u001B[0;34m-\u001B[0m \u001B[0mhome_wins_df\u001B[0m\u001B[0;34m[\u001B[0m\u001B[0;34m\"HOME_TEAM_WINS\"\u001B[0m\u001B[0;34m]\u001B[0m\u001B[0;34m\u001B[0m\u001B[0;34m\u001B[0m\u001B[0m\n\u001B[1;32m      5\u001B[0m \u001B[0mhome_wins_df\u001B[0m\u001B[0;34m.\u001B[0m\u001B[0mdrop\u001B[0m\u001B[0;34m(\u001B[0m\u001B[0mlabels\u001B[0m\u001B[0;34m=\u001B[0m\u001B[0;34m[\u001B[0m\u001B[0;34m\"HOME_TEAM_NAME\"\u001B[0m\u001B[0;34m]\u001B[0m\u001B[0;34m,\u001B[0m \u001B[0maxis\u001B[0m\u001B[0;34m=\u001B[0m\u001B[0;36m1\u001B[0m\u001B[0;34m,\u001B[0m \u001B[0minplace\u001B[0m\u001B[0;34m=\u001B[0m\u001B[0;32mTrue\u001B[0m\u001B[0;34m)\u001B[0m\u001B[0;34m\u001B[0m\u001B[0;34m\u001B[0m\u001B[0m\n",
      "\u001B[0;32m~/anaconda3/envs/nba-predictor/lib/python3.7/site-packages/pandas/core/frame.py\u001B[0m in \u001B[0;36m__getitem__\u001B[0;34m(self, key)\u001B[0m\n\u001B[1;32m   2906\u001B[0m             \u001B[0;32mif\u001B[0m \u001B[0mis_iterator\u001B[0m\u001B[0;34m(\u001B[0m\u001B[0mkey\u001B[0m\u001B[0;34m)\u001B[0m\u001B[0;34m:\u001B[0m\u001B[0;34m\u001B[0m\u001B[0;34m\u001B[0m\u001B[0m\n\u001B[1;32m   2907\u001B[0m                 \u001B[0mkey\u001B[0m \u001B[0;34m=\u001B[0m \u001B[0mlist\u001B[0m\u001B[0;34m(\u001B[0m\u001B[0mkey\u001B[0m\u001B[0;34m)\u001B[0m\u001B[0;34m\u001B[0m\u001B[0;34m\u001B[0m\u001B[0m\n\u001B[0;32m-> 2908\u001B[0;31m             \u001B[0mindexer\u001B[0m \u001B[0;34m=\u001B[0m \u001B[0mself\u001B[0m\u001B[0;34m.\u001B[0m\u001B[0mloc\u001B[0m\u001B[0;34m.\u001B[0m\u001B[0m_get_listlike_indexer\u001B[0m\u001B[0;34m(\u001B[0m\u001B[0mkey\u001B[0m\u001B[0;34m,\u001B[0m \u001B[0maxis\u001B[0m\u001B[0;34m=\u001B[0m\u001B[0;36m1\u001B[0m\u001B[0;34m,\u001B[0m \u001B[0mraise_missing\u001B[0m\u001B[0;34m=\u001B[0m\u001B[0;32mTrue\u001B[0m\u001B[0;34m)\u001B[0m\u001B[0;34m[\u001B[0m\u001B[0;36m1\u001B[0m\u001B[0;34m]\u001B[0m\u001B[0;34m\u001B[0m\u001B[0;34m\u001B[0m\u001B[0m\n\u001B[0m\u001B[1;32m   2909\u001B[0m \u001B[0;34m\u001B[0m\u001B[0m\n\u001B[1;32m   2910\u001B[0m         \u001B[0;31m# take() does not accept boolean indexers\u001B[0m\u001B[0;34m\u001B[0m\u001B[0;34m\u001B[0m\u001B[0;34m\u001B[0m\u001B[0m\n",
      "\u001B[0;32m~/anaconda3/envs/nba-predictor/lib/python3.7/site-packages/pandas/core/indexing.py\u001B[0m in \u001B[0;36m_get_listlike_indexer\u001B[0;34m(self, key, axis, raise_missing)\u001B[0m\n\u001B[1;32m   1252\u001B[0m             \u001B[0mkeyarr\u001B[0m\u001B[0;34m,\u001B[0m \u001B[0mindexer\u001B[0m\u001B[0;34m,\u001B[0m \u001B[0mnew_indexer\u001B[0m \u001B[0;34m=\u001B[0m \u001B[0max\u001B[0m\u001B[0;34m.\u001B[0m\u001B[0m_reindex_non_unique\u001B[0m\u001B[0;34m(\u001B[0m\u001B[0mkeyarr\u001B[0m\u001B[0;34m)\u001B[0m\u001B[0;34m\u001B[0m\u001B[0;34m\u001B[0m\u001B[0m\n\u001B[1;32m   1253\u001B[0m \u001B[0;34m\u001B[0m\u001B[0m\n\u001B[0;32m-> 1254\u001B[0;31m         \u001B[0mself\u001B[0m\u001B[0;34m.\u001B[0m\u001B[0m_validate_read_indexer\u001B[0m\u001B[0;34m(\u001B[0m\u001B[0mkeyarr\u001B[0m\u001B[0;34m,\u001B[0m \u001B[0mindexer\u001B[0m\u001B[0;34m,\u001B[0m \u001B[0maxis\u001B[0m\u001B[0;34m,\u001B[0m \u001B[0mraise_missing\u001B[0m\u001B[0;34m=\u001B[0m\u001B[0mraise_missing\u001B[0m\u001B[0;34m)\u001B[0m\u001B[0;34m\u001B[0m\u001B[0;34m\u001B[0m\u001B[0m\n\u001B[0m\u001B[1;32m   1255\u001B[0m         \u001B[0;32mreturn\u001B[0m \u001B[0mkeyarr\u001B[0m\u001B[0;34m,\u001B[0m \u001B[0mindexer\u001B[0m\u001B[0;34m\u001B[0m\u001B[0;34m\u001B[0m\u001B[0m\n\u001B[1;32m   1256\u001B[0m \u001B[0;34m\u001B[0m\u001B[0m\n",
      "\u001B[0;32m~/anaconda3/envs/nba-predictor/lib/python3.7/site-packages/pandas/core/indexing.py\u001B[0m in \u001B[0;36m_validate_read_indexer\u001B[0;34m(self, key, indexer, axis, raise_missing)\u001B[0m\n\u001B[1;32m   1296\u001B[0m             \u001B[0;32mif\u001B[0m \u001B[0mmissing\u001B[0m \u001B[0;34m==\u001B[0m \u001B[0mlen\u001B[0m\u001B[0;34m(\u001B[0m\u001B[0mindexer\u001B[0m\u001B[0;34m)\u001B[0m\u001B[0;34m:\u001B[0m\u001B[0;34m\u001B[0m\u001B[0;34m\u001B[0m\u001B[0m\n\u001B[1;32m   1297\u001B[0m                 \u001B[0maxis_name\u001B[0m \u001B[0;34m=\u001B[0m \u001B[0mself\u001B[0m\u001B[0;34m.\u001B[0m\u001B[0mobj\u001B[0m\u001B[0;34m.\u001B[0m\u001B[0m_get_axis_name\u001B[0m\u001B[0;34m(\u001B[0m\u001B[0maxis\u001B[0m\u001B[0;34m)\u001B[0m\u001B[0;34m\u001B[0m\u001B[0;34m\u001B[0m\u001B[0m\n\u001B[0;32m-> 1298\u001B[0;31m                 \u001B[0;32mraise\u001B[0m \u001B[0mKeyError\u001B[0m\u001B[0;34m(\u001B[0m\u001B[0;34mf\"None of [{key}] are in the [{axis_name}]\"\u001B[0m\u001B[0;34m)\u001B[0m\u001B[0;34m\u001B[0m\u001B[0;34m\u001B[0m\u001B[0m\n\u001B[0m\u001B[1;32m   1299\u001B[0m \u001B[0;34m\u001B[0m\u001B[0m\n\u001B[1;32m   1300\u001B[0m             \u001B[0;31m# We (temporarily) allow for some missing keys with .loc, except in\u001B[0m\u001B[0;34m\u001B[0m\u001B[0;34m\u001B[0m\u001B[0;34m\u001B[0m\u001B[0m\n",
      "\u001B[0;31mKeyError\u001B[0m: \"None of [Index(['HOME_TEAM_NAME', 'HOME_TEAM_WINS'], dtype='object')] are in the [columns]\""
     ]
    }
   ],
   "source": [
    "home_wins_df = last_season[[\"HOME_TEAM_NAME\", \"HOME_TEAM_WINS\"]].groupby(by=\"HOME_TEAM_NAME\") \\\n",
    ".agg({'HOME_TEAM_NAME':'count', 'HOME_TEAM_WINS': 'sum'}) \\\n",
    ".sort_values(by=[\"HOME_TEAM_WINS\"], ascending=False)\n",
    "home_wins_df[\"TEAM_LOSS\"] = home_wins_df[\"HOME_TEAM_NAME\"] - home_wins_df[\"HOME_TEAM_WINS\"]\n",
    "home_wins_df.drop(labels=[\"HOME_TEAM_NAME\"], axis=1, inplace=True)\n",
    "home_wins_df.rename(columns={\"HOME_TEAM_WINS\": \"TEAM_WINS\"}, inplace=True)\n",
    "home_wins_df.index.rename(\"TEAM_NAME\", inplace=True)\n",
    "home_wins_df"
   ]
  },
  {
   "cell_type": "code",
   "execution_count": 34,
   "metadata": {
    "ExecuteTime": {
     "end_time": "2020-10-30T05:53:28.467941Z",
     "start_time": "2020-10-30T05:53:28.424934Z"
    },
    "pycharm": {
     "name": "#%%\n"
    }
   },
   "outputs": [
    {
     "ename": "KeyError",
     "evalue": "\"None of [Index(['VISITOR_TEAM_NAME', 'HOME_TEAM_WINS'], dtype='object')] are in the [columns]\"",
     "output_type": "error",
     "traceback": [
      "\u001B[0;31m---------------------------------------------------------------------------\u001B[0m",
      "\u001B[0;31mKeyError\u001B[0m                                  Traceback (most recent call last)",
      "\u001B[0;32m<ipython-input-34-b138607830ac>\u001B[0m in \u001B[0;36m<module>\u001B[0;34m\u001B[0m\n\u001B[0;32m----> 1\u001B[0;31m \u001B[0mvisitor_wins_df\u001B[0m \u001B[0;34m=\u001B[0m \u001B[0mlast_season\u001B[0m\u001B[0;34m[\u001B[0m\u001B[0;34m[\u001B[0m\u001B[0;34m\"VISITOR_TEAM_NAME\"\u001B[0m\u001B[0;34m,\u001B[0m \u001B[0;34m\"HOME_TEAM_WINS\"\u001B[0m\u001B[0;34m]\u001B[0m\u001B[0;34m]\u001B[0m\u001B[0;34m.\u001B[0m\u001B[0mgroupby\u001B[0m\u001B[0;34m(\u001B[0m\u001B[0mby\u001B[0m\u001B[0;34m=\u001B[0m\u001B[0;34m\"VISITOR_TEAM_NAME\"\u001B[0m\u001B[0;34m)\u001B[0m\u001B[0;31m \u001B[0m\u001B[0;31m\\\u001B[0m\u001B[0;34m\u001B[0m\u001B[0;34m\u001B[0m\u001B[0m\n\u001B[0m\u001B[1;32m      2\u001B[0m \u001B[0;34m.\u001B[0m\u001B[0magg\u001B[0m\u001B[0;34m(\u001B[0m\u001B[0;34m{\u001B[0m\u001B[0;34m'VISITOR_TEAM_NAME'\u001B[0m\u001B[0;34m:\u001B[0m\u001B[0;34m'count'\u001B[0m\u001B[0;34m,\u001B[0m \u001B[0;34m'HOME_TEAM_WINS'\u001B[0m\u001B[0;34m:\u001B[0m \u001B[0;34m'sum'\u001B[0m\u001B[0;34m}\u001B[0m\u001B[0;34m)\u001B[0m\u001B[0;31m \u001B[0m\u001B[0;31m\\\u001B[0m\u001B[0;34m\u001B[0m\u001B[0;34m\u001B[0m\u001B[0m\n\u001B[1;32m      3\u001B[0m \u001B[0;34m.\u001B[0m\u001B[0msort_values\u001B[0m\u001B[0;34m(\u001B[0m\u001B[0mby\u001B[0m\u001B[0;34m=\u001B[0m\u001B[0;34m[\u001B[0m\u001B[0;34m\"HOME_TEAM_WINS\"\u001B[0m\u001B[0;34m]\u001B[0m\u001B[0;34m,\u001B[0m \u001B[0mascending\u001B[0m\u001B[0;34m=\u001B[0m\u001B[0;32mFalse\u001B[0m\u001B[0;34m)\u001B[0m\u001B[0;34m\u001B[0m\u001B[0;34m\u001B[0m\u001B[0m\n\u001B[1;32m      4\u001B[0m \u001B[0mvisitor_wins_df\u001B[0m\u001B[0;34m[\u001B[0m\u001B[0;34m\"TEAM_WINS\"\u001B[0m\u001B[0;34m]\u001B[0m \u001B[0;34m=\u001B[0m \u001B[0mvisitor_wins_df\u001B[0m\u001B[0;34m[\u001B[0m\u001B[0;34m\"VISITOR_TEAM_NAME\"\u001B[0m\u001B[0;34m]\u001B[0m \u001B[0;34m-\u001B[0m \u001B[0mvisitor_wins_df\u001B[0m\u001B[0;34m[\u001B[0m\u001B[0;34m\"HOME_TEAM_WINS\"\u001B[0m\u001B[0;34m]\u001B[0m\u001B[0;34m\u001B[0m\u001B[0;34m\u001B[0m\u001B[0m\n\u001B[1;32m      5\u001B[0m \u001B[0mvisitor_wins_df\u001B[0m\u001B[0;34m.\u001B[0m\u001B[0mrename\u001B[0m\u001B[0;34m(\u001B[0m\u001B[0mcolumns\u001B[0m\u001B[0;34m=\u001B[0m\u001B[0;34m{\u001B[0m\u001B[0;34m\"HOME_TEAM_WINS\"\u001B[0m\u001B[0;34m:\u001B[0m \u001B[0;34m\"TEAM_LOSS\"\u001B[0m\u001B[0;34m}\u001B[0m\u001B[0;34m,\u001B[0m \u001B[0minplace\u001B[0m\u001B[0;34m=\u001B[0m\u001B[0;32mTrue\u001B[0m\u001B[0;34m)\u001B[0m\u001B[0;34m\u001B[0m\u001B[0;34m\u001B[0m\u001B[0m\n",
      "\u001B[0;32m~/anaconda3/envs/nba-predictor/lib/python3.7/site-packages/pandas/core/frame.py\u001B[0m in \u001B[0;36m__getitem__\u001B[0;34m(self, key)\u001B[0m\n\u001B[1;32m   2906\u001B[0m             \u001B[0;32mif\u001B[0m \u001B[0mis_iterator\u001B[0m\u001B[0;34m(\u001B[0m\u001B[0mkey\u001B[0m\u001B[0;34m)\u001B[0m\u001B[0;34m:\u001B[0m\u001B[0;34m\u001B[0m\u001B[0;34m\u001B[0m\u001B[0m\n\u001B[1;32m   2907\u001B[0m                 \u001B[0mkey\u001B[0m \u001B[0;34m=\u001B[0m \u001B[0mlist\u001B[0m\u001B[0;34m(\u001B[0m\u001B[0mkey\u001B[0m\u001B[0;34m)\u001B[0m\u001B[0;34m\u001B[0m\u001B[0;34m\u001B[0m\u001B[0m\n\u001B[0;32m-> 2908\u001B[0;31m             \u001B[0mindexer\u001B[0m \u001B[0;34m=\u001B[0m \u001B[0mself\u001B[0m\u001B[0;34m.\u001B[0m\u001B[0mloc\u001B[0m\u001B[0;34m.\u001B[0m\u001B[0m_get_listlike_indexer\u001B[0m\u001B[0;34m(\u001B[0m\u001B[0mkey\u001B[0m\u001B[0;34m,\u001B[0m \u001B[0maxis\u001B[0m\u001B[0;34m=\u001B[0m\u001B[0;36m1\u001B[0m\u001B[0;34m,\u001B[0m \u001B[0mraise_missing\u001B[0m\u001B[0;34m=\u001B[0m\u001B[0;32mTrue\u001B[0m\u001B[0;34m)\u001B[0m\u001B[0;34m[\u001B[0m\u001B[0;36m1\u001B[0m\u001B[0;34m]\u001B[0m\u001B[0;34m\u001B[0m\u001B[0;34m\u001B[0m\u001B[0m\n\u001B[0m\u001B[1;32m   2909\u001B[0m \u001B[0;34m\u001B[0m\u001B[0m\n\u001B[1;32m   2910\u001B[0m         \u001B[0;31m# take() does not accept boolean indexers\u001B[0m\u001B[0;34m\u001B[0m\u001B[0;34m\u001B[0m\u001B[0;34m\u001B[0m\u001B[0m\n",
      "\u001B[0;32m~/anaconda3/envs/nba-predictor/lib/python3.7/site-packages/pandas/core/indexing.py\u001B[0m in \u001B[0;36m_get_listlike_indexer\u001B[0;34m(self, key, axis, raise_missing)\u001B[0m\n\u001B[1;32m   1252\u001B[0m             \u001B[0mkeyarr\u001B[0m\u001B[0;34m,\u001B[0m \u001B[0mindexer\u001B[0m\u001B[0;34m,\u001B[0m \u001B[0mnew_indexer\u001B[0m \u001B[0;34m=\u001B[0m \u001B[0max\u001B[0m\u001B[0;34m.\u001B[0m\u001B[0m_reindex_non_unique\u001B[0m\u001B[0;34m(\u001B[0m\u001B[0mkeyarr\u001B[0m\u001B[0;34m)\u001B[0m\u001B[0;34m\u001B[0m\u001B[0;34m\u001B[0m\u001B[0m\n\u001B[1;32m   1253\u001B[0m \u001B[0;34m\u001B[0m\u001B[0m\n\u001B[0;32m-> 1254\u001B[0;31m         \u001B[0mself\u001B[0m\u001B[0;34m.\u001B[0m\u001B[0m_validate_read_indexer\u001B[0m\u001B[0;34m(\u001B[0m\u001B[0mkeyarr\u001B[0m\u001B[0;34m,\u001B[0m \u001B[0mindexer\u001B[0m\u001B[0;34m,\u001B[0m \u001B[0maxis\u001B[0m\u001B[0;34m,\u001B[0m \u001B[0mraise_missing\u001B[0m\u001B[0;34m=\u001B[0m\u001B[0mraise_missing\u001B[0m\u001B[0;34m)\u001B[0m\u001B[0;34m\u001B[0m\u001B[0;34m\u001B[0m\u001B[0m\n\u001B[0m\u001B[1;32m   1255\u001B[0m         \u001B[0;32mreturn\u001B[0m \u001B[0mkeyarr\u001B[0m\u001B[0;34m,\u001B[0m \u001B[0mindexer\u001B[0m\u001B[0;34m\u001B[0m\u001B[0;34m\u001B[0m\u001B[0m\n\u001B[1;32m   1256\u001B[0m \u001B[0;34m\u001B[0m\u001B[0m\n",
      "\u001B[0;32m~/anaconda3/envs/nba-predictor/lib/python3.7/site-packages/pandas/core/indexing.py\u001B[0m in \u001B[0;36m_validate_read_indexer\u001B[0;34m(self, key, indexer, axis, raise_missing)\u001B[0m\n\u001B[1;32m   1296\u001B[0m             \u001B[0;32mif\u001B[0m \u001B[0mmissing\u001B[0m \u001B[0;34m==\u001B[0m \u001B[0mlen\u001B[0m\u001B[0;34m(\u001B[0m\u001B[0mindexer\u001B[0m\u001B[0;34m)\u001B[0m\u001B[0;34m:\u001B[0m\u001B[0;34m\u001B[0m\u001B[0;34m\u001B[0m\u001B[0m\n\u001B[1;32m   1297\u001B[0m                 \u001B[0maxis_name\u001B[0m \u001B[0;34m=\u001B[0m \u001B[0mself\u001B[0m\u001B[0;34m.\u001B[0m\u001B[0mobj\u001B[0m\u001B[0;34m.\u001B[0m\u001B[0m_get_axis_name\u001B[0m\u001B[0;34m(\u001B[0m\u001B[0maxis\u001B[0m\u001B[0;34m)\u001B[0m\u001B[0;34m\u001B[0m\u001B[0;34m\u001B[0m\u001B[0m\n\u001B[0;32m-> 1298\u001B[0;31m                 \u001B[0;32mraise\u001B[0m \u001B[0mKeyError\u001B[0m\u001B[0;34m(\u001B[0m\u001B[0;34mf\"None of [{key}] are in the [{axis_name}]\"\u001B[0m\u001B[0;34m)\u001B[0m\u001B[0;34m\u001B[0m\u001B[0;34m\u001B[0m\u001B[0m\n\u001B[0m\u001B[1;32m   1299\u001B[0m \u001B[0;34m\u001B[0m\u001B[0m\n\u001B[1;32m   1300\u001B[0m             \u001B[0;31m# We (temporarily) allow for some missing keys with .loc, except in\u001B[0m\u001B[0;34m\u001B[0m\u001B[0;34m\u001B[0m\u001B[0;34m\u001B[0m\u001B[0m\n",
      "\u001B[0;31mKeyError\u001B[0m: \"None of [Index(['VISITOR_TEAM_NAME', 'HOME_TEAM_WINS'], dtype='object')] are in the [columns]\""
     ]
    }
   ],
   "source": [
    "visitor_wins_df = last_season[[\"VISITOR_TEAM_NAME\", \"HOME_TEAM_WINS\"]].groupby(by=\"VISITOR_TEAM_NAME\") \\\n",
    ".agg({'VISITOR_TEAM_NAME':'count', 'HOME_TEAM_WINS': 'sum'}) \\\n",
    ".sort_values(by=[\"HOME_TEAM_WINS\"], ascending=False)\n",
    "visitor_wins_df[\"TEAM_WINS\"] = visitor_wins_df[\"VISITOR_TEAM_NAME\"] - visitor_wins_df[\"HOME_TEAM_WINS\"]\n",
    "visitor_wins_df.rename(columns={\"HOME_TEAM_WINS\": \"TEAM_LOSS\"}, inplace=True)\n",
    "visitor_wins_df.drop(labels=[\"VISITOR_TEAM_NAME\"], axis=1, inplace=True)\n",
    "visitor_wins_df.index.rename(\"TEAM_NAME\", inplace=True)\n",
    "#visitor_wins_df = visitor_wins_df[[\"TEAM_WINS\"]]\n",
    "visitor_wins_df = visitor_wins_df[[\"TEAM_WINS\", \"TEAM_LOSS\"]]\n",
    "visitor_wins_df"
   ]
  },
  {
   "cell_type": "code",
   "execution_count": 35,
   "metadata": {
    "ExecuteTime": {
     "end_time": "2020-10-30T05:53:28.867394Z",
     "start_time": "2020-10-30T05:53:28.842143Z"
    },
    "pycharm": {
     "name": "#%%\n"
    }
   },
   "outputs": [
    {
     "ename": "NameError",
     "evalue": "name 'home_wins_df' is not defined",
     "output_type": "error",
     "traceback": [
      "\u001B[0;31m---------------------------------------------------------------------------\u001B[0m",
      "\u001B[0;31mNameError\u001B[0m                                 Traceback (most recent call last)",
      "\u001B[0;32m<ipython-input-35-b095a38f4ec0>\u001B[0m in \u001B[0;36m<module>\u001B[0;34m\u001B[0m\n\u001B[0;32m----> 1\u001B[0;31m \u001B[0mhome_wins_df\u001B[0m\u001B[0;34m.\u001B[0m\u001B[0mcombine\u001B[0m\u001B[0;34m(\u001B[0m\u001B[0mvisitor_wins_df\u001B[0m\u001B[0;34m,\u001B[0m \u001B[0;32mlambda\u001B[0m \u001B[0ms1\u001B[0m\u001B[0;34m,\u001B[0m \u001B[0ms2\u001B[0m\u001B[0;34m:\u001B[0m \u001B[0ms1\u001B[0m \u001B[0;34m+\u001B[0m \u001B[0ms2\u001B[0m\u001B[0;34m)\u001B[0m\u001B[0;34m.\u001B[0m\u001B[0msort_values\u001B[0m\u001B[0;34m(\u001B[0m\u001B[0mby\u001B[0m\u001B[0;34m=\u001B[0m\u001B[0;34m\"TEAM_WINS\"\u001B[0m\u001B[0;34m,\u001B[0m \u001B[0mascending\u001B[0m\u001B[0;34m=\u001B[0m\u001B[0;32mFalse\u001B[0m\u001B[0;34m)\u001B[0m\u001B[0;34m\u001B[0m\u001B[0;34m\u001B[0m\u001B[0m\n\u001B[0m",
      "\u001B[0;31mNameError\u001B[0m: name 'home_wins_df' is not defined"
     ]
    }
   ],
   "source": [
    "home_wins_df.combine(visitor_wins_df, lambda s1, s2: s1 + s2).sort_values(by=\"TEAM_WINS\", ascending=False)"
   ]
  },
  {
   "cell_type": "code",
   "execution_count": 36,
   "metadata": {
    "ExecuteTime": {
     "end_time": "2020-10-30T05:53:29.199092Z",
     "start_time": "2020-10-30T05:53:29.171187Z"
    },
    "pycharm": {
     "name": "#%%\n"
    }
   },
   "outputs": [
    {
     "ename": "AttributeError",
     "evalue": "'DataFrame' object has no attribute 'VISITOR_TEAM_NAME'",
     "output_type": "error",
     "traceback": [
      "\u001B[0;31m---------------------------------------------------------------------------\u001B[0m",
      "\u001B[0;31mAttributeError\u001B[0m                            Traceback (most recent call last)",
      "\u001B[0;32m<ipython-input-36-c05fbf3fd8d5>\u001B[0m in \u001B[0;36m<module>\u001B[0;34m\u001B[0m\n\u001B[0;32m----> 1\u001B[0;31m \u001B[0mmil_df\u001B[0m \u001B[0;34m=\u001B[0m \u001B[0mlast_season\u001B[0m\u001B[0;34m[\u001B[0m\u001B[0;34m(\u001B[0m\u001B[0mlast_season\u001B[0m\u001B[0;34m.\u001B[0m\u001B[0mVISITOR_TEAM_NAME\u001B[0m \u001B[0;34m==\u001B[0m \u001B[0;34m'MIL'\u001B[0m\u001B[0;34m)\u001B[0m \u001B[0;34m|\u001B[0m \u001B[0;34m(\u001B[0m\u001B[0mlast_season\u001B[0m\u001B[0;34m.\u001B[0m\u001B[0mHOME_TEAM_NAME\u001B[0m \u001B[0;34m==\u001B[0m \u001B[0;34m'MIL'\u001B[0m\u001B[0;34m)\u001B[0m\u001B[0;34m]\u001B[0m\u001B[0;34m\u001B[0m\u001B[0;34m\u001B[0m\u001B[0m\n\u001B[0m\u001B[1;32m      2\u001B[0m \u001B[0mmil_df\u001B[0m\u001B[0;34m[\u001B[0m\u001B[0;34m'GAME_N'\u001B[0m\u001B[0;34m]\u001B[0m \u001B[0;34m=\u001B[0m \u001B[0mrange\u001B[0m\u001B[0;34m(\u001B[0m\u001B[0;36m1\u001B[0m\u001B[0;34m,\u001B[0m \u001B[0;36m83\u001B[0m\u001B[0;34m,\u001B[0m\u001B[0;36m1\u001B[0m\u001B[0;34m)\u001B[0m\u001B[0;34m\u001B[0m\u001B[0;34m\u001B[0m\u001B[0m\n\u001B[1;32m      3\u001B[0m \u001B[0mmil_df\u001B[0m\u001B[0;34m\u001B[0m\u001B[0;34m\u001B[0m\u001B[0m\n",
      "\u001B[0;32m~/anaconda3/envs/nba-predictor/lib/python3.7/site-packages/pandas/core/generic.py\u001B[0m in \u001B[0;36m__getattr__\u001B[0;34m(self, name)\u001B[0m\n\u001B[1;32m   5128\u001B[0m             \u001B[0;32mif\u001B[0m \u001B[0mself\u001B[0m\u001B[0;34m.\u001B[0m\u001B[0m_info_axis\u001B[0m\u001B[0;34m.\u001B[0m\u001B[0m_can_hold_identifiers_and_holds_name\u001B[0m\u001B[0;34m(\u001B[0m\u001B[0mname\u001B[0m\u001B[0;34m)\u001B[0m\u001B[0;34m:\u001B[0m\u001B[0;34m\u001B[0m\u001B[0;34m\u001B[0m\u001B[0m\n\u001B[1;32m   5129\u001B[0m                 \u001B[0;32mreturn\u001B[0m \u001B[0mself\u001B[0m\u001B[0;34m[\u001B[0m\u001B[0mname\u001B[0m\u001B[0;34m]\u001B[0m\u001B[0;34m\u001B[0m\u001B[0;34m\u001B[0m\u001B[0m\n\u001B[0;32m-> 5130\u001B[0;31m             \u001B[0;32mreturn\u001B[0m \u001B[0mobject\u001B[0m\u001B[0;34m.\u001B[0m\u001B[0m__getattribute__\u001B[0m\u001B[0;34m(\u001B[0m\u001B[0mself\u001B[0m\u001B[0;34m,\u001B[0m \u001B[0mname\u001B[0m\u001B[0;34m)\u001B[0m\u001B[0;34m\u001B[0m\u001B[0;34m\u001B[0m\u001B[0m\n\u001B[0m\u001B[1;32m   5131\u001B[0m \u001B[0;34m\u001B[0m\u001B[0m\n\u001B[1;32m   5132\u001B[0m     \u001B[0;32mdef\u001B[0m \u001B[0m__setattr__\u001B[0m\u001B[0;34m(\u001B[0m\u001B[0mself\u001B[0m\u001B[0;34m,\u001B[0m \u001B[0mname\u001B[0m\u001B[0;34m:\u001B[0m \u001B[0mstr\u001B[0m\u001B[0;34m,\u001B[0m \u001B[0mvalue\u001B[0m\u001B[0;34m)\u001B[0m \u001B[0;34m->\u001B[0m \u001B[0;32mNone\u001B[0m\u001B[0;34m:\u001B[0m\u001B[0;34m\u001B[0m\u001B[0;34m\u001B[0m\u001B[0m\n",
      "\u001B[0;31mAttributeError\u001B[0m: 'DataFrame' object has no attribute 'VISITOR_TEAM_NAME'"
     ]
    }
   ],
   "source": [
    "mil_df = last_season[(last_season.VISITOR_TEAM_NAME == 'MIL') | (last_season.HOME_TEAM_NAME == 'MIL')]\n",
    "mil_df['GAME_N'] = range(1, 83,1)\n",
    "mil_df"
   ]
  },
  {
   "cell_type": "code",
   "execution_count": 37,
   "metadata": {
    "ExecuteTime": {
     "end_time": "2020-10-30T05:53:29.544086Z",
     "start_time": "2020-10-30T05:53:29.524498Z"
    },
    "pycharm": {
     "name": "#%%\n"
    }
   },
   "outputs": [],
   "source": [
    "#sns.regplot(x=mil_df[\"GAME_N\"], y=mil_df[\"GAME_N\"])\n",
    "#sns.catplot(data=mil_df[[\"HOME_TEAM_NAME\", \"GAME_N\", \"WIN\"]],  x=\"GAME_N\", y=\"HOME_TEAM_NAME\", kind=\"bar\", hue=\"WIN\", palette=\"Set2\")\n",
    "#sns.displot(data=mil_df, x=\"GAME_N\", hue=\"WIN\", multiple=\"stack\")\n",
    "#plt.show()\n"
   ]
  },
  {
   "cell_type": "markdown",
   "metadata": {},
   "source": [
    "### Scatter plot"
   ]
  },
  {
   "cell_type": "markdown",
   "metadata": {},
   "source": [
    "## Dataset\n"
   ]
  },
  {
   "cell_type": "code",
   "execution_count": 38,
   "metadata": {
    "ExecuteTime": {
     "end_time": "2020-10-30T05:53:36.774211Z",
     "start_time": "2020-10-30T05:53:36.731210Z"
    },
    "pycharm": {
     "name": "#%%\n"
    }
   },
   "outputs": [
    {
     "data": {
      "text/plain": [
       "SEASON\n",
       "2002    1189\n",
       "2003    1189\n",
       "2004    1230\n",
       "2005    1230\n",
       "2006    1230\n",
       "2007    1230\n",
       "2008    1230\n",
       "2009    1230\n",
       "2010    1230\n",
       "2011     990\n",
       "2012    1229\n",
       "2013    1230\n",
       "2014    1230\n",
       "2015    1230\n",
       "2016    1230\n",
       "2017    1230\n",
       "2018    1230\n",
       "2019    1059\n",
       "Name: GAME_DATE_EST, dtype: int64"
      ]
     },
     "execution_count": 38,
     "metadata": {},
     "output_type": "execute_result"
    }
   ],
   "source": [
    "season_games.groupby(by=\"SEASON\").count()[\"GAME_DATE_EST\"]"
   ]
  },
  {
   "cell_type": "markdown",
   "metadata": {},
   "source": [
    "Podemos observar que no todas las temporadas tiene la misma cantidad de partidos. Esto es debido a la siguientes razones:\n",
    "\n",
    "- 2011: Los jugadores hicieron una huelga debido a no estar de acuerdo con los salarios de los mismos y el limite salarial de las franquicias.\n",
    "- 2012: Un partido entre el equipo de Boston e Indiana fue suspedindo el cual despues no fue reprogramado, y al final de la temporada se decidio ya no reprogramarlo debido a que la clasificacion a playoff ya estaba decidida y no afectaba el resultado.\n",
    "\n",
    "Por tanto se seleccionaran solo las temporadas a partir del 2013(inclusive)."
   ]
  },
  {
   "cell_type": "code",
   "execution_count": 9,
   "metadata": {
    "ExecuteTime": {
     "end_time": "2020-11-01T05:01:18.225771Z",
     "start_time": "2020-11-01T05:01:18.192673Z"
    },
    "init_cell": true,
    "pycharm": {
     "name": "#%%\n"
    }
   },
   "outputs": [],
   "source": [
    "df = season_games[season_games.SEASON >= 2013]\n",
    "seasons_size = len(df.SEASON.unique())\n",
    "seasons = list(df.SEASON.unique())"
   ]
  },
  {
   "cell_type": "markdown",
   "metadata": {},
   "source": [
    "## Experiments"
   ]
  },
  {
   "cell_type": "markdown",
   "metadata": {},
   "source": [
    "### Setup"
   ]
  },
  {
   "cell_type": "code",
   "execution_count": 11,
   "metadata": {
    "ExecuteTime": {
     "end_time": "2020-11-01T05:01:43.265061Z",
     "start_time": "2020-11-01T05:01:43.231558Z"
    },
    "init_cell": true,
    "pycharm": {
     "name": "#%%\n"
    }
   },
   "outputs": [],
   "source": [
    "exp_prefix = \"\"\n",
    "exp_group_name = \"reg_experiments\"\n",
    "results_total = []\n",
    "utils_exp.exp_results = []\n",
    "TARGET = \"PTS\"\n",
    "exp_X_columns = model_config.X_COLS\n",
    "exp_y_columns = model_config.Y_CLF_COL\n",
    "\n",
    "\n",
    "models = utils_exp.get_reg_models()\n",
    "\n",
    "sscv = utils.SeasonSeriesSplit(df)\n",
    "df_sscv = sscv.get_df()\n",
    "X = df_sscv[exp_X_columns]\n",
    "y = df_sscv[TARGET]\n",
    "\n",
    "#utils_exp.exp_results = utils.deserialize_object(exp_group_name)"
   ]
  },
  {
   "cell_type": "markdown",
   "metadata": {},
   "source": [
    "### Experiment using 1 season"
   ]
  },
  {
   "cell_type": "code",
   "execution_count": 12,
   "metadata": {
    "ExecuteTime": {
     "end_time": "2020-11-01T05:02:12.912032Z",
     "start_time": "2020-11-01T05:01:46.651341Z"
    },
    "pycharm": {
     "name": "#%%\n"
    }
   },
   "outputs": [
    {
     "name": "stdout",
     "output_type": "stream",
     "text": [
      "Running experiment 1_season\n",
      "Done\n"
     ]
    },
    {
     "data": {
      "text/html": [
       "<div>\n",
       "<style scoped>\n",
       "    .dataframe tbody tr th:only-of-type {\n",
       "        vertical-align: middle;\n",
       "    }\n",
       "\n",
       "    .dataframe tbody tr th {\n",
       "        vertical-align: top;\n",
       "    }\n",
       "\n",
       "    .dataframe thead th {\n",
       "        text-align: right;\n",
       "    }\n",
       "</style>\n",
       "<table border=\"1\" class=\"dataframe\">\n",
       "  <thead>\n",
       "    <tr style=\"text-align: right;\">\n",
       "      <th></th>\n",
       "      <th>exp_name</th>\n",
       "      <th>model</th>\n",
       "      <th>rmse_mean</th>\n",
       "      <th>rmse_std</th>\n",
       "    </tr>\n",
       "  </thead>\n",
       "  <tbody>\n",
       "    <tr>\n",
       "      <th>0</th>\n",
       "      <td>1_season</td>\n",
       "      <td>LinearRegression</td>\n",
       "      <td>16.363950</td>\n",
       "      <td>0.431022</td>\n",
       "    </tr>\n",
       "    <tr>\n",
       "      <th>3</th>\n",
       "      <td>1_season</td>\n",
       "      <td>SVM-linear</td>\n",
       "      <td>17.258884</td>\n",
       "      <td>0.497453</td>\n",
       "    </tr>\n",
       "    <tr>\n",
       "      <th>4</th>\n",
       "      <td>1_season</td>\n",
       "      <td>RF</td>\n",
       "      <td>17.661414</td>\n",
       "      <td>0.476695</td>\n",
       "    </tr>\n",
       "    <tr>\n",
       "      <th>5</th>\n",
       "      <td>1_season</td>\n",
       "      <td>LGB</td>\n",
       "      <td>17.777755</td>\n",
       "      <td>0.452947</td>\n",
       "    </tr>\n",
       "    <tr>\n",
       "      <th>1</th>\n",
       "      <td>1_season</td>\n",
       "      <td>KN</td>\n",
       "      <td>19.203184</td>\n",
       "      <td>0.551122</td>\n",
       "    </tr>\n",
       "    <tr>\n",
       "      <th>6</th>\n",
       "      <td>1_season</td>\n",
       "      <td>XGB</td>\n",
       "      <td>19.521376</td>\n",
       "      <td>0.888771</td>\n",
       "    </tr>\n",
       "    <tr>\n",
       "      <th>2</th>\n",
       "      <td>1_season</td>\n",
       "      <td>SVM-rbf</td>\n",
       "      <td>20.151353</td>\n",
       "      <td>1.071520</td>\n",
       "    </tr>\n",
       "  </tbody>\n",
       "</table>\n",
       "</div>"
      ],
      "text/plain": [
       "   exp_name             model  rmse_mean  rmse_std\n",
       "0  1_season  LinearRegression  16.363950  0.431022\n",
       "3  1_season        SVM-linear  17.258884  0.497453\n",
       "4  1_season                RF  17.661414  0.476695\n",
       "5  1_season               LGB  17.777755  0.452947\n",
       "1  1_season                KN  19.203184  0.551122\n",
       "6  1_season               XGB  19.521376  0.888771\n",
       "2  1_season           SVM-rbf  20.151353  1.071520"
      ]
     },
     "execution_count": 12,
     "metadata": {},
     "output_type": "execute_result"
    }
   ],
   "source": [
    "experiment_name = f\"{exp_prefix}1_season\"\n",
    "#del_exp_result(experiment_name)\n",
    "\n",
    "folds, train_seasons, test_seasons = sscv.split(train_size=1, test_size=1)\n",
    "params = (experiment_name, models, folds, train_seasons, test_seasons, X, y)\n",
    "names, results = utils_exp.run_experiment(*params)\n",
    "results_total.append((experiment_name, results))\n",
    "\n",
    "print_prettier_exp_results(experiment_name)"
   ]
  },
  {
   "cell_type": "code",
   "execution_count": 13,
   "metadata": {
    "ExecuteTime": {
     "end_time": "2020-11-01T05:02:13.474593Z",
     "start_time": "2020-11-01T05:02:13.111645Z"
    },
    "pycharm": {
     "name": "#%%\n"
    }
   },
   "outputs": [
    {
     "data": {
      "image/png": "[encoded data removed]",
      "text/plain": [
       "<Figure size 1440x720 with 1 Axes>"
      ]
     },
     "metadata": {},
     "output_type": "display_data"
    }
   ],
   "source": [
    "#### Visualize experiments results\n",
    "plot_results(experiment_name, results, figsize=(20,10))"
   ]
  },
  {
   "cell_type": "markdown",
   "metadata": {},
   "source": [
    "### Experiment using StandardScaler"
   ]
  },
  {
   "cell_type": "code",
   "execution_count": 14,
   "metadata": {
    "ExecuteTime": {
     "end_time": "2020-11-01T05:02:39.500815Z",
     "start_time": "2020-11-01T05:02:13.721172Z"
    },
    "pycharm": {
     "name": "#%%\n"
    }
   },
   "outputs": [
    {
     "name": "stdout",
     "output_type": "stream",
     "text": [
      "Running experiment scaled_data\n",
      "Done\n"
     ]
    },
    {
     "data": {
      "text/html": [
       "<div>\n",
       "<style scoped>\n",
       "    .dataframe tbody tr th:only-of-type {\n",
       "        vertical-align: middle;\n",
       "    }\n",
       "\n",
       "    .dataframe tbody tr th {\n",
       "        vertical-align: top;\n",
       "    }\n",
       "\n",
       "    .dataframe thead th {\n",
       "        text-align: right;\n",
       "    }\n",
       "</style>\n",
       "<table border=\"1\" class=\"dataframe\">\n",
       "  <thead>\n",
       "    <tr style=\"text-align: right;\">\n",
       "      <th></th>\n",
       "      <th>exp_name</th>\n",
       "      <th>model</th>\n",
       "      <th>rmse_mean</th>\n",
       "      <th>rmse_std</th>\n",
       "    </tr>\n",
       "  </thead>\n",
       "  <tbody>\n",
       "    <tr>\n",
       "      <th>7</th>\n",
       "      <td>scaled_data</td>\n",
       "      <td>LinearRegression</td>\n",
       "      <td>16.356037</td>\n",
       "      <td>0.439171</td>\n",
       "    </tr>\n",
       "    <tr>\n",
       "      <th>10</th>\n",
       "      <td>scaled_data</td>\n",
       "      <td>SVM-linear</td>\n",
       "      <td>16.415914</td>\n",
       "      <td>0.534536</td>\n",
       "    </tr>\n",
       "    <tr>\n",
       "      <th>9</th>\n",
       "      <td>scaled_data</td>\n",
       "      <td>SVM-rbf</td>\n",
       "      <td>17.326927</td>\n",
       "      <td>0.502268</td>\n",
       "    </tr>\n",
       "    <tr>\n",
       "      <th>11</th>\n",
       "      <td>scaled_data</td>\n",
       "      <td>RF</td>\n",
       "      <td>17.664305</td>\n",
       "      <td>0.487005</td>\n",
       "    </tr>\n",
       "    <tr>\n",
       "      <th>12</th>\n",
       "      <td>scaled_data</td>\n",
       "      <td>LGB</td>\n",
       "      <td>17.859179</td>\n",
       "      <td>0.409615</td>\n",
       "    </tr>\n",
       "    <tr>\n",
       "      <th>8</th>\n",
       "      <td>scaled_data</td>\n",
       "      <td>KN</td>\n",
       "      <td>18.925808</td>\n",
       "      <td>0.805558</td>\n",
       "    </tr>\n",
       "    <tr>\n",
       "      <th>13</th>\n",
       "      <td>scaled_data</td>\n",
       "      <td>XGB</td>\n",
       "      <td>19.663209</td>\n",
       "      <td>0.596575</td>\n",
       "    </tr>\n",
       "  </tbody>\n",
       "</table>\n",
       "</div>"
      ],
      "text/plain": [
       "       exp_name             model  rmse_mean  rmse_std\n",
       "7   scaled_data  LinearRegression  16.356037  0.439171\n",
       "10  scaled_data        SVM-linear  16.415914  0.534536\n",
       "9   scaled_data           SVM-rbf  17.326927  0.502268\n",
       "11  scaled_data                RF  17.664305  0.487005\n",
       "12  scaled_data               LGB  17.859179  0.409615\n",
       "8   scaled_data                KN  18.925808  0.805558\n",
       "13  scaled_data               XGB  19.663209  0.596575"
      ]
     },
     "execution_count": 14,
     "metadata": {},
     "output_type": "execute_result"
    }
   ],
   "source": [
    "experiment_name = f\"{exp_prefix}scaled_data\"\n",
    "\n",
    "num_pipeline = Pipeline([\n",
    "    ('std_scaler', StandardScaler())\n",
    "])\n",
    "preprocessor = ColumnTransformer([\n",
    "        ('numerical', num_pipeline, model_config.X_COLS)\n",
    "    ], remainder='passthrough')\n",
    "#transformed_data = preprocessor.fit_transform(df)\n",
    "\n",
    "folds, train_seasons, test_seasons = sscv.split(train_size=1, test_size=1)\n",
    "params = (experiment_name, models, folds, train_seasons, test_seasons, X, y, preprocessor)\n",
    "names, results = utils_exp.run_experiment(*params)\n",
    "results_total.append((experiment_name, results))\n",
    "\n",
    "print_prettier_exp_results(experiment_name)"
   ]
  },
  {
   "cell_type": "code",
   "execution_count": 15,
   "metadata": {
    "ExecuteTime": {
     "end_time": "2020-11-01T05:02:40.017939Z",
     "start_time": "2020-11-01T05:02:39.724788Z"
    },
    "pycharm": {
     "name": "#%%\n"
    }
   },
   "outputs": [
    {
     "data": {
      "image/png": "[encoded data removed]",
      "text/plain": [
       "<Figure size 1440x720 with 1 Axes>"
      ]
     },
     "metadata": {},
     "output_type": "display_data"
    }
   ],
   "source": [
    "plot_results(experiment_name, results, figsize=(20,10))"
   ]
  },
  {
   "cell_type": "markdown",
   "metadata": {},
   "source": [
    "### Experiment using MinMaxScaler"
   ]
  },
  {
   "cell_type": "code",
   "execution_count": 16,
   "metadata": {
    "ExecuteTime": {
     "end_time": "2020-11-01T05:02:58.752375Z",
     "start_time": "2020-11-01T05:02:40.245425Z"
    },
    "pycharm": {
     "name": "#%%\n"
    }
   },
   "outputs": [
    {
     "name": "stdout",
     "output_type": "stream",
     "text": [
      "Running experiment minmax_data\n",
      "Done\n"
     ]
    },
    {
     "data": {
      "text/html": [
       "<div>\n",
       "<style scoped>\n",
       "    .dataframe tbody tr th:only-of-type {\n",
       "        vertical-align: middle;\n",
       "    }\n",
       "\n",
       "    .dataframe tbody tr th {\n",
       "        vertical-align: top;\n",
       "    }\n",
       "\n",
       "    .dataframe thead th {\n",
       "        text-align: right;\n",
       "    }\n",
       "</style>\n",
       "<table border=\"1\" class=\"dataframe\">\n",
       "  <thead>\n",
       "    <tr style=\"text-align: right;\">\n",
       "      <th></th>\n",
       "      <th>exp_name</th>\n",
       "      <th>model</th>\n",
       "      <th>rmse_mean</th>\n",
       "      <th>rmse_std</th>\n",
       "    </tr>\n",
       "  </thead>\n",
       "  <tbody>\n",
       "    <tr>\n",
       "      <th>17</th>\n",
       "      <td>minmax_data</td>\n",
       "      <td>SVM-linear</td>\n",
       "      <td>16.318015</td>\n",
       "      <td>0.457154</td>\n",
       "    </tr>\n",
       "    <tr>\n",
       "      <th>14</th>\n",
       "      <td>minmax_data</td>\n",
       "      <td>LinearRegression</td>\n",
       "      <td>16.363272</td>\n",
       "      <td>0.430018</td>\n",
       "    </tr>\n",
       "    <tr>\n",
       "      <th>16</th>\n",
       "      <td>minmax_data</td>\n",
       "      <td>SVM-rbf</td>\n",
       "      <td>17.113430</td>\n",
       "      <td>0.486605</td>\n",
       "    </tr>\n",
       "    <tr>\n",
       "      <th>18</th>\n",
       "      <td>minmax_data</td>\n",
       "      <td>RF</td>\n",
       "      <td>17.666607</td>\n",
       "      <td>0.487552</td>\n",
       "    </tr>\n",
       "    <tr>\n",
       "      <th>19</th>\n",
       "      <td>minmax_data</td>\n",
       "      <td>LGB</td>\n",
       "      <td>17.848965</td>\n",
       "      <td>0.537793</td>\n",
       "    </tr>\n",
       "    <tr>\n",
       "      <th>15</th>\n",
       "      <td>minmax_data</td>\n",
       "      <td>KN</td>\n",
       "      <td>19.039720</td>\n",
       "      <td>0.853401</td>\n",
       "    </tr>\n",
       "    <tr>\n",
       "      <th>20</th>\n",
       "      <td>minmax_data</td>\n",
       "      <td>XGB</td>\n",
       "      <td>19.668643</td>\n",
       "      <td>0.599296</td>\n",
       "    </tr>\n",
       "  </tbody>\n",
       "</table>\n",
       "</div>"
      ],
      "text/plain": [
       "       exp_name             model  rmse_mean  rmse_std\n",
       "17  minmax_data        SVM-linear  16.318015  0.457154\n",
       "14  minmax_data  LinearRegression  16.363272  0.430018\n",
       "16  minmax_data           SVM-rbf  17.113430  0.486605\n",
       "18  minmax_data                RF  17.666607  0.487552\n",
       "19  minmax_data               LGB  17.848965  0.537793\n",
       "15  minmax_data                KN  19.039720  0.853401\n",
       "20  minmax_data               XGB  19.668643  0.599296"
      ]
     },
     "execution_count": 16,
     "metadata": {},
     "output_type": "execute_result"
    }
   ],
   "source": [
    "experiment_name = f\"{exp_prefix}minmax_data\"\n",
    "\n",
    "num_pipeline = Pipeline([\n",
    "    ('minmax_scaler', MinMaxScaler())\n",
    "])\n",
    "preprocessor = ColumnTransformer([\n",
    "        ('numerical', num_pipeline, model_config.X_COLS)\n",
    "    ], remainder='passthrough')\n",
    "#transformed_data = preprocessor.fit_transform(df)\n",
    "\n",
    "folds, train_seasons, test_seasons = sscv.split(train_size=1, test_size=1)\n",
    "params = (experiment_name, models, folds, train_seasons, test_seasons, X, y, preprocessor)\n",
    "names, results = utils_exp.run_experiment(*params)\n",
    "results_total.append((experiment_name, results))\n",
    "\n",
    "print_prettier_exp_results(experiment_name)"
   ]
  },
  {
   "cell_type": "markdown",
   "metadata": {},
   "source": [
    "- Respecto a la metrica balanced_accuracy se observa lo siguiente:\n",
    "\n",
    "    - ***XGB***: Fue el algoritmo que alcanzo el mejor promedio.\n",
    "    - ***RF***: Obtuvo el segundo promedio mas alto.\n",
    "    - ***LGB***: Obtuvo el tercer promedio mas alto."
   ]
  },
  {
   "cell_type": "code",
   "execution_count": 17,
   "metadata": {
    "ExecuteTime": {
     "end_time": "2020-11-01T05:02:59.264105Z",
     "start_time": "2020-11-01T05:02:58.971607Z"
    },
    "pycharm": {
     "name": "#%%\n"
    }
   },
   "outputs": [
    {
     "data": {
      "image/png": "[encoded data removed]",
      "text/plain": [
       "<Figure size 1440x720 with 1 Axes>"
      ]
     },
     "metadata": {},
     "output_type": "display_data"
    }
   ],
   "source": [
    "plot_results(experiment_name, results, figsize=(20,10))"
   ]
  },
  {
   "cell_type": "markdown",
   "metadata": {},
   "source": [
    "En el grafico de los resultados del experimento se observa lo siguiente:\n",
    "\n",
    "    - A pesar de que obtuvo el mejor rendimiento en la primera validacion, el algoritmo SVM empeoro en cada validacion. Cabe señalar tambien que ademas de que cayo empicado arrojo un rendimiento de un 50% para la ultima validacion.\n",
    "    - Para los demas algoritmos se evidencia un patron en la validacion de predecir al temporada 15 donde para todos fue un mejor rendimiento que para predecir la temporada 14.\n",
    "    - Para la temporada 16 el rendimiento bajo para todos.\n",
    "    - Para la temporada 17 el algoritmo KNN presenta una notable mejoria por enciman de los demas algoritmos.\n",
    "    - Para la ultima temporada el algoritmo XGB fue el que obtuvo el mejor rendimiento."
   ]
  },
  {
   "cell_type": "markdown",
   "metadata": {},
   "source": [
    "### Experiment: train: 2s; test: 1s"
   ]
  },
  {
   "cell_type": "code",
   "execution_count": null,
   "metadata": {
    "ExecuteTime": {
     "start_time": "2020-11-01T05:01:50.316Z"
    },
    "pycharm": {
     "name": "#%%\n"
    }
   },
   "outputs": [
    {
     "name": "stdout",
     "output_type": "stream",
     "text": [
      "Running experiment 2_seasons\n"
     ]
    }
   ],
   "source": [
    "experiment_name = f\"{exp_prefix}2_seasons\"\n",
    "\n",
    "folds, train_seasons, test_seasons = sscv.split(train_size=2, test_size=1)\n",
    "params = (experiment_name, models, folds, train_seasons, test_seasons, X, y)\n",
    "names, results = utils_exp.run_experiment(*params)\n",
    "results_total.append((experiment_name, results))\n",
    "\n",
    "print_prettier_exp_results(experiment_name)"
   ]
  },
  {
   "cell_type": "markdown",
   "metadata": {},
   "source": [
    "- Respecto a la metrica balanced_accuracy se observa lo siguiente:\n",
    "\n",
    "    - ***SVM***: Fue el algoritmo que alcanzo el mejor promedio.\n",
    "    - ***LGB***: Obtuvo el segundo promedio mas alto.\n",
    "    - ***XGB***: Obtuvo el tercer promedio mas alto."
   ]
  },
  {
   "cell_type": "code",
   "execution_count": null,
   "metadata": {
    "ExecuteTime": {
     "start_time": "2020-11-01T05:01:50.955Z"
    },
    "pycharm": {
     "name": "#%%\n"
    }
   },
   "outputs": [],
   "source": [
    "plot_results(experiment_name, results, figsize=(20,10))"
   ]
  },
  {
   "cell_type": "markdown",
   "metadata": {},
   "source": [
    "En el grafico de los resultados del experimento se observa lo siguiente:\n",
    "\n",
    "    - Claramente SVM fue el algoritmo que mejor rendimiento tuvo en cada una de las validaciones.\n",
    "    - Se evidencia un patron en el que todos los algoritmos tuvieron una caida de su rendimiento en la temporada 16 y continuo cayendo en el 17, a excepcion de RF que mejoro.\n",
    "    - Otro patron que se evidencia es que para la temporada 2018 todos los algoritmos mejoraron.\n"
   ]
  },
  {
   "cell_type": "markdown",
   "metadata": {},
   "source": [
    "### Experiment: train: 3s; test: 1s"
   ]
  },
  {
   "cell_type": "code",
   "execution_count": null,
   "metadata": {
    "ExecuteTime": {
     "start_time": "2020-11-01T05:01:51.566Z"
    },
    "pycharm": {
     "name": "#%%\n"
    }
   },
   "outputs": [],
   "source": [
    "experiment_name = f\"{exp_prefix}3_seasons\"\n",
    "\n",
    "folds, train_seasons, test_seasons = sscv.split(train_size=3, test_size=1)\n",
    "params = (experiment_name, models, folds, train_seasons, test_seasons, X, y)\n",
    "names, results = utils_exp.run_experiment(*params)\n",
    "results_total.append((experiment_name, results))\n",
    "\n",
    "print_prettier_exp_results(experiment_name)"
   ]
  },
  {
   "cell_type": "code",
   "execution_count": null,
   "metadata": {
    "ExecuteTime": {
     "start_time": "2020-11-01T05:01:51.759Z"
    },
    "pycharm": {
     "name": "#%%\n"
    }
   },
   "outputs": [],
   "source": [
    "plot_results(experiment_name, results, figsize=(20,10))"
   ]
  },
  {
   "cell_type": "markdown",
   "metadata": {},
   "source": [
    "### Experiment train: 3q ; test: 1q"
   ]
  },
  {
   "cell_type": "code",
   "execution_count": null,
   "metadata": {
    "ExecuteTime": {
     "start_time": "2020-11-01T05:01:52.142Z"
    },
    "pycharm": {
     "name": "#%%\n"
    }
   },
   "outputs": [],
   "source": [
    "experiment_name = f\"{exp_prefix}3q_1q\"\n",
    "\n",
    "folds, train_seasons, test_seasons = sscv.quarter_split(train_size=3, test_size=1)\n",
    "params = (experiment_name, models, folds, train_seasons, test_seasons, X, y)\n",
    "names, results = utils_exp.run_experiment(*params)\n",
    "results_total.append((experiment_name, results))\n",
    "\n",
    "print_prettier_exp_results(experiment_name)"
   ]
  },
  {
   "cell_type": "code",
   "execution_count": null,
   "metadata": {
    "ExecuteTime": {
     "start_time": "2020-11-01T05:01:52.333Z"
    },
    "pycharm": {
     "name": "#%%\n"
    }
   },
   "outputs": [],
   "source": [
    "plot_results(experiment_name, results, figsize=(20,10))"
   ]
  },
  {
   "cell_type": "markdown",
   "metadata": {},
   "source": [
    "### Experiment train: 4q ; test: 2q"
   ]
  },
  {
   "cell_type": "code",
   "execution_count": null,
   "metadata": {
    "ExecuteTime": {
     "start_time": "2020-11-01T05:01:52.699Z"
    },
    "pycharm": {
     "name": "#%%\n"
    }
   },
   "outputs": [],
   "source": [
    "experiment_name = f\"{exp_prefix}4q_2q\"\n",
    "\n",
    "folds, train_seasons, test_seasons = sscv.quarter_split(train_size=4, test_size=2)\n",
    "params = (experiment_name, models, folds, train_seasons, test_seasons, X, y)\n",
    "names, results = utils_exp.run_experiment(*params)\n",
    "results_total.append((experiment_name, results))\n",
    "\n",
    "print_prettier_exp_results(experiment_name)"
   ]
  },
  {
   "cell_type": "code",
   "execution_count": null,
   "metadata": {
    "ExecuteTime": {
     "start_time": "2020-11-01T05:01:52.890Z"
    },
    "pycharm": {
     "name": "#%%\n"
    }
   },
   "outputs": [],
   "source": [
    "plot_results(experiment_name, results, figsize=(20,10))"
   ]
  },
  {
   "cell_type": "markdown",
   "metadata": {},
   "source": [
    "### Experiment remove first 1q ; train: 2q ; test: 1q\n",
    "\n",
    "En este experimento se eliminara el primer cuarto de cada temporada, y se entrenara el modelo con los 2 siguientes cuartos, y como test 1 cuarto de temporada. La ventana deslisante sera de 1 cuarto."
   ]
  },
  {
   "cell_type": "code",
   "execution_count": null,
   "metadata": {
    "ExecuteTime": {
     "start_time": "2020-11-01T05:01:53.266Z"
    },
    "pycharm": {
     "name": "#%%\n"
    }
   },
   "outputs": [],
   "source": [
    "experiment_name = f\"{exp_prefix}r1q_2q_1q\"\n",
    "\n",
    "folds, train_seasons, test_seasons = sscv.quarter_split(train_size=2, test_size=1, skip=[0.25])\n",
    "params = (experiment_name, models, folds, train_seasons, test_seasons, X, y)\n",
    "names, results = utils_exp.run_experiment(*params)\n",
    "results_total.append((experiment_name, results))\n",
    "\n",
    "print_prettier_exp_results(experiment_name)"
   ]
  },
  {
   "cell_type": "code",
   "execution_count": null,
   "metadata": {
    "ExecuteTime": {
     "start_time": "2020-11-01T05:01:53.457Z"
    },
    "pycharm": {
     "name": "#%%\n"
    }
   },
   "outputs": [],
   "source": [
    "#### Visualize experiments results\n",
    "plot_results(experiment_name, results, figsize=(20,10))"
   ]
  },
  {
   "cell_type": "markdown",
   "metadata": {},
   "source": [
    "### Experiments comparison"
   ]
  },
  {
   "cell_type": "code",
   "execution_count": null,
   "metadata": {
    "ExecuteTime": {
     "start_time": "2020-11-01T05:01:53.842Z"
    },
    "pycharm": {
     "name": "#%%\n"
    }
   },
   "outputs": [],
   "source": [
    "utils.serialize_object(exp_group_name, utils_exp.exp_results)"
   ]
  },
  {
   "cell_type": "code",
   "execution_count": null,
   "metadata": {
    "ExecuteTime": {
     "start_time": "2020-11-01T05:01:54.038Z"
    },
    "pycharm": {
     "name": "#%%\n"
    }
   },
   "outputs": [],
   "source": [
    "exp_df = get_results_df()"
   ]
  },
  {
   "cell_type": "code",
   "execution_count": null,
   "metadata": {
    "ExecuteTime": {
     "start_time": "2020-11-01T05:01:54.233Z"
    },
    "pycharm": {
     "name": "#%%\n"
    }
   },
   "outputs": [],
   "source": [
    "ba_df = exp_df[['exp_name', 'model',\n",
    "       'rmse_mean', 'rmse_std']]"
   ]
  },
  {
   "cell_type": "code",
   "execution_count": null,
   "metadata": {
    "ExecuteTime": {
     "start_time": "2020-11-01T05:01:54.496Z"
    },
    "pycharm": {
     "name": "#%%\n"
    }
   },
   "outputs": [],
   "source": [
    "#show_qgrid(exp_df)\n",
    "qgrid_widget = qgrid.show_grid(ba_df, show_toolbar=True , grid_options={'forceFitColumns': False, 'defaultColumnWidth': 200})\n",
    "qgrid_widget"
   ]
  },
  {
   "cell_type": "code",
   "execution_count": null,
   "metadata": {
    "ExecuteTime": {
     "start_time": "2020-11-01T05:01:54.808Z"
    },
    "pycharm": {
     "name": "#%%\n"
    }
   },
   "outputs": [],
   "source": [
    "ba_df.sort_values(\n",
    "    by=[\"rmse_mean\"]\n",
    "    , ascending=True)[:6].reset_index().drop(labels=[\"index\"], axis=1)"
   ]
  },
  {
   "cell_type": "markdown",
   "metadata": {},
   "source": [
    "### Plot experiment results"
   ]
  },
  {
   "cell_type": "code",
   "execution_count": null,
   "metadata": {
    "ExecuteTime": {
     "start_time": "2020-11-01T05:01:55.432Z"
    },
    "pycharm": {
     "name": "#%%\n"
    }
   },
   "outputs": [],
   "source": [
    "utils.serialize_object(\"results\", utils_exp.exp_results)\n",
    "utils.serialize_object(\"results_total\", results_total)"
   ]
  },
  {
   "cell_type": "markdown",
   "metadata": {},
   "source": [
    "#### MAE"
   ]
  },
  {
   "cell_type": "code",
   "execution_count": null,
   "metadata": {
    "ExecuteTime": {
     "start_time": "2020-11-01T05:01:55.987Z"
    },
    "pycharm": {
     "name": "#%%\n"
    }
   },
   "outputs": [],
   "source": [
    "utils.plot_to_compare_experiments(\n",
    "    results_total,\n",
    "    metric=\"mae\",\n",
    "    figsize=(25, 35),\n",
    "    use_pointplot=True\n",
    ")"
   ]
  },
  {
   "cell_type": "markdown",
   "metadata": {},
   "source": [
    "#### MSE"
   ]
  },
  {
   "cell_type": "code",
   "execution_count": null,
   "metadata": {
    "ExecuteTime": {
     "start_time": "2020-11-01T05:01:56.540Z"
    },
    "pycharm": {
     "name": "#%%\n"
    },
    "scrolled": true
   },
   "outputs": [],
   "source": [
    "utils.plot_to_compare_experiments(\n",
    "    results_total,\n",
    "    metric=\"mse\",\n",
    "    figsize=(25, 35),\n",
    "    use_pointplot=True\n",
    ")"
   ]
  },
  {
   "cell_type": "markdown",
   "metadata": {},
   "source": [
    "#### RMSE"
   ]
  },
  {
   "cell_type": "code",
   "execution_count": null,
   "metadata": {
    "ExecuteTime": {
     "start_time": "2020-11-01T05:01:56.976Z"
    },
    "pycharm": {
     "name": "#%%\n"
    },
    "scrolled": true
   },
   "outputs": [],
   "source": [
    "utils.plot_to_compare_experiments(\n",
    "    results_total,\n",
    "    metric=\"rmse\",\n",
    "    figsize=(25, 35),\n",
    "    use_pointplot=True\n",
    ")"
   ]
  },
  {
   "cell_type": "code",
   "execution_count": null,
   "outputs": [],
   "source": [],
   "metadata": {
    "collapsed": false,
    "pycharm": {
     "name": "#%%\n"
    }
   }
  },
  {
   "cell_type": "code",
   "execution_count": null,
   "outputs": [],
   "source": [],
   "metadata": {
    "collapsed": false,
    "pycharm": {
     "name": "#%%\n"
    }
   }
  },
  {
   "cell_type": "code",
   "execution_count": null,
   "metadata": {},
   "outputs": [],
   "source": []
  },
  {
   "cell_type": "code",
   "execution_count": null,
   "metadata": {},
   "outputs": [],
   "source": []
  }
 ],
 "metadata": {
  "celltoolbar": "Initialization Cell",
  "hide_input": false,
  "kernelspec": {
   "display_name": "Python 3",
   "language": "python",
   "name": "python3"
  },
  "language_info": {
   "codemirror_mode": {
    "name": "ipython",
    "version": 3
   },
   "file_extension": ".py",
   "mimetype": "text/x-python",
   "name": "python",
   "nbconvert_exporter": "python",
   "pygments_lexer": "ipython3",
   "version": "3.7.7"
  },
  "toc": {
   "base_numbering": 1,
   "nav_menu": {
    "height": "491.972px",
    "width": "409.965px"
   },
   "number_sections": true,
   "sideBar": true,
   "skip_h1_title": false,
   "title_cell": "Table of Contents",
   "title_sidebar": "Contents",
   "toc_cell": false,
   "toc_position": {
    "height": "calc(100% - 180px)",
    "left": "10px",
    "top": "150px",
    "width": "295.493px"
   },
   "toc_section_display": true,
   "toc_window_display": true
  },
  "varInspector": {
   "cols": {
    "lenName": 16,
    "lenType": 16,
    "lenVar": 40
   },
   "kernels_config": {
    "python": {
     "delete_cmd_postfix": "",
     "delete_cmd_prefix": "del ",
     "library": "var_list.py",
     "varRefreshCmd": "print(var_dic_list())"
    },
    "r": {
     "delete_cmd_postfix": ") ",
     "delete_cmd_prefix": "rm(",
     "library": "var_list.r",
     "varRefreshCmd": "cat(var_dic_list()) "
    }
   },
   "types_to_exclude": [
    "module",
    "function",
    "builtin_function_or_method",
    "instance",
    "_Feature"
   ],
   "window_display": false
  }
 },
 "nbformat": 4,
 "nbformat_minor": 1
}