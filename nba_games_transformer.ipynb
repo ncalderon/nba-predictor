{
 "cells": [
  {
   "cell_type": "code",
   "execution_count": 2,
   "outputs": [
    {
     "name": "stdout",
     "output_type": "stream",
     "text": [
      "Requirement already up-to-date: scikit-learn in /home/nathaniel/anaconda3/lib/python3.7/site-packages (0.22.2.post1)\r\n",
      "Requirement already satisfied, skipping upgrade: numpy>=1.11.0 in /home/nathaniel/anaconda3/lib/python3.7/site-packages (from scikit-learn) (1.18.1)\r\n",
      "Requirement already satisfied, skipping upgrade: joblib>=0.11 in /home/nathaniel/anaconda3/lib/python3.7/site-packages (from scikit-learn) (0.14.1)\r\n",
      "Requirement already satisfied, skipping upgrade: scipy>=0.17.0 in /home/nathaniel/anaconda3/lib/python3.7/site-packages (from scikit-learn) (1.4.1)\r\n"
     ]
    }
   ],
   "source": [
    "!pip install -U scikit-learn"
   ],
   "metadata": {
    "collapsed": false,
    "pycharm": {
     "name": "#%%\n"
    }
   }
  },
  {
   "cell_type": "markdown",
   "source": [
    "Load packages"
   ],
   "metadata": {
    "collapsed": false
   }
  },
  {
   "cell_type": "code",
   "execution_count": 3,
   "metadata": {
    "collapsed": true
   },
   "outputs": [],
   "source": [
    "import sklearn\n",
    "import pandas as pd\n",
    "import numpy as np\n",
    "from math import pi\n",
    "\n",
    "import matplotlib.pyplot as plt\n",
    "import seaborn as sns\n",
    "\n",
    "from IPython.display import display, Markdown\n"
   ]
  },
  {
   "cell_type": "code",
   "execution_count": 38,
   "metadata": {},
   "outputs": [
    {
     "data": {
      "text/plain": "(23195, 21)"
     },
     "execution_count": 38,
     "metadata": {},
     "output_type": "execute_result"
    }
   ],
   "source": [
    "df = pd.read_csv(\"../nba-games/games.csv\")\n",
    "df.shape"
   ]
  },
  {
   "cell_type": "code",
   "execution_count": 39,
   "outputs": [
    {
     "data": {
      "text/plain": "(1378, 19)"
     },
     "execution_count": 39,
     "metadata": {},
     "output_type": "execute_result"
    }
   ],
   "source": [
    "df = df.drop_duplicates()\n",
    "df = df.drop(columns=[\"TEAM_ID_home\", \"TEAM_ID_away\"], axis=1)\n",
    "df = df[df.SEASON == 2018]\n",
    "df.shape\n"
   ],
   "metadata": {
    "collapsed": false,
    "pycharm": {
     "name": "#%%\n"
    }
   }
  },
  {
   "cell_type": "code",
   "execution_count": 7,
   "outputs": [],
   "source": [
    "df['GAME_DATE_EST'] = pd.to_datetime(df['GAME_DATE_EST'], format=\"%Y-%m-%d\" )"
   ],
   "metadata": {
    "collapsed": false,
    "pycharm": {
     "name": "#%%\n"
    }
   }
  },
  {
   "cell_type": "code",
   "execution_count": 8,
   "outputs": [
    {
     "data": {
      "text/plain": "GAME_DATE_EST       datetime64[ns]\nGAME_ID                      int64\nGAME_STATUS_TEXT            object\nHOME_TEAM_ID                 int64\nVISITOR_TEAM_ID              int64\nSEASON                       int64\nTEAM_ID_home                 int64\nPTS_home                   float64\nFG_PCT_home                float64\nFT_PCT_home                float64\nFG3_PCT_home               float64\nAST_home                   float64\nREB_home                   float64\nTEAM_ID_away                 int64\nPTS_away                   float64\nFG_PCT_away                float64\nFT_PCT_away                float64\nFG3_PCT_away               float64\nAST_away                   float64\nREB_away                   float64\nHOME_TEAM_WINS               int64\ndtype: object"
     },
     "execution_count": 8,
     "metadata": {},
     "output_type": "execute_result"
    }
   ],
   "source": [
    "df.dtypes"
   ],
   "metadata": {
    "collapsed": false,
    "pycharm": {
     "name": "#%%\n"
    }
   }
  },
  {
   "cell_type": "code",
   "execution_count": 9,
   "outputs": [],
   "source": [
    "df[\"HOME_TEAM_WIN_LAST_10_GAMES\"] = 0\n",
    "df[\"VISITOR_TEAM_WIN_LAST_10_GAMES\"] = 0"
   ],
   "metadata": {
    "collapsed": false,
    "pycharm": {
     "name": "#%%\n"
    }
   }
  },
  {
   "cell_type": "code",
   "execution_count": 10,
   "outputs": [
    {
     "data": {
      "text/plain": "GAME_DATE_EST                     datetime64[ns]\nGAME_ID                                    int64\nGAME_STATUS_TEXT                          object\nHOME_TEAM_ID                               int64\nVISITOR_TEAM_ID                            int64\nSEASON                                     int64\nTEAM_ID_home                               int64\nPTS_home                                 float64\nFG_PCT_home                              float64\nFT_PCT_home                              float64\nFG3_PCT_home                             float64\nAST_home                                 float64\nREB_home                                 float64\nTEAM_ID_away                               int64\nPTS_away                                 float64\nFG_PCT_away                              float64\nFT_PCT_away                              float64\nFG3_PCT_away                             float64\nAST_away                                 float64\nREB_away                                 float64\nHOME_TEAM_WINS                             int64\nHOME_TEAM_WIN_LAST_10_GAMES                int64\nVISITOR_TEAM_WIN_LAST_10_GAMES             int64\ndtype: object"
     },
     "execution_count": 10,
     "metadata": {},
     "output_type": "execute_result"
    }
   ],
   "source": [
    "df.dtypes"
   ],
   "metadata": {
    "collapsed": false,
    "pycharm": {
     "name": "#%%\n"
    }
   }
  },
  {
   "cell_type": "code",
   "execution_count": 16,
   "outputs": [
    {
     "data": {
      "text/plain": "       HOME_TEAM_ID  VISITOR_TEAM_ID\n16208    1610612749       1610612761",
      "text/html": "<div>\n<style scoped>\n    .dataframe tbody tr th:only-of-type {\n        vertical-align: middle;\n    }\n\n    .dataframe tbody tr th {\n        vertical-align: top;\n    }\n\n    .dataframe thead th {\n        text-align: right;\n    }\n</style>\n<table border=\"1\" class=\"dataframe\">\n  <thead>\n    <tr style=\"text-align: right;\">\n      <th></th>\n      <th>HOME_TEAM_ID</th>\n      <th>VISITOR_TEAM_ID</th>\n    </tr>\n  </thead>\n  <tbody>\n    <tr>\n      <th>16208</th>\n      <td>1610612749</td>\n      <td>1610612761</td>\n    </tr>\n  </tbody>\n</table>\n</div>"
     },
     "execution_count": 16,
     "metadata": {},
     "output_type": "execute_result"
    }
   ],
   "source": [
    "df_preprocessed = pd.DataFrame()\n",
    "\n",
    "df_preprocessed = df[[\"HOME_TEAM_ID\", \"VISITOR_TEAM_ID\"]].copy()\n",
    "#df_preprocessed = df[[\"HOME_TEAM_ID\"]].copy()\n",
    "\n",
    "df_preprocessed.sample()"
   ],
   "metadata": {
    "collapsed": false,
    "pycharm": {
     "name": "#%%\n"
    }
   }
  },
  {
   "cell_type": "code",
   "execution_count": null,
   "metadata": {},
   "outputs": [],
   "source": [
    "def last_10_games(team_id):\n",
    "    team_df = df[(df.HOME_TEAM_ID == team_id) | (df.VISITOR_TEAM_ID == team_id)].head(10)\n",
    "    balance = 0\n",
    "    for idx, row in team_df.iterrows():\n",
    "        if row.HOME_TEAM_ID == team_id:\n",
    "            balance += row.HOME_TEAM_WINS\n",
    "        else:\n",
    "            if row.HOME_TEAM_WINS == 0:\n",
    "                balance += 1\n",
    "    return balance\n",
    "\n",
    "df = df.sort_values(by='GAME_DATE_EST', ascending=False)\n",
    "\n",
    "for idx, row in df.iterrows():\n",
    "   df.at[idx, \"HOME_TEAM_WIN_LAST_10_GAMES\"] = last_10_games(row [\"HOME_TEAM_ID\"])\n",
    "   df.at[idx, \"VISITOR_TEAM_WIN_LAST_10_GAMES\"] = last_10_games(row [\"VISITOR_TEAM_ID\"])\n",
    "\n",
    "    "
   ]
  },
  {
   "cell_type": "code",
   "execution_count": null,
   "metadata": {},
   "outputs": [],
   "source": [
    "df[[\"VISITOR_TEAM_WIN_LAST_10_GAMES\", \"HOME_TEAM_WIN_LAST_10_GAMES\"]].head(10)"
   ]
  }
 ],
 "metadata": {
  "kernelspec": {
   "name": "python37464bitbaseconda058ce49e396e4d3c962e53db2794662d",
   "language": "python",
   "display_name": "Python 3.7.4 64-bit ('base': conda)"
  },
  "language_info": {
   "codemirror_mode": {
    "name": "ipython",
    "version": 2
   },
   "file_extension": ".py",
   "mimetype": "text/x-python",
   "name": "python",
   "nbconvert_exporter": "python",
   "pygments_lexer": "ipython2",
   "version": "3.7.4-final"
  }
 },
 "nbformat": 4,
 "nbformat_minor": 0
}