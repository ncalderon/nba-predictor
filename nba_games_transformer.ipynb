{
 "cells": [
  {
   "cell_type": "markdown",
   "source": [
    "Load packages"
   ],
   "metadata": {
    "collapsed": false
   }
  },
  {
   "cell_type": "code",
   "execution_count": 294,
   "metadata": {
    "collapsed": true
   },
   "outputs": [],
   "source": [
    "import sklearn\n",
    "import pandas as pd\n",
    "import numpy as np\n",
    "from math import pi\n",
    "\n",
    "import matplotlib.pyplot as plt\n",
    "import seaborn as sns\n",
    "\n"
   ]
  },
  {
   "cell_type": "code",
   "execution_count": 302,
   "metadata": {},
   "outputs": [
    {
     "name": "stdout",
     "output_type": "stream",
     "text": [
      "(30, 2)\n",
      "(23195, 18)\n",
      "(1378, 19)\n"
     ]
    },
    {
     "name": "stderr",
     "output_type": "stream",
     "text": [
      "/home/nathaniel/anaconda3/lib/python3.7/site-packages/ipykernel_launcher.py:16: SettingWithCopyWarning: \n",
      "A value is trying to be set on a copy of a slice from a DataFrame.\n",
      "Try using .loc[row_indexer,col_indexer] = value instead\n",
      "\n",
      "See the caveats in the documentation: https://pandas.pydata.org/pandas-docs/stable/user_guide/indexing.html#returning-a-view-versus-a-copy\n",
      "  app.launch_new_instance()\n"
     ]
    }
   ],
   "source": [
    "columns = ['GAME_DATE_EST',\n",
    " 'GAME_ID',\n",
    " 'HOME_TEAM_WINS',\n",
    " 'HOME_TEAM',\n",
    " 'VISITOR_TEAM_WINS',\n",
    " 'VISITOR_TEAM',\n",
    " 'HOME_TEAM_WIN_LAST_10_GAMES',\n",
    " 'VISITOR_TEAM_WIN_LAST_10_GAMES']\n",
    "teams = pd.read_csv('../nba-games/teams.csv', usecols=['TEAM_ID', 'ABBREVIATION'])\n",
    "teams.rename(columns={\"ABBREVIATION\":\"NAME\"}, inplace=True)\n",
    "games = pd.read_csv(\"../nba-games/games.csv\",parse_dates=[\"GAME_DATE_EST\"],infer_datetime_format=True)\n",
    "games = games.drop_duplicates()\\\n",
    "    .drop(columns=[\"TEAM_ID_home\", \"TEAM_ID_away\", \"GAME_STATUS_TEXT\"], axis=1)\n",
    "\n",
    "df = games[games.SEASON == 2018]\n",
    "df[\"VISITOR_TEAM_WINS\"] = df[\"HOME_TEAM_WINS\"]==0\n",
    "print(teams.shape)\n",
    "print(games.shape)\n",
    "print(df.shape)"
   ]
  },
  {
   "cell_type": "code",
   "execution_count": 303,
   "outputs": [
    {
     "data": {
      "text/plain": "  GAME_DATE_EST   GAME_ID  SEASON  PTS_home  FG_PCT_home  FT_PCT_home  \\\n0    2019-06-13  41800406    2018     110.0        0.488        0.700   \n1    2019-06-10  41800405    2018     105.0        0.447        0.778   \n2    2019-06-07  41800404    2018      92.0        0.449        0.667   \n3    2019-06-05  41800403    2018     109.0        0.396        0.833   \n4    2019-06-02  41800402    2018     104.0        0.372        0.885   \n\n   FG3_PCT_home  AST_home  REB_home  PTS_away  FG_PCT_away  FT_PCT_away  \\\n0         0.355      28.0      42.0     114.0        0.476        0.793   \n1         0.250      19.0      43.0     106.0        0.463        0.714   \n2         0.296      26.0      42.0     105.0        0.419        0.958   \n3         0.333      25.0      41.0     123.0        0.524        0.952   \n4         0.289      17.0      49.0     109.0        0.463        0.870   \n\n   FG3_PCT_away  AST_away  REB_away  HOME_TEAM_WINS  VISITOR_TEAM_WINS  \\\n0         0.394      25.0      39.0               0               True   \n1         0.476      27.0      37.0               0               True   \n2         0.313      22.0      39.0               0               True   \n3         0.447      30.0      40.0               0               True   \n4         0.382      34.0      42.0               0               True   \n\n  HOME_TEAM VISITOR_TEAM  \n0       GSW          TOR  \n1       TOR          GSW  \n2       GSW          TOR  \n3       GSW          TOR  \n4       TOR          GSW  ",
      "text/html": "<div>\n<style scoped>\n    .dataframe tbody tr th:only-of-type {\n        vertical-align: middle;\n    }\n\n    .dataframe tbody tr th {\n        vertical-align: top;\n    }\n\n    .dataframe thead th {\n        text-align: right;\n    }\n</style>\n<table border=\"1\" class=\"dataframe\">\n  <thead>\n    <tr style=\"text-align: right;\">\n      <th></th>\n      <th>GAME_DATE_EST</th>\n      <th>GAME_ID</th>\n      <th>SEASON</th>\n      <th>PTS_home</th>\n      <th>FG_PCT_home</th>\n      <th>FT_PCT_home</th>\n      <th>FG3_PCT_home</th>\n      <th>AST_home</th>\n      <th>REB_home</th>\n      <th>PTS_away</th>\n      <th>FG_PCT_away</th>\n      <th>FT_PCT_away</th>\n      <th>FG3_PCT_away</th>\n      <th>AST_away</th>\n      <th>REB_away</th>\n      <th>HOME_TEAM_WINS</th>\n      <th>VISITOR_TEAM_WINS</th>\n      <th>HOME_TEAM</th>\n      <th>VISITOR_TEAM</th>\n    </tr>\n  </thead>\n  <tbody>\n    <tr>\n      <th>0</th>\n      <td>2019-06-13</td>\n      <td>41800406</td>\n      <td>2018</td>\n      <td>110.0</td>\n      <td>0.488</td>\n      <td>0.700</td>\n      <td>0.355</td>\n      <td>28.0</td>\n      <td>42.0</td>\n      <td>114.0</td>\n      <td>0.476</td>\n      <td>0.793</td>\n      <td>0.394</td>\n      <td>25.0</td>\n      <td>39.0</td>\n      <td>0</td>\n      <td>True</td>\n      <td>GSW</td>\n      <td>TOR</td>\n    </tr>\n    <tr>\n      <th>1</th>\n      <td>2019-06-10</td>\n      <td>41800405</td>\n      <td>2018</td>\n      <td>105.0</td>\n      <td>0.447</td>\n      <td>0.778</td>\n      <td>0.250</td>\n      <td>19.0</td>\n      <td>43.0</td>\n      <td>106.0</td>\n      <td>0.463</td>\n      <td>0.714</td>\n      <td>0.476</td>\n      <td>27.0</td>\n      <td>37.0</td>\n      <td>0</td>\n      <td>True</td>\n      <td>TOR</td>\n      <td>GSW</td>\n    </tr>\n    <tr>\n      <th>2</th>\n      <td>2019-06-07</td>\n      <td>41800404</td>\n      <td>2018</td>\n      <td>92.0</td>\n      <td>0.449</td>\n      <td>0.667</td>\n      <td>0.296</td>\n      <td>26.0</td>\n      <td>42.0</td>\n      <td>105.0</td>\n      <td>0.419</td>\n      <td>0.958</td>\n      <td>0.313</td>\n      <td>22.0</td>\n      <td>39.0</td>\n      <td>0</td>\n      <td>True</td>\n      <td>GSW</td>\n      <td>TOR</td>\n    </tr>\n    <tr>\n      <th>3</th>\n      <td>2019-06-05</td>\n      <td>41800403</td>\n      <td>2018</td>\n      <td>109.0</td>\n      <td>0.396</td>\n      <td>0.833</td>\n      <td>0.333</td>\n      <td>25.0</td>\n      <td>41.0</td>\n      <td>123.0</td>\n      <td>0.524</td>\n      <td>0.952</td>\n      <td>0.447</td>\n      <td>30.0</td>\n      <td>40.0</td>\n      <td>0</td>\n      <td>True</td>\n      <td>GSW</td>\n      <td>TOR</td>\n    </tr>\n    <tr>\n      <th>4</th>\n      <td>2019-06-02</td>\n      <td>41800402</td>\n      <td>2018</td>\n      <td>104.0</td>\n      <td>0.372</td>\n      <td>0.885</td>\n      <td>0.289</td>\n      <td>17.0</td>\n      <td>49.0</td>\n      <td>109.0</td>\n      <td>0.463</td>\n      <td>0.870</td>\n      <td>0.382</td>\n      <td>34.0</td>\n      <td>42.0</td>\n      <td>0</td>\n      <td>True</td>\n      <td>TOR</td>\n      <td>GSW</td>\n    </tr>\n  </tbody>\n</table>\n</div>"
     },
     "execution_count": 303,
     "metadata": {},
     "output_type": "execute_result"
    }
   ],
   "source": [
    "def add_team_abbr_column(is_home):\n",
    "    global df\n",
    "    if is_home:\n",
    "        df = pd.merge(df, teams, left_on='HOME_TEAM_ID', right_on='TEAM_ID')\n",
    "        df.rename(columns={\"NAME\":\"HOME_TEAM\"}, inplace=True)\n",
    "        df = df.drop(columns=[\"HOME_TEAM_ID\"], axis=1)\n",
    "    else:\n",
    "        df = pd.merge(df, teams, left_on='VISITOR_TEAM_ID', right_on='TEAM_ID')\n",
    "        df.rename(columns={\"NAME\":\"VISITOR_TEAM\"}, inplace=True)\n",
    "        df = df.drop(columns=[\"VISITOR_TEAM_ID\"], axis=1)\n",
    "    df = df.drop(columns=[\"TEAM_ID\"], axis=1)\n",
    "\n",
    "\n",
    "add_team_abbr_column(True)\n",
    "add_team_abbr_column( False)\n",
    "df = df.sort_values(\"GAME_DATE_EST\", ascending=False).reset_index(drop=True)\n",
    "df.head(5)"
   ],
   "metadata": {
    "collapsed": false,
    "pycharm": {
     "name": "#%%\n"
    }
   }
  },
  {
   "cell_type": "code",
   "execution_count": 304,
   "outputs": [
    {
     "data": {
      "text/plain": "    HOME_TEAM VISITOR_TEAM\n973       DAL          LAC",
      "text/html": "<div>\n<style scoped>\n    .dataframe tbody tr th:only-of-type {\n        vertical-align: middle;\n    }\n\n    .dataframe tbody tr th {\n        vertical-align: top;\n    }\n\n    .dataframe thead th {\n        text-align: right;\n    }\n</style>\n<table border=\"1\" class=\"dataframe\">\n  <thead>\n    <tr style=\"text-align: right;\">\n      <th></th>\n      <th>HOME_TEAM</th>\n      <th>VISITOR_TEAM</th>\n    </tr>\n  </thead>\n  <tbody>\n    <tr>\n      <th>973</th>\n      <td>DAL</td>\n      <td>LAC</td>\n    </tr>\n  </tbody>\n</table>\n</div>"
     },
     "execution_count": 304,
     "metadata": {},
     "output_type": "execute_result"
    }
   ],
   "source": [
    "df_preprocessed = pd.DataFrame()\n",
    "\n",
    "df_preprocessed = df[[\"HOME_TEAM\", \"VISITOR_TEAM\"]].copy()\n",
    "\n",
    "df_preprocessed.sample()"
   ],
   "metadata": {
    "collapsed": false,
    "pycharm": {
     "name": "#%%\n"
    }
   }
  },
  {
   "cell_type": "code",
   "execution_count": 305,
   "metadata": {},
   "outputs": [],
   "source": [
    "def last_10_games(team, game_date):\n",
    "    query = (game_date > df.GAME_DATE_EST) & \\\n",
    "            ((df.HOME_TEAM == team) | \\\n",
    "            (df.VISITOR_TEAM == team))\n",
    "    team_df = df.loc[query].head(10)\n",
    "    balance = 0\n",
    "    for idx, row in team_df.iterrows():\n",
    "        if row.HOME_TEAM == team:\n",
    "            balance += row.HOME_TEAM_WINS\n",
    "        else:\n",
    "            balance += row.VISITOR_TEAM_WINS\n",
    "    return balance"
   ]
  },
  {
   "cell_type": "code",
   "execution_count": 306,
   "outputs": [],
   "source": [
    "#df_preprocessed[\"HOME_TEAM_WIN_LAST_10_GAMES\"] = 0\n",
    "#df_preprocessed[\"VISITOR_TEAM_WIN_LAST_10_GAMES\"] = 0\n",
    "for idx, row in df.iterrows():\n",
    "   df.at[idx, \"HOME_TEAM_WIN_LAST_10_GAMES\"] = last_10_games(row[\"HOME_TEAM\"], row[\"GAME_DATE_EST\"])\n",
    "   df.at[idx, \"VISITOR_TEAM_WIN_LAST_10_GAMES\"] = last_10_games(row[\"VISITOR_TEAM\"], row[\"GAME_DATE_EST\"])\n"
   ],
   "metadata": {
    "collapsed": false,
    "pycharm": {
     "name": "#%%\n"
    }
   }
  },
  {
   "cell_type": "code",
   "execution_count": 307,
   "outputs": [
    {
     "data": {
      "text/plain": "   GAME_DATE_EST   GAME_ID  HOME_TEAM_WINS HOME_TEAM  VISITOR_TEAM_WINS  \\\n2     2019-06-07  41800404               0       GSW               True   \n3     2019-06-05  41800403               0       GSW               True   \n4     2019-06-02  41800402               0       TOR               True   \n5     2019-05-30  41800401               1       TOR              False   \n6     2019-05-25  41800306               1       TOR              False   \n7     2019-05-23  41800305               0       MIL               True   \n8     2019-05-21  41800304               1       TOR              False   \n10    2019-05-19  41800303               1       TOR              False   \n12    2019-05-17  41800302               1       MIL              False   \n14    2019-05-15  41800301               1       MIL              False   \n17    2019-05-12  41800217               1       TOR              False   \n19    2019-05-09  41800216               1       PHI              False   \n24    2019-05-07  41800215               1       TOR              False   \n27    2019-05-05  41800214               0       PHI               True   \n32    2019-05-02  41800213               1       PHI              False   \n36    2019-04-29  41800212               0       TOR               True   \n40    2019-04-27  41800211               1       TOR              False   \n46    2019-04-23  41800115               1       TOR              False   \n54    2019-04-21  41800114               0       ORL               True   \n60    2019-04-19  41800113               0       ORL               True   \n\n   VISITOR_TEAM  HOME_TEAM_WIN_LAST_10_GAMES  VISITOR_TEAM_WIN_LAST_10_GAMES  \n2           TOR                          7.0                             7.0  \n3           TOR                          7.0                             6.0  \n4           GSW                          7.0                             7.0  \n5           GSW                          7.0                             8.0  \n6           MIL                          6.0                             6.0  \n7           TOR                          7.0                             5.0  \n8           MIL                          5.0                             8.0  \n10          MIL                          5.0                             9.0  \n12          TOR                          9.0                             6.0  \n14          TOR                          8.0                             7.0  \n17          PHI                          7.0                             7.0  \n19          TOR                          6.0                             7.0  \n24          PHI                          7.0                             7.0  \n27          TOR                          7.0                             7.0  \n32          TOR                          7.0                             7.0  \n36          PHI                          8.0                             6.0  \n40          PHI                          8.0                             6.0  \n46          ORL                          8.0                             6.0  \n54          TOR                          6.0                             8.0  \n60          TOR                          7.0                             8.0  ",
      "text/html": "<div>\n<style scoped>\n    .dataframe tbody tr th:only-of-type {\n        vertical-align: middle;\n    }\n\n    .dataframe tbody tr th {\n        vertical-align: top;\n    }\n\n    .dataframe thead th {\n        text-align: right;\n    }\n</style>\n<table border=\"1\" class=\"dataframe\">\n  <thead>\n    <tr style=\"text-align: right;\">\n      <th></th>\n      <th>GAME_DATE_EST</th>\n      <th>GAME_ID</th>\n      <th>HOME_TEAM_WINS</th>\n      <th>HOME_TEAM</th>\n      <th>VISITOR_TEAM_WINS</th>\n      <th>VISITOR_TEAM</th>\n      <th>HOME_TEAM_WIN_LAST_10_GAMES</th>\n      <th>VISITOR_TEAM_WIN_LAST_10_GAMES</th>\n    </tr>\n  </thead>\n  <tbody>\n    <tr>\n      <th>2</th>\n      <td>2019-06-07</td>\n      <td>41800404</td>\n      <td>0</td>\n      <td>GSW</td>\n      <td>True</td>\n      <td>TOR</td>\n      <td>7.0</td>\n      <td>7.0</td>\n    </tr>\n    <tr>\n      <th>3</th>\n      <td>2019-06-05</td>\n      <td>41800403</td>\n      <td>0</td>\n      <td>GSW</td>\n      <td>True</td>\n      <td>TOR</td>\n      <td>7.0</td>\n      <td>6.0</td>\n    </tr>\n    <tr>\n      <th>4</th>\n      <td>2019-06-02</td>\n      <td>41800402</td>\n      <td>0</td>\n      <td>TOR</td>\n      <td>True</td>\n      <td>GSW</td>\n      <td>7.0</td>\n      <td>7.0</td>\n    </tr>\n    <tr>\n      <th>5</th>\n      <td>2019-05-30</td>\n      <td>41800401</td>\n      <td>1</td>\n      <td>TOR</td>\n      <td>False</td>\n      <td>GSW</td>\n      <td>7.0</td>\n      <td>8.0</td>\n    </tr>\n    <tr>\n      <th>6</th>\n      <td>2019-05-25</td>\n      <td>41800306</td>\n      <td>1</td>\n      <td>TOR</td>\n      <td>False</td>\n      <td>MIL</td>\n      <td>6.0</td>\n      <td>6.0</td>\n    </tr>\n    <tr>\n      <th>7</th>\n      <td>2019-05-23</td>\n      <td>41800305</td>\n      <td>0</td>\n      <td>MIL</td>\n      <td>True</td>\n      <td>TOR</td>\n      <td>7.0</td>\n      <td>5.0</td>\n    </tr>\n    <tr>\n      <th>8</th>\n      <td>2019-05-21</td>\n      <td>41800304</td>\n      <td>1</td>\n      <td>TOR</td>\n      <td>False</td>\n      <td>MIL</td>\n      <td>5.0</td>\n      <td>8.0</td>\n    </tr>\n    <tr>\n      <th>10</th>\n      <td>2019-05-19</td>\n      <td>41800303</td>\n      <td>1</td>\n      <td>TOR</td>\n      <td>False</td>\n      <td>MIL</td>\n      <td>5.0</td>\n      <td>9.0</td>\n    </tr>\n    <tr>\n      <th>12</th>\n      <td>2019-05-17</td>\n      <td>41800302</td>\n      <td>1</td>\n      <td>MIL</td>\n      <td>False</td>\n      <td>TOR</td>\n      <td>9.0</td>\n      <td>6.0</td>\n    </tr>\n    <tr>\n      <th>14</th>\n      <td>2019-05-15</td>\n      <td>41800301</td>\n      <td>1</td>\n      <td>MIL</td>\n      <td>False</td>\n      <td>TOR</td>\n      <td>8.0</td>\n      <td>7.0</td>\n    </tr>\n    <tr>\n      <th>17</th>\n      <td>2019-05-12</td>\n      <td>41800217</td>\n      <td>1</td>\n      <td>TOR</td>\n      <td>False</td>\n      <td>PHI</td>\n      <td>7.0</td>\n      <td>7.0</td>\n    </tr>\n    <tr>\n      <th>19</th>\n      <td>2019-05-09</td>\n      <td>41800216</td>\n      <td>1</td>\n      <td>PHI</td>\n      <td>False</td>\n      <td>TOR</td>\n      <td>6.0</td>\n      <td>7.0</td>\n    </tr>\n    <tr>\n      <th>24</th>\n      <td>2019-05-07</td>\n      <td>41800215</td>\n      <td>1</td>\n      <td>TOR</td>\n      <td>False</td>\n      <td>PHI</td>\n      <td>7.0</td>\n      <td>7.0</td>\n    </tr>\n    <tr>\n      <th>27</th>\n      <td>2019-05-05</td>\n      <td>41800214</td>\n      <td>0</td>\n      <td>PHI</td>\n      <td>True</td>\n      <td>TOR</td>\n      <td>7.0</td>\n      <td>7.0</td>\n    </tr>\n    <tr>\n      <th>32</th>\n      <td>2019-05-02</td>\n      <td>41800213</td>\n      <td>1</td>\n      <td>PHI</td>\n      <td>False</td>\n      <td>TOR</td>\n      <td>7.0</td>\n      <td>7.0</td>\n    </tr>\n    <tr>\n      <th>36</th>\n      <td>2019-04-29</td>\n      <td>41800212</td>\n      <td>0</td>\n      <td>TOR</td>\n      <td>True</td>\n      <td>PHI</td>\n      <td>8.0</td>\n      <td>6.0</td>\n    </tr>\n    <tr>\n      <th>40</th>\n      <td>2019-04-27</td>\n      <td>41800211</td>\n      <td>1</td>\n      <td>TOR</td>\n      <td>False</td>\n      <td>PHI</td>\n      <td>8.0</td>\n      <td>6.0</td>\n    </tr>\n    <tr>\n      <th>46</th>\n      <td>2019-04-23</td>\n      <td>41800115</td>\n      <td>1</td>\n      <td>TOR</td>\n      <td>False</td>\n      <td>ORL</td>\n      <td>8.0</td>\n      <td>6.0</td>\n    </tr>\n    <tr>\n      <th>54</th>\n      <td>2019-04-21</td>\n      <td>41800114</td>\n      <td>0</td>\n      <td>ORL</td>\n      <td>True</td>\n      <td>TOR</td>\n      <td>6.0</td>\n      <td>8.0</td>\n    </tr>\n    <tr>\n      <th>60</th>\n      <td>2019-04-19</td>\n      <td>41800113</td>\n      <td>0</td>\n      <td>ORL</td>\n      <td>True</td>\n      <td>TOR</td>\n      <td>7.0</td>\n      <td>8.0</td>\n    </tr>\n  </tbody>\n</table>\n</div>"
     },
     "execution_count": 307,
     "metadata": {},
     "output_type": "execute_result"
    }
   ],
   "source": [
    "test = df[columns]\n",
    "query = ('2019-06-10' > df.GAME_DATE_EST) & \\\n",
    "            ((df.HOME_TEAM == \"TOR\") | \\\n",
    "            (df.VISITOR_TEAM == \"TOR\"))\n",
    "test[query].head(20)"
   ],
   "metadata": {
    "collapsed": false,
    "pycharm": {
     "name": "#%%\n"
    }
   }
  },
  {
   "cell_type": "code",
   "execution_count": 308,
   "metadata": {
    "pycharm": {
     "name": "#%%\n"
    }
   },
   "outputs": [
    {
     "data": {
      "text/plain": "  HOME_TEAM VISITOR_TEAM  HOME_TEAM_WIN_LAST_10_GAMES  \\\n0       GSW          TOR                          7.0   \n1       TOR          GSW                          7.0   \n2       GSW          TOR                          7.0   \n3       GSW          TOR                          7.0   \n4       TOR          GSW                          7.0   \n\n   VISITOR_TEAM_WIN_LAST_10_GAMES  \n0                             7.0  \n1                             7.0  \n2                             7.0  \n3                             6.0  \n4                             7.0  ",
      "text/html": "<div>\n<style scoped>\n    .dataframe tbody tr th:only-of-type {\n        vertical-align: middle;\n    }\n\n    .dataframe tbody tr th {\n        vertical-align: top;\n    }\n\n    .dataframe thead th {\n        text-align: right;\n    }\n</style>\n<table border=\"1\" class=\"dataframe\">\n  <thead>\n    <tr style=\"text-align: right;\">\n      <th></th>\n      <th>HOME_TEAM</th>\n      <th>VISITOR_TEAM</th>\n      <th>HOME_TEAM_WIN_LAST_10_GAMES</th>\n      <th>VISITOR_TEAM_WIN_LAST_10_GAMES</th>\n    </tr>\n  </thead>\n  <tbody>\n    <tr>\n      <th>0</th>\n      <td>GSW</td>\n      <td>TOR</td>\n      <td>7.0</td>\n      <td>7.0</td>\n    </tr>\n    <tr>\n      <th>1</th>\n      <td>TOR</td>\n      <td>GSW</td>\n      <td>7.0</td>\n      <td>7.0</td>\n    </tr>\n    <tr>\n      <th>2</th>\n      <td>GSW</td>\n      <td>TOR</td>\n      <td>7.0</td>\n      <td>7.0</td>\n    </tr>\n    <tr>\n      <th>3</th>\n      <td>GSW</td>\n      <td>TOR</td>\n      <td>7.0</td>\n      <td>6.0</td>\n    </tr>\n    <tr>\n      <th>4</th>\n      <td>TOR</td>\n      <td>GSW</td>\n      <td>7.0</td>\n      <td>7.0</td>\n    </tr>\n  </tbody>\n</table>\n</div>"
     },
     "execution_count": 308,
     "metadata": {},
     "output_type": "execute_result"
    }
   ],
   "source": [
    "#print(df_preprocessed.shape)\n",
    "#print(df.shape)\n",
    "#\n",
    "#df[[\"VISITOR_TEAM_WIN_LAST_10_GAMES\", \"HOME_TEAM_WIN_LAST_10_GAMES\"]]\n",
    "\n",
    "\n",
    "df_preprocessed = pd.concat(\n",
    "    [df_preprocessed,\n",
    "     df[[\"HOME_TEAM_WIN_LAST_10_GAMES\", \"VISITOR_TEAM_WIN_LAST_10_GAMES\"]]]\n",
    "    , axis=1\n",
    ")\n",
    "df_preprocessed.head(5)\n",
    "\n",
    "\n",
    "\n"
   ]
  }
 ],
 "metadata": {
  "kernelspec": {
   "name": "python37464bitbaseconda058ce49e396e4d3c962e53db2794662d",
   "language": "python",
   "display_name": "Python 3.7.4 64-bit ('base': conda)"
  },
  "language_info": {
   "codemirror_mode": {
    "name": "ipython",
    "version": 2
   },
   "file_extension": ".py",
   "mimetype": "text/x-python",
   "name": "python",
   "nbconvert_exporter": "python",
   "pygments_lexer": "ipython2",
   "version": "3.7.4-final"
  }
 },
 "nbformat": 4,
 "nbformat_minor": 0
}